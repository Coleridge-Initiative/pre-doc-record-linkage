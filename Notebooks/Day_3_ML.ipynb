{
 "cells": [
  {
   "cell_type": "markdown",
   "metadata": {},
   "source": [
    "<img style=\"float: center;\" src=\"../images/CI_horizontal.png\" width=\"600\">\n",
    "<center>\n",
    "    <span style=\"font-size: 1.5em;\">\n",
    "        <a href='https://www.coleridgeinitiative.org'>Website</a>\n",
    "    </span>\n",
    "</center>\n",
    "\n",
    "Ghani, Rayid, Frauke Kreuter, Julia Lane, Adrianne Bradford, Alex Engler, Nicolas Guetta Jeanrenaud, Graham Henke, Daniela Hochfellner, Clayton Hunter, Brian Kim, Avishek Kumar, Jonathan Morgan. \n",
    "\n",
    "_Citation to be updated on notebook export_"
   ]
  },
  {
   "cell_type": "markdown",
   "metadata": {
    "toc": true
   },
   "source": [
    "<h1>Table of Contents<span class=\"tocSkip\"></span></h1>\n",
    "<div class=\"toc\" style=\"margin-top: 1em;\"><ul class=\"toc-item\"><li><span><a href=\"#Machine-Learning\" data-toc-modified-id=\"Machine-Learning-1\">Machine Learning</a></span><ul class=\"toc-item\"><li><span><a href=\"#Introduction\" data-toc-modified-id=\"Introduction-1.1\">Introduction</a></span><ul class=\"toc-item\"><li><span><a href=\"#Glossary-of-Terms\" data-toc-modified-id=\"Glossary-of-Terms-1.1.1\">Glossary of Terms</a></span></li></ul></li><li><span><a href=\"#Python-Setup\" data-toc-modified-id=\"Python-Setup-1.2\">Python Setup</a></span></li><li><span><a href=\"#The-Machine-Learning-Process\" data-toc-modified-id=\"The-Machine-Learning-Process-1.3\">The Machine Learning Process</a></span></li><li><span><a href=\"#Problem-Formulation\" data-toc-modified-id=\"Problem-Formulation-1.4\">Problem Formulation</a></span><ul class=\"toc-item\"><li><span><a href=\"#Four-Main-Types-of-ML-Tasks-for-Policy-Problems\" data-toc-modified-id=\"Four-Main-Types-of-ML-Tasks-for-Policy-Problems-1.4.1\">Four Main Types of ML Tasks for Policy Problems</a></span></li><li><span><a href=\"#Our-Machine-Learning-Problem\" data-toc-modified-id=\"Our-Machine-Learning-Problem-1.4.2\">Our Machine Learning Problem</a></span></li></ul></li><li><span><a href=\"#Data-Exploration-and-Preparation\" data-toc-modified-id=\"Data-Exploration-and-Preparation-1.5\">Data Exploration and Preparation</a></span></li><li><span><a href=\"#Building-a-Model-and-Model-Fitting\" data-toc-modified-id=\"Building-a-Model-and-Model-Fitting-1.6\">Building a Model and Model Fitting</a></span><ul class=\"toc-item\"><li><span><a href=\"#Training-and-Test-Sets\" data-toc-modified-id=\"Training-and-Test-Sets-1.6.1\">Training and Test Sets</a></span></li><li><span><a href=\"#Data-Distribution\" data-toc-modified-id=\"Data-Distribution-1.6.2\">Data Distribution</a></span></li><li><span><a href=\"#Crosstabs\" data-toc-modified-id=\"Crosstabs-1.6.3\">Crosstabs</a></span></li><li><span><a href=\"#Selecting-Predictors/Features-and-what-we-are-predicting-(Labels)\" data-toc-modified-id=\"Selecting-Predictors/Features-and-what-we-are-predicting-(Labels)-1.6.4\">Selecting Predictors/Features and what we are predicting (Labels)</a></span></li><li><span><a href=\"#Creating-dummy-variables\" data-toc-modified-id=\"Creating-dummy-variables-1.6.5\">Creating dummy variables</a></span></li><li><span><a href=\"#handling-missing-values\" data-toc-modified-id=\"handling-missing-values-1.6.6\">handling missing values</a></span></li><li><span><a href=\"#Scaling-values\" data-toc-modified-id=\"Scaling-values-1.6.7\">Scaling values</a></span></li></ul></li><li><span><a href=\"#Model-Understanding-and-Evaluation\" data-toc-modified-id=\"Model-Understanding-and-Evaluation-1.7\">Model Understanding and Evaluation</a></span><ul class=\"toc-item\"><li><span><a href=\"#Running-a-Machine-Learning-Model\" data-toc-modified-id=\"Running-a-Machine-Learning-Model-1.7.1\">Running a Machine Learning Model</a></span></li><li><span><a href=\"#Model-Evaluation\" data-toc-modified-id=\"Model-Evaluation-1.7.2\">Model Evaluation</a></span></li><li><span><a href=\"#Confusion-Matrix\" data-toc-modified-id=\"Confusion-Matrix-1.7.3\">Confusion Matrix</a></span></li><li><span><a href=\"#Evaluation-metrics\" data-toc-modified-id=\"Evaluation-metrics-1.7.4\">Evaluation metrics</a></span></li><li><span><a href=\"#Precision-and-Recall-at-k%\" data-toc-modified-id=\"Precision-and-Recall-at-k%-1.7.5\">Precision and Recall at k%</a></span></li><li><span><a href=\"#Feature-Understanding\" data-toc-modified-id=\"Feature-Understanding-1.7.6\">Feature Understanding</a></span></li></ul></li><li><span><a href=\"#Decision-tree-model\" data-toc-modified-id=\"Decision-tree-model-1.8\">Decision tree model</a></span></li><li><span><a href=\"#Assessing-Model-Against-Baselines\" data-toc-modified-id=\"Assessing-Model-Against-Baselines-1.9\">Assessing Model Against Baselines</a></span></li><li><span><a href=\"#Machine-Learning-Pipeline\" data-toc-modified-id=\"Machine-Learning-Pipeline-1.10\">Machine Learning Pipeline</a></span></li><li><span><a href=\"#Survey-of-Algorithms\" data-toc-modified-id=\"Survey-of-Algorithms-1.11\">Survey of Algorithms</a></span></li><li><span><a href=\"#Exercise\" data-toc-modified-id=\"Exercise-1.12\">Exercise</a></span></li><li><span><a href=\"#Additional-Resources\" data-toc-modified-id=\"Additional-Resources-1.13\">Additional Resources</a></span></li></ul></li></ul></div>"
   ]
  },
  {
   "cell_type": "markdown",
   "metadata": {},
   "source": [
    "# Machine Learning\n",
    "-----\n"
   ]
  },
  {
   "cell_type": "markdown",
   "metadata": {},
   "source": [
    "## Introduction\n",
    "- Back to [Table of Contents](#Table-of-Contents)\n",
    "\n",
    "In this tutorial, we'll discuss how to formulate a research question in the machine learning framework; how to transform raw data into something that can be fed into a model; how to build, evaluate, compare, and select models; and how to reasonably and accurately interpret model results. You'll also get hands-on experience using the `scikit-learn` package in Python to model the data you're familiar with from previous tutorials. \n",
    "\n",
    "\n",
    "This tutorial is based on chapter 6 of [Big Data and Social Science](https://github.com/BigDataSocialScience/)."
   ]
  },
  {
   "cell_type": "markdown",
   "metadata": {},
   "source": [
    "### Glossary of Terms\n",
    "\n",
    "- Back to [Table of Contents](#Table-of-Contents)\n",
    "\n",
    "There are a number of terms specific to machine learning that you will find repeatedly in this notebook. \n",
    "\n",
    "- **Learning**: In Machine Learning, you'll hear about \"learning a model.\" This is what you probably know as \n",
    "*fitting* or *estimating* a function, or *training* or *building* a model. These terms are all synonyms and are \n",
    "used interchangeably in machine learning literature.\n",
    "- **Examples**: These are what you probably know as *data points* or *observations* or *rows*. \n",
    "- **Features**: These are what you probably know as *independent variables*, *attributes*, *predictors*, \n",
    "or *explanatory variables.*\n",
    "- **Underfitting**: This happens when a model is too simple and does not capture the structure of the data well \n",
    "enough.\n",
    "- **Overfitting**: This happens when a model is too complex or too sensitive to the noise in the data; this can\n",
    "result in poor generalization performance or applicability of the model to new data. \n",
    "- **Regularization**: This is a general method to avoid overfitting by applying additional constraints to the model. \n",
    "For example, you can limit the number of features present in the final model, or the weight coefficients applied\n",
    "to the (standardized) features are small.\n",
    "- **Supervised learning** involves problems with one target or outcome variable (continuous or discrete) that we want\n",
    "to predict, or classify data into. Classification, prediction, and regression fall into this category. We call the\n",
    "set of explanatory variables $X$ **features**, and the outcome variable of interest $Y$ the **label**.\n",
    "- **Unsupervised learning** involves problems that do not have a specific outcome variable of interest, but rather\n",
    "we are looking to understand \"natural\" patterns or groupings in the data - looking to uncover some structure that \n",
    "we do not know about a priori. Clustering is the most common example of unsupervised learning, and another example is \n",
    "principal components analysis (PCA).\n"
   ]
  },
  {
   "cell_type": "markdown",
   "metadata": {},
   "source": [
    "## Python Setup\n",
    "- Back to [Table of Contents](#Table-of-Contents)\n",
    "\n",
    "Before we begin, run the code cell below to initialize the libraries we'll be using in this assignment. We're already familiar with `numpy`, `pandas`, and `psycopg2` from previous tutorials. Here we'll also be using [`scikit-learn`](http://scikit-learn.org) to fit modeling."
   ]
  },
  {
   "cell_type": "code",
   "execution_count": 1,
   "metadata": {
    "collapsed": false
   },
   "outputs": [
    {
     "name": "stdout",
     "output_type": "stream",
     "text": [
      "Populating the interactive namespace from numpy and matplotlib\n"
     ]
    }
   ],
   "source": [
    "%pylab inline\n",
    "# from __future__ import division \n",
    "import pandas as pd\n",
    "import sklearn\n",
    "import seaborn as sns\n",
    "from sklearn.model_selection import train_test_split\n",
    "from sklearn.metrics import precision_recall_curve,roc_curve, auc\n",
    "from sklearn.metrics import accuracy_score, precision_score, recall_score\n",
    "from sklearn.ensemble import (RandomForestClassifier, ExtraTreesClassifier,\n",
    "                              GradientBoostingClassifier,\n",
    "                              AdaBoostClassifier)\n",
    "from sklearn.linear_model import LogisticRegression, SGDClassifier\n",
    "from sklearn.naive_bayes import GaussianNB\n",
    "from sklearn.tree import DecisionTreeClassifier\n",
    "sns.set_style(\"white\")\n",
    "sns.set_context(\"poster\", font_scale=1.25, rc={\"lines.linewidth\":1.25, \"lines.markersize\":8})"
   ]
  },
  {
   "cell_type": "markdown",
   "metadata": {},
   "source": [
    "## The Machine Learning Process\n",
    "- Back to [Table of Contents](#Table-of-Contents)\n",
    "\n",
    "The machine learning Process is as follows:\n",
    "\n",
    "- [**Understand the problem and goal.**](#problem-formulation) *This sounds obvious but is often nontrivial.* Problems typically start as vague \n",
    "descriptions of a goal - improving health outcomes, increasing graduation rates, understanding the effect of a \n",
    "variable *X* on an outcome *Y*, etc. It is really important to work with people who understand the domain being\n",
    "studied to dig deeper and define the problem more concretely. What is the analytical formulation of the metric \n",
    "that you are trying to optimize?\n",
    "- [**Formulate it as a machine learning problem.**](#problem-formulation) Is it a classification problem or a regression problem? Is the \n",
    "goal to build a model that generates a ranked list prioritized by risk, or is it to detect anomalies as new data \n",
    "come in? Knowing what kinds of tasks machine learning can solve will allow you to map the problem you are working on\n",
    "to one or more machine learning settings and give you access to a suite of methods.\n",
    "- **Data exploration and preparation.** Next, you need to carefully explore the data you have. What additional data\n",
    "do you need or have access to? What variable will you use to match records for integrating different data sources?\n",
    "What variables exist in the data set? Are they continuous or categorical? What about missing values? Can you use the \n",
    "variables in their original form, or do you need to alter them in some way?\n",
    "- [**Feature engineering.**](#feature-generation) In machine learning language, what you might know as independent variables or predictors \n",
    "or factors or covariates are called \"features.\" Creating good features is probably the most important step in the \n",
    "machine learning process. This involves doing transformations, creating interaction terms, or aggregating over data\n",
    "points or over time and space.\n",
    "- **Method selection.** Having formulated the problem and created your features, you now have a suite of methods to\n",
    "choose from. It would be great if there were a single method that always worked best for a specific type of problem. Typically, in machine learning, you take a variety of methods and try them, empirically validating which one is the best approach to your problem.\n",
    "- [**Evaluation.**](#evaluation) As you build a large number of possible models, you need a way choose the best among them. We'll cover methodology to validate models on historical data and discuss a variety of evaluation metrics. The next step is to validate using a field trial or experiment.\n",
    "- [**Deployment.**](#deployment) Once you have selected the best model and validated it using historical data as well as a field\n",
    "trial, you are ready to put the model into practice. You still have to keep in mind that new data will be coming in,\n",
    "and the model might change over time.\n",
    "\n",
    "\n",
    "\n",
    "You're probably used to fitting models in physical or social science classes. In those cases, you probably had a hypothesis or theory about the underlying process that gave rise to your data, chose an appropriate model based on prior knowledge and fit it using least squares, and used the resulting parameter or coefficient estimates (or confidence intervals) for inference. This type of modeling is very useful for *interpretation*.\n",
    "\n",
    "In machine learning, our primary concern is *generalization*. This means that:\n",
    "- **We care less about the structure of the model and more about the performance** This means that we'll try out a whole bunch of models at a time and choose the one that works best rather than determining which model to use ahead of time. We can then choose to select a *suboptimal* model if we care about a specific model type. \n",
    "- **We don't (necessarily) want the model that best fits the data we've *already seen*,** but rather the model that will perform the best on *new data*. This means that we won't gauge our model's performance using the same data that we used to fit the model (e.g., sum of squared errors or $R^2$), and that \"best fit\" or accuracy will most often *not* determine the best model.  \n",
    "- **We can include a lot of variables in to the model.** This may sound like the complete opposite of what you've heard in the past, and it can be hard to swallow. But we will use different methods to deal with many of those concerns in the model fitting process by using a more automatic variable selection process."
   ]
  },
  {
   "cell_type": "markdown",
   "metadata": {},
   "source": [
    "## Problem Formulation\n",
    "- Back to [Table of Contents](#Table-of-Contents)\n",
    "\n",
    "First, turning something into a real objective function. What do you care about? Do you have data on that thing? What action can you take based on your findings? Do you risk introducing any bias based on the way you model something? \n",
    "\n",
    "### Four Main Types of ML Tasks for Policy Problems\n",
    "\n",
    "- **Description**: [How can we identify and respond to the most urgent online government petitions?](https://dssg.uchicago.edu/project/improving-government-response-to-citizen-requests-online/)\n",
    "- **Prediction**: [Which students will struggle academically by third grade?](https://dssg.uchicago.edu/project/predicting-students-that-will-struggle-academically-by-third-grade/)\n",
    "- **Detection**: [Which police officers are likely to have an adverse interaction with the public?](https://dssg.uchicago.edu/project/expanding-our-early-intervention-system-for-adverse-police-interactions/)\n",
    "- **Behavior Change**: [How can we prevent juveniles from interacting with the criminal justice system?](https://dssg.uchicago.edu/project/preventing-juvenile-interactions-with-the-criminal-justice-system/)\n",
    "  "
   ]
  },
  {
   "cell_type": "markdown",
   "metadata": {},
   "source": [
    "## Data Exploration and Preparation\n",
    "\n",
    "- Back to [Table of Contents](#Table-of-Contents)\n",
    "\n",
    "The notebook used to create the sample data is [ML_data_mash.ipynb](ML_data_mash.ipynb) \n",
    "\n",
    "Reference information to keep in mind for Machine Learning prediction models.\n",
    "1. **Creating labels**: Labels are the dependent variables, or Y variables, that we are trying to predict. \n",
    "\n",
    "1. **Decide on feature**: Our features are our independent variables or predictors. Good features make machine learning systems effective. The better the features the easier it is the capture the structure of the data. You generate features using domain knowledge. In general, it is better to have more complex features and a simpler model rather than vice versa. Keeping the model simple makes it faster to train and easier to understand rather then extensively searching for the \"right\" model and \"right\" set of parameters. Machine learning algorithms learn a solution to a problem from sample data. The set of features is the best representation of the sample data to learn a solution to a problem.\n",
    "\n",
    "1. **Feature engineering** is the process of transforming raw data into features that better represent the underlying problem/data/structure  to the predictive models, resulting in improved model accuracy on unseen data.\" ( from [Discover Feature Engineering](http://machinelearningmastery.com/discover-feature-engineering-how-to-engineer-features-and-how-to-get-good-at-it/) ).  In text, for example, this might involve deriving traits of the text like word counts, verb counts, or topics to feed into a model rather than simply giving it the raw text. Example of feature engineering are: \n",
    "    - **Transformations**, such a log, square, and square root.\n",
    "    - **Dummy (binary) variables**, sometimes known as *indicator variables*, often done by taking categorical variables (such as industry) which do not have a numeric value, and adding them to models as a binary value.\n",
    "    - **Discretization**. Several methods require features to be discrete instead of continuous. This is often done by binning, which you can do by equal width, deciles, Fisher-Jenks, etc. \n",
    "    - **Aggregation.** Aggregate features often constitute the majority of features for a given problem. These use different aggregation functions (*count, min, max, average, standard deviation, etc.*) which summarize several values into one feature, aggregating over varying windows of time and space. For example, we may want to calculate the *number* (and *min, max, mean, variance*, etc.) of crimes within an *m*-mile radius of an address in the past *t* months for varying values of *m* and *t*, and then use all of them as features.\n",
    "\n",
    "1. **Cleaning data**: To run the `scikit-learn` set of models we demonstrate in this notebook, your input dataset must have no missing variables.\n",
    "\n",
    "1. **Imputing values to missing or irrelevant data**: Once the features are created, always check to make sure the values make sense. You might have some missing values, or impossible values for a given variable (negative values, major outliers). If you have missing values you should think hard about what makes the most sense for your problem; you may want to replace with `0`, the median or mean of your data, or some other value.\n",
    "\n",
    "1. **Scaling features**: Certain models will have an issue with features on different scales. For example, an individual's age is typically a number between 0 and 100 while earnings can be number between 0 and 1000000 (or higher). In order to circumvent this problem, we can scale our features to the same range (eg [0,1])."
   ]
  },
  {
   "cell_type": "markdown",
   "metadata": {},
   "source": [
    "## Building a Model and Model Fitting\n",
    "- Back to [Table of Contents](#Table-of-Contents)\n",
    "\n",
    "We need to munge our dataset into our **features** (predictors, or independent variables, or $X$ variables) and **labels** (dependent variables, or $Y$ variables).  For ease of reference, in subsequent examples, names of variables that pertain to predictors will start with \"`X_`\", and names of variables that pertain to outcome variables will start with \"`y_`\".\n",
    "\n",
    "But it's not enough to just build the model; we're going to need a way to know whether or not it geenralizes to new data or in to the future. Convincing others of the quality of results is often the *most challenging* part of an analysis.  Making repeatable, well-documented work with clear success metrics makes all the difference.\n",
    "\n",
    "To convince ourselves - and others - that our modeling results will generalize, we need to hold some data back (not using it to train the model), then apply our model to that hold-out set and \"blindly\" predict, comparing the model's predictions to what we actually observed. This is called **cross-validation**, and it's the best way we have to estimate how a model will perform on *entirely* novel data. We call the data used to build the model the **training set**, and the rest the **test set**.\n",
    "\n",
    "In general, we'd like our training set to be as large as possible, to allow our model to be built with as much data as possible. However, you also want to be as confident as possible that your model will generalize to new data. In practice, you'll have to balance these two objectives in a reasonable way.  \n",
    "\n",
    "There are also many ways to split up your data into training and testing sets. Since you're trying to evaluate how your model will perform *in practice*, it's best to emulate the true use case of your model as closely as possible when you decide how to evaluate it. A good [tutorial on cross-validation](http://scikit-learn.org/stable/modules/cross_validation.html) can be found on the `scikit-learn` site.\n",
    "\n",
    "One simple and commonly used method is ***k-fold* cross-validation**, which entails splitting up our dataset into *k* groups, holding out one group while training a model on the rest of the data, evaluating model performance on the held-out \"fold,\" and repeating this process *k* times (we'll get back to this in the text-analysis tutorial). Another method is **temporal validation**, which involves building a model using all the data up until a given point in time, and then testing the model on observations that happened after that point. \n",
    "\n",
    "Our current problem is a problem in time where we are trying to predict an event in the future. Generally, if you use the future to predict the past there will be temporal effects that will help the accuracy of your predictions. We cannot use the future to predict the past in real life, so it is important to use `temporal validation` and create our training and test sets accordingly.  \n",
    "\n",
    "*Note: it is important to segregate your data based on time when creating features. Otherwise there can be \"leakage,\" where you accidentally use information that you would not have known at the time.*  This happens often when calculating aggregation features; for instance, it is quite easy to calculate an average using values that go beyond our training set time-span and not realize it.  \n"
   ]
  },
  {
   "cell_type": "markdown",
   "metadata": {},
   "source": [
    "### Training and Test Sets\n",
    "- Back to [Table of Contents](#Table-of-Contents)\n",
    "\n",
    "We have a single test sample of data, so we will use the sklearn function `train_test_split` to separate into training and testing datastes."
   ]
  },
  {
   "cell_type": "code",
   "execution_count": 2,
   "metadata": {
    "collapsed": false
   },
   "outputs": [
    {
     "name": "stderr",
     "output_type": "stream",
     "text": [
      "/Users/crh278/anaconda3/envs/py3-rl/lib/python3.6/site-packages/IPython/core/interactiveshell.py:3051: DtypeWarning: Columns (0) have mixed types. Specify dtype option on import or set low_memory=False.\n",
      "  interactivity=interactivity, compiler=compiler, result=result)\n"
     ]
    },
    {
     "name": "stdout",
     "output_type": "stream",
     "text": [
      "<class 'pandas.core.frame.DataFrame'>\n",
      "RangeIndex: 1658500 entries, 0 to 1658499\n",
      "Columns: 330 entries, PATENT_ID to label\n",
      "dtypes: bool(327), float64(1), object(2)\n",
      "memory usage: 555.2+ MB\n"
     ]
    }
   ],
   "source": [
    "df = pd.read_csv('../Data/ML_sample_data.csv')\n",
    "df.info()"
   ]
  },
  {
   "cell_type": "code",
   "execution_count": 3,
   "metadata": {
    "collapsed": false
   },
   "outputs": [
    {
     "name": "stdout",
     "output_type": "stream",
     "text": [
      "['106', '128', '137', '165', '204', '210', '23', '239', '244', '250', '252', '257', '260', '264', '273', '280', '29', '313', '324', '335', '343', '345', '348', '349', '351', '356', '359', '361', '364', '367', '372', '378', '382', '384', '385', '395', '403', '406', '415', '417', '420', '422', '423', '424', '425', '426', '427', '428', '433', '434', '435', '436', '5', '502', '504', '506', '510', '514', '520', '521', '522', '523', '524', '525', '527', '528', '530', '534', '536', '540', '544', '546', '548', '549', '550', '552', '554', '556', '558', '560', '562', '564', '568', '574', '585', '600', '601', '602', '604', '606', '607', '611', '62', '623', '675', '7', '702', '703', '704', '705', '706', '707', '709', '712', '715', '717', '73', '800', '850', '860', '930', '935', '96', '977', 'D23', 'ALS', 'Acquired Cognitive Impairment', 'Acute Respiratory Distress Syndrome', 'Adolescent Sexual Activity', 'Aging', 'Alcoholism, Alcohol Use and Health', \"Alzheimer's Disease\", \"Alzheimer's Disease Related Dementias (ADRD)\", \"Alzheimer's Disease including Alzheimer's Disease Related Dementias (AD/ADRD)\", 'American Indian or Alaska Native', 'Anthrax', 'Antimicrobial Resistance', 'Anxiety Disorders', 'Arthritis', 'Assistive Technology', 'Asthma', 'Atherosclerosis', 'Attention Deficit Disorder (ADD)', 'Autism', 'Autoimmune Disease', 'Basic Behavioral and Social Science', 'Batten Disease', 'Behavioral and Social Science', 'Biodefense', 'Bioengineering', 'Biomedical Imaging', 'Brain Cancer', 'Brain Disorders', 'Breast Cancer', 'Breastfeeding, Lactation and Breast Milk', 'Burden of Illness', 'Cancer Genomics', 'Cannabinoid Research', 'Cardiovascular', 'Caregiving Research', 'Cerebrovascular', 'Cervical Cancer', 'Childhood Leukemia', 'Childhood Obesity', 'Chronic Liver Disease and Cirrhosis', 'Chronic Pain', 'Climate Change', 'Climate-Related Exposures and Conditions', 'Clinical Trials and Supportive Activities', 'Colo-Rectal Cancer', 'Comparative Effectiveness Research', 'Complementary and Alternative Medicine', 'Conditions Affecting the Embryonic and Fetal Periods', 'Congenital Structural Anomalies', 'Contraception/Reproduction', \"Cooley's Anemia\", 'Cost Effectiveness Research', \"Crohn's Disease\", 'Cystic Fibrosis', 'Dementia', 'Dental/Oral and Craniofacial Disease', 'Depression', 'Diabetes', 'Dietary Supplements', 'Digestive Diseases', 'Down Syndrome', 'Drug Abuse (NIDA only)', 'Duchenne/ Becker Muscular Dystrophy', 'Dystonia', 'Eczema / Atopic Dermatitis', 'Emerging Infectious Diseases', 'Endocannabinoid System Research', 'Endocrine Disruptors', 'Epilepsy', 'Estrogen', 'Eye Disease and Disorders of Vision', 'Facioscapulohumeral Muscular Dystrophy', 'Fetal Alcohol Syndrome', 'Food Allergies', 'Foodborne Illness', 'Frontotemporal Dementia (FTD)', 'Gene Therapy', 'Gene Therapy Clinical Trials', 'Genetic Testing', 'HIV/AIDS', 'HPV and/or Cervical Cancer Vaccines', 'Headaches', 'Health Effects of Indoor Air Pollution', 'Health Services', 'Heart Disease', 'Heart Disease - Coronary Heart Disease', 'Hematology', 'Hepatitis', 'Hepatitis - B', 'Hepatitis - C', \"Hodgkin's Disease\", 'Human Fetal Tissue', 'Human Genome', \"Huntington's Disease\", 'Hypertension', 'Immunization', 'Infant Mortality', 'Infectious Diseases', 'Infertility', 'Inflammatory Bowel Disease', 'Influenza', 'Injury (total) Accidents/Adverse Effects', 'Injury - Childhood Injuries', 'Injury - Trauma - (Head and Spine)', 'Injury - Traumatic brain injury', 'Intellectual and Developmental Disabilities (IDD)', 'Kidney Disease', 'Lewy Body Dementia', 'Liver Cancer', 'Liver Disease', 'Lung', 'Lung Cancer', 'Lupus', 'Lyme Disease', 'Lymphoma', 'Macular Degeneration', 'Major Depressive Disorder', 'Malaria', 'Malaria Vaccine', 'Maternal Health', 'Mental Illness', 'Methamphetamine', 'Migraines', 'Mind and Body', 'Multiple Sclerosis', 'Muscular Dystrophy', 'Myotonic Dystrophy', 'Nanotechnology', 'Neonatal Respiratory Distress', 'Networking and Information Technology R and D', 'Neuroblastoma', 'Neurodegenerative', 'Neurofibromatosis', 'Neurosciences', 'Nutrition', 'Obesity', 'Opioid Misuse and Addiction', 'Opioids', 'Organ Transplantation', 'Orphan Drug', 'Osteoarthritis', 'Osteoporosis', 'Otitis Media', 'Ovarian Cancer', 'Pain Research', 'Pancreatic Cancer', \"Parkinson's Disease\", 'Patient Safety', 'Pediatric', 'Pediatric AIDS', 'Pediatric Cancer', 'Pediatric Cardiomyopathy', 'Pediatric Research Initiative', 'Perinatal Period - Conditions Originating in Perinatal Period', 'Peripheral Neuropathy', 'Physical Activity', 'Physical Rehabilitation', \"Pick's Disease\", 'Pneumonia', 'Pneumonia and Influenza', 'Polycystic Kidney Disease', 'Post-Traumatic Stress Disorder (PTSD)', 'Precision Medicine', 'Pregnancy', 'Prescription Drug Abuse', 'Preterm, Low Birth Weight and Health of the Newborn', 'Prevention', 'Prostate Cancer', 'Radiation Oncology', 'Rare Diseases', 'Regenerative Medicine', 'Rehabilitation', 'Rheumatoid Arthritis', 'Rural Health', 'Schizophrenia', 'Sepsis', 'Serious Mental Illness', 'Sexual and Gender Minorities (SGM/LGBT*)', 'Sexually Transmitted Infections', 'Sickle Cell Disease', 'Sleep Research', 'Spinal Muscular Atrophy', 'Stem Cell Research', 'Stem Cell Research - Embryonic - Human', 'Stem Cell Research - Embryonic - Non-Human', 'Stem Cell Research - Induced Pluripotent Stem Cell', 'Stem Cell Research - Induced Pluripotent Stem Cell - Human', 'Stem Cell Research - Induced Pluripotent Stem Cell - Non-Human', 'Stem Cell Research - Nonembryonic - Human', 'Stem Cell Research - Nonembryonic - Non-Human', 'Stem Cell Research - Umbilical Cord Blood/ Placenta', 'Stem Cell Research - Umbilical Cord Blood/ Placenta - Human', 'Stroke', 'Substance Abuse', 'Therapeutic Cannabinoid Research', 'Tobacco', 'Tobacco Smoke and Health', 'Transmissible Spongiform Encephalopathy (TSE)', 'Transplantation', 'Tuberculosis', 'Tuberculosis Vaccine', 'Underage Drinking', 'Underage Drinking - Prevention and Treatment (NIAAA Only)', 'Urologic Diseases', 'Usher Syndrome', 'Uterine Cancer', 'Vaccine Related', 'Vaccine Related (AIDS)', 'Vascular Cognitive Impairment/Dementia', 'Vector-Borne Diseases', 'West Nile Virus']\n"
     ]
    }
   ],
   "source": [
    "# before we split, let's make sure we know what our features are (ie remove IDs)\n",
    "sel_features = df.columns.tolist()\n",
    "\n",
    "sel_features.remove('PATENT_ID')\n",
    "sel_features.remove('PROJECT_ID')\n",
    "sel_features.remove('freq')\n",
    "sel_features.remove('label')\n",
    "\n",
    "print(sel_features)"
   ]
  },
  {
   "cell_type": "code",
   "execution_count": 4,
   "metadata": {
    "collapsed": false
   },
   "outputs": [
    {
     "data": {
      "text/plain": [
       "False    1656182\n",
       "True        2318\n",
       "Name: label, dtype: int64"
      ]
     },
     "execution_count": 4,
     "metadata": {},
     "output_type": "execute_result"
    }
   ],
   "source": [
    "df['label'].value_counts()"
   ]
  },
  {
   "cell_type": "code",
   "execution_count": 5,
   "metadata": {
    "collapsed": false
   },
   "outputs": [
    {
     "data": {
      "text/plain": [
       "False    0.998602\n",
       "True     0.001398\n",
       "Name: label, dtype: float64"
      ]
     },
     "execution_count": 5,
     "metadata": {},
     "output_type": "execute_result"
    }
   ],
   "source": [
    "df['label'].value_counts(normalize=True)"
   ]
  },
  {
   "cell_type": "code",
   "execution_count": 6,
   "metadata": {
    "collapsed": false
   },
   "outputs": [
    {
     "data": {
      "text/plain": [
       "False"
      ]
     },
     "execution_count": 6,
     "metadata": {},
     "output_type": "execute_result"
    }
   ],
   "source": [
    "# confirm there are no NULL values in our input data\n",
    "df.isnull().values.any()"
   ]
  },
  {
   "cell_type": "code",
   "execution_count": 7,
   "metadata": {
    "collapsed": true
   },
   "outputs": [],
   "source": [
    "# now split the dataframe into training and testing sets for our X and Y\n",
    "\n",
    "X_train, X_test, y_train, y_test = train_test_split(df[sel_features], df['label'], test_size = 0.33)"
   ]
  },
  {
   "cell_type": "markdown",
   "metadata": {},
   "source": [
    "## Model Understanding and Evaluation\n",
    "\n",
    "- Back to [Table of Contents](#Table-of-Contents)\n",
    "\n",
    "In this phase, we will run the machine learning model on our training set. The training set's features will be used to predict the labels. Once our model is created using the training set, we will assess its quality by applying it to the test set and by comparing the *predicted values* to the *actual values* for each record in your testing data set. \n",
    "\n",
    "- **Performance Estimation**: How well will our model do once it is deployed and applied to new data?"
   ]
  },
  {
   "cell_type": "markdown",
   "metadata": {},
   "source": [
    "### Running a Machine Learning Model\n",
    "- Back to [Table of Contents](#Table-of-Contents)\n",
    "\n",
    "Python's [`scikit-learn`](http://scikit-learn.org/stable/) is a commonly-used, well-documented Python library for machine learning. This library can help you split your data into training and test sets, fit models and use them to predict results on new data, and evaluate your results."
   ]
  },
  {
   "cell_type": "code",
   "execution_count": 8,
   "metadata": {
    "collapsed": false
   },
   "outputs": [
    {
     "name": "stdout",
     "output_type": "stream",
     "text": [
      "DecisionTreeClassifier(ccp_alpha=0.0, class_weight=None, criterion='gini',\n",
      "                       max_depth=None, max_features=None, max_leaf_nodes=None,\n",
      "                       min_impurity_decrease=0.0, min_impurity_split=None,\n",
      "                       min_samples_leaf=1, min_samples_split=2,\n",
      "                       min_weight_fraction_leaf=0.0, presort='deprecated',\n",
      "                       random_state=None, splitter='best')\n"
     ]
    }
   ],
   "source": [
    "# Let's fit a model\n",
    "from sklearn.tree import DecisionTreeClassifier\n",
    "\n",
    "model = DecisionTreeClassifier()\n",
    "model.fit( X_train, y_train )\n",
    "print(model)"
   ]
  },
  {
   "cell_type": "markdown",
   "metadata": {},
   "source": [
    "### Model Evaluation \n",
    "- Back to [Table of Contents](#Table-of-Contents)\n",
    "\n",
    "Machine learning models usually do not produce a prediction (0 or 1) directly. Rather, models produce a score between 0 and 1 (that can sometimes be interpreted as a probability), which is basically the model ranking all of the observations from *most likely* to *least likely* to have label of 1. The 0-1 score is then turned into a 0 or 1 based on a threshold. \n",
    "\n",
    "If you use the sklearn method `.predict()` then the model will select a threshold for you (generally 0.5) - it is almost **never a good idea to let the model choose the threshold for you**. Instead, you should get the actual score and test different threshold values."
   ]
  },
  {
   "cell_type": "code",
   "execution_count": 9,
   "metadata": {
    "collapsed": true
   },
   "outputs": [],
   "source": [
    "# get the prediction scores\n",
    "y_scores = model.predict_proba(X_test)[:,1]"
   ]
  },
  {
   "cell_type": "markdown",
   "metadata": {},
   "source": [
    "Look at the distribution of scores:"
   ]
  },
  {
   "cell_type": "code",
   "execution_count": 10,
   "metadata": {
    "collapsed": false,
    "scrolled": false
   },
   "outputs": [
    {
     "data": {
      "text/plain": [
       "<matplotlib.axes._subplots.AxesSubplot at 0x11c7c4240>"
      ]
     },
     "execution_count": 10,
     "metadata": {},
     "output_type": "execute_result"
    },
    {
     "data": {
      "image/png": "[encoded data removed]",
      "text/plain": [
       "<Figure size 432x288 with 1 Axes>"
      ]
     },
     "metadata": {},
     "output_type": "display_data"
    }
   ],
   "source": [
    "sns.distplot(y_scores, kde=False, rug=False)"
   ]
  },
  {
   "cell_type": "code",
   "execution_count": 11,
   "metadata": {
    "collapsed": true
   },
   "outputs": [],
   "source": [
    "df_eval = pd.DataFrame(X_test)\n",
    "\n",
    "df_eval['label'] = y_test.astype(int)\n",
    "\n",
    "df_eval['y_score'] = y_scores"
   ]
  },
  {
   "cell_type": "code",
   "execution_count": 12,
   "metadata": {
    "collapsed": false
   },
   "outputs": [
    {
     "data": {
      "text/html": [
       "<div>\n",
       "<style scoped>\n",
       "    .dataframe tbody tr th:only-of-type {\n",
       "        vertical-align: middle;\n",
       "    }\n",
       "\n",
       "    .dataframe tbody tr th {\n",
       "        vertical-align: top;\n",
       "    }\n",
       "\n",
       "    .dataframe thead th {\n",
       "        text-align: right;\n",
       "    }\n",
       "</style>\n",
       "<table border=\"1\" class=\"dataframe\">\n",
       "  <thead>\n",
       "    <tr style=\"text-align: right;\">\n",
       "      <th></th>\n",
       "      <th>label</th>\n",
       "      <th>y_score</th>\n",
       "    </tr>\n",
       "  </thead>\n",
       "  <tbody>\n",
       "    <tr>\n",
       "      <th>count</th>\n",
       "      <td>547305.000000</td>\n",
       "      <td>547305.000000</td>\n",
       "    </tr>\n",
       "    <tr>\n",
       "      <th>mean</th>\n",
       "      <td>0.001405</td>\n",
       "      <td>0.001572</td>\n",
       "    </tr>\n",
       "    <tr>\n",
       "      <th>std</th>\n",
       "      <td>0.037458</td>\n",
       "      <td>0.017898</td>\n",
       "    </tr>\n",
       "    <tr>\n",
       "      <th>min</th>\n",
       "      <td>0.000000</td>\n",
       "      <td>0.000000</td>\n",
       "    </tr>\n",
       "    <tr>\n",
       "      <th>25%</th>\n",
       "      <td>0.000000</td>\n",
       "      <td>0.000000</td>\n",
       "    </tr>\n",
       "    <tr>\n",
       "      <th>50%</th>\n",
       "      <td>0.000000</td>\n",
       "      <td>0.000000</td>\n",
       "    </tr>\n",
       "    <tr>\n",
       "      <th>75%</th>\n",
       "      <td>0.000000</td>\n",
       "      <td>0.000000</td>\n",
       "    </tr>\n",
       "    <tr>\n",
       "      <th>max</th>\n",
       "      <td>1.000000</td>\n",
       "      <td>1.000000</td>\n",
       "    </tr>\n",
       "  </tbody>\n",
       "</table>\n",
       "</div>"
      ],
      "text/plain": [
       "               label        y_score\n",
       "count  547305.000000  547305.000000\n",
       "mean        0.001405       0.001572\n",
       "std         0.037458       0.017898\n",
       "min         0.000000       0.000000\n",
       "25%         0.000000       0.000000\n",
       "50%         0.000000       0.000000\n",
       "75%         0.000000       0.000000\n",
       "max         1.000000       1.000000"
      ]
     },
     "execution_count": 12,
     "metadata": {},
     "output_type": "execute_result"
    }
   ],
   "source": [
    "df_eval[['label', 'y_score']].describe()"
   ]
  },
  {
   "cell_type": "markdown",
   "metadata": {},
   "source": [
    "Tools like `sklearn` often have a default threshold of 0.5, but a good threshold is selected based on the data, model and the specific problem you are solving. What threshold would you choose given the resulting \"scores\"?"
   ]
  },
  {
   "cell_type": "code",
   "execution_count": 13,
   "metadata": {
    "collapsed": true
   },
   "outputs": [],
   "source": [
    "# you can make a simple function in one line using \"lambda\":\n",
    "calc_threshold = lambda x,y: 0 if x < y else 1 \n",
    "\n",
    "# given the distribution of the scores, what threshold would you set?\n",
    "selected_threshold = 0.02\n",
    "\n",
    "# create a list of our predicted outocmes\n",
    "predicted = np.array( [calc_threshold(score, selected_threshold) for score in y_scores] )\n",
    "\n",
    "# and our actual, or expected, outcomes\n",
    "expected = y_test"
   ]
  },
  {
   "cell_type": "markdown",
   "metadata": {},
   "source": [
    "### Confusion Matrix\n",
    "- Back to [Table of Contents](#Table-of-Contents)\n",
    "\n",
    "Once we have tuned our scores to 0 or 1 for classification, we create a *confusion matrix*, which  has four cells: true negatives, true positives, false negatives, and false positives. Each data point belongs in one of these cells, because it has both a ground truth and a predicted label. If an example was predicted to be negative and is negative, it's a true negative. If an example was predicted to be positive and is positive, it's a true positive. If an example was predicted to be negative and is positive, it's a false negative. If an example was predicted to be positive and is negative, it's a false negative."
   ]
  },
  {
   "cell_type": "code",
   "execution_count": 14,
   "metadata": {
    "collapsed": false
   },
   "outputs": [
    {
     "name": "stdout",
     "output_type": "stream",
     "text": [
      "[[537227   9309]\n",
      " [   578    191]]\n"
     ]
    }
   ],
   "source": [
    "from sklearn.metrics import confusion_matrix\n",
    "conf_matrix = confusion_matrix(expected,predicted)\n",
    "print(conf_matrix)"
   ]
  },
  {
   "cell_type": "markdown",
   "metadata": {},
   "source": [
    "The count of true negatives is `conf_matrix[0,0]`, false negatives `conf_matrix[1,0]`, true positives `conf_matrix[1,1]`, and false_positives `conf_matrix[0,1]`."
   ]
  },
  {
   "cell_type": "markdown",
   "metadata": {},
   "source": [
    "Accuracy is the ratio of the correct predictions (both positive and negative) to all predictions. \n",
    "$$ Accuracy = \\frac{TP+TN}{TP+TN+FP+FN} $$"
   ]
  },
  {
   "cell_type": "code",
   "execution_count": 15,
   "metadata": {
    "collapsed": false
   },
   "outputs": [
    {
     "name": "stdout",
     "output_type": "stream",
     "text": [
      "Accuracy = 0.981935118444012\n"
     ]
    }
   ],
   "source": [
    "# generate an accuracy score by comparing expected to predicted.\n",
    "from sklearn.metrics import accuracy_score\n",
    "accuracy = accuracy_score(expected, predicted)\n",
    "print( \"Accuracy = \" + str( accuracy ) )"
   ]
  },
  {
   "cell_type": "code",
   "execution_count": 16,
   "metadata": {
    "collapsed": false
   },
   "outputs": [
    {
     "data": {
      "text/plain": [
       "0    0.998595\n",
       "1    0.001405\n",
       "Name: label, dtype: float64"
      ]
     },
     "execution_count": 16,
     "metadata": {},
     "output_type": "execute_result"
    }
   ],
   "source": [
    "df_eval['label'].value_counts(normalize=True)"
   ]
  },
  {
   "cell_type": "markdown",
   "metadata": {},
   "source": [
    "What do we think about this accuracy? Good? Bad?\n",
    "\n",
    "### Evaluation metrics"
   ]
  },
  {
   "cell_type": "markdown",
   "metadata": {},
   "source": [
    "Two metrics that are often more relevant than overall accuracy are **precision** and **recall**. \n",
    "\n",
    "Precision measures the accuracy of the classifier when it predicts an example to be positive. It is the ratio of correctly predicted positive examples to examples predicted to be positive. \n",
    "\n",
    "$$ Precision = \\frac{TP}{TP+FP}$$\n",
    "\n",
    "Recall measures the accuracy of the classifier to find positive examples in the data. \n",
    "\n",
    "$$ Recall = \\frac{TP}{TP+FN} $$\n",
    "\n",
    "By selecting different thresholds, we can vary and tune the precision and recall of a given classifier. A conservative classifier (threshold 0.99) will classify a case as 1 only when it is *very sure*, leading to high precision. On the other end of the spectrum, a low threshold (e.g. 0.01) will lead to higher recall. "
   ]
  },
  {
   "cell_type": "code",
   "execution_count": 17,
   "metadata": {
    "collapsed": false
   },
   "outputs": [
    {
     "name": "stdout",
     "output_type": "stream",
     "text": [
      "Precision = 0.020105263157894737\n",
      "Recall= 0.2483745123537061\n"
     ]
    }
   ],
   "source": [
    "from sklearn.metrics import precision_score, recall_score\n",
    "precision = precision_score(expected, predicted)\n",
    "recall = recall_score(expected, predicted)\n",
    "print( \"Precision = \" + str( precision ) )\n",
    "print( \"Recall= \" + str(recall))"
   ]
  },
  {
   "cell_type": "markdown",
   "metadata": {},
   "source": [
    "If we care about our whole precision-recall space, we can optimize for a metric known as the **area under the curve (AUC-PR)**, which is the area under the precision-recall curve. The maximum AUC-PR is 1. "
   ]
  },
  {
   "cell_type": "code",
   "execution_count": 18,
   "metadata": {
    "collapsed": true
   },
   "outputs": [],
   "source": [
    "def plot_precision_recall(y_true,y_score):\n",
    "    \"\"\"\n",
    "    Plot a precision recall curve\n",
    "    \n",
    "    Parameters\n",
    "    ----------\n",
    "    y_true: ls\n",
    "        ground truth labels\n",
    "    y_score: ls\n",
    "        score output from model\n",
    "    \"\"\"\n",
    "    precision_curve, recall_curve, pr_thresholds = precision_recall_curve(y_true,y_score)\n",
    "    plt.plot(recall_curve, precision_curve)\n",
    "    plt.xlabel('Recall')\n",
    "    plt.ylabel('Precision')\n",
    "    auc_val = auc(recall_curve,precision_curve)\n",
    "    print('AUC-PR: {0:1f}'.format(auc_val))\n",
    "    plt.show()\n",
    "    plt.clf()"
   ]
  },
  {
   "cell_type": "code",
   "execution_count": 19,
   "metadata": {
    "collapsed": false
   },
   "outputs": [
    {
     "name": "stdout",
     "output_type": "stream",
     "text": [
      "AUC-PR: 0.022981\n"
     ]
    },
    {
     "data": {
      "image/png": "[encoded data removed]",
      "text/plain": [
       "<Figure size 432x288 with 1 Axes>"
      ]
     },
     "metadata": {},
     "output_type": "display_data"
    },
    {
     "data": {
      "text/plain": [
       "<Figure size 432x288 with 0 Axes>"
      ]
     },
     "metadata": {},
     "output_type": "display_data"
    }
   ],
   "source": [
    "plot_precision_recall(expected, y_scores)"
   ]
  },
  {
   "cell_type": "markdown",
   "metadata": {},
   "source": [
    "### Precision and Recall at k%\n",
    "- Back to [Table of Contents](#Table-of-Contents)\n",
    "\n",
    "If we only care about a specific part of the precision-recall curve, we can focus on more fine-grained metrics. For instance, say there is a special program for those most likely to need assistance within the next year, but that it can only cover *1% of our test set*. In that case, we would want to prioritize the 1% who are *most likely* to need assistance within the next year and it wouldn't matter too much how accurate we were on the overall data.\n",
    "\n",
    "Let's say that, out of the approximately 300,000 observations, we can intervene on 1% of them, or the \"top\" 3,000 in a year (where \"top\" means highest likelihood of needing intervention in the next year). We can then focus on optimizing our **precision at 1%**."
   ]
  },
  {
   "cell_type": "code",
   "execution_count": 20,
   "metadata": {
    "collapsed": true
   },
   "outputs": [],
   "source": [
    "def plot_precision_recall_n(y_true, y_prob, model_name):\n",
    "    \"\"\"\n",
    "    y_true: ls \n",
    "        ls of ground truth labels\n",
    "    y_prob: ls\n",
    "        ls of predic proba from model\n",
    "    model_name: str\n",
    "        str of model name (e.g, LR_123)\n",
    "    \"\"\"\n",
    "    from sklearn.metrics import precision_recall_curve\n",
    "    y_score = y_prob\n",
    "    precision_curve, recall_curve, pr_thresholds = precision_recall_curve(y_true, y_score)\n",
    "    precision_curve = precision_curve[:-1]\n",
    "    recall_curve = recall_curve[:-1]\n",
    "    pct_above_per_thresh = []\n",
    "    number_scored = len(y_score)\n",
    "    for value in pr_thresholds:\n",
    "        num_above_thresh = len(y_score[y_score>=value])\n",
    "        pct_above_thresh = num_above_thresh / float(number_scored)\n",
    "        pct_above_per_thresh.append(pct_above_thresh)\n",
    "    pct_above_per_thresh = np.array(pct_above_per_thresh)\n",
    "    plt.clf()\n",
    "    fig, ax1 = plt.subplots()\n",
    "    ax1.plot(pct_above_per_thresh, precision_curve, 'b')\n",
    "    ax1.set_xlabel('percent of population')\n",
    "    ax1.set_ylabel('precision', color='b')\n",
    "    ax1.set_ylim(0,1.05)\n",
    "    ax2 = ax1.twinx()\n",
    "    ax2.plot(pct_above_per_thresh, recall_curve, 'r')\n",
    "    ax2.set_ylabel('recall', color='r')\n",
    "    ax2.set_ylim(0,1.05)\n",
    "    \n",
    "    name = model_name\n",
    "    plt.title(name)\n",
    "    plt.show()\n",
    "    plt.clf()"
   ]
  },
  {
   "cell_type": "code",
   "execution_count": 21,
   "metadata": {
    "collapsed": true
   },
   "outputs": [],
   "source": [
    "def precision_at_k(y_true, y_scores,k):\n",
    "    \n",
    "    threshold = np.sort(y_scores)[::-1][int(k*len(y_scores))]\n",
    "    y_pred = np.asarray([1 if i > threshold else 0 for i in y_scores ])\n",
    "    return precision_score(y_true, y_pred)"
   ]
  },
  {
   "cell_type": "code",
   "execution_count": 22,
   "metadata": {
    "collapsed": false,
    "scrolled": false
   },
   "outputs": [
    {
     "data": {
      "text/plain": [
       "<Figure size 432x288 with 0 Axes>"
      ]
     },
     "metadata": {},
     "output_type": "display_data"
    },
    {
     "data": {
      "image/png": "[encoded data removed]",
      "text/plain": [
       "<Figure size 432x288 with 2 Axes>"
      ]
     },
     "metadata": {},
     "output_type": "display_data"
    },
    {
     "data": {
      "text/plain": [
       "<Figure size 432x288 with 0 Axes>"
      ]
     },
     "metadata": {},
     "output_type": "display_data"
    }
   ],
   "source": [
    "plot_precision_recall_n(expected,y_scores, 'LR')"
   ]
  },
  {
   "cell_type": "code",
   "execution_count": 23,
   "metadata": {
    "collapsed": false
   },
   "outputs": [
    {
     "name": "stdout",
     "output_type": "stream",
     "text": [
      "Precision at 1%: 0.027\n"
     ]
    }
   ],
   "source": [
    "p_at_1 = precision_at_k(expected,y_scores, 0.01)\n",
    "print('Precision at 1%: {:.3f}'.format(p_at_1))"
   ]
  },
  {
   "cell_type": "markdown",
   "metadata": {},
   "source": [
    "### Feature Understanding\n",
    "\n",
    "- Back to [Table of Contents](#Table-of-Contents)\n",
    "\n",
    "Now that we have evaluated our model overall, let's look at the \"importances\" for each feature, along with their standard deviation."
   ]
  },
  {
   "cell_type": "code",
   "execution_count": 24,
   "metadata": {
    "collapsed": false
   },
   "outputs": [
    {
     "data": {
      "text/plain": [
       "[('106', 2.4015748533131427e-05),\n",
       " ('128', 0.018253133779191775),\n",
       " ('137', 0.0018990626950494264),\n",
       " ('165', 3.811192965287775e-05),\n",
       " ('204', 0.005093879335215837),\n",
       " ('210', 0.0001138387371262648),\n",
       " ('23', 0.00022749365599554258),\n",
       " ('239', 0.0),\n",
       " ('244', 0.0),\n",
       " ('250', 0.0060463529160050145),\n",
       " ('252', 0.0030024773541833393),\n",
       " ('257', 0.0),\n",
       " ('260', 0.0032407262986337594),\n",
       " ('264', 5.281677020958354e-05),\n",
       " ('273', 0.0),\n",
       " ('280', 0.002567882369074464),\n",
       " ('29', 0.0),\n",
       " ('313', 0.0),\n",
       " ('324', 0.00933953485943115),\n",
       " ('335', 0.00011518882305694452),\n",
       " ('343', 3.6850216463738144e-05),\n",
       " ('345', 0.0008799393808863948),\n",
       " ('348', 0.002753002160712912),\n",
       " ('349', 1.5102226446860583e-05),\n",
       " ('351', 0.0004882624336030147),\n",
       " ('356', 0.0068897226694907675),\n",
       " ('359', 0.004861750734798905),\n",
       " ('361', 3.619220881882996e-05),\n",
       " ('364', 0.0004019104358473388),\n",
       " ('367', 0.0006558814387977066),\n",
       " ('372', 0.001306983006801589),\n",
       " ('378', 0.0008053272176395389),\n",
       " ('382', 0.005148426763261923),\n",
       " ('384', 0.003078010220610081),\n",
       " ('385', 0.003942649493992567),\n",
       " ('395', 0.0),\n",
       " ('403', 3.584259401535497e-05),\n",
       " ('406', 0.0),\n",
       " ('415', 0.0),\n",
       " ('417', 9.504248585696655e-05),\n",
       " ('420', 3.782501039559413e-05),\n",
       " ('422', 0.0059335760716683955),\n",
       " ('423', 0.002924712968321731),\n",
       " ('424', 0.04048691780758968),\n",
       " ('425', 0.0018702159187919357),\n",
       " ('426', 0.0003308989574752841),\n",
       " ('427', 0.0008134065531613784),\n",
       " ('428', 0.0012756469924847483),\n",
       " ('433', 3.531537750704376e-05),\n",
       " ('434', 0.0017348902633349645),\n",
       " ('435', 0.03344624008943434),\n",
       " ('436', 0.027070427964568104),\n",
       " ('5', 0.00032619928196110637),\n",
       " ('502', 4.307428018005536e-07),\n",
       " ('504', 5.895280436799158e-05),\n",
       " ('506', 0.007554422323698913),\n",
       " ('510', 0.0),\n",
       " ('514', 0.042113973602601745),\n",
       " ('520', 0.0),\n",
       " ('521', 0.000143438355603694),\n",
       " ('522', 0.00013654070628277073),\n",
       " ('523', 0.002453005248109598),\n",
       " ('524', 0.0007967652527901498),\n",
       " ('525', 0.0031871882176406),\n",
       " ('527', 9.738506192369248e-06),\n",
       " ('528', 0.001406335168428282),\n",
       " ('530', 0.04853842232912345),\n",
       " ('534', 0.0008401280850846645),\n",
       " ('536', 0.033557606246737086),\n",
       " ('540', 0.013324877139165438),\n",
       " ('544', 0.011191714378495232),\n",
       " ('546', 0.018790926369895825),\n",
       " ('548', 0.011368186441863722),\n",
       " ('549', 0.010941750191147468),\n",
       " ('550', 6.897457331109633e-05),\n",
       " ('552', 0.0013480273009507874),\n",
       " ('554', 0.0009298330283633083),\n",
       " ('556', 0.0006884904840842414),\n",
       " ('558', 0.0006297143575866895),\n",
       " ('560', 0.003330057941962828),\n",
       " ('562', 0.003820538476284588),\n",
       " ('564', 0.01094336671538481),\n",
       " ('568', 0.0035896708422117124),\n",
       " ('574', 0.001876031733353402),\n",
       " ('585', 0.0001416751926448295),\n",
       " ('600', 0.017232443213435707),\n",
       " ('601', 0.0014721744752420921),\n",
       " ('602', 0.0007088149309231976),\n",
       " ('604', 0.00840183262982028),\n",
       " ('606', 0.0057955955399466895),\n",
       " ('607', 0.007113447851312542),\n",
       " ('611', 8.515942352468035e-05),\n",
       " ('62', 0.0),\n",
       " ('623', 0.0010495736865648387),\n",
       " ('675', 0.0018402339125954958),\n",
       " ('7', 0.0012446459767634622),\n",
       " ('702', 0.003067516608382832),\n",
       " ('703', 0.0003836949729740468),\n",
       " ('704', 1.3918258019553371e-05),\n",
       " ('705', 0.0),\n",
       " ('706', 6.570810660658896e-05),\n",
       " ('707', 0.00010652150856161684),\n",
       " ('709', 3.545483787726326e-05),\n",
       " ('712', 0.0),\n",
       " ('715', 0.0),\n",
       " ('717', 9.255949684069514e-05),\n",
       " ('73', 0.00179065655764917),\n",
       " ('800', 0.006325402010607315),\n",
       " ('850', 0.0),\n",
       " ('860', 4.0725312156387795e-05),\n",
       " ('930', 0.0028084534389684838),\n",
       " ('935', 0.007779904621626562),\n",
       " ('96', 3.46859973206965e-05),\n",
       " ('977', 0.0009228626527639236),\n",
       " ('D23', 0.003667457886110563),\n",
       " ('ALS', 1.2582759335628137e-05),\n",
       " ('Acquired Cognitive Impairment', 0.0007047741902984784),\n",
       " ('Acute Respiratory Distress Syndrome', 3.4280447763043254e-05),\n",
       " ('Adolescent Sexual Activity', 0.0),\n",
       " ('Aging', 0.015488122342069236),\n",
       " ('Alcoholism, Alcohol Use and Health', 0.00035520278876937413),\n",
       " (\"Alzheimer's Disease\", 0.0030238484000558712),\n",
       " (\"Alzheimer's Disease Related Dementias (ADRD)\", 0.0016001473510394606),\n",
       " (\"Alzheimer's Disease including Alzheimer's Disease Related Dementias (AD/ADRD)\",\n",
       "  0.006901536378620085),\n",
       " ('American Indian or Alaska Native', 0.0009485501363325816),\n",
       " ('Anthrax', 0.00021261795700165578),\n",
       " ('Antimicrobial Resistance', 0.005978759834444214),\n",
       " ('Anxiety Disorders', 0.0026477834399184657),\n",
       " ('Arthritis', 0.000690136455145568),\n",
       " ('Assistive Technology', 0.01466030042961143),\n",
       " ('Asthma', 0.00019996762681547578),\n",
       " ('Atherosclerosis', 0.0036390658257774776),\n",
       " ('Attention Deficit Disorder (ADD)', 0.0),\n",
       " ('Autism', 0.00028831167355980084),\n",
       " ('Autoimmune Disease', 0.0005559919181008318),\n",
       " ('Basic Behavioral and Social Science', 0.003222905276485193),\n",
       " ('Batten Disease', 1.3672249693023421e-05),\n",
       " ('Behavioral and Social Science', 0.0070136436654042),\n",
       " ('Biodefense', 0.005559360080180944),\n",
       " ('Bioengineering', 0.0015062882201497172),\n",
       " ('Biomedical Imaging', 0.020286620300728517),\n",
       " ('Brain Cancer', 0.0004712441497291156),\n",
       " ('Brain Disorders', 0.0033275648601482867),\n",
       " ('Breast Cancer', 0.004348039958020831),\n",
       " ('Breastfeeding, Lactation and Breast Milk', 1.3826400320014655e-05),\n",
       " ('Burden of Illness', 0.0),\n",
       " ('Cancer Genomics', 0.004411077520638159),\n",
       " ('Cannabinoid Research', 0.002242199096515069),\n",
       " ('Cardiovascular', 0.010865153426106538),\n",
       " ('Caregiving Research', 0.0006856055314151873),\n",
       " ('Cerebrovascular', 0.002468380588082609),\n",
       " ('Cervical Cancer', 0.00038996834738842454),\n",
       " ('Childhood Leukemia', 0.001733924293492744),\n",
       " ('Childhood Obesity', 0.00534803767429014),\n",
       " ('Chronic Liver Disease and Cirrhosis', 0.0003710917776674654),\n",
       " ('Chronic Pain', 0.0002018728913281569),\n",
       " ('Climate Change', 0.0),\n",
       " ('Climate-Related Exposures and Conditions', 0.00019857591502100283),\n",
       " ('Clinical Trials and Supportive Activities', 0.009884126467836337),\n",
       " ('Colo-Rectal Cancer', 0.00024069360958874973),\n",
       " ('Comparative Effectiveness Research', 0.00015955617021312757),\n",
       " ('Complementary and Alternative Medicine', 0.0001378825494098698),\n",
       " ('Conditions Affecting the Embryonic and Fetal Periods',\n",
       "  3.594452187309239e-05),\n",
       " ('Congenital Structural Anomalies', 0.0004524350572683558),\n",
       " ('Contraception/Reproduction', 0.00015967568178260112),\n",
       " (\"Cooley's Anemia\", 0.0),\n",
       " ('Cost Effectiveness Research', 0.006401191288464812),\n",
       " (\"Crohn's Disease\", 0.00254306043144816),\n",
       " ('Cystic Fibrosis', 0.00041658135956519176),\n",
       " ('Dementia', 0.006534833751167511),\n",
       " ('Dental/Oral and Craniofacial Disease', 0.007332986592851667),\n",
       " ('Depression', 0.00038128444644264063),\n",
       " ('Diabetes', 0.0058550658941119525),\n",
       " ('Dietary Supplements', 0.0013246797428921573),\n",
       " ('Digestive Diseases', 0.011441346146591817),\n",
       " ('Down Syndrome', 9.775110424788195e-06),\n",
       " ('Drug Abuse (NIDA only)', 0.0031953957372572624),\n",
       " ('Duchenne/ Becker Muscular Dystrophy', 0.0002616393628624028),\n",
       " ('Dystonia', 0.00035873727046237974),\n",
       " ('Eczema / Atopic Dermatitis', 0.0),\n",
       " ('Emerging Infectious Diseases', 0.0005757613407277025),\n",
       " ('Endocannabinoid System Research', 0.0004581029102418463),\n",
       " ('Endocrine Disruptors', 1.1784740841867343e-05),\n",
       " ('Epilepsy', 6.771962867499095e-05),\n",
       " ('Estrogen', 0.0029908249968418348),\n",
       " ('Eye Disease and Disorders of Vision', 0.01950235763358443),\n",
       " ('Facioscapulohumeral Muscular Dystrophy', 0.0),\n",
       " ('Fetal Alcohol Syndrome', 3.5603851460930006e-05),\n",
       " ('Food Allergies', 0.0),\n",
       " ('Foodborne Illness', 0.0),\n",
       " ('Frontotemporal Dementia (FTD)', 0.002257839452638137),\n",
       " ('Gene Therapy', 0.007080116309619516),\n",
       " ('Gene Therapy Clinical Trials', 0.00011264204760157261),\n",
       " ('Genetic Testing', 0.0019078223559523073),\n",
       " ('HIV/AIDS', 0.005988349960035479),\n",
       " ('HPV and/or Cervical Cancer Vaccines', 0.00010847498902798845),\n",
       " ('Headaches', 0.0002975780589318934),\n",
       " ('Health Effects of Indoor Air Pollution', 5.766290834649393e-05),\n",
       " ('Health Services', 0.002922488489149725),\n",
       " ('Heart Disease', 0.004293078984545376),\n",
       " ('Heart Disease - Coronary Heart Disease', 0.0021107574993962067),\n",
       " ('Hematology', 0.01234440315138719),\n",
       " ('Hepatitis', 0.00023411292780057348),\n",
       " ('Hepatitis - B', 0.0),\n",
       " ('Hepatitis - C', 0.0002115237161340022),\n",
       " (\"Hodgkin's Disease\", 0.0),\n",
       " ('Human Fetal Tissue', 0.0010442682150844824),\n",
       " ('Human Genome', 0.00040716367341279915),\n",
       " (\"Huntington's Disease\", 0.0001790890074936896),\n",
       " ('Hypertension', 0.0011654880379201246),\n",
       " ('Immunization', 0.01151204424871922),\n",
       " ('Infant Mortality', 1.8179897101321522e-05),\n",
       " ('Infectious Diseases', 0.006955739924916081),\n",
       " ('Infertility', 0.0),\n",
       " ('Inflammatory Bowel Disease', 0.000443277134609987),\n",
       " ('Influenza', 4.2265023244124124e-05),\n",
       " ('Injury (total) Accidents/Adverse Effects', 0.0019165958385136703),\n",
       " ('Injury - Childhood Injuries', 0.0),\n",
       " ('Injury - Trauma - (Head and Spine)', 0.0009407666707563898),\n",
       " ('Injury - Traumatic brain injury', 0.0),\n",
       " ('Intellectual and Developmental Disabilities (IDD)', 0.0005270222182924045),\n",
       " ('Kidney Disease', 0.004925293189732634),\n",
       " ('Lewy Body Dementia', 5.2820573136262556e-05),\n",
       " ('Liver Cancer', 3.694436726437988e-05),\n",
       " ('Liver Disease', 0.0026774837734501286),\n",
       " ('Lung', 0.003716420237749226),\n",
       " ('Lung Cancer', 0.002311116907397658),\n",
       " ('Lupus', 7.700143491924086e-05),\n",
       " ('Lyme Disease', 0.00018789649619233316),\n",
       " ('Lymphoma', 0.002266566129885917),\n",
       " ('Macular Degeneration', 0.0005147255056984438),\n",
       " ('Major Depressive Disorder', 1.864645576765086e-05),\n",
       " ('Malaria', 3.814407746323656e-05),\n",
       " ('Malaria Vaccine', 7.889920303630763e-05),\n",
       " ('Maternal Health', 0.0),\n",
       " ('Mental Illness', 0.0002589874130182809),\n",
       " ('Methamphetamine', 0.0),\n",
       " ('Migraines', 0.0),\n",
       " ('Mind and Body', 0.0),\n",
       " ('Multiple Sclerosis', 0.003740241049540206),\n",
       " ('Muscular Dystrophy', 0.0019351145699627028),\n",
       " ('Myotonic Dystrophy', 5.148776515321182e-06),\n",
       " ('Nanotechnology', 0.00666325690209309),\n",
       " ('Neonatal Respiratory Distress', 1.5169006403782444e-05),\n",
       " ('Networking and Information Technology R and D', 0.007942637220826818),\n",
       " ('Neuroblastoma', 0.007273641971544447),\n",
       " ('Neurodegenerative', 0.013070644177292038),\n",
       " ('Neurofibromatosis', 1.5467401481649125e-06),\n",
       " ('Neurosciences', 0.023950982558380775),\n",
       " ('Nutrition', 0.011508225382640503),\n",
       " ('Obesity', 0.000606751469663022),\n",
       " ('Opioid Misuse and Addiction', 0.0),\n",
       " ('Opioids', 0.0033911064776676867),\n",
       " ('Organ Transplantation', 0.0024425081265774242),\n",
       " ('Orphan Drug', 0.009087913390325681),\n",
       " ('Osteoarthritis', 0.00041091729957160814),\n",
       " ('Osteoporosis', 0.00013212139775933487),\n",
       " ('Otitis Media', 0.00013993905136307325),\n",
       " ('Ovarian Cancer', 0.0010341871419886962),\n",
       " ('Pain Research', 0.00012732216284451839),\n",
       " ('Pancreatic Cancer', 0.00016031920042869447),\n",
       " (\"Parkinson's Disease\", 0.003900349782060272),\n",
       " ('Patient Safety', 0.0015196844417410646),\n",
       " ('Pediatric', 0.007331310976394837),\n",
       " ('Pediatric AIDS', 3.775049191808532e-05),\n",
       " ('Pediatric Cancer', 4.585771492630983e-05),\n",
       " ('Pediatric Cardiomyopathy', 3.9068893424042544e-05),\n",
       " ('Pediatric Research Initiative', 2.166949175250874e-05),\n",
       " ('Perinatal Period - Conditions Originating in Perinatal Period',\n",
       "  0.00033898111885876915),\n",
       " ('Peripheral Neuropathy', 0.0007549338028569023),\n",
       " ('Physical Activity', 0.0005728552299147441),\n",
       " ('Physical Rehabilitation', 0.0),\n",
       " (\"Pick's Disease\", 0.0),\n",
       " ('Pneumonia', 6.06245423657921e-05),\n",
       " ('Pneumonia and Influenza', 3.678610221567864e-05),\n",
       " ('Polycystic Kidney Disease', 3.433901222444089e-05),\n",
       " ('Post-Traumatic Stress Disorder (PTSD)', 0.00017961302696325863),\n",
       " ('Precision Medicine', 0.002863265458711802),\n",
       " ('Pregnancy', 0.0),\n",
       " ('Prescription Drug Abuse', 0.0),\n",
       " ('Preterm, Low Birth Weight and Health of the Newborn',\n",
       "  0.0006751957996593744),\n",
       " ('Prevention', 0.012558561391867418),\n",
       " ('Prostate Cancer', 0.0011702685079824705),\n",
       " ('Radiation Oncology', 0.0012526077236571476),\n",
       " ('Rare Diseases', 0.011715111122383123),\n",
       " ('Regenerative Medicine', 0.007154181518486122),\n",
       " ('Rehabilitation', 0.006066649678873069),\n",
       " ('Rheumatoid Arthritis', 4.788695463102605e-06),\n",
       " ('Rural Health', 0.001424382124854458),\n",
       " ('Schizophrenia', 0.0001780118523736551),\n",
       " ('Sepsis', 0.0003780698022993909),\n",
       " ('Serious Mental Illness', 3.264059333910177e-05),\n",
       " ('Sexual and Gender Minorities (SGM/LGBT*)', 0.0002463627226763411),\n",
       " ('Sexually Transmitted Infections', 0.00018232197129013547),\n",
       " ('Sickle Cell Disease', 3.936643211059985e-05),\n",
       " ('Sleep Research', 0.0026697713191690376),\n",
       " ('Spinal Muscular Atrophy', 3.916667737431901e-05),\n",
       " ('Stem Cell Research', 0.006592244301160752),\n",
       " ('Stem Cell Research - Embryonic - Human', 0.0003929422401077165),\n",
       " ('Stem Cell Research - Embryonic - Non-Human', 0.002754793213429997),\n",
       " ('Stem Cell Research - Induced Pluripotent Stem Cell',\n",
       "  0.00033609134097845555),\n",
       " ('Stem Cell Research - Induced Pluripotent Stem Cell - Human',\n",
       "  0.0002442316001237848),\n",
       " ('Stem Cell Research - Induced Pluripotent Stem Cell - Non-Human',\n",
       "  5.750850178338709e-09),\n",
       " ('Stem Cell Research - Nonembryonic - Human', 0.005965702548585849),\n",
       " ('Stem Cell Research - Nonembryonic - Non-Human', 0.0021016008427583895),\n",
       " ('Stem Cell Research - Umbilical Cord Blood/ Placenta',\n",
       "  0.00018617227311926653),\n",
       " ('Stem Cell Research - Umbilical Cord Blood/ Placenta - Human', 0.0),\n",
       " ('Stroke', 7.604382316481549e-05),\n",
       " ('Substance Abuse', 0.0009698019322475888),\n",
       " ('Therapeutic Cannabinoid Research', 0.0005373825231983544),\n",
       " ('Tobacco', 6.352294471782546e-05),\n",
       " ('Tobacco Smoke and Health', 0.001096462459669878),\n",
       " ('Transmissible Spongiform Encephalopathy (TSE)', 0.0004332400315322218),\n",
       " ('Transplantation', 0.00439877399564222),\n",
       " ('Tuberculosis', 0.0010265646342380115),\n",
       " ('Tuberculosis Vaccine', 1.1258903190204059e-05),\n",
       " ('Underage Drinking', 0.0),\n",
       " ('Underage Drinking - Prevention and Treatment (NIAAA Only)',\n",
       "  0.00021055733563118617),\n",
       " ('Urologic Diseases', 0.007538806394891525),\n",
       " ('Usher Syndrome', 0.0019284662089294182),\n",
       " ('Uterine Cancer', 0.0),\n",
       " ('Vaccine Related', 0.001971145759302215),\n",
       " ('Vaccine Related (AIDS)', 0.0002020255198544737),\n",
       " ('Vascular Cognitive Impairment/Dementia', 0.004383763472028328),\n",
       " ('Vector-Borne Diseases', 0.0001924720003659102),\n",
       " ('West Nile Virus', 0.0)]"
      ]
     },
     "execution_count": 24,
     "metadata": {},
     "output_type": "execute_result"
    }
   ],
   "source": [
    "list(zip(sel_features, model.feature_importances_))"
   ]
  },
  {
   "cell_type": "markdown",
   "metadata": {},
   "source": [
    "## Assessing Model Against Baselines\n",
    "\n",
    "- Back to [Table of Contents](#Table-of-Contents)\n",
    "\n",
    "It is important to check our model against a reasonable **baseline** to know how well our model is doing. \n",
    "\n",
    "> Without any context, over 85% accuracy can sound great... But it's not so great when you remember that you could as well or better by declaring that all firms will survive in the next year, which would be a stupid (not to mention useless) model. "
   ]
  },
  {
   "cell_type": "markdown",
   "metadata": {},
   "source": [
    "A good place to start is checking against a *random* baseline, assigning every example a label (positive or negative) completely at random. "
   ]
  },
  {
   "cell_type": "code",
   "execution_count": 25,
   "metadata": {
    "collapsed": false
   },
   "outputs": [
    {
     "name": "stdout",
     "output_type": "stream",
     "text": [
      "0.0014617211766855473\n"
     ]
    }
   ],
   "source": [
    "random_score = [random.uniform(0,1) for i in enumerate(y_test)] \n",
    "random_p_at_selected = precision_at_k(expected,random_score, 0.01)\n",
    "print(random_p_at_selected)"
   ]
  },
  {
   "cell_type": "markdown",
   "metadata": {},
   "source": [
    "## Machine Learning Pipeline\n",
    "- Back to the [Table of Contents](#Table-of-Contents)\n",
    "\n",
    "When working on machine learning projects, it is a good idea to structure your code as a modular **pipeline**, which contains all of the steps of your analysis, from the original data source to the results that you report, along with documentation. This has many advantages:\n",
    "- **Reproducibility**. It's important that your work is reproducible. This means that someone else should be able\n",
    "to see what you did, follow the exact same process, and come up with the exact same results. It also means that\n",
    "someone else can follow the steps you took and see what decisions you made, whether that person is a collaborator, \n",
    "a reviewer for a journal, or a member of an agency you are working with. \n",
    "- **Ease of model evaluation and comparison**.\n",
    "- **Ability to make changes.** If you receive new data and want to go through the process again, or if there are \n",
    "updates to the data you used, you can easily substitute new data and reproduce the process without starting from scratch."
   ]
  },
  {
   "cell_type": "markdown",
   "metadata": {},
   "source": [
    "## Survey of Algorithms\n",
    "\n",
    "- Back to the [Table of Contents](#Table-of-Contents)\n",
    "\n",
    "We have only scratched the surface of what we can do with our model. We've only tried one classifier (Logistic Regression), and there are plenty more classification algorithms in `sklearn`. Let's try them! "
   ]
  },
  {
   "cell_type": "code",
   "execution_count": null,
   "metadata": {
    "collapsed": true
   },
   "outputs": [],
   "source": [
    "clfs = {'RF': RandomForestClassifier(n_estimators=100, n_jobs=-1),\n",
    "        'ET': ExtraTreesClassifier(n_estimators=100, n_jobs=-1),\n",
    "        'LR': LogisticRegression(),\n",
    "        'SGD':SGDClassifier(loss='log'),\n",
    "        'GB': GradientBoostingClassifier(learning_rate=0.05, subsample=0.5, max_depth=6, random_state=17\n",
    "                                         , n_estimators=5),\n",
    "        'NB': GaussianNB(),\n",
    "        'DT': DecisionTreeClassifier(max_depth=10, min_samples_split=10)\n",
    "       }"
   ]
  },
  {
   "cell_type": "code",
   "execution_count": null,
   "metadata": {
    "collapsed": true
   },
   "outputs": [],
   "source": [
    "sel_clfs = ['RF', 'ET', 'LR', 'SGD', 'GB', 'NB', 'DT']"
   ]
  },
  {
   "cell_type": "code",
   "execution_count": null,
   "metadata": {
    "collapsed": false,
    "scrolled": true
   },
   "outputs": [],
   "source": [
    "max_p_at_k = 0\n",
    "df_results = pd.DataFrame()\n",
    "for clfNM in sel_clfs:\n",
    "    clf = clfs[clfNM]\n",
    "    clf.fit( X_train, y_train )\n",
    "    print(clf)\n",
    "    y_score = clf.predict_proba(X_test)[:,1]\n",
    "    predicted = np.array(y_score)\n",
    "    expected = np.array(y_test)\n",
    "    plot_precision_recall_n(expected,predicted, clfNM)\n",
    "    p_at_1 = precision_at_k(expected,y_score, 0.01)\n",
    "    p_at_5 = precision_at_k(expected,y_score,0.05)\n",
    "    p_at_10 = precision_at_k(expected,y_score,0.10)\n",
    "    fpr, tpr, thresholds = roc_curve(expected,y_score)\n",
    "    auc_val = auc(fpr,tpr)\n",
    "    df_results = df_results.append([{\n",
    "        'clfNM':clfNM,\n",
    "        'p_at_1':p_at_1,\n",
    "        'p_at_5':p_at_5,\n",
    "        'p_at_10':p_at_10,\n",
    "        'auc':auc_val,\n",
    "        'clf': clf\n",
    "    }])\n",
    "    \n",
    "    #feature importances\n",
    "    if hasattr(clf, 'coef_'):\n",
    "        feature_import = dict(\n",
    "            zip(sel_features, clf.coef_.ravel()))\n",
    "    elif hasattr(clf, 'feature_importances_'):\n",
    "        feature_import = dict(\n",
    "            zip(sel_features, clf.feature_importances_))\n",
    "    print(\"FEATURE IMPORTANCES\")\n",
    "    print(feature_import)\n",
    "    \n",
    "    if max_p_at_k < p_at_1:\n",
    "        max_p_at_k = p_at_1\n",
    "    print('Precision at 1%: {:.2f}'.format(p_at_1))\n",
    "# df_results.to_csv('output/modelrun.csv')"
   ]
  },
  {
   "cell_type": "code",
   "execution_count": null,
   "metadata": {
    "collapsed": true
   },
   "outputs": [],
   "source": [
    "# and print out the results of all the above models\n",
    "df_results"
   ]
  },
  {
   "cell_type": "markdown",
   "metadata": {},
   "source": [
    "## Bonus code: visualizing Decision tree models\n",
    "\n",
    "Note the additional packages required for running the below code"
   ]
  },
  {
   "cell_type": "code",
   "execution_count": null,
   "metadata": {
    "collapsed": false
   },
   "outputs": [],
   "source": [
    "from sklearn.tree import DecisionTreeClassifier\n",
    "\n",
    "# packages to display a tree in Jupyter notebooks\n",
    "from sklearn.externals.six import StringIO\n",
    "from IPython.display import Image\n",
    "from sklearn.tree import export_graphviz\n",
    "import graphviz as gv\n",
    "import pydotplus"
   ]
  },
  {
   "cell_type": "code",
   "execution_count": null,
   "metadata": {
    "collapsed": true
   },
   "outputs": [],
   "source": [
    "model = DecisionTreeClassifier(max_depth=3, min_samples_split=100)\n",
    "model.fit( X_train, y_train )\n",
    "print(model)"
   ]
  },
  {
   "cell_type": "code",
   "execution_count": null,
   "metadata": {
    "collapsed": true
   },
   "outputs": [],
   "source": [
    "# visualize the tree\n",
    "\n",
    "# object to hold the graphviz data\n",
    "dot_data = StringIO()\n",
    "\n",
    "# create the visualization\n",
    "export_graphviz(model, out_file=dot_data, filled=True,\n",
    "               rounded=True, special_characters=True,\n",
    "               feature_names=df_training[sel_features].columns.values)\n",
    "\n",
    "# convert to a graph from the data\n",
    "graph = pydotplus.graph_from_dot_data(dot_data.getvalue())\n"
   ]
  },
  {
   "cell_type": "code",
   "execution_count": null,
   "metadata": {
    "collapsed": true
   },
   "outputs": [],
   "source": [
    "# print out the graph to zoom in \n",
    "# graph.write_pdf('./output/model_eval_tree1.pdf')\n",
    "\n",
    "# or view it directly in notebook\n",
    "Image(graph.create_png())"
   ]
  },
  {
   "cell_type": "code",
   "execution_count": null,
   "metadata": {
    "collapsed": true
   },
   "outputs": [],
   "source": [
    "# get the prediction scores\n",
    "y_scores = model.predict_proba(X_test)[:,1]\n",
    "\n",
    "fig, ax  = subplots(figsize=(10,5))\n",
    "sns.distplot(y_scores, kde=False, rug=False, ax=ax)"
   ]
  },
  {
   "cell_type": "code",
   "execution_count": null,
   "metadata": {
    "collapsed": true
   },
   "outputs": [],
   "source": [
    "# given the distribution of the scores, what threshold would you set?\n",
    "selected_threshold = 0.3\n",
    "\n",
    "# create a list of our predicted outocmes\n",
    "predicted = np.array( [calc_threshold(score, selected_threshold) for score in y_scores] )\n",
    "\n",
    "# and our actual, or expected, outcomes\n",
    "expected = y_test"
   ]
  },
  {
   "cell_type": "code",
   "execution_count": null,
   "metadata": {
    "collapsed": true
   },
   "outputs": [],
   "source": [
    "conf_matrix = confusion_matrix(expected,predicted)\n",
    "print(conf_matrix)"
   ]
  },
  {
   "cell_type": "code",
   "execution_count": null,
   "metadata": {
    "collapsed": true
   },
   "outputs": [],
   "source": [
    "accuracy = accuracy_score(expected, predicted)\n",
    "print( \"Accuracy = \" + str( accuracy ) )"
   ]
  },
  {
   "cell_type": "code",
   "execution_count": null,
   "metadata": {
    "collapsed": true
   },
   "outputs": [],
   "source": [
    "model_precision = precision_score(expected, predicted)\n",
    "recall = recall_score(expected, predicted)\n",
    "print( \"Precision = \" + str( model_precision ) )\n",
    "print( \"Recall= \" + str(recall))"
   ]
  },
  {
   "cell_type": "code",
   "execution_count": null,
   "metadata": {
    "collapsed": true
   },
   "outputs": [],
   "source": [
    "plot_precision_recall(expected, y_scores)"
   ]
  },
  {
   "cell_type": "code",
   "execution_count": null,
   "metadata": {
    "collapsed": true
   },
   "outputs": [],
   "source": [
    "plot_precision_recall_n(expected,y_scores, 'DTC')"
   ]
  },
  {
   "cell_type": "code",
   "execution_count": null,
   "metadata": {
    "collapsed": true
   },
   "outputs": [],
   "source": [
    "# Decistion Trees have a `.feature_importances_` rather than `.coef_` attribute:\n",
    "list(zip(sel_features, model.feature_importances_))"
   ]
  },
  {
   "cell_type": "markdown",
   "metadata": {},
   "source": [
    "## Exercise\n",
    "- Back to [Table of Contents](#Table-of-Contents)\n",
    "\n",
    "Our model has just scratched the surface. Try the following: \n",
    "    \n",
    "- Create more features\n",
    "- Try more models\n",
    "- Try different parameters for your model"
   ]
  },
  {
   "cell_type": "markdown",
   "metadata": {},
   "source": [
    "## Additional Resources\n",
    "\n",
    "- Hastie et al.'s [The Elements of Statistical Learning](http://statweb.stanford.edu/~tibs/ElemStatLearn/) is a classic and is available online for free.\n",
    "- James et al.'s [An Introduction to Statistical Learning](http://www-bcf.usc.edu/~gareth/ISL/), also available online, includes less mathematics and is more approachable.\n",
    "- Wu et al.'s [Top 10 Algorithms in Data Mining](http://www.cs.uvm.edu/~icdm/algorithms/10Algorithms-08.pdf)."
   ]
  }
 ],
 "metadata": {
  "anaconda-cloud": {},
  "kernelspec": {
   "display_name": "py3-RecLink",
   "language": "python",
   "name": "py3-rl"
  },
  "language_info": {
   "codemirror_mode": {
    "name": "ipython",
    "version": 3
   },
   "file_extension": ".py",
   "mimetype": "text/x-python",
   "name": "python",
   "nbconvert_exporter": "python",
   "pygments_lexer": "ipython3",
   "version": "3.6.7"
  },
  "toc": {
   "nav_menu": {},
   "number_sections": false,
   "sideBar": true,
   "skip_h1_title": false,
   "toc_cell": true,
   "toc_position": {
    "height": "605px",
    "left": "0px",
    "right": "1492px",
    "top": "110px",
    "width": "270px"
   },
   "toc_section_display": true,
   "toc_window_display": false
  }
 },
 "nbformat": 4,
 "nbformat_minor": 2
}
