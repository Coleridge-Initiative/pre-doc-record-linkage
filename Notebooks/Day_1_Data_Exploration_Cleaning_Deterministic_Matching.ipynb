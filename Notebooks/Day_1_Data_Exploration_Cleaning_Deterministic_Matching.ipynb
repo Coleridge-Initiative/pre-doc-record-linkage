{
 "cells": [
  {
   "cell_type": "markdown",
   "metadata": {},
   "source": [
    "![Coleridge Initiative Logo](images/CI_horizontal.png)"
   ]
  },
  {
   "cell_type": "markdown",
   "metadata": {},
   "source": [
    "<center>\n",
    "    <span style=\"font-size: 1.5em;\">\n",
    "        <a href='https://www.coleridgeinitiative.org'>Website</a>\n",
    "    </span>\n",
    "</center>"
   ]
  },
  {
   "cell_type": "markdown",
   "metadata": {},
   "source": [
    "Contributors:\n",
    "Rayid Ghani, Frauke Kreuter, Julia Lane, Brian Kim, Adrianne Bradford, Alex Engler, Nicolas Guetta Jeanrenaud, Graham Henke, Daniela Hochfellner, Clayton Hunter, Avishek Kumar, Jonathan Morgan, Ekaterina Levitskaya."
   ]
  },
  {
   "cell_type": "markdown",
   "metadata": {
    "toc": true
   },
   "source": [
    "<h1>Table of Contents<span class=\"tocSkip\"></span></h1>\n",
    "<div class=\"toc\"><ul class=\"toc-item\"><li><span><a href=\"#Record-Linkage\" data-toc-modified-id=\"Record-Linkage-1\"><span class=\"toc-item-num\">1&nbsp;&nbsp;</span>Record Linkage</a></span><ul class=\"toc-item\"><li><span><a href=\"#The-Principles-of-Record-Linkage\" data-toc-modified-id=\"The-Principles-of-Record-Linkage-1.1\"><span class=\"toc-item-num\">1.1&nbsp;&nbsp;</span>The Principles of Record Linkage</a></span></li><li><span><a href=\"#Linking-Patents-to-Grants:-individual-and-organization-levels\" data-toc-modified-id=\"Linking-Patents-to-Grants:-individual-and-organization-levels-1.2\"><span class=\"toc-item-num\">1.2&nbsp;&nbsp;</span>Linking Patents to Grants: individual and organization levels</a></span></li><li><span><a href=\"#Python-Setup\" data-toc-modified-id=\"Python-Setup-1.3\"><span class=\"toc-item-num\">1.3&nbsp;&nbsp;</span>Python Setup</a></span></li></ul></li><li><span><a href=\"#Data-Exploration:-Know-Your-Data\" data-toc-modified-id=\"Data-Exploration:-Know-Your-Data-2\"><span class=\"toc-item-num\">2&nbsp;&nbsp;</span>Data Exploration: Know Your Data</a></span><ul class=\"toc-item\"><li><ul class=\"toc-item\"><li><span><a href=\"#Individual-level-links:-inventor-(patent)-<->-principal-investigator-(grant)\" data-toc-modified-id=\"Individual-level-links:-inventor-(patent)-<->-principal-investigator-(grant)-2.0.1\"><span class=\"toc-item-num\">2.0.1&nbsp;&nbsp;</span>Individual-level links: inventor (patent) &lt;-&gt; principal investigator (grant)</a></span><ul class=\"toc-item\"><li><span><a href=\"#PatentsView:-inventor-names-on-patents\" data-toc-modified-id=\"PatentsView:-inventor-names-on-patents-2.0.1.1\"><span class=\"toc-item-num\">2.0.1.1&nbsp;&nbsp;</span>PatentsView: inventor names on patents</a></span></li><li><span><a href=\"#FedRePORTER:-principal-investigator-names-on-grants\" data-toc-modified-id=\"FedRePORTER:-principal-investigator-names-on-grants-2.0.1.2\"><span class=\"toc-item-num\">2.0.1.2&nbsp;&nbsp;</span>FedRePORTER: principal investigator names on grants</a></span></li></ul></li></ul></li></ul></li><li><span><a href=\"#Data-Cleaning\" data-toc-modified-id=\"Data-Cleaning-3\"><span class=\"toc-item-num\">3&nbsp;&nbsp;</span>Data Cleaning</a></span><ul class=\"toc-item\"><li><span><a href=\"#The-Importance-of-Pre-Processing\" data-toc-modified-id=\"The-Importance-of-Pre-Processing-3.1\"><span class=\"toc-item-num\">3.1&nbsp;&nbsp;</span>The Importance of Pre-Processing</a></span><ul class=\"toc-item\"><li><span><a href=\"#Individual-level-links\" data-toc-modified-id=\"Individual-level-links-3.1.1\"><span class=\"toc-item-num\">3.1.1&nbsp;&nbsp;</span>Individual-level links</a></span><ul class=\"toc-item\"><li><span><a href=\"#Clean-Inventor-Data\" data-toc-modified-id=\"Clean-Inventor-Data-3.1.1.1\"><span class=\"toc-item-num\">3.1.1.1&nbsp;&nbsp;</span>Clean Inventor Data</a></span></li><li><span><a href=\"#Clean-Grant-Data\" data-toc-modified-id=\"Clean-Grant-Data-3.1.1.2\"><span class=\"toc-item-num\">3.1.1.2&nbsp;&nbsp;</span>Clean Grant Data</a></span></li></ul></li></ul></li></ul></li><li><span><a href=\"#Deterministic-Matching\" data-toc-modified-id=\"Deterministic-Matching-4\"><span class=\"toc-item-num\">4&nbsp;&nbsp;</span>Deterministic Matching</a></span><ul class=\"toc-item\"><li><ul class=\"toc-item\"><li><span><a href=\"#Individual-level-links\" data-toc-modified-id=\"Individual-level-links-4.0.1\"><span class=\"toc-item-num\">4.0.1&nbsp;&nbsp;</span>Individual-level links</a></span><ul class=\"toc-item\"><li><span><a href=\"#REGEX-CHEATSHEET\" data-toc-modified-id=\"REGEX-CHEATSHEET-4.0.1.1\"><span class=\"toc-item-num\">4.0.1.1&nbsp;&nbsp;</span>REGEX CHEATSHEET</a></span></li><li><span><a href=\"#EXAMPLES\" data-toc-modified-id=\"EXAMPLES-4.0.1.2\"><span class=\"toc-item-num\">4.0.1.2&nbsp;&nbsp;</span>EXAMPLES</a></span></li></ul></li></ul></li><li><span><a href=\"#References-and-Further-Readings\" data-toc-modified-id=\"References-and-Further-Readings-4.1\"><span class=\"toc-item-num\">4.1&nbsp;&nbsp;</span>References and Further Readings</a></span><ul class=\"toc-item\"><li><span><a href=\"#Record-Linkage\" data-toc-modified-id=\"Record-Linkage-4.1.1\"><span class=\"toc-item-num\">4.1.1&nbsp;&nbsp;</span>Record Linkage</a></span></li><li><span><a href=\"#Parsing\" data-toc-modified-id=\"Parsing-4.1.2\"><span class=\"toc-item-num\">4.1.2&nbsp;&nbsp;</span>Parsing</a></span></li><li><span><a href=\"#Regular-Expression\" data-toc-modified-id=\"Regular-Expression-4.1.3\"><span class=\"toc-item-num\">4.1.3&nbsp;&nbsp;</span>Regular Expression</a></span></li><li><span><a href=\"#Record-Linkage-Python-package\" data-toc-modified-id=\"Record-Linkage-Python-package-4.1.4\"><span class=\"toc-item-num\">4.1.4&nbsp;&nbsp;</span>Record Linkage Python package</a></span></li></ul></li></ul></li></ul></div>"
   ]
  },
  {
   "cell_type": "markdown",
   "metadata": {},
   "source": [
    "# Record Linkage"
   ]
  },
  {
   "cell_type": "markdown",
   "metadata": {},
   "source": [
    "This notebook will provide you with an instruction into Record Linkage using Python. Upon completion of this notebook you will be able to apply record linkage techniques using the `recordlinkage` package to combine data from different sources in Python. \n",
    "It will lead you through all the steps necessary for a sucessful record linkage starting with data preparation  including pre-processing, cleaning and standardization of data."
   ]
  },
  {
   "cell_type": "markdown",
   "metadata": {},
   "source": [
    "## The Principles of Record Linkage\n",
    "The goal of record linkage is to determine if pairs of records describe the same entity. For instance, this is important for removing duplicates from a data source or joining two separate data sources together. Record linkage also goes by the terms data matching, merge/purge, duplication detection, de-duping, reference matching, entity resolution, disambiguation, co-reference/anaphora in various fields.\n",
    "\n",
    "There are several approaches to record linkage that include \n",
    "    - exact matching,\n",
    "    - rule-based linking, \n",
    "    - probabilistic linking. \n",
    "- An example of **exact matching** is joining records based on a direct identifier. This is what we have already have done in SQL by joining tables. \n",
    "- **Rule-based matching** involves applying a cascading set of rules that reflect the domain knowledge of the records being linked. \n",
    "- In **probabilistic record linkages**, linkage weights are estimated to calculate the probability of a certain match.\n",
    "\n",
    "In practical applications you will need record linkage techiques to combine information addressing the same entity that is stored in different data sources. Record linkage will also help you to address the quality of different data sources. For example, if one of your databases has missing values you might be able to fill those by finding an identical pair in a different data source. Overall, the main applications of record linkage are:\n",
    "    1. Merging two or more data files. \n",
    "    2. Identifying the intersection of the two data sets. \n",
    "    3. Updating data files (with the data row of the other data files) and imputing missing data.\n",
    "    4. Entity disambiguation and de-duplication."
   ]
  },
  {
   "cell_type": "markdown",
   "metadata": {},
   "source": [
    "## Linking Patents to Grants: individual and organization levels\n",
    "\n",
    "In this class we will link records obtained from the **PatentsView** (https://www.patentsview.org/download/) to the data on federal grants in **FedRePORTER** (https://federalreporter.nih.gov/FileDownload). In both datasets we have names that we can use to link: inventor names on patents and principal investigator names on grants."
   ]
  },
  {
   "cell_type": "markdown",
   "metadata": {
    "ExecuteTime": {
     "end_time": "2020-01-24T00:05:31.897322Z",
     "start_time": "2020-01-24T00:05:31.874358Z"
    }
   },
   "source": [
    "**About USPTO/PatentsView**\n",
    "\n",
    "The PatentsView platform links inventors, organizations, locations, and patenting activity since 1976. \n",
    "\n",
    "\n",
    "**Key variables of interest**:\n",
    "\n",
    "**Patent**\n",
    "- Patent processing time (duration between a patent application filing date and\n",
    "grant date)\n",
    "- Title\n",
    "- Type of patent document (utility, design, plant, reissue, defensive, and statutory\n",
    "invention registration—offer different kinds of protection for distinct types of\n",
    "subject matter)\n",
    "- Cited patent (patent is cited when it appears as a reference in another patent or\n",
    "patent application)\n",
    "- Citing patent (patent that cites a patent or patent application as a reference in its\n",
    "&#39;references cited&#39; section)\n",
    "- Grant date (date a patent was issued by the USPTO)\n",
    "- International Patent Classification (IPC) (system of patent classifications\n",
    "published by the World Intellectual Property Organization (WIPO))\n",
    "\n",
    "**Assignee** (the name of the entity—company, foundation, partnership, holding company\n",
    "or individual—that owns the patent)\n",
    "- First name (if assignee is individual)\n",
    "- Last name (if assignee is individual)\n",
    "- Organization name (if assignee is organization)\n",
    "- Type (classification of assignee)\n",
    "- Location (City, State, Country, Latitude, Longitude, County, FIPS code (state), FIPS code (county))\n",
    "\n",
    "**Inventor** (the individual who conceived the invention)\n",
    "- First name\n",
    "- Last name\n",
    "- Gender\n",
    "- Location (City, State, Country, Latitude, Longitude, County, FIPS code (state), FIPS code (county))\n",
    "- Co-inventor (a person who appears on the same patent or patent application as\n",
    "another inventor)"
   ]
  },
  {
   "cell_type": "markdown",
   "metadata": {},
   "source": [
    "**About Federal RePORTER**\n",
    "\n",
    "Federal RePORTER is a collaborative effort led by STAR METRICS® to create a searchable\n",
    "database of scientific awards from agencies (across agencies or fiscal years, by the award&#39;s\n",
    "project leader, or by a text search of a project&#39;s title, terms, or abstracts). The National Institutes of Health (NIH) and the National Science Foundation (NSF), under the auspices of Office of Science and Technology Policy (OSTP), are leading this project with funding provided by NIH, NSF, the U.S. Department of Agriculture, and the Environmental Protection Agency."
   ]
  },
  {
   "cell_type": "markdown",
   "metadata": {
    "ExecuteTime": {
     "end_time": "2020-01-24T00:10:44.220943Z",
     "start_time": "2020-01-24T00:10:44.210446Z"
    }
   },
   "source": [
    "Agencies with data in Federal RePORTER: DOD (Department of Defense), ED (Department of Education), Environmental Protection Agency (EPA), HHS (Department of Health and Human Services), National Aeronautics and Space Administration (NASA), National Science Foundation (NSF), USDA (United States Department of Agriculture), U.S. Department of Veterans Affairs (VA)."
   ]
  },
  {
   "cell_type": "markdown",
   "metadata": {},
   "source": [
    "**Key variables of interest**:\n",
    "- Project description\n",
    "    - Title\n",
    "    - Abstract\n",
    "    - Terms (keywords from the project title and abstract)\n",
    "- Project duration\n",
    "    - Start date\n",
    "    - End date\n",
    "- Total cost of a project\n",
    "- Financial year\n",
    "- Federal agency, department\n",
    "- Principal Investigator (PI) Project Leader\n",
    "    - First name\n",
    "    - Last name\n",
    "- Other PIs\n",
    "    - First name\n",
    "    - Last name\n",
    "- Organization name\n",
    "- Organization location (City, State, Zip, Country)\n",
    "- CFDA code (The Catalog of Federal Domestic Assistance, federal financial assistance\n",
    "and nonfinancial assistance programs)"
   ]
  },
  {
   "cell_type": "markdown",
   "metadata": {},
   "source": [
    "**Questions for group discussion:** \n",
    "- What variables would you use for record linkage using these datasets?\n",
    "- What problems do you anticipate?"
   ]
  },
  {
   "cell_type": "markdown",
   "metadata": {},
   "source": [
    "## Python Setup"
   ]
  },
  {
   "cell_type": "markdown",
   "metadata": {},
   "source": [
    "**Class Subset**: The FedRePORTER dataset includes records from year 2010, and PatentsView dataset includes records from 2015-2019 of patents with government interest (in order to account for a time lag between the start of a grant and potential outputs (registered patents) from a grant)."
   ]
  },
  {
   "cell_type": "markdown",
   "metadata": {},
   "source": [
    "Import necessary Python packages."
   ]
  },
  {
   "cell_type": "code",
   "execution_count": 164,
   "metadata": {
    "ExecuteTime": {
     "end_time": "2020-01-24T03:22:37.857254Z",
     "start_time": "2020-01-24T03:22:37.846726Z"
    }
   },
   "outputs": [],
   "source": [
    "# data import and manipulation\n",
    "import pandas as pd\n",
    "\n",
    "# record linkage and preprocessing\n",
    "import recordlinkage as rl\n",
    "from recordlinkage.preprocessing import clean, phonetic"
   ]
  },
  {
   "cell_type": "markdown",
   "metadata": {},
   "source": [
    "# Data Exploration: Know Your Data"
   ]
  },
  {
   "cell_type": "markdown",
   "metadata": {},
   "source": [
    "### Individual-level links: inventor (patent) <-> principal investigator (grant)"
   ]
  },
  {
   "cell_type": "markdown",
   "metadata": {},
   "source": [
    "#### PatentsView: inventor names on patents"
   ]
  },
  {
   "cell_type": "code",
   "execution_count": 238,
   "metadata": {
    "ExecuteTime": {
     "end_time": "2020-01-24T03:25:51.563847Z",
     "start_time": "2020-01-24T03:25:51.535655Z"
    }
   },
   "outputs": [],
   "source": [
    "# Import CSV into a dataframe\n",
    "inventors = pd.read_csv('patentsview_inventors.csv')"
   ]
  },
  {
   "cell_type": "code",
   "execution_count": 166,
   "metadata": {
    "ExecuteTime": {
     "end_time": "2020-01-24T03:22:37.919647Z",
     "start_time": "2020-01-24T03:22:37.897988Z"
    }
   },
   "outputs": [
    {
     "data": {
      "text/html": [
       "<div>\n",
       "<style scoped>\n",
       "    .dataframe tbody tr th:only-of-type {\n",
       "        vertical-align: middle;\n",
       "    }\n",
       "\n",
       "    .dataframe tbody tr th {\n",
       "        vertical-align: top;\n",
       "    }\n",
       "\n",
       "    .dataframe thead th {\n",
       "        text-align: right;\n",
       "    }\n",
       "</style>\n",
       "<table border=\"1\" class=\"dataframe\">\n",
       "  <thead>\n",
       "    <tr style=\"text-align: right;\">\n",
       "      <th></th>\n",
       "      <th>patent_id</th>\n",
       "      <th>year</th>\n",
       "      <th>inventor_id</th>\n",
       "      <th>name_first</th>\n",
       "      <th>name_last</th>\n",
       "      <th>inventor_city</th>\n",
       "      <th>inventor_state</th>\n",
       "      <th>inventor_country</th>\n",
       "    </tr>\n",
       "  </thead>\n",
       "  <tbody>\n",
       "    <tr>\n",
       "      <td>0</td>\n",
       "      <td>9980635</td>\n",
       "      <td>2018</td>\n",
       "      <td>9980635-1</td>\n",
       "      <td>Maria Eliana</td>\n",
       "      <td>Manquez Hatta</td>\n",
       "      <td>Santiago</td>\n",
       "      <td>NaN</td>\n",
       "      <td>CL</td>\n",
       "    </tr>\n",
       "    <tr>\n",
       "      <td>1</td>\n",
       "      <td>9980635</td>\n",
       "      <td>2018</td>\n",
       "      <td>9980635-2</td>\n",
       "      <td>Humberto</td>\n",
       "      <td>Lobos Sucarrat</td>\n",
       "      <td>Santiago</td>\n",
       "      <td>NaN</td>\n",
       "      <td>CL</td>\n",
       "    </tr>\n",
       "    <tr>\n",
       "      <td>2</td>\n",
       "      <td>9999665</td>\n",
       "      <td>2018</td>\n",
       "      <td>8398993-2</td>\n",
       "      <td>Pablo A.</td>\n",
       "      <td>Gonzalez Munoz</td>\n",
       "      <td>Santiago</td>\n",
       "      <td>NaN</td>\n",
       "      <td>CL</td>\n",
       "    </tr>\n",
       "    <tr>\n",
       "      <td>3</td>\n",
       "      <td>9980641</td>\n",
       "      <td>2018</td>\n",
       "      <td>5321501-6</td>\n",
       "      <td>Joel S.</td>\n",
       "      <td>Schuman</td>\n",
       "      <td>Pittsburgh</td>\n",
       "      <td>PA</td>\n",
       "      <td>US</td>\n",
       "    </tr>\n",
       "    <tr>\n",
       "      <td>4</td>\n",
       "      <td>9980641</td>\n",
       "      <td>2018</td>\n",
       "      <td>9980641-3</td>\n",
       "      <td>Lawrence Edward</td>\n",
       "      <td>Kagemann</td>\n",
       "      <td>Pittsburgh</td>\n",
       "      <td>PA</td>\n",
       "      <td>US</td>\n",
       "    </tr>\n",
       "  </tbody>\n",
       "</table>\n",
       "</div>"
      ],
      "text/plain": [
       "  patent_id  year inventor_id       name_first       name_last inventor_city  \\\n",
       "0   9980635  2018   9980635-1     Maria Eliana   Manquez Hatta      Santiago   \n",
       "1   9980635  2018   9980635-2         Humberto  Lobos Sucarrat      Santiago   \n",
       "2   9999665  2018   8398993-2         Pablo A.  Gonzalez Munoz      Santiago   \n",
       "3   9980641  2018   5321501-6          Joel S.         Schuman    Pittsburgh   \n",
       "4   9980641  2018   9980641-3  Lawrence Edward        Kagemann    Pittsburgh   \n",
       "\n",
       "  inventor_state inventor_country  \n",
       "0            NaN               CL  \n",
       "1            NaN               CL  \n",
       "2            NaN               CL  \n",
       "3             PA               US  \n",
       "4             PA               US  "
      ]
     },
     "execution_count": 166,
     "metadata": {},
     "output_type": "execute_result"
    }
   ],
   "source": [
    "# View first rows of the dataframe\n",
    "inventors.head()"
   ]
  },
  {
   "cell_type": "code",
   "execution_count": 167,
   "metadata": {
    "ExecuteTime": {
     "end_time": "2020-01-24T03:22:37.948309Z",
     "start_time": "2020-01-24T03:22:37.932964Z"
    }
   },
   "outputs": [
    {
     "data": {
      "text/plain": [
       "array(['David C.', 'Joseph T.', 'William Addison', 'Brian Anthony',\n",
       "       'Nicholas'], dtype=object)"
      ]
     },
     "execution_count": 167,
     "metadata": {},
     "output_type": "execute_result"
    }
   ],
   "source": [
    "inventors[inventors['name_last'] == 'Smith']['name_first'].unique()"
   ]
  },
  {
   "cell_type": "code",
   "execution_count": 168,
   "metadata": {
    "ExecuteTime": {
     "end_time": "2020-01-24T03:22:37.985972Z",
     "start_time": "2020-01-24T03:22:37.961135Z"
    }
   },
   "outputs": [
    {
     "name": "stdout",
     "output_type": "stream",
     "text": [
      "<class 'pandas.core.frame.DataFrame'>\n",
      "RangeIndex: 4841 entries, 0 to 4840\n",
      "Data columns (total 8 columns):\n",
      "patent_id           4841 non-null object\n",
      "year                4841 non-null int64\n",
      "inventor_id         4841 non-null object\n",
      "name_first          4841 non-null object\n",
      "name_last           4841 non-null object\n",
      "inventor_city       4840 non-null object\n",
      "inventor_state      3994 non-null object\n",
      "inventor_country    4841 non-null object\n",
      "dtypes: int64(1), object(7)\n",
      "memory usage: 302.7+ KB\n"
     ]
    }
   ],
   "source": [
    "inventors.info()"
   ]
  },
  {
   "cell_type": "markdown",
   "metadata": {},
   "source": [
    "We notice that `inventor_state` information appears to be missing in some cases (3,994 records vs total 4,841 records).\n",
    "\n",
    "We can check the rows that are missing by calling `.isnull()`."
   ]
  },
  {
   "cell_type": "code",
   "execution_count": 169,
   "metadata": {
    "ExecuteTime": {
     "end_time": "2020-01-24T03:22:38.028243Z",
     "start_time": "2020-01-24T03:22:37.990625Z"
    }
   },
   "outputs": [
    {
     "data": {
      "text/html": [
       "<div>\n",
       "<style scoped>\n",
       "    .dataframe tbody tr th:only-of-type {\n",
       "        vertical-align: middle;\n",
       "    }\n",
       "\n",
       "    .dataframe tbody tr th {\n",
       "        vertical-align: top;\n",
       "    }\n",
       "\n",
       "    .dataframe thead th {\n",
       "        text-align: right;\n",
       "    }\n",
       "</style>\n",
       "<table border=\"1\" class=\"dataframe\">\n",
       "  <thead>\n",
       "    <tr style=\"text-align: right;\">\n",
       "      <th></th>\n",
       "      <th>patent_id</th>\n",
       "      <th>year</th>\n",
       "      <th>inventor_id</th>\n",
       "      <th>name_first</th>\n",
       "      <th>name_last</th>\n",
       "      <th>inventor_city</th>\n",
       "      <th>inventor_state</th>\n",
       "      <th>inventor_country</th>\n",
       "    </tr>\n",
       "  </thead>\n",
       "  <tbody>\n",
       "    <tr>\n",
       "      <td>0</td>\n",
       "      <td>9980635</td>\n",
       "      <td>2018</td>\n",
       "      <td>9980635-1</td>\n",
       "      <td>Maria Eliana</td>\n",
       "      <td>Manquez Hatta</td>\n",
       "      <td>Santiago</td>\n",
       "      <td>NaN</td>\n",
       "      <td>CL</td>\n",
       "    </tr>\n",
       "    <tr>\n",
       "      <td>1</td>\n",
       "      <td>9980635</td>\n",
       "      <td>2018</td>\n",
       "      <td>9980635-2</td>\n",
       "      <td>Humberto</td>\n",
       "      <td>Lobos Sucarrat</td>\n",
       "      <td>Santiago</td>\n",
       "      <td>NaN</td>\n",
       "      <td>CL</td>\n",
       "    </tr>\n",
       "    <tr>\n",
       "      <td>2</td>\n",
       "      <td>9999665</td>\n",
       "      <td>2018</td>\n",
       "      <td>8398993-2</td>\n",
       "      <td>Pablo A.</td>\n",
       "      <td>Gonzalez Munoz</td>\n",
       "      <td>Santiago</td>\n",
       "      <td>NaN</td>\n",
       "      <td>CL</td>\n",
       "    </tr>\n",
       "    <tr>\n",
       "      <td>100</td>\n",
       "      <td>9980645</td>\n",
       "      <td>2018</td>\n",
       "      <td>4306291-3</td>\n",
       "      <td>Dominique M.</td>\n",
       "      <td>Durand</td>\n",
       "      <td>Toronto</td>\n",
       "      <td>NaN</td>\n",
       "      <td>CA</td>\n",
       "    </tr>\n",
       "    <tr>\n",
       "      <td>101</td>\n",
       "      <td>9981915</td>\n",
       "      <td>2018</td>\n",
       "      <td>5156079-2</td>\n",
       "      <td>Wei</td>\n",
       "      <td>Li</td>\n",
       "      <td>Toronto</td>\n",
       "      <td>NaN</td>\n",
       "      <td>CA</td>\n",
       "    </tr>\n",
       "    <tr>\n",
       "      <td>...</td>\n",
       "      <td>...</td>\n",
       "      <td>...</td>\n",
       "      <td>...</td>\n",
       "      <td>...</td>\n",
       "      <td>...</td>\n",
       "      <td>...</td>\n",
       "      <td>...</td>\n",
       "      <td>...</td>\n",
       "    </tr>\n",
       "    <tr>\n",
       "      <td>4799</td>\n",
       "      <td>RE46129</td>\n",
       "      <td>2016</td>\n",
       "      <td>5498696-4</td>\n",
       "      <td>Xiaodong</td>\n",
       "      <td>Wang</td>\n",
       "      <td>Shanxi</td>\n",
       "      <td>NaN</td>\n",
       "      <td>CN</td>\n",
       "    </tr>\n",
       "    <tr>\n",
       "      <td>4803</td>\n",
       "      <td>RE46129</td>\n",
       "      <td>2016</td>\n",
       "      <td>5498696-4</td>\n",
       "      <td>Xiaodong</td>\n",
       "      <td>Wang</td>\n",
       "      <td>Ilmenau</td>\n",
       "      <td>NaN</td>\n",
       "      <td>DE</td>\n",
       "    </tr>\n",
       "    <tr>\n",
       "      <td>4804</td>\n",
       "      <td>RE46129</td>\n",
       "      <td>2016</td>\n",
       "      <td>5498696-4</td>\n",
       "      <td>Xiaodong</td>\n",
       "      <td>Wang</td>\n",
       "      <td>Zhuji</td>\n",
       "      <td>NaN</td>\n",
       "      <td>CN</td>\n",
       "    </tr>\n",
       "    <tr>\n",
       "      <td>4811</td>\n",
       "      <td>RE46423</td>\n",
       "      <td>2017</td>\n",
       "      <td>5264365-1</td>\n",
       "      <td>George M.</td>\n",
       "      <td>Georgiou</td>\n",
       "      <td>Fawkner</td>\n",
       "      <td>NaN</td>\n",
       "      <td>AU</td>\n",
       "    </tr>\n",
       "    <tr>\n",
       "      <td>4822</td>\n",
       "      <td>RE46817</td>\n",
       "      <td>2018</td>\n",
       "      <td>7135040-1</td>\n",
       "      <td>Shu</td>\n",
       "      <td>Wang</td>\n",
       "      <td>Saint Egreve</td>\n",
       "      <td>NaN</td>\n",
       "      <td>FR</td>\n",
       "    </tr>\n",
       "  </tbody>\n",
       "</table>\n",
       "<p>847 rows × 8 columns</p>\n",
       "</div>"
      ],
      "text/plain": [
       "     patent_id  year inventor_id    name_first       name_last inventor_city  \\\n",
       "0      9980635  2018   9980635-1  Maria Eliana   Manquez Hatta      Santiago   \n",
       "1      9980635  2018   9980635-2      Humberto  Lobos Sucarrat      Santiago   \n",
       "2      9999665  2018   8398993-2      Pablo A.  Gonzalez Munoz      Santiago   \n",
       "100    9980645  2018   4306291-3  Dominique M.          Durand       Toronto   \n",
       "101    9981915  2018   5156079-2           Wei              Li       Toronto   \n",
       "...        ...   ...         ...           ...             ...           ...   \n",
       "4799   RE46129  2016   5498696-4      Xiaodong            Wang        Shanxi   \n",
       "4803   RE46129  2016   5498696-4      Xiaodong            Wang       Ilmenau   \n",
       "4804   RE46129  2016   5498696-4      Xiaodong            Wang         Zhuji   \n",
       "4811   RE46423  2017   5264365-1     George M.        Georgiou       Fawkner   \n",
       "4822   RE46817  2018   7135040-1           Shu            Wang  Saint Egreve   \n",
       "\n",
       "     inventor_state inventor_country  \n",
       "0               NaN               CL  \n",
       "1               NaN               CL  \n",
       "2               NaN               CL  \n",
       "100             NaN               CA  \n",
       "101             NaN               CA  \n",
       "...             ...              ...  \n",
       "4799            NaN               CN  \n",
       "4803            NaN               DE  \n",
       "4804            NaN               CN  \n",
       "4811            NaN               AU  \n",
       "4822            NaN               FR  \n",
       "\n",
       "[847 rows x 8 columns]"
      ]
     },
     "execution_count": 169,
     "metadata": {},
     "output_type": "execute_result"
    }
   ],
   "source": [
    "# Show rows which are null in `inventor_state` column\n",
    "inventors[inventors['inventor_state'].isnull()]"
   ]
  },
  {
   "cell_type": "markdown",
   "metadata": {},
   "source": [
    "It looks like our records are not filtered by only US."
   ]
  },
  {
   "cell_type": "code",
   "execution_count": 170,
   "metadata": {
    "ExecuteTime": {
     "end_time": "2020-01-24T03:22:38.048411Z",
     "start_time": "2020-01-24T03:22:38.036614Z"
    }
   },
   "outputs": [
    {
     "data": {
      "text/plain": [
       "array(['CL', 'US', 'CA', 'FR', 'GB', 'CN', 'JP', 'KR', 'SG', 'DE', 'NL',\n",
       "       'IN', 'CH', 'AU', 'TW', 'HK', 'FI', 'BE', 'SE', 'SW', 'EN', 'NM',\n",
       "       'VN', 'BR', 'IE', 'SA', 'ES', 'IT', 'CZ', 'IL', 'RU', 'MX', 'AT',\n",
       "       'DK', 'MO', 'UY', 'BG', 'PH'], dtype=object)"
      ]
     },
     "execution_count": 170,
     "metadata": {},
     "output_type": "execute_result"
    }
   ],
   "source": [
    "# Check unique values in the `inventor_country` column\n",
    "inventors['inventor_country'].unique()"
   ]
  },
  {
   "cell_type": "markdown",
   "metadata": {},
   "source": [
    "Let's filter by only those records which are in the US."
   ]
  },
  {
   "cell_type": "code",
   "execution_count": 171,
   "metadata": {
    "ExecuteTime": {
     "end_time": "2020-01-24T03:22:38.063769Z",
     "start_time": "2020-01-24T03:22:38.053038Z"
    }
   },
   "outputs": [],
   "source": [
    "# Filter by those rows where country is US\n",
    "inventors = inventors[inventors['inventor_country'] == 'US']"
   ]
  },
  {
   "cell_type": "code",
   "execution_count": 172,
   "metadata": {
    "ExecuteTime": {
     "end_time": "2020-01-24T03:22:38.084814Z",
     "start_time": "2020-01-24T03:22:38.074363Z"
    }
   },
   "outputs": [
    {
     "data": {
      "text/plain": [
       "array(['US'], dtype=object)"
      ]
     },
     "execution_count": 172,
     "metadata": {},
     "output_type": "execute_result"
    }
   ],
   "source": [
    "# Check that now we only have US as an inventor country\n",
    "inventors['inventor_country'].unique()"
   ]
  },
  {
   "cell_type": "code",
   "execution_count": 173,
   "metadata": {
    "ExecuteTime": {
     "end_time": "2020-01-24T03:22:38.108074Z",
     "start_time": "2020-01-24T03:22:38.094077Z"
    }
   },
   "outputs": [
    {
     "data": {
      "text/plain": [
       "593"
      ]
     },
     "execution_count": 173,
     "metadata": {},
     "output_type": "execute_result"
    }
   ],
   "source": [
    "inventors['patent_id'].nunique()"
   ]
  },
  {
   "cell_type": "markdown",
   "metadata": {},
   "source": [
    "We will be linking on name and location. What do you observe in the data?"
   ]
  },
  {
   "cell_type": "code",
   "execution_count": 174,
   "metadata": {
    "ExecuteTime": {
     "end_time": "2020-01-24T03:22:38.152252Z",
     "start_time": "2020-01-24T03:22:38.112177Z"
    }
   },
   "outputs": [
    {
     "data": {
      "text/html": [
       "<div>\n",
       "<style scoped>\n",
       "    .dataframe tbody tr th:only-of-type {\n",
       "        vertical-align: middle;\n",
       "    }\n",
       "\n",
       "    .dataframe tbody tr th {\n",
       "        vertical-align: top;\n",
       "    }\n",
       "\n",
       "    .dataframe thead th {\n",
       "        text-align: right;\n",
       "    }\n",
       "</style>\n",
       "<table border=\"1\" class=\"dataframe\">\n",
       "  <thead>\n",
       "    <tr style=\"text-align: right;\">\n",
       "      <th></th>\n",
       "      <th>patent_id</th>\n",
       "      <th>year</th>\n",
       "      <th>inventor_id</th>\n",
       "      <th>name_first</th>\n",
       "      <th>name_last</th>\n",
       "      <th>inventor_city</th>\n",
       "      <th>inventor_state</th>\n",
       "      <th>inventor_country</th>\n",
       "    </tr>\n",
       "  </thead>\n",
       "  <tbody>\n",
       "    <tr>\n",
       "      <td>4831</td>\n",
       "      <td>RE47009</td>\n",
       "      <td>2018</td>\n",
       "      <td>6534277-1</td>\n",
       "      <td>Wayne W.</td>\n",
       "      <td>Hancock</td>\n",
       "      <td>Medfield</td>\n",
       "      <td>MA</td>\n",
       "      <td>US</td>\n",
       "    </tr>\n",
       "    <tr>\n",
       "      <td>4832</td>\n",
       "      <td>RE47026</td>\n",
       "      <td>2018</td>\n",
       "      <td>5805332-1</td>\n",
       "      <td>Anand</td>\n",
       "      <td>Gopinath</td>\n",
       "      <td>Wayzata</td>\n",
       "      <td>MN</td>\n",
       "      <td>US</td>\n",
       "    </tr>\n",
       "    <tr>\n",
       "      <td>4833</td>\n",
       "      <td>RE47026</td>\n",
       "      <td>2018</td>\n",
       "      <td>5805332-1</td>\n",
       "      <td>Anand</td>\n",
       "      <td>Gopinath</td>\n",
       "      <td>Orono</td>\n",
       "      <td>MN</td>\n",
       "      <td>US</td>\n",
       "    </tr>\n",
       "    <tr>\n",
       "      <td>4834</td>\n",
       "      <td>RE47026</td>\n",
       "      <td>2018</td>\n",
       "      <td>6650116-3</td>\n",
       "      <td>Lance</td>\n",
       "      <td>DelaBarre</td>\n",
       "      <td>St. Anthony</td>\n",
       "      <td>MN</td>\n",
       "      <td>US</td>\n",
       "    </tr>\n",
       "    <tr>\n",
       "      <td>4835</td>\n",
       "      <td>RE47026</td>\n",
       "      <td>2018</td>\n",
       "      <td>6969992-4</td>\n",
       "      <td>John</td>\n",
       "      <td>Strupp</td>\n",
       "      <td>Marine on St. Croix</td>\n",
       "      <td>MN</td>\n",
       "      <td>US</td>\n",
       "    </tr>\n",
       "    <tr>\n",
       "      <td>4836</td>\n",
       "      <td>RE47026</td>\n",
       "      <td>2018</td>\n",
       "      <td>6969992-4</td>\n",
       "      <td>John</td>\n",
       "      <td>Strupp</td>\n",
       "      <td>Coon Rapids</td>\n",
       "      <td>MN</td>\n",
       "      <td>US</td>\n",
       "    </tr>\n",
       "    <tr>\n",
       "      <td>4837</td>\n",
       "      <td>RE47026</td>\n",
       "      <td>2018</td>\n",
       "      <td>6969992-5</td>\n",
       "      <td>Peter M.</td>\n",
       "      <td>Andersen</td>\n",
       "      <td>Independence</td>\n",
       "      <td>MN</td>\n",
       "      <td>US</td>\n",
       "    </tr>\n",
       "    <tr>\n",
       "      <td>4838</td>\n",
       "      <td>RE47026</td>\n",
       "      <td>2018</td>\n",
       "      <td>7800368-5</td>\n",
       "      <td>Heather Diane</td>\n",
       "      <td>Orser</td>\n",
       "      <td>Farmington</td>\n",
       "      <td>MN</td>\n",
       "      <td>US</td>\n",
       "    </tr>\n",
       "    <tr>\n",
       "      <td>4839</td>\n",
       "      <td>RE47026</td>\n",
       "      <td>2018</td>\n",
       "      <td>RE47026-4</td>\n",
       "      <td>Chris E</td>\n",
       "      <td>Olson</td>\n",
       "      <td>Palatine</td>\n",
       "      <td>IL</td>\n",
       "      <td>US</td>\n",
       "    </tr>\n",
       "    <tr>\n",
       "      <td>4840</td>\n",
       "      <td>RE47267</td>\n",
       "      <td>2019</td>\n",
       "      <td>5494810-2</td>\n",
       "      <td>John A.</td>\n",
       "      <td>Zebala</td>\n",
       "      <td>Auburn</td>\n",
       "      <td>WA</td>\n",
       "      <td>US</td>\n",
       "    </tr>\n",
       "  </tbody>\n",
       "</table>\n",
       "</div>"
      ],
      "text/plain": [
       "     patent_id  year inventor_id     name_first  name_last  \\\n",
       "4831   RE47009  2018   6534277-1       Wayne W.    Hancock   \n",
       "4832   RE47026  2018   5805332-1          Anand   Gopinath   \n",
       "4833   RE47026  2018   5805332-1          Anand   Gopinath   \n",
       "4834   RE47026  2018   6650116-3          Lance  DelaBarre   \n",
       "4835   RE47026  2018   6969992-4           John     Strupp   \n",
       "4836   RE47026  2018   6969992-4           John     Strupp   \n",
       "4837   RE47026  2018   6969992-5       Peter M.   Andersen   \n",
       "4838   RE47026  2018   7800368-5  Heather Diane      Orser   \n",
       "4839   RE47026  2018   RE47026-4        Chris E      Olson   \n",
       "4840   RE47267  2019   5494810-2        John A.     Zebala   \n",
       "\n",
       "            inventor_city inventor_state inventor_country  \n",
       "4831             Medfield             MA               US  \n",
       "4832              Wayzata             MN               US  \n",
       "4833                Orono             MN               US  \n",
       "4834          St. Anthony             MN               US  \n",
       "4835  Marine on St. Croix             MN               US  \n",
       "4836          Coon Rapids             MN               US  \n",
       "4837         Independence             MN               US  \n",
       "4838           Farmington             MN               US  \n",
       "4839             Palatine             IL               US  \n",
       "4840               Auburn             WA               US  "
      ]
     },
     "execution_count": 174,
     "metadata": {},
     "output_type": "execute_result"
    }
   ],
   "source": [
    "# Check the tail of the table \n",
    "inventors.tail(10)"
   ]
  },
  {
   "cell_type": "markdown",
   "metadata": {},
   "source": [
    "- First name includes first and middle names (potentially parse out)\n",
    "- First and last names are capitalized\n",
    "- The same person (with the same inventor id) can have different associated locations "
   ]
  },
  {
   "cell_type": "markdown",
   "metadata": {
    "ExecuteTime": {
     "end_time": "2020-01-22T01:29:47.602379Z",
     "start_time": "2020-01-22T01:29:47.588431Z"
    }
   },
   "source": [
    "Check most frequent counts of variables."
   ]
  },
  {
   "cell_type": "code",
   "execution_count": 175,
   "metadata": {
    "ExecuteTime": {
     "end_time": "2020-01-24T03:22:38.173010Z",
     "start_time": "2020-01-24T03:22:38.156523Z"
    }
   },
   "outputs": [
    {
     "data": {
      "text/plain": [
       "Cambridge      80\n",
       "Los Angeles    60\n",
       "San Diego      57\n",
       "New York       48\n",
       "Albuquerque    45\n",
       "San Jose       44\n",
       "Palo Alto      43\n",
       "Baltimore      38\n",
       "Pasadena       36\n",
       "Chicago        35\n",
       "Name: inventor_city, dtype: int64"
      ]
     },
     "execution_count": 175,
     "metadata": {},
     "output_type": "execute_result"
    }
   ],
   "source": [
    "inventors['inventor_city'].value_counts().head(10)"
   ]
  },
  {
   "cell_type": "code",
   "execution_count": 176,
   "metadata": {
    "ExecuteTime": {
     "end_time": "2020-01-24T03:22:38.194317Z",
     "start_time": "2020-01-24T03:22:38.178880Z"
    }
   },
   "outputs": [
    {
     "data": {
      "text/plain": [
       "CA    917\n",
       "MA    400\n",
       "NY    258\n",
       "MD    176\n",
       "FL    164\n",
       "IL    163\n",
       "PA    154\n",
       "TX    142\n",
       "NJ    129\n",
       "CT    122\n",
       "Name: inventor_state, dtype: int64"
      ]
     },
     "execution_count": 176,
     "metadata": {},
     "output_type": "execute_result"
    }
   ],
   "source": [
    "inventors['inventor_state'].value_counts().head(10)"
   ]
  },
  {
   "cell_type": "markdown",
   "metadata": {
    "ExecuteTime": {
     "end_time": "2020-01-21T23:20:15.266678Z",
     "start_time": "2020-01-21T23:20:15.256670Z"
    }
   },
   "source": [
    "#### FedRePORTER: principal investigator names on grants"
   ]
  },
  {
   "cell_type": "code",
   "execution_count": 239,
   "metadata": {
    "ExecuteTime": {
     "end_time": "2020-01-24T03:25:58.754053Z",
     "start_time": "2020-01-24T03:25:58.546737Z"
    }
   },
   "outputs": [],
   "source": [
    "# Read-in the dataset into a dataframe\n",
    "pi = pd.read_csv('FedRePORTER_pi_grants.csv')"
   ]
  },
  {
   "cell_type": "code",
   "execution_count": 178,
   "metadata": {
    "ExecuteTime": {
     "end_time": "2020-01-24T03:22:38.489682Z",
     "start_time": "2020-01-24T03:22:38.469045Z"
    }
   },
   "outputs": [
    {
     "data": {
      "text/html": [
       "<div>\n",
       "<style scoped>\n",
       "    .dataframe tbody tr th:only-of-type {\n",
       "        vertical-align: middle;\n",
       "    }\n",
       "\n",
       "    .dataframe tbody tr th {\n",
       "        vertical-align: top;\n",
       "    }\n",
       "\n",
       "    .dataframe thead th {\n",
       "        text-align: right;\n",
       "    }\n",
       "</style>\n",
       "<table border=\"1\" class=\"dataframe\">\n",
       "  <thead>\n",
       "    <tr style=\"text-align: right;\">\n",
       "      <th></th>\n",
       "      <th>PROJECT_ID</th>\n",
       "      <th>CONTACT_PI_PROJECT_LEADER</th>\n",
       "      <th>OTHER_PIS</th>\n",
       "      <th>ORGANIZATION_CITY</th>\n",
       "      <th>ORGANIZATION_STATE</th>\n",
       "      <th>ORGANIZATION_COUNTRY</th>\n",
       "    </tr>\n",
       "  </thead>\n",
       "  <tbody>\n",
       "    <tr>\n",
       "      <td>0</td>\n",
       "      <td>121219</td>\n",
       "      <td>POIRER, DAVID</td>\n",
       "      <td>NaN</td>\n",
       "      <td>TUCSON</td>\n",
       "      <td>AZ</td>\n",
       "      <td>UNITED STATES</td>\n",
       "    </tr>\n",
       "    <tr>\n",
       "      <td>1</td>\n",
       "      <td>121220</td>\n",
       "      <td>HEYWARD, ANN O</td>\n",
       "      <td>NaN</td>\n",
       "      <td>BROOK PARK</td>\n",
       "      <td>OH</td>\n",
       "      <td>UNITED STATES</td>\n",
       "    </tr>\n",
       "    <tr>\n",
       "      <td>2</td>\n",
       "      <td>121221</td>\n",
       "      <td>KALOGERA, VASSILIKI</td>\n",
       "      <td>LUIJTEN, ERIK</td>\n",
       "      <td>EVANSTON</td>\n",
       "      <td>IL</td>\n",
       "      <td>UNITED STATES</td>\n",
       "    </tr>\n",
       "    <tr>\n",
       "      <td>3</td>\n",
       "      <td>121222</td>\n",
       "      <td>GUILDERSON, THOMAS P</td>\n",
       "      <td>NaN</td>\n",
       "      <td>SANTA CRUZ</td>\n",
       "      <td>CA</td>\n",
       "      <td>UNITED STATES</td>\n",
       "    </tr>\n",
       "    <tr>\n",
       "      <td>4</td>\n",
       "      <td>121223</td>\n",
       "      <td>HAYES, GILLIAN</td>\n",
       "      <td>TENTORI, MONICA</td>\n",
       "      <td>IRVINE</td>\n",
       "      <td>CA</td>\n",
       "      <td>UNITED STATES</td>\n",
       "    </tr>\n",
       "  </tbody>\n",
       "</table>\n",
       "</div>"
      ],
      "text/plain": [
       "   PROJECT_ID  CONTACT_PI_PROJECT_LEADER        OTHER_PIS  ORGANIZATION_CITY  \\\n",
       "0      121219              POIRER, DAVID              NaN             TUCSON   \n",
       "1      121220             HEYWARD, ANN O              NaN         BROOK PARK   \n",
       "2      121221        KALOGERA, VASSILIKI    LUIJTEN, ERIK           EVANSTON   \n",
       "3      121222       GUILDERSON, THOMAS P              NaN         SANTA CRUZ   \n",
       "4      121223             HAYES, GILLIAN  TENTORI, MONICA             IRVINE   \n",
       "\n",
       "   ORGANIZATION_STATE  ORGANIZATION_COUNTRY  \n",
       "0                  AZ         UNITED STATES  \n",
       "1                  OH         UNITED STATES  \n",
       "2                  IL         UNITED STATES  \n",
       "3                  CA         UNITED STATES  \n",
       "4                  CA         UNITED STATES  "
      ]
     },
     "execution_count": 178,
     "metadata": {},
     "output_type": "execute_result"
    }
   ],
   "source": [
    "# Show first rows of the dataframe\n",
    "pi.head()"
   ]
  },
  {
   "cell_type": "code",
   "execution_count": 179,
   "metadata": {
    "ExecuteTime": {
     "end_time": "2020-01-24T03:22:38.542717Z",
     "start_time": "2020-01-24T03:22:38.494091Z"
    }
   },
   "outputs": [
    {
     "name": "stdout",
     "output_type": "stream",
     "text": [
      "<class 'pandas.core.frame.DataFrame'>\n",
      "RangeIndex: 111400 entries, 0 to 111399\n",
      "Data columns (total 6 columns):\n",
      "PROJECT_ID                    111400 non-null int64\n",
      " CONTACT_PI_PROJECT_LEADER    111398 non-null object\n",
      " OTHER_PIS                    10477 non-null object\n",
      " ORGANIZATION_CITY            110853 non-null object\n",
      " ORGANIZATION_STATE           109933 non-null object\n",
      " ORGANIZATION_COUNTRY         110861 non-null object\n",
      "dtypes: int64(1), object(5)\n",
      "memory usage: 5.1+ MB\n"
     ]
    }
   ],
   "source": [
    "pi.info()"
   ]
  },
  {
   "cell_type": "markdown",
   "metadata": {},
   "source": [
    "Let's check which countries are there in the dataset."
   ]
  },
  {
   "cell_type": "code",
   "execution_count": 180,
   "metadata": {
    "ExecuteTime": {
     "end_time": "2020-01-24T03:22:38.565342Z",
     "start_time": "2020-01-24T03:22:38.548232Z"
    }
   },
   "outputs": [
    {
     "data": {
      "text/plain": [
       "array(['UNITED STATES', 'BRAZIL', 'BERMUDA', 'SWITZERLAND', 'FRANCE',\n",
       "       'CANADA', 'UNITED KINGDOM', 'VENEZUELA', 'SOUTH AFRICA',\n",
       "       'NEW ZEALAND', 'DENMARK', nan, 'SWEDEN', 'INDIA', 'SPAIN',\n",
       "       'AUSTRALIA', 'PERU', 'HAITI', 'DOMINICAN REP', 'JAMAICA',\n",
       "       'NIGERIA', 'ITALY', 'IRELAND', 'BELGIUM', 'CHINA', 'THAILAND',\n",
       "       'JAPAN', 'ZAMBIA', 'ISRAEL', 'GERMANY', 'NETHERLANDS', 'UGANDA',\n",
       "       'PAKISTAN', 'KOREA REP OF', 'CHILE', 'TANZANIA U REP', 'ARGENTINA',\n",
       "       'HUNGARY', 'URUGUAY', 'RUSSIA', 'KENYA', 'MALAWI', 'LITHUANIA',\n",
       "       'FINLAND', 'MEXICO', 'COLOMBIA', 'CAMBODIA', 'PHILIPPINES',\n",
       "       'TURKEY', 'ZIMBABWE', 'BOTSWANA', 'CROATIA', 'COSTA RICA',\n",
       "       'TUNISIA', 'ICELAND', 'MOZAMBIQUE', 'GHANA', 'SINGAPORE',\n",
       "       'LEBANON', 'PARAGUAY', 'ETHIOPIA', 'UKRAINE', 'LESOTHO',\n",
       "       \"COTE D'IVOIRE\", 'DOMINICA', 'NAMIBIA', 'GUATEMALA', 'RWANDA',\n",
       "       'GEORGIA', 'VIETNAM', 'MOLDOVA', 'TRINIDAD/TOBA', 'CAMEROON',\n",
       "       'ANGOLA', 'INDONESIA', 'CONGO', 'CONGO DEM REP', 'SWAZILAND',\n",
       "       'BANGLADESH', 'MALI', 'FED MICRONESIA', 'BARBADOS', 'EGYPT',\n",
       "       'GUYANA', 'KAZAKHSTAN', 'MONGOLIA', 'BAHAMAS', 'KYRGYZSTAN',\n",
       "       'NEPAL', 'SRI LANKA', 'AFGHANISTAN', 'JORDAN', 'EL SALVADOR',\n",
       "       'ARMENIA', 'ST LUCIA', 'MADAGASCAR', 'NEW CALEDONIA', 'TAJIKISTAN',\n",
       "       'SENEGAL', 'MOROCCO', 'NORWAY'], dtype=object)"
      ]
     },
     "execution_count": 180,
     "metadata": {},
     "output_type": "execute_result"
    }
   ],
   "source": [
    "# Call .unique() function\n",
    "pi[' ORGANIZATION_COUNTRY'].unique()"
   ]
  },
  {
   "cell_type": "markdown",
   "metadata": {},
   "source": [
    "Let's filter by only US like we did with the PatentsView dataset."
   ]
  },
  {
   "cell_type": "code",
   "execution_count": 181,
   "metadata": {
    "ExecuteTime": {
     "end_time": "2020-01-24T03:22:38.599185Z",
     "start_time": "2020-01-24T03:22:38.569804Z"
    }
   },
   "outputs": [],
   "source": [
    "# Filter by only those rows with US as an organization_country\n",
    "pi = pi[pi[' ORGANIZATION_COUNTRY'] == 'UNITED STATES']"
   ]
  },
  {
   "cell_type": "code",
   "execution_count": 182,
   "metadata": {
    "ExecuteTime": {
     "end_time": "2020-01-24T03:22:38.618745Z",
     "start_time": "2020-01-24T03:22:38.602377Z"
    }
   },
   "outputs": [
    {
     "data": {
      "text/plain": [
       "array(['UNITED STATES'], dtype=object)"
      ]
     },
     "execution_count": 182,
     "metadata": {},
     "output_type": "execute_result"
    }
   ],
   "source": [
    "# Call .unique() function\n",
    "pi[' ORGANIZATION_COUNTRY'].unique()"
   ]
  },
  {
   "cell_type": "code",
   "execution_count": 183,
   "metadata": {
    "ExecuteTime": {
     "end_time": "2020-01-24T03:22:38.657812Z",
     "start_time": "2020-01-24T03:22:38.623874Z"
    }
   },
   "outputs": [
    {
     "data": {
      "text/plain": [
       "BOSTON          5802\n",
       "NEW YORK        4603\n",
       "BEHTESDA        3745\n",
       "PHILADELPHIA    3044\n",
       "BALTIMORE       2957\n",
       "SEATTLE         2917\n",
       "LOS ANGELES     2905\n",
       "LA JOLLA        2835\n",
       "CHICAGO         2523\n",
       "HOUSTON         2345\n",
       "Name:  ORGANIZATION_CITY, dtype: int64"
      ]
     },
     "execution_count": 183,
     "metadata": {},
     "output_type": "execute_result"
    }
   ],
   "source": [
    "pi[' ORGANIZATION_CITY'].value_counts().head(10)"
   ]
  },
  {
   "cell_type": "code",
   "execution_count": 184,
   "metadata": {
    "ExecuteTime": {
     "end_time": "2020-01-24T03:22:38.700701Z",
     "start_time": "2020-01-24T03:22:38.663584Z"
    }
   },
   "outputs": [
    {
     "data": {
      "text/plain": [
       "CA    15293\n",
       "NY     9186\n",
       "MA     8812\n",
       "MD     7932\n",
       "PA     6245\n",
       "TX     5653\n",
       "NC     4036\n",
       "IL     3796\n",
       "WA     3409\n",
       "OH     3034\n",
       "Name:  ORGANIZATION_STATE, dtype: int64"
      ]
     },
     "execution_count": 184,
     "metadata": {},
     "output_type": "execute_result"
    }
   ],
   "source": [
    "pi[' ORGANIZATION_STATE'].value_counts().head(10)"
   ]
  },
  {
   "cell_type": "markdown",
   "metadata": {},
   "source": [
    "**Compare inventor and grants table: what types of cleaning/standardization would we need to do?**"
   ]
  },
  {
   "cell_type": "code",
   "execution_count": 185,
   "metadata": {
    "ExecuteTime": {
     "end_time": "2020-01-24T03:22:38.762884Z",
     "start_time": "2020-01-24T03:22:38.710581Z"
    }
   },
   "outputs": [
    {
     "data": {
      "text/html": [
       "<div>\n",
       "<style scoped>\n",
       "    .dataframe tbody tr th:only-of-type {\n",
       "        vertical-align: middle;\n",
       "    }\n",
       "\n",
       "    .dataframe tbody tr th {\n",
       "        vertical-align: top;\n",
       "    }\n",
       "\n",
       "    .dataframe thead th {\n",
       "        text-align: right;\n",
       "    }\n",
       "</style>\n",
       "<table border=\"1\" class=\"dataframe\">\n",
       "  <thead>\n",
       "    <tr style=\"text-align: right;\">\n",
       "      <th></th>\n",
       "      <th>patent_id</th>\n",
       "      <th>year</th>\n",
       "      <th>inventor_id</th>\n",
       "      <th>name_first</th>\n",
       "      <th>name_last</th>\n",
       "      <th>inventor_city</th>\n",
       "      <th>inventor_state</th>\n",
       "      <th>inventor_country</th>\n",
       "    </tr>\n",
       "  </thead>\n",
       "  <tbody>\n",
       "    <tr>\n",
       "      <td>3</td>\n",
       "      <td>9980641</td>\n",
       "      <td>2018</td>\n",
       "      <td>5321501-6</td>\n",
       "      <td>Joel S.</td>\n",
       "      <td>Schuman</td>\n",
       "      <td>Pittsburgh</td>\n",
       "      <td>PA</td>\n",
       "      <td>US</td>\n",
       "    </tr>\n",
       "    <tr>\n",
       "      <td>4</td>\n",
       "      <td>9980641</td>\n",
       "      <td>2018</td>\n",
       "      <td>9980641-3</td>\n",
       "      <td>Lawrence Edward</td>\n",
       "      <td>Kagemann</td>\n",
       "      <td>Pittsburgh</td>\n",
       "      <td>PA</td>\n",
       "      <td>US</td>\n",
       "    </tr>\n",
       "    <tr>\n",
       "      <td>5</td>\n",
       "      <td>9980645</td>\n",
       "      <td>2018</td>\n",
       "      <td>9037248-2</td>\n",
       "      <td>Brian</td>\n",
       "      <td>Wodlinger</td>\n",
       "      <td>Pittsburgh</td>\n",
       "      <td>PA</td>\n",
       "      <td>US</td>\n",
       "    </tr>\n",
       "    <tr>\n",
       "      <td>6</td>\n",
       "      <td>9981048</td>\n",
       "      <td>2018</td>\n",
       "      <td>9981048-1</td>\n",
       "      <td>Ira Jacob</td>\n",
       "      <td>Fox</td>\n",
       "      <td>Pittsburgh</td>\n",
       "      <td>PA</td>\n",
       "      <td>US</td>\n",
       "    </tr>\n",
       "    <tr>\n",
       "      <td>7</td>\n",
       "      <td>9981048</td>\n",
       "      <td>2018</td>\n",
       "      <td>9981048-3</td>\n",
       "      <td>Taichiro N.</td>\n",
       "      <td>Nishikawa</td>\n",
       "      <td>Pittsburgh</td>\n",
       "      <td>PA</td>\n",
       "      <td>US</td>\n",
       "    </tr>\n",
       "  </tbody>\n",
       "</table>\n",
       "</div>"
      ],
      "text/plain": [
       "  patent_id  year inventor_id       name_first  name_last inventor_city  \\\n",
       "3   9980641  2018   5321501-6          Joel S.    Schuman    Pittsburgh   \n",
       "4   9980641  2018   9980641-3  Lawrence Edward   Kagemann    Pittsburgh   \n",
       "5   9980645  2018   9037248-2            Brian  Wodlinger    Pittsburgh   \n",
       "6   9981048  2018   9981048-1        Ira Jacob        Fox    Pittsburgh   \n",
       "7   9981048  2018   9981048-3      Taichiro N.  Nishikawa    Pittsburgh   \n",
       "\n",
       "  inventor_state inventor_country  \n",
       "3             PA               US  \n",
       "4             PA               US  \n",
       "5             PA               US  \n",
       "6             PA               US  \n",
       "7             PA               US  "
      ]
     },
     "execution_count": 185,
     "metadata": {},
     "output_type": "execute_result"
    }
   ],
   "source": [
    "inventors.head()"
   ]
  },
  {
   "cell_type": "code",
   "execution_count": 186,
   "metadata": {
    "ExecuteTime": {
     "end_time": "2020-01-24T03:22:38.830807Z",
     "start_time": "2020-01-24T03:22:38.770646Z"
    }
   },
   "outputs": [
    {
     "data": {
      "text/html": [
       "<div>\n",
       "<style scoped>\n",
       "    .dataframe tbody tr th:only-of-type {\n",
       "        vertical-align: middle;\n",
       "    }\n",
       "\n",
       "    .dataframe tbody tr th {\n",
       "        vertical-align: top;\n",
       "    }\n",
       "\n",
       "    .dataframe thead th {\n",
       "        text-align: right;\n",
       "    }\n",
       "</style>\n",
       "<table border=\"1\" class=\"dataframe\">\n",
       "  <thead>\n",
       "    <tr style=\"text-align: right;\">\n",
       "      <th></th>\n",
       "      <th>PROJECT_ID</th>\n",
       "      <th>CONTACT_PI_PROJECT_LEADER</th>\n",
       "      <th>OTHER_PIS</th>\n",
       "      <th>ORGANIZATION_CITY</th>\n",
       "      <th>ORGANIZATION_STATE</th>\n",
       "      <th>ORGANIZATION_COUNTRY</th>\n",
       "    </tr>\n",
       "  </thead>\n",
       "  <tbody>\n",
       "    <tr>\n",
       "      <td>0</td>\n",
       "      <td>121219</td>\n",
       "      <td>POIRER, DAVID</td>\n",
       "      <td>NaN</td>\n",
       "      <td>TUCSON</td>\n",
       "      <td>AZ</td>\n",
       "      <td>UNITED STATES</td>\n",
       "    </tr>\n",
       "    <tr>\n",
       "      <td>1</td>\n",
       "      <td>121220</td>\n",
       "      <td>HEYWARD, ANN O</td>\n",
       "      <td>NaN</td>\n",
       "      <td>BROOK PARK</td>\n",
       "      <td>OH</td>\n",
       "      <td>UNITED STATES</td>\n",
       "    </tr>\n",
       "    <tr>\n",
       "      <td>2</td>\n",
       "      <td>121221</td>\n",
       "      <td>KALOGERA, VASSILIKI</td>\n",
       "      <td>LUIJTEN, ERIK</td>\n",
       "      <td>EVANSTON</td>\n",
       "      <td>IL</td>\n",
       "      <td>UNITED STATES</td>\n",
       "    </tr>\n",
       "    <tr>\n",
       "      <td>3</td>\n",
       "      <td>121222</td>\n",
       "      <td>GUILDERSON, THOMAS P</td>\n",
       "      <td>NaN</td>\n",
       "      <td>SANTA CRUZ</td>\n",
       "      <td>CA</td>\n",
       "      <td>UNITED STATES</td>\n",
       "    </tr>\n",
       "    <tr>\n",
       "      <td>4</td>\n",
       "      <td>121223</td>\n",
       "      <td>HAYES, GILLIAN</td>\n",
       "      <td>TENTORI, MONICA</td>\n",
       "      <td>IRVINE</td>\n",
       "      <td>CA</td>\n",
       "      <td>UNITED STATES</td>\n",
       "    </tr>\n",
       "  </tbody>\n",
       "</table>\n",
       "</div>"
      ],
      "text/plain": [
       "   PROJECT_ID  CONTACT_PI_PROJECT_LEADER        OTHER_PIS  ORGANIZATION_CITY  \\\n",
       "0      121219              POIRER, DAVID              NaN             TUCSON   \n",
       "1      121220             HEYWARD, ANN O              NaN         BROOK PARK   \n",
       "2      121221        KALOGERA, VASSILIKI    LUIJTEN, ERIK           EVANSTON   \n",
       "3      121222       GUILDERSON, THOMAS P              NaN         SANTA CRUZ   \n",
       "4      121223             HAYES, GILLIAN  TENTORI, MONICA             IRVINE   \n",
       "\n",
       "   ORGANIZATION_STATE  ORGANIZATION_COUNTRY  \n",
       "0                  AZ         UNITED STATES  \n",
       "1                  OH         UNITED STATES  \n",
       "2                  IL         UNITED STATES  \n",
       "3                  CA         UNITED STATES  \n",
       "4                  CA         UNITED STATES  "
      ]
     },
     "execution_count": 186,
     "metadata": {},
     "output_type": "execute_result"
    }
   ],
   "source": [
    "pi.head()"
   ]
  },
  {
   "cell_type": "markdown",
   "metadata": {},
   "source": [
    "<span style=\"color:red\">**Checkpoint 1: Explore organization-level data from PatentsView and FedRePORTER**</span>"
   ]
  },
  {
   "cell_type": "markdown",
   "metadata": {},
   "source": [
    "Now try exploring organization-level data for both PatentsView and FedRePORTER using functions for data exploration used in the examples above."
   ]
  },
  {
   "cell_type": "code",
   "execution_count": 187,
   "metadata": {
    "ExecuteTime": {
     "end_time": "2020-01-24T03:22:38.894416Z",
     "start_time": "2020-01-24T03:22:38.859814Z"
    }
   },
   "outputs": [],
   "source": [
    "assignees = pd.read_csv('patentsview_assignees.csv')"
   ]
  },
  {
   "cell_type": "code",
   "execution_count": 188,
   "metadata": {
    "ExecuteTime": {
     "end_time": "2020-01-24T03:22:39.263842Z",
     "start_time": "2020-01-24T03:22:38.929117Z"
    }
   },
   "outputs": [],
   "source": [
    "organizations = pd.read_csv('fedreporter_org_names_grants.csv')"
   ]
  },
  {
   "cell_type": "code",
   "execution_count": 189,
   "metadata": {
    "ExecuteTime": {
     "end_time": "2020-01-24T03:22:39.280778Z",
     "start_time": "2020-01-24T03:22:39.276186Z"
    }
   },
   "outputs": [],
   "source": [
    "# your code here...\n",
    "\n",
    "\n"
   ]
  },
  {
   "cell_type": "markdown",
   "metadata": {},
   "source": [
    "# Data Cleaning"
   ]
  },
  {
   "cell_type": "markdown",
   "metadata": {},
   "source": [
    "## The Importance of Pre-Processing\n",
    "Data pre-processing is an important step in a data anlysis project in general, in record linkage applications in particular. The goal of pre-processing is to transform messy data into a dataset that can be used in a project workflow.\n",
    "\n",
    "Linking records from different data sources comes with different challenges that need to be addressed by the analyst. The analyst must determine whether or not two entities (individuals, businesses, geographical units) on two different files are the same. This determination is not always easy. In most of the cases there is no common uniquely identifing characteristic for a entity. For example, is Bob Miller from New Yor the same person as Bob Miller from Chicago in a given dataset? This detemination has to be executed carefully because consequences of wrong linkages may be substantial (is person X the same person as the person X on the list of identified terrorists). Pre-processing can help to make better informed decisions.\n",
    "\n",
    "Pre-processing can be difficult because there are a lot of things to keep in mind. For example, data input errors, such as typos, misspellings, truncation, abbreviations, and missing values need to be corrected. Literature shows that preprocessing can improve matches. \n",
    "\n",
    "“In situations of reasonably high-quality data, preprocessing can yield a greater improvement in matching efficiency than string comparators and ‘optimized’ parameters. In some situations, 90% of the improvement in matching efficiency may be due to preprocessing” (Winkler 2009).\n",
    "\n",
    "The most common reason why matching projects fail is lack of time and resources for data cleaning. \n",
    "\n",
    "In the following section we will walk you through some pre-processing steps, these include but are not limited to removing spaces, parsing fields, and standardizing strings."
   ]
  },
  {
   "cell_type": "markdown",
   "metadata": {},
   "source": [
    "### Individual-level links"
   ]
  },
  {
   "cell_type": "markdown",
   "metadata": {},
   "source": [
    "#### Clean Inventor Data\n",
    "We will start by cleaning and preprocessing the inventor data. We need to remove whitespaces, make sure that everything is in lower case, we need to parse the first name and the last name, and harmonize all the other information we need for the linkage."
   ]
  },
  {
   "cell_type": "markdown",
   "metadata": {},
   "source": [
    "The `recordlinkage` package comes with a built-in cleaning function we can use. The `clean()` function removes any characters such as `-`, `.`, `/`, `:`, brackets of all types, and also lowercases by default."
   ]
  },
  {
   "cell_type": "code",
   "execution_count": 190,
   "metadata": {
    "ExecuteTime": {
     "end_time": "2020-01-24T03:22:39.332549Z",
     "start_time": "2020-01-24T03:22:39.292476Z"
    }
   },
   "outputs": [
    {
     "data": {
      "text/html": [
       "<div>\n",
       "<style scoped>\n",
       "    .dataframe tbody tr th:only-of-type {\n",
       "        vertical-align: middle;\n",
       "    }\n",
       "\n",
       "    .dataframe tbody tr th {\n",
       "        vertical-align: top;\n",
       "    }\n",
       "\n",
       "    .dataframe thead th {\n",
       "        text-align: right;\n",
       "    }\n",
       "</style>\n",
       "<table border=\"1\" class=\"dataframe\">\n",
       "  <thead>\n",
       "    <tr style=\"text-align: right;\">\n",
       "      <th></th>\n",
       "      <th>patent_id</th>\n",
       "      <th>year</th>\n",
       "      <th>inventor_id</th>\n",
       "      <th>name_first</th>\n",
       "      <th>name_last</th>\n",
       "      <th>inventor_city</th>\n",
       "      <th>inventor_state</th>\n",
       "      <th>inventor_country</th>\n",
       "    </tr>\n",
       "  </thead>\n",
       "  <tbody>\n",
       "    <tr>\n",
       "      <td>3</td>\n",
       "      <td>9980641</td>\n",
       "      <td>2018</td>\n",
       "      <td>5321501-6</td>\n",
       "      <td>Joel S.</td>\n",
       "      <td>Schuman</td>\n",
       "      <td>Pittsburgh</td>\n",
       "      <td>PA</td>\n",
       "      <td>US</td>\n",
       "    </tr>\n",
       "    <tr>\n",
       "      <td>4</td>\n",
       "      <td>9980641</td>\n",
       "      <td>2018</td>\n",
       "      <td>9980641-3</td>\n",
       "      <td>Lawrence Edward</td>\n",
       "      <td>Kagemann</td>\n",
       "      <td>Pittsburgh</td>\n",
       "      <td>PA</td>\n",
       "      <td>US</td>\n",
       "    </tr>\n",
       "    <tr>\n",
       "      <td>5</td>\n",
       "      <td>9980645</td>\n",
       "      <td>2018</td>\n",
       "      <td>9037248-2</td>\n",
       "      <td>Brian</td>\n",
       "      <td>Wodlinger</td>\n",
       "      <td>Pittsburgh</td>\n",
       "      <td>PA</td>\n",
       "      <td>US</td>\n",
       "    </tr>\n",
       "    <tr>\n",
       "      <td>6</td>\n",
       "      <td>9981048</td>\n",
       "      <td>2018</td>\n",
       "      <td>9981048-1</td>\n",
       "      <td>Ira Jacob</td>\n",
       "      <td>Fox</td>\n",
       "      <td>Pittsburgh</td>\n",
       "      <td>PA</td>\n",
       "      <td>US</td>\n",
       "    </tr>\n",
       "    <tr>\n",
       "      <td>7</td>\n",
       "      <td>9981048</td>\n",
       "      <td>2018</td>\n",
       "      <td>9981048-3</td>\n",
       "      <td>Taichiro N.</td>\n",
       "      <td>Nishikawa</td>\n",
       "      <td>Pittsburgh</td>\n",
       "      <td>PA</td>\n",
       "      <td>US</td>\n",
       "    </tr>\n",
       "  </tbody>\n",
       "</table>\n",
       "</div>"
      ],
      "text/plain": [
       "  patent_id  year inventor_id       name_first  name_last inventor_city  \\\n",
       "3   9980641  2018   5321501-6          Joel S.    Schuman    Pittsburgh   \n",
       "4   9980641  2018   9980641-3  Lawrence Edward   Kagemann    Pittsburgh   \n",
       "5   9980645  2018   9037248-2            Brian  Wodlinger    Pittsburgh   \n",
       "6   9981048  2018   9981048-1        Ira Jacob        Fox    Pittsburgh   \n",
       "7   9981048  2018   9981048-3      Taichiro N.  Nishikawa    Pittsburgh   \n",
       "\n",
       "  inventor_state inventor_country  \n",
       "3             PA               US  \n",
       "4             PA               US  \n",
       "5             PA               US  \n",
       "6             PA               US  \n",
       "7             PA               US  "
      ]
     },
     "execution_count": 190,
     "metadata": {},
     "output_type": "execute_result"
    }
   ],
   "source": [
    "# Let's take a look at names before\n",
    "inventors.head()"
   ]
  },
  {
   "cell_type": "code",
   "execution_count": 191,
   "metadata": {
    "ExecuteTime": {
     "end_time": "2020-01-24T03:22:39.431548Z",
     "start_time": "2020-01-24T03:22:39.340122Z"
    }
   },
   "outputs": [],
   "source": [
    "# Cleaning names (using the record linkage package tool)\n",
    "inventors['name_last'] = clean(inventors['name_last'])\n",
    "inventors['name_first'] = clean(inventors['name_first'])"
   ]
  },
  {
   "cell_type": "code",
   "execution_count": 192,
   "metadata": {
    "ExecuteTime": {
     "end_time": "2020-01-24T03:22:39.472919Z",
     "start_time": "2020-01-24T03:22:39.438938Z"
    }
   },
   "outputs": [
    {
     "data": {
      "text/html": [
       "<div>\n",
       "<style scoped>\n",
       "    .dataframe tbody tr th:only-of-type {\n",
       "        vertical-align: middle;\n",
       "    }\n",
       "\n",
       "    .dataframe tbody tr th {\n",
       "        vertical-align: top;\n",
       "    }\n",
       "\n",
       "    .dataframe thead th {\n",
       "        text-align: right;\n",
       "    }\n",
       "</style>\n",
       "<table border=\"1\" class=\"dataframe\">\n",
       "  <thead>\n",
       "    <tr style=\"text-align: right;\">\n",
       "      <th></th>\n",
       "      <th>patent_id</th>\n",
       "      <th>year</th>\n",
       "      <th>inventor_id</th>\n",
       "      <th>name_first</th>\n",
       "      <th>name_last</th>\n",
       "      <th>inventor_city</th>\n",
       "      <th>inventor_state</th>\n",
       "      <th>inventor_country</th>\n",
       "    </tr>\n",
       "  </thead>\n",
       "  <tbody>\n",
       "    <tr>\n",
       "      <td>3</td>\n",
       "      <td>9980641</td>\n",
       "      <td>2018</td>\n",
       "      <td>5321501-6</td>\n",
       "      <td>joel s</td>\n",
       "      <td>schuman</td>\n",
       "      <td>Pittsburgh</td>\n",
       "      <td>PA</td>\n",
       "      <td>US</td>\n",
       "    </tr>\n",
       "    <tr>\n",
       "      <td>4</td>\n",
       "      <td>9980641</td>\n",
       "      <td>2018</td>\n",
       "      <td>9980641-3</td>\n",
       "      <td>lawrence edward</td>\n",
       "      <td>kagemann</td>\n",
       "      <td>Pittsburgh</td>\n",
       "      <td>PA</td>\n",
       "      <td>US</td>\n",
       "    </tr>\n",
       "    <tr>\n",
       "      <td>5</td>\n",
       "      <td>9980645</td>\n",
       "      <td>2018</td>\n",
       "      <td>9037248-2</td>\n",
       "      <td>brian</td>\n",
       "      <td>wodlinger</td>\n",
       "      <td>Pittsburgh</td>\n",
       "      <td>PA</td>\n",
       "      <td>US</td>\n",
       "    </tr>\n",
       "    <tr>\n",
       "      <td>6</td>\n",
       "      <td>9981048</td>\n",
       "      <td>2018</td>\n",
       "      <td>9981048-1</td>\n",
       "      <td>ira jacob</td>\n",
       "      <td>fox</td>\n",
       "      <td>Pittsburgh</td>\n",
       "      <td>PA</td>\n",
       "      <td>US</td>\n",
       "    </tr>\n",
       "    <tr>\n",
       "      <td>7</td>\n",
       "      <td>9981048</td>\n",
       "      <td>2018</td>\n",
       "      <td>9981048-3</td>\n",
       "      <td>taichiro n</td>\n",
       "      <td>nishikawa</td>\n",
       "      <td>Pittsburgh</td>\n",
       "      <td>PA</td>\n",
       "      <td>US</td>\n",
       "    </tr>\n",
       "  </tbody>\n",
       "</table>\n",
       "</div>"
      ],
      "text/plain": [
       "  patent_id  year inventor_id       name_first  name_last inventor_city  \\\n",
       "3   9980641  2018   5321501-6           joel s    schuman    Pittsburgh   \n",
       "4   9980641  2018   9980641-3  lawrence edward   kagemann    Pittsburgh   \n",
       "5   9980645  2018   9037248-2            brian  wodlinger    Pittsburgh   \n",
       "6   9981048  2018   9981048-1        ira jacob        fox    Pittsburgh   \n",
       "7   9981048  2018   9981048-3       taichiro n  nishikawa    Pittsburgh   \n",
       "\n",
       "  inventor_state inventor_country  \n",
       "3             PA               US  \n",
       "4             PA               US  \n",
       "5             PA               US  \n",
       "6             PA               US  \n",
       "7             PA               US  "
      ]
     },
     "execution_count": 192,
     "metadata": {},
     "output_type": "execute_result"
    }
   ],
   "source": [
    "# Let's take a look at names after the cleaning\n",
    "inventors.head()"
   ]
  },
  {
   "cell_type": "markdown",
   "metadata": {},
   "source": [
    "We can parse and extract middle names."
   ]
  },
  {
   "cell_type": "code",
   "execution_count": 193,
   "metadata": {
    "ExecuteTime": {
     "end_time": "2020-01-24T03:22:39.527791Z",
     "start_time": "2020-01-24T03:22:39.483913Z"
    }
   },
   "outputs": [],
   "source": [
    "# Split by white space and extract first element for the first name,\n",
    "# second element for the middle name\n",
    "inventors['name_middle'] = inventors.name_first.str.split(' ').str.get(1)\n",
    "inventors['name_first'] = inventors.name_first.str.split(' ').str.get(0)"
   ]
  },
  {
   "cell_type": "code",
   "execution_count": 194,
   "metadata": {
    "ExecuteTime": {
     "end_time": "2020-01-24T03:22:39.688677Z",
     "start_time": "2020-01-24T03:22:39.538295Z"
    }
   },
   "outputs": [
    {
     "data": {
      "text/html": [
       "<div>\n",
       "<style scoped>\n",
       "    .dataframe tbody tr th:only-of-type {\n",
       "        vertical-align: middle;\n",
       "    }\n",
       "\n",
       "    .dataframe tbody tr th {\n",
       "        vertical-align: top;\n",
       "    }\n",
       "\n",
       "    .dataframe thead th {\n",
       "        text-align: right;\n",
       "    }\n",
       "</style>\n",
       "<table border=\"1\" class=\"dataframe\">\n",
       "  <thead>\n",
       "    <tr style=\"text-align: right;\">\n",
       "      <th></th>\n",
       "      <th>patent_id</th>\n",
       "      <th>year</th>\n",
       "      <th>inventor_id</th>\n",
       "      <th>name_first</th>\n",
       "      <th>name_last</th>\n",
       "      <th>inventor_city</th>\n",
       "      <th>inventor_state</th>\n",
       "      <th>inventor_country</th>\n",
       "      <th>name_middle</th>\n",
       "    </tr>\n",
       "  </thead>\n",
       "  <tbody>\n",
       "    <tr>\n",
       "      <td>3</td>\n",
       "      <td>9980641</td>\n",
       "      <td>2018</td>\n",
       "      <td>5321501-6</td>\n",
       "      <td>joel</td>\n",
       "      <td>schuman</td>\n",
       "      <td>Pittsburgh</td>\n",
       "      <td>PA</td>\n",
       "      <td>US</td>\n",
       "      <td>s</td>\n",
       "    </tr>\n",
       "    <tr>\n",
       "      <td>4</td>\n",
       "      <td>9980641</td>\n",
       "      <td>2018</td>\n",
       "      <td>9980641-3</td>\n",
       "      <td>lawrence</td>\n",
       "      <td>kagemann</td>\n",
       "      <td>Pittsburgh</td>\n",
       "      <td>PA</td>\n",
       "      <td>US</td>\n",
       "      <td>edward</td>\n",
       "    </tr>\n",
       "    <tr>\n",
       "      <td>5</td>\n",
       "      <td>9980645</td>\n",
       "      <td>2018</td>\n",
       "      <td>9037248-2</td>\n",
       "      <td>brian</td>\n",
       "      <td>wodlinger</td>\n",
       "      <td>Pittsburgh</td>\n",
       "      <td>PA</td>\n",
       "      <td>US</td>\n",
       "      <td>NaN</td>\n",
       "    </tr>\n",
       "    <tr>\n",
       "      <td>6</td>\n",
       "      <td>9981048</td>\n",
       "      <td>2018</td>\n",
       "      <td>9981048-1</td>\n",
       "      <td>ira</td>\n",
       "      <td>fox</td>\n",
       "      <td>Pittsburgh</td>\n",
       "      <td>PA</td>\n",
       "      <td>US</td>\n",
       "      <td>jacob</td>\n",
       "    </tr>\n",
       "    <tr>\n",
       "      <td>7</td>\n",
       "      <td>9981048</td>\n",
       "      <td>2018</td>\n",
       "      <td>9981048-3</td>\n",
       "      <td>taichiro</td>\n",
       "      <td>nishikawa</td>\n",
       "      <td>Pittsburgh</td>\n",
       "      <td>PA</td>\n",
       "      <td>US</td>\n",
       "      <td>n</td>\n",
       "    </tr>\n",
       "  </tbody>\n",
       "</table>\n",
       "</div>"
      ],
      "text/plain": [
       "  patent_id  year inventor_id name_first  name_last inventor_city  \\\n",
       "3   9980641  2018   5321501-6       joel    schuman    Pittsburgh   \n",
       "4   9980641  2018   9980641-3   lawrence   kagemann    Pittsburgh   \n",
       "5   9980645  2018   9037248-2      brian  wodlinger    Pittsburgh   \n",
       "6   9981048  2018   9981048-1        ira        fox    Pittsburgh   \n",
       "7   9981048  2018   9981048-3   taichiro  nishikawa    Pittsburgh   \n",
       "\n",
       "  inventor_state inventor_country name_middle  \n",
       "3             PA               US           s  \n",
       "4             PA               US      edward  \n",
       "5             PA               US         NaN  \n",
       "6             PA               US       jacob  \n",
       "7             PA               US           n  "
      ]
     },
     "execution_count": 194,
     "metadata": {},
     "output_type": "execute_result"
    }
   ],
   "source": [
    "inventors.head()"
   ]
  },
  {
   "cell_type": "markdown",
   "metadata": {},
   "source": [
    "Now we are done with the inital data prep work for the inventor file. Please keep in mind that we just provided some examples for you to demonstrate the process. You can add as many further steps to it as necessary. "
   ]
  },
  {
   "cell_type": "markdown",
   "metadata": {},
   "source": [
    "#### Clean Grant Data\n",
    "Now we will clean and preprocess the grants data. We need a dataset that has the first, middle and last name of the researcher, the city, state, and country information. "
   ]
  },
  {
   "cell_type": "code",
   "execution_count": 195,
   "metadata": {
    "ExecuteTime": {
     "end_time": "2020-01-24T03:22:39.751094Z",
     "start_time": "2020-01-24T03:22:39.701420Z"
    }
   },
   "outputs": [
    {
     "data": {
      "text/html": [
       "<div>\n",
       "<style scoped>\n",
       "    .dataframe tbody tr th:only-of-type {\n",
       "        vertical-align: middle;\n",
       "    }\n",
       "\n",
       "    .dataframe tbody tr th {\n",
       "        vertical-align: top;\n",
       "    }\n",
       "\n",
       "    .dataframe thead th {\n",
       "        text-align: right;\n",
       "    }\n",
       "</style>\n",
       "<table border=\"1\" class=\"dataframe\">\n",
       "  <thead>\n",
       "    <tr style=\"text-align: right;\">\n",
       "      <th></th>\n",
       "      <th>PROJECT_ID</th>\n",
       "      <th>CONTACT_PI_PROJECT_LEADER</th>\n",
       "      <th>OTHER_PIS</th>\n",
       "      <th>ORGANIZATION_CITY</th>\n",
       "      <th>ORGANIZATION_STATE</th>\n",
       "      <th>ORGANIZATION_COUNTRY</th>\n",
       "    </tr>\n",
       "  </thead>\n",
       "  <tbody>\n",
       "    <tr>\n",
       "      <td>0</td>\n",
       "      <td>121219</td>\n",
       "      <td>POIRER, DAVID</td>\n",
       "      <td>NaN</td>\n",
       "      <td>TUCSON</td>\n",
       "      <td>AZ</td>\n",
       "      <td>UNITED STATES</td>\n",
       "    </tr>\n",
       "    <tr>\n",
       "      <td>1</td>\n",
       "      <td>121220</td>\n",
       "      <td>HEYWARD, ANN O</td>\n",
       "      <td>NaN</td>\n",
       "      <td>BROOK PARK</td>\n",
       "      <td>OH</td>\n",
       "      <td>UNITED STATES</td>\n",
       "    </tr>\n",
       "    <tr>\n",
       "      <td>2</td>\n",
       "      <td>121221</td>\n",
       "      <td>KALOGERA, VASSILIKI</td>\n",
       "      <td>LUIJTEN, ERIK</td>\n",
       "      <td>EVANSTON</td>\n",
       "      <td>IL</td>\n",
       "      <td>UNITED STATES</td>\n",
       "    </tr>\n",
       "    <tr>\n",
       "      <td>3</td>\n",
       "      <td>121222</td>\n",
       "      <td>GUILDERSON, THOMAS P</td>\n",
       "      <td>NaN</td>\n",
       "      <td>SANTA CRUZ</td>\n",
       "      <td>CA</td>\n",
       "      <td>UNITED STATES</td>\n",
       "    </tr>\n",
       "    <tr>\n",
       "      <td>4</td>\n",
       "      <td>121223</td>\n",
       "      <td>HAYES, GILLIAN</td>\n",
       "      <td>TENTORI, MONICA</td>\n",
       "      <td>IRVINE</td>\n",
       "      <td>CA</td>\n",
       "      <td>UNITED STATES</td>\n",
       "    </tr>\n",
       "  </tbody>\n",
       "</table>\n",
       "</div>"
      ],
      "text/plain": [
       "   PROJECT_ID  CONTACT_PI_PROJECT_LEADER        OTHER_PIS  ORGANIZATION_CITY  \\\n",
       "0      121219              POIRER, DAVID              NaN             TUCSON   \n",
       "1      121220             HEYWARD, ANN O              NaN         BROOK PARK   \n",
       "2      121221        KALOGERA, VASSILIKI    LUIJTEN, ERIK           EVANSTON   \n",
       "3      121222       GUILDERSON, THOMAS P              NaN         SANTA CRUZ   \n",
       "4      121223             HAYES, GILLIAN  TENTORI, MONICA             IRVINE   \n",
       "\n",
       "   ORGANIZATION_STATE  ORGANIZATION_COUNTRY  \n",
       "0                  AZ         UNITED STATES  \n",
       "1                  OH         UNITED STATES  \n",
       "2                  IL         UNITED STATES  \n",
       "3                  CA         UNITED STATES  \n",
       "4                  CA         UNITED STATES  "
      ]
     },
     "execution_count": 195,
     "metadata": {},
     "output_type": "execute_result"
    }
   ],
   "source": [
    "pi.head()"
   ]
  },
  {
   "cell_type": "markdown",
   "metadata": {},
   "source": [
    "Here you can start cleaning the data and extract the information that we need to compare it to the inventor file. You want to find as many variables as you can match to as possible. You can also see that we have two field with names. You have the PI field, but you can extract more names from the OTHER PIDS fields if you are interested. "
   ]
  },
  {
   "cell_type": "code",
   "execution_count": 196,
   "metadata": {
    "ExecuteTime": {
     "end_time": "2020-01-24T03:22:40.865538Z",
     "start_time": "2020-01-24T03:22:39.759908Z"
    }
   },
   "outputs": [],
   "source": [
    "pi[' CONTACT_PI_PROJECT_LEADER'] = clean(pi[' CONTACT_PI_PROJECT_LEADER'])"
   ]
  },
  {
   "cell_type": "code",
   "execution_count": 197,
   "metadata": {
    "ExecuteTime": {
     "end_time": "2020-01-24T03:22:41.772933Z",
     "start_time": "2020-01-24T03:22:40.873624Z"
    }
   },
   "outputs": [],
   "source": [
    "pi['name_first'] = pi[' CONTACT_PI_PROJECT_LEADER'].str.split(' ').str.get(1)\n",
    "pi['name_last'] = pi[' CONTACT_PI_PROJECT_LEADER'].str.split(' ').str.get(0)\n",
    "pi['name_middle'] = pi[' CONTACT_PI_PROJECT_LEADER'].str.split(' ').str.get(2)"
   ]
  },
  {
   "cell_type": "code",
   "execution_count": 198,
   "metadata": {
    "ExecuteTime": {
     "end_time": "2020-01-24T03:22:41.803270Z",
     "start_time": "2020-01-24T03:22:41.777105Z"
    }
   },
   "outputs": [
    {
     "data": {
      "text/html": [
       "<div>\n",
       "<style scoped>\n",
       "    .dataframe tbody tr th:only-of-type {\n",
       "        vertical-align: middle;\n",
       "    }\n",
       "\n",
       "    .dataframe tbody tr th {\n",
       "        vertical-align: top;\n",
       "    }\n",
       "\n",
       "    .dataframe thead th {\n",
       "        text-align: right;\n",
       "    }\n",
       "</style>\n",
       "<table border=\"1\" class=\"dataframe\">\n",
       "  <thead>\n",
       "    <tr style=\"text-align: right;\">\n",
       "      <th></th>\n",
       "      <th>PROJECT_ID</th>\n",
       "      <th>CONTACT_PI_PROJECT_LEADER</th>\n",
       "      <th>OTHER_PIS</th>\n",
       "      <th>ORGANIZATION_CITY</th>\n",
       "      <th>ORGANIZATION_STATE</th>\n",
       "      <th>ORGANIZATION_COUNTRY</th>\n",
       "      <th>name_first</th>\n",
       "      <th>name_last</th>\n",
       "      <th>name_middle</th>\n",
       "    </tr>\n",
       "  </thead>\n",
       "  <tbody>\n",
       "    <tr>\n",
       "      <td>0</td>\n",
       "      <td>121219</td>\n",
       "      <td>poirer david</td>\n",
       "      <td>NaN</td>\n",
       "      <td>TUCSON</td>\n",
       "      <td>AZ</td>\n",
       "      <td>UNITED STATES</td>\n",
       "      <td>david</td>\n",
       "      <td>poirer</td>\n",
       "      <td>NaN</td>\n",
       "    </tr>\n",
       "    <tr>\n",
       "      <td>1</td>\n",
       "      <td>121220</td>\n",
       "      <td>heyward ann o</td>\n",
       "      <td>NaN</td>\n",
       "      <td>BROOK PARK</td>\n",
       "      <td>OH</td>\n",
       "      <td>UNITED STATES</td>\n",
       "      <td>ann</td>\n",
       "      <td>heyward</td>\n",
       "      <td>o</td>\n",
       "    </tr>\n",
       "    <tr>\n",
       "      <td>2</td>\n",
       "      <td>121221</td>\n",
       "      <td>kalogera vassiliki</td>\n",
       "      <td>LUIJTEN, ERIK</td>\n",
       "      <td>EVANSTON</td>\n",
       "      <td>IL</td>\n",
       "      <td>UNITED STATES</td>\n",
       "      <td>vassiliki</td>\n",
       "      <td>kalogera</td>\n",
       "      <td>NaN</td>\n",
       "    </tr>\n",
       "    <tr>\n",
       "      <td>3</td>\n",
       "      <td>121222</td>\n",
       "      <td>guilderson thomas p</td>\n",
       "      <td>NaN</td>\n",
       "      <td>SANTA CRUZ</td>\n",
       "      <td>CA</td>\n",
       "      <td>UNITED STATES</td>\n",
       "      <td>thomas</td>\n",
       "      <td>guilderson</td>\n",
       "      <td>p</td>\n",
       "    </tr>\n",
       "    <tr>\n",
       "      <td>4</td>\n",
       "      <td>121223</td>\n",
       "      <td>hayes gillian</td>\n",
       "      <td>TENTORI, MONICA</td>\n",
       "      <td>IRVINE</td>\n",
       "      <td>CA</td>\n",
       "      <td>UNITED STATES</td>\n",
       "      <td>gillian</td>\n",
       "      <td>hayes</td>\n",
       "      <td>NaN</td>\n",
       "    </tr>\n",
       "  </tbody>\n",
       "</table>\n",
       "</div>"
      ],
      "text/plain": [
       "   PROJECT_ID  CONTACT_PI_PROJECT_LEADER        OTHER_PIS  ORGANIZATION_CITY  \\\n",
       "0      121219               poirer david              NaN             TUCSON   \n",
       "1      121220              heyward ann o              NaN         BROOK PARK   \n",
       "2      121221         kalogera vassiliki    LUIJTEN, ERIK           EVANSTON   \n",
       "3      121222        guilderson thomas p              NaN         SANTA CRUZ   \n",
       "4      121223              hayes gillian  TENTORI, MONICA             IRVINE   \n",
       "\n",
       "   ORGANIZATION_STATE  ORGANIZATION_COUNTRY name_first   name_last name_middle  \n",
       "0                  AZ         UNITED STATES      david      poirer         NaN  \n",
       "1                  OH         UNITED STATES        ann     heyward           o  \n",
       "2                  IL         UNITED STATES  vassiliki    kalogera         NaN  \n",
       "3                  CA         UNITED STATES     thomas  guilderson           p  \n",
       "4                  CA         UNITED STATES    gillian       hayes         NaN  "
      ]
     },
     "execution_count": 198,
     "metadata": {},
     "output_type": "execute_result"
    }
   ],
   "source": [
    "pi.head()"
   ]
  },
  {
   "cell_type": "markdown",
   "metadata": {},
   "source": [
    "We will add one more thing: **phonetic processing**.\n",
    "\n",
    "Sometimes, words or names are recorded differently because they are written down as they sound. This can result in failed matches, because the same organization or individual will technically have different written names, even though the names would sound identically when pronounced out loud. To avoid these issues, we will add onoe more thing: a soundex (a phonetic algorithm for indexing names by sound, as pronounced in English).\n",
    "\n",
    "The `phonetic()` function is used to convert strings into their corresponding phonetic codes. This is particularly useful when comparing names where different possible spellings make it difficult to find exact matches (e.g. Jillian and Gillian).\n",
    "\n",
    "Let's add a column called `phonetic_name` to our existing table, which will contain the result of applying a `phonetic` function to the name (the phonetic transcription of the name). We are using a method called NYSIIS - the New York State Identification and Intelligence System phonetic code."
   ]
  },
  {
   "cell_type": "code",
   "execution_count": 199,
   "metadata": {
    "ExecuteTime": {
     "end_time": "2020-01-24T03:22:43.022798Z",
     "start_time": "2020-01-24T03:22:41.811110Z"
    }
   },
   "outputs": [],
   "source": [
    "inventors[\"phonetic_first\"] = phonetic(inventors[\"name_first\"], method=\"nysiis\")\n",
    "inventors[\"phonetic_last\"] = phonetic(inventors[\"name_last\"], method=\"nysiis\")\n",
    "inventors[\"phonetic_middle\"] = phonetic(inventors[\"name_middle\"], method=\"nysiis\")\n",
    "\n",
    "pi[\"phonetic_first\"] = phonetic(pi[\"name_first\"], method=\"nysiis\")\n",
    "pi[\"phonetic_last\"] = phonetic(pi[\"name_last\"], method=\"nysiis\")\n",
    "pi[\"phonetic_middle\"] = phonetic(pi[\"name_middle\"], method=\"nysiis\")"
   ]
  },
  {
   "cell_type": "code",
   "execution_count": 200,
   "metadata": {
    "ExecuteTime": {
     "end_time": "2020-01-24T03:22:43.049293Z",
     "start_time": "2020-01-24T03:22:43.025263Z"
    }
   },
   "outputs": [
    {
     "data": {
      "text/html": [
       "<div>\n",
       "<style scoped>\n",
       "    .dataframe tbody tr th:only-of-type {\n",
       "        vertical-align: middle;\n",
       "    }\n",
       "\n",
       "    .dataframe tbody tr th {\n",
       "        vertical-align: top;\n",
       "    }\n",
       "\n",
       "    .dataframe thead th {\n",
       "        text-align: right;\n",
       "    }\n",
       "</style>\n",
       "<table border=\"1\" class=\"dataframe\">\n",
       "  <thead>\n",
       "    <tr style=\"text-align: right;\">\n",
       "      <th></th>\n",
       "      <th>PROJECT_ID</th>\n",
       "      <th>CONTACT_PI_PROJECT_LEADER</th>\n",
       "      <th>OTHER_PIS</th>\n",
       "      <th>ORGANIZATION_CITY</th>\n",
       "      <th>ORGANIZATION_STATE</th>\n",
       "      <th>ORGANIZATION_COUNTRY</th>\n",
       "      <th>name_first</th>\n",
       "      <th>name_last</th>\n",
       "      <th>name_middle</th>\n",
       "      <th>phonetic_first</th>\n",
       "      <th>phonetic_last</th>\n",
       "      <th>phonetic_middle</th>\n",
       "    </tr>\n",
       "  </thead>\n",
       "  <tbody>\n",
       "    <tr>\n",
       "      <td>0</td>\n",
       "      <td>121219</td>\n",
       "      <td>poirer david</td>\n",
       "      <td>NaN</td>\n",
       "      <td>TUCSON</td>\n",
       "      <td>AZ</td>\n",
       "      <td>UNITED STATES</td>\n",
       "      <td>david</td>\n",
       "      <td>poirer</td>\n",
       "      <td>NaN</td>\n",
       "      <td>DAVAD</td>\n",
       "      <td>PARAR</td>\n",
       "      <td>NaN</td>\n",
       "    </tr>\n",
       "    <tr>\n",
       "      <td>1</td>\n",
       "      <td>121220</td>\n",
       "      <td>heyward ann o</td>\n",
       "      <td>NaN</td>\n",
       "      <td>BROOK PARK</td>\n",
       "      <td>OH</td>\n",
       "      <td>UNITED STATES</td>\n",
       "      <td>ann</td>\n",
       "      <td>heyward</td>\n",
       "      <td>o</td>\n",
       "      <td>AN</td>\n",
       "      <td>HAYWAD</td>\n",
       "      <td>O</td>\n",
       "    </tr>\n",
       "    <tr>\n",
       "      <td>2</td>\n",
       "      <td>121221</td>\n",
       "      <td>kalogera vassiliki</td>\n",
       "      <td>LUIJTEN, ERIK</td>\n",
       "      <td>EVANSTON</td>\n",
       "      <td>IL</td>\n",
       "      <td>UNITED STATES</td>\n",
       "      <td>vassiliki</td>\n",
       "      <td>kalogera</td>\n",
       "      <td>NaN</td>\n",
       "      <td>VASALAC</td>\n",
       "      <td>CALAGAR</td>\n",
       "      <td>NaN</td>\n",
       "    </tr>\n",
       "    <tr>\n",
       "      <td>3</td>\n",
       "      <td>121222</td>\n",
       "      <td>guilderson thomas p</td>\n",
       "      <td>NaN</td>\n",
       "      <td>SANTA CRUZ</td>\n",
       "      <td>CA</td>\n",
       "      <td>UNITED STATES</td>\n",
       "      <td>thomas</td>\n",
       "      <td>guilderson</td>\n",
       "      <td>p</td>\n",
       "      <td>TAN</td>\n",
       "      <td>GALDARSAN</td>\n",
       "      <td>P</td>\n",
       "    </tr>\n",
       "    <tr>\n",
       "      <td>4</td>\n",
       "      <td>121223</td>\n",
       "      <td>hayes gillian</td>\n",
       "      <td>TENTORI, MONICA</td>\n",
       "      <td>IRVINE</td>\n",
       "      <td>CA</td>\n",
       "      <td>UNITED STATES</td>\n",
       "      <td>gillian</td>\n",
       "      <td>hayes</td>\n",
       "      <td>NaN</td>\n",
       "      <td>GALAN</td>\n",
       "      <td>HAY</td>\n",
       "      <td>NaN</td>\n",
       "    </tr>\n",
       "  </tbody>\n",
       "</table>\n",
       "</div>"
      ],
      "text/plain": [
       "   PROJECT_ID  CONTACT_PI_PROJECT_LEADER        OTHER_PIS  ORGANIZATION_CITY  \\\n",
       "0      121219               poirer david              NaN             TUCSON   \n",
       "1      121220              heyward ann o              NaN         BROOK PARK   \n",
       "2      121221         kalogera vassiliki    LUIJTEN, ERIK           EVANSTON   \n",
       "3      121222        guilderson thomas p              NaN         SANTA CRUZ   \n",
       "4      121223              hayes gillian  TENTORI, MONICA             IRVINE   \n",
       "\n",
       "   ORGANIZATION_STATE  ORGANIZATION_COUNTRY name_first   name_last  \\\n",
       "0                  AZ         UNITED STATES      david      poirer   \n",
       "1                  OH         UNITED STATES        ann     heyward   \n",
       "2                  IL         UNITED STATES  vassiliki    kalogera   \n",
       "3                  CA         UNITED STATES     thomas  guilderson   \n",
       "4                  CA         UNITED STATES    gillian       hayes   \n",
       "\n",
       "  name_middle phonetic_first phonetic_last phonetic_middle  \n",
       "0         NaN          DAVAD         PARAR             NaN  \n",
       "1           o             AN        HAYWAD               O  \n",
       "2         NaN        VASALAC       CALAGAR             NaN  \n",
       "3           p            TAN     GALDARSAN               P  \n",
       "4         NaN          GALAN           HAY             NaN  "
      ]
     },
     "execution_count": 200,
     "metadata": {},
     "output_type": "execute_result"
    }
   ],
   "source": [
    "pi.head()"
   ]
  },
  {
   "cell_type": "markdown",
   "metadata": {},
   "source": [
    "<span style=\"color:red\">**Checkpoint 2: Clean organization-level data**</span>"
   ]
  },
  {
   "cell_type": "markdown",
   "metadata": {},
   "source": [
    "Use `clean` function above, remove white space, and find phonetic transcriptions of organization names."
   ]
  },
  {
   "cell_type": "code",
   "execution_count": 201,
   "metadata": {
    "ExecuteTime": {
     "end_time": "2020-01-24T03:22:43.064344Z",
     "start_time": "2020-01-24T03:22:43.055610Z"
    }
   },
   "outputs": [],
   "source": [
    "# your code here...\n",
    "\n",
    "\n",
    "\n",
    "\n"
   ]
  },
  {
   "cell_type": "markdown",
   "metadata": {},
   "source": [
    "# Deterministic Matching"
   ]
  },
  {
   "cell_type": "markdown",
   "metadata": {},
   "source": [
    "### Individual-level links"
   ]
  },
  {
   "cell_type": "markdown",
   "metadata": {},
   "source": [
    "Let's first do an exact match (merge) on the **first, middle, last name** and examine the results."
   ]
  },
  {
   "cell_type": "code",
   "execution_count": 202,
   "metadata": {
    "ExecuteTime": {
     "end_time": "2020-01-24T03:22:43.428536Z",
     "start_time": "2020-01-24T03:22:43.075148Z"
    }
   },
   "outputs": [],
   "source": [
    "# Merge on first, middle, last name\n",
    "merge_name = inventors.merge(pi,on=['name_first','name_last','name_middle'])"
   ]
  },
  {
   "cell_type": "code",
   "execution_count": 232,
   "metadata": {
    "ExecuteTime": {
     "end_time": "2020-01-24T03:24:02.240990Z",
     "start_time": "2020-01-24T03:24:02.225605Z"
    }
   },
   "outputs": [],
   "source": [
    "merge_name['full_name'] = merge_name['name_first'] + ' ' + merge_name['name_middle'] + ' ' + merge_name['name_last']"
   ]
  },
  {
   "cell_type": "code",
   "execution_count": 234,
   "metadata": {
    "ExecuteTime": {
     "end_time": "2020-01-24T03:24:21.608818Z",
     "start_time": "2020-01-24T03:24:21.589534Z"
    }
   },
   "outputs": [
    {
     "data": {
      "text/plain": [
       "david c smith          84\n",
       "dario c altieri        52\n",
       "laura e niklason       40\n",
       "louis j picker         36\n",
       "edward h adelson       32\n",
       "                       ..\n",
       "jeffrey i zink          1\n",
       "prabhat c goswami       1\n",
       "krishna v komanduri     1\n",
       "elizabeth a davis       1\n",
       "robert a philibert      1\n",
       "Name: full_name, Length: 151, dtype: int64"
      ]
     },
     "execution_count": 234,
     "metadata": {},
     "output_type": "execute_result"
    }
   ],
   "source": [
    "merge_name['full_name'].value_counts()"
   ]
  },
  {
   "cell_type": "code",
   "execution_count": 268,
   "metadata": {
    "ExecuteTime": {
     "end_time": "2020-01-24T03:36:36.767199Z",
     "start_time": "2020-01-24T03:36:36.758819Z"
    }
   },
   "outputs": [],
   "source": [
    "inventors = inventors[inventors['inventor_country'] == 'US']"
   ]
  },
  {
   "cell_type": "code",
   "execution_count": 291,
   "metadata": {
    "ExecuteTime": {
     "end_time": "2020-01-24T03:51:10.869075Z",
     "start_time": "2020-01-24T03:51:10.849356Z"
    }
   },
   "outputs": [
    {
     "data": {
      "text/plain": [
       "name_first\n",
       "Alan R.         1\n",
       "Elizabeth A.    1\n",
       "Name: patent_id, dtype: int64"
      ]
     },
     "execution_count": 291,
     "metadata": {},
     "output_type": "execute_result"
    }
   ],
   "source": [
    "inventors[inventors['name_last'].str.contains('Davis')].groupby('name_first')['patent_id'].nunique()"
   ]
  },
  {
   "cell_type": "code",
   "execution_count": 242,
   "metadata": {
    "ExecuteTime": {
     "end_time": "2020-01-24T03:26:50.410534Z",
     "start_time": "2020-01-24T03:26:50.391230Z"
    }
   },
   "outputs": [
    {
     "data": {
      "text/html": [
       "<div>\n",
       "<style scoped>\n",
       "    .dataframe tbody tr th:only-of-type {\n",
       "        vertical-align: middle;\n",
       "    }\n",
       "\n",
       "    .dataframe tbody tr th {\n",
       "        vertical-align: top;\n",
       "    }\n",
       "\n",
       "    .dataframe thead th {\n",
       "        text-align: right;\n",
       "    }\n",
       "</style>\n",
       "<table border=\"1\" class=\"dataframe\">\n",
       "  <thead>\n",
       "    <tr style=\"text-align: right;\">\n",
       "      <th></th>\n",
       "      <th>PROJECT_ID</th>\n",
       "      <th>CONTACT_PI_PROJECT_LEADER</th>\n",
       "      <th>OTHER_PIS</th>\n",
       "      <th>ORGANIZATION_CITY</th>\n",
       "      <th>ORGANIZATION_STATE</th>\n",
       "      <th>ORGANIZATION_COUNTRY</th>\n",
       "    </tr>\n",
       "  </thead>\n",
       "  <tbody>\n",
       "    <tr>\n",
       "      <td>0</td>\n",
       "      <td>121219</td>\n",
       "      <td>POIRER, DAVID</td>\n",
       "      <td>NaN</td>\n",
       "      <td>TUCSON</td>\n",
       "      <td>AZ</td>\n",
       "      <td>UNITED STATES</td>\n",
       "    </tr>\n",
       "    <tr>\n",
       "      <td>1</td>\n",
       "      <td>121220</td>\n",
       "      <td>HEYWARD, ANN O</td>\n",
       "      <td>NaN</td>\n",
       "      <td>BROOK PARK</td>\n",
       "      <td>OH</td>\n",
       "      <td>UNITED STATES</td>\n",
       "    </tr>\n",
       "    <tr>\n",
       "      <td>2</td>\n",
       "      <td>121221</td>\n",
       "      <td>KALOGERA, VASSILIKI</td>\n",
       "      <td>LUIJTEN, ERIK</td>\n",
       "      <td>EVANSTON</td>\n",
       "      <td>IL</td>\n",
       "      <td>UNITED STATES</td>\n",
       "    </tr>\n",
       "    <tr>\n",
       "      <td>3</td>\n",
       "      <td>121222</td>\n",
       "      <td>GUILDERSON, THOMAS P</td>\n",
       "      <td>NaN</td>\n",
       "      <td>SANTA CRUZ</td>\n",
       "      <td>CA</td>\n",
       "      <td>UNITED STATES</td>\n",
       "    </tr>\n",
       "    <tr>\n",
       "      <td>4</td>\n",
       "      <td>121223</td>\n",
       "      <td>HAYES, GILLIAN</td>\n",
       "      <td>TENTORI, MONICA</td>\n",
       "      <td>IRVINE</td>\n",
       "      <td>CA</td>\n",
       "      <td>UNITED STATES</td>\n",
       "    </tr>\n",
       "  </tbody>\n",
       "</table>\n",
       "</div>"
      ],
      "text/plain": [
       "   PROJECT_ID  CONTACT_PI_PROJECT_LEADER        OTHER_PIS  ORGANIZATION_CITY  \\\n",
       "0      121219              POIRER, DAVID              NaN             TUCSON   \n",
       "1      121220             HEYWARD, ANN O              NaN         BROOK PARK   \n",
       "2      121221        KALOGERA, VASSILIKI    LUIJTEN, ERIK           EVANSTON   \n",
       "3      121222       GUILDERSON, THOMAS P              NaN         SANTA CRUZ   \n",
       "4      121223             HAYES, GILLIAN  TENTORI, MONICA             IRVINE   \n",
       "\n",
       "   ORGANIZATION_STATE  ORGANIZATION_COUNTRY  \n",
       "0                  AZ         UNITED STATES  \n",
       "1                  OH         UNITED STATES  \n",
       "2                  IL         UNITED STATES  \n",
       "3                  CA         UNITED STATES  \n",
       "4                  CA         UNITED STATES  "
      ]
     },
     "execution_count": 242,
     "metadata": {},
     "output_type": "execute_result"
    }
   ],
   "source": [
    "pi.head()"
   ]
  },
  {
   "cell_type": "code",
   "execution_count": 246,
   "metadata": {
    "ExecuteTime": {
     "end_time": "2020-01-24T03:27:38.356419Z",
     "start_time": "2020-01-24T03:27:38.328816Z"
    }
   },
   "outputs": [],
   "source": [
    "pi = pi[pi[' CONTACT_PI_PROJECT_LEADER'].notnull()]"
   ]
  },
  {
   "cell_type": "code",
   "execution_count": 293,
   "metadata": {
    "ExecuteTime": {
     "end_time": "2020-01-24T03:51:34.597271Z",
     "start_time": "2020-01-24T03:51:34.491387Z"
    }
   },
   "outputs": [],
   "source": [
    "davis = pi[pi[' CONTACT_PI_PROJECT_LEADER'].str.contains('DAVIS')]"
   ]
  },
  {
   "cell_type": "code",
   "execution_count": 294,
   "metadata": {
    "ExecuteTime": {
     "end_time": "2020-01-24T03:51:40.951261Z",
     "start_time": "2020-01-24T03:51:40.940072Z"
    }
   },
   "outputs": [
    {
     "name": "stderr",
     "output_type": "stream",
     "text": [
      "/Users/ekaterinalevitskaya/opt/anaconda3/lib/python3.7/site-packages/ipykernel_launcher.py:1: SettingWithCopyWarning: \n",
      "A value is trying to be set on a copy of a slice from a DataFrame.\n",
      "Try using .loc[row_indexer,col_indexer] = value instead\n",
      "\n",
      "See the caveats in the documentation: http://pandas.pydata.org/pandas-docs/stable/user_guide/indexing.html#returning-a-view-versus-a-copy\n",
      "  \"\"\"Entry point for launching an IPython kernel.\n"
     ]
    }
   ],
   "source": [
    "davis['first_name'] = davis[' CONTACT_PI_PROJECT_LEADER'].str.split(',').str.get(1)"
   ]
  },
  {
   "cell_type": "code",
   "execution_count": 296,
   "metadata": {
    "ExecuteTime": {
     "end_time": "2020-01-24T03:52:05.862984Z",
     "start_time": "2020-01-24T03:52:05.835624Z"
    }
   },
   "outputs": [
    {
     "data": {
      "text/html": [
       "<div>\n",
       "<style scoped>\n",
       "    .dataframe tbody tr th:only-of-type {\n",
       "        vertical-align: middle;\n",
       "    }\n",
       "\n",
       "    .dataframe tbody tr th {\n",
       "        vertical-align: top;\n",
       "    }\n",
       "\n",
       "    .dataframe thead th {\n",
       "        text-align: right;\n",
       "    }\n",
       "</style>\n",
       "<table border=\"1\" class=\"dataframe\">\n",
       "  <thead>\n",
       "    <tr style=\"text-align: right;\">\n",
       "      <th></th>\n",
       "      <th>first_name</th>\n",
       "      <th>PROJECT_ID</th>\n",
       "    </tr>\n",
       "  </thead>\n",
       "  <tbody>\n",
       "    <tr>\n",
       "      <td>124</td>\n",
       "      <td>TRISHA N.</td>\n",
       "      <td>19</td>\n",
       "    </tr>\n",
       "    <tr>\n",
       "      <td>87</td>\n",
       "      <td>PAMELA B</td>\n",
       "      <td>9</td>\n",
       "    </tr>\n",
       "    <tr>\n",
       "      <td>73</td>\n",
       "      <td>MARK MORRIS</td>\n",
       "      <td>8</td>\n",
       "    </tr>\n",
       "    <tr>\n",
       "      <td>107</td>\n",
       "      <td>RONALD WAYNE</td>\n",
       "      <td>8</td>\n",
       "    </tr>\n",
       "    <tr>\n",
       "      <td>11</td>\n",
       "      <td>CATHERINE LUCY</td>\n",
       "      <td>4</td>\n",
       "    </tr>\n",
       "    <tr>\n",
       "      <td>...</td>\n",
       "      <td>...</td>\n",
       "      <td>...</td>\n",
       "    </tr>\n",
       "    <tr>\n",
       "      <td>48</td>\n",
       "      <td>JONATHAN P</td>\n",
       "      <td>1</td>\n",
       "    </tr>\n",
       "    <tr>\n",
       "      <td>47</td>\n",
       "      <td>JOHN S</td>\n",
       "      <td>1</td>\n",
       "    </tr>\n",
       "    <tr>\n",
       "      <td>45</td>\n",
       "      <td>JOHN DAVIS</td>\n",
       "      <td>1</td>\n",
       "    </tr>\n",
       "    <tr>\n",
       "      <td>44</td>\n",
       "      <td>JILL</td>\n",
       "      <td>1</td>\n",
       "    </tr>\n",
       "    <tr>\n",
       "      <td>130</td>\n",
       "      <td>WILLIAM R</td>\n",
       "      <td>1</td>\n",
       "    </tr>\n",
       "  </tbody>\n",
       "</table>\n",
       "<p>131 rows × 2 columns</p>\n",
       "</div>"
      ],
      "text/plain": [
       "          first_name  PROJECT_ID\n",
       "124        TRISHA N.          19\n",
       "87          PAMELA B           9\n",
       "73       MARK MORRIS           8\n",
       "107     RONALD WAYNE           8\n",
       "11    CATHERINE LUCY           4\n",
       "..               ...         ...\n",
       "48        JONATHAN P           1\n",
       "47            JOHN S           1\n",
       "45        JOHN DAVIS           1\n",
       "44              JILL           1\n",
       "130        WILLIAM R           1\n",
       "\n",
       "[131 rows x 2 columns]"
      ]
     },
     "execution_count": 296,
     "metadata": {},
     "output_type": "execute_result"
    }
   ],
   "source": [
    "davis.groupby('first_name')['PROJECT_ID'].nunique().reset_index().sort_values('PROJECT_ID',ascending=False)"
   ]
  },
  {
   "cell_type": "code",
   "execution_count": 255,
   "metadata": {
    "ExecuteTime": {
     "end_time": "2020-01-24T03:29:49.265646Z",
     "start_time": "2020-01-24T03:29:49.254237Z"
    }
   },
   "outputs": [
    {
     "data": {
      "text/plain": [
       "array(['SMITH, SUZANNE', 'SMITH, STEVEN S', 'SMITH, ROBERT C',\n",
       "       'LLEWELLYN SMITH, STEFAN G', 'SMITH, JON J', 'SMITH, BENJAMIN',\n",
       "       'SMITH, MONICA M', 'SMITH, WILLIAM S', 'SMITH, LESLIE M',\n",
       "       'SMITH, JAMES A', 'JACKSON-SMITH, DOUGLAS', 'SMITH, STEVE',\n",
       "       'SMITH, ADAM', 'SMITH, DOUGLAS C', 'MALYN-SMITH, JOYCE',\n",
       "       'SMITH, STUART T', 'SMITH, DANIEL J', 'SMITH-LOVIN, LYNN',\n",
       "       'SMITH, JONATHAN', 'SMITH, MARC L', 'GOLDSMITH, JUDITH A',\n",
       "       'SMITH, SANDRA S', 'MESSERSMITH, PHILLIP B', 'SMITH, ALICE E',\n",
       "       'SMITH, BRUCE', 'SMITH, KARL A', 'SMITH, DEBORAH K',\n",
       "       'SMITH, MICHAEL L', 'MELLIAR-SMITH, P. M.', 'SMITH-DOERR, LAUREL',\n",
       "       'SMITH, EUGENE I', 'SMITH, DENNIS W', 'SMITH, JEROME',\n",
       "       'SMITHWICK, ERICA', 'SMITH, JOHN DAVID', 'SMITH, JOSHUA R',\n",
       "       'SMITH, WILLIAM L', 'SMITH, KIMBERLY G', 'SMITH, PAIGE E',\n",
       "       'SMITH, LAHRA', 'SMITH, MICHELE', 'SMITH, RONALD B',\n",
       "       'SMITH, GERALD T', 'SMITH, RANDALL', 'SMITH, STEVEN P',\n",
       "       'SMITH, GREG', 'SMITH, DAVID M.', 'SMITH, JAMES F',\n",
       "       'ARROWSMITH, J RAMON', 'SMITH, SCOTT C', 'SMITH, DALE C',\n",
       "       'SMITH, KAREN E', 'SMITH, ADAM T', 'SMITH, MELINDA',\n",
       "       'SMITH, KENDALL S', 'SMITH, HOWARD', 'JENKINS-SMITH, HANK C',\n",
       "       'SMITH, KATHERINE', 'SMITH, ERIC A', 'SMITH, CAROLINE L',\n",
       "       'SMITH, HENRY I', 'SMITH, ELIOT R', 'FRASER-SMITH, ANTONY C',\n",
       "       'SMITH, MYRON', 'SMITH, IAN', 'SMITH, LAURENCE', 'SMITH, STEVEN M',\n",
       "       'SMITH, JASON G', 'SMITH, JAMES PATRICK', 'SMITH-BINDMAN, REBECCA',\n",
       "       'GOLDSMITH, HAROLD HILL', 'SMITH, JOSEPH DOUGLAS', 'SMITH, SUSAN',\n",
       "       'SMITH, SHERYL S', 'SMITH, AMOS B', 'SMITH, JANET L.',\n",
       "       'KLINGENSMITH, JOHN A', 'SMITH, AMENA WESTON',\n",
       "       'SMITH, CLIFTON WAYNE', 'SMITH, KELLY D', 'SMITH, TERENCE KEITH',\n",
       "       'SMITH, EARL L', 'SMITH, EDWARD J', 'SMITH, KEVIN M',\n",
       "       'SMITHGALL, THOMAS EDWARD', 'SMITH, ROBERT G', 'SMITH, DEANNA S',\n",
       "       'SMITH, CHARLES D.', 'SMITH, PHILLIP BRIAN', 'SMITH, MATTHEW A',\n",
       "       'SMITH, RICHARD D', 'SMITH, PETER G', 'MERCER, JUDITH SMITH',\n",
       "       'SMITH, DAVID GLENN', 'SMITH, JUSTINE R', 'KUPERSMITH, MARK J',\n",
       "       'SMITH, GARY', 'SMITH, BRET N', 'COOPERSMITH, CRAIG M.',\n",
       "       'SMITH, DAVID H', 'SMITH, ANDREW DAVID', 'SMITH, GORDON STEPHEN',\n",
       "       'SMITH, KAREN MULLER', 'PALMIERI-SMITH, RIANN MARIE',\n",
       "       'SMITH, ANNE', 'SMITH, KIRK R', 'MANGIONE-SMITH, RITA',\n",
       "       'ROUNDS, SHARON IRENE SMITH', 'SMITH, GREGORY T.', 'SMITH, SETH A',\n",
       "       'SMITH, KERRY SCOT', 'SMITH, FELISA ANNAMARIE',\n",
       "       'SMITH, REBEKAH ELIZABETH', 'SMITH, TRISTRAM H',\n",
       "       'SNOKE SMITH, MARGARET', 'SMITH, YOLANDA R',\n",
       "       'CORBIE-SMITH, GISELLE', 'SMITH, M MITCHELL',\n",
       "       'SMITH, GREGORY ALLAN', 'SMITH, TODD M', 'SMITH, JACQUI',\n",
       "       'SMITH, STEPHEN WILLIAM', 'SMITH, ALLAN H', 'SMITH, THOMAS J.',\n",
       "       'SMITH, RICHARD J.H.', 'SMITH, MARTYN T', 'SMITH, ROLAND THEODORE',\n",
       "       'SMITH, ROY G', 'SOUTHARD-SMITH, E MICHELLE',\n",
       "       'FISCHER-SMITH, TRACY', 'SMITH, SUSAN M.', 'SMITH, YOLAND',\n",
       "       'SMITH, CHARLES VINCENT', 'SMITH, WILLIAM', 'SMITH, GEORGE M',\n",
       "       'SMITH, MAUREEN A', 'SMITH, J. DAVID', 'SMITH, LEMAR IRVIN',\n",
       "       'SMITH, SCOTT A', 'NESMITH, ELIZABETH GROOMS', 'SMITH, BRADLEY D.',\n",
       "       'SMITH, PETER JS', 'SMITH, CHARLES DENNIS',\n",
       "       'SMITH, CAROLYN LOUISE', 'GOLDSMITH, KELLY C', 'SMITH, GERALD R',\n",
       "       'SMITH, PHILLIP D', 'SMITH, MARY A', 'SMITH, DOUGLAS HAMILTON',\n",
       "       'SMITHIES, OLIVER', 'SMITH, CAROL E', 'SMITH, W CLAY',\n",
       "       'SMITH, LINDA B.', 'SMITH, MATTHEW RAYMOND',\n",
       "       'CHISOLM, MARGARET SMITH', 'SMITH, JERAMIAH JAMES',\n",
       "       'SMITH, M. SUSAN', 'SMITH BYNUM, MIA A', 'SMITH, SHAD BENJAMIN',\n",
       "       'SMITH, STEVEN OWEN', 'TAYLOR, HUGH SMITH', 'SMITH, DANIEL JAMES',\n",
       "       'SMITH, ELIZABETH R', 'SMITH, MICHAEL T', 'SMITH, LOIS',\n",
       "       'SMITH, JEFFREY W', 'SMITH, NICHOLAS A', 'SMITH, DONALD R',\n",
       "       'SHAPIRO, VIRGINIA SMITH', 'SMITH RICHARDS, BRENDA K',\n",
       "       'SMITH, CHARLES J.', 'SMITH, JILL P', 'SMITH, LAURA NICOLE',\n",
       "       'SMITH, APRIL ROSE', 'SMITH, CURTIS A', 'SMITH, BRUCE F',\n",
       "       'SMITH, LAUREEN', 'SMITH, ALICIA K', 'SMITH, A. GORDON',\n",
       "       'SMITH, BRIAN RICHARD', 'GOLDSMITH, EDIE C',\n",
       "       'SMITH, JEFFREY SCOTT', 'SMITH, PHILIP L', 'SMITH, NICHOLAS L',\n",
       "       'SMITH, DAVID E', 'SMITH, DAVID FLETCHER', 'NAISMITH, ROBERT T',\n",
       "       'SMITH, DAVID VICTOR', 'SMITH, SYLVIA B.', 'SMITH, DANA K',\n",
       "       'SMITH, JASON D', 'SMITH, ELIZABETH F', 'MCCULLUMSMITH, ROBERT E',\n",
       "       'SMITH, RYAN CHAD', 'SMITH, AMBER MARIE', 'SMITH, LINCOLN S',\n",
       "       'SMITH, CHRISTOPHER DAVID', 'SMITH, STEPHEN', 'SMITH, KENNETH J',\n",
       "       'SMITH-BARBARO, PEGGY ANN', 'SMITH, THOMAS JAMES.',\n",
       "       'SMITH, PAUL E', 'SMITH, SIMONE M-L', 'GOLDSMITH, GEOFFREY A',\n",
       "       'SMITH, DAVID M', 'SMITH, CARL DAVID', 'SMITH, ELENOE C.',\n",
       "       'SMITH, TERRY J', 'SMITH, COURTNEY ELIZABETH',\n",
       "       'SMITH, SCOTT RICHARD', 'KLINGENSMITH, GEORGEANNA J',\n",
       "       'KING-SMITH, PETER E', 'SMITH, KYLE S', 'SMITH, REBECCA LAUREEN',\n",
       "       'SMITH, KENDALL A', 'SMITH, RACHEL RUCKDESCHEL', 'SMITH, EMILIE P',\n",
       "       'SMITH, LEWIS J', 'SMITH, SHELLEY D', 'SMITH, PETER K',\n",
       "       'SMITH, JANE ELLEN', 'SMITH, MARK A', 'SMITH, EDWARD E.',\n",
       "       'SMITH, MAUREEN E', 'SMITH, DEAN P.', 'SMITH, JUDITH ANNE',\n",
       "       'SMITH, LOWELL SCOTT', 'SMITH, LAUREN A.',\n",
       "       'SMITH, STEVENS SHEPPARD', 'MESSERSMITH, WELLS A',\n",
       "       'SMITH-WARNER, STEPHANIE A', 'SMITH, GREGORY C',\n",
       "       'NUNEZ-SMITH, MARCELLA', 'SMITH, JEFFREY PAUL',\n",
       "       'SMITH, JONATHAN D', 'SMITH, STEPHEN M', 'SMITH, SHELLY D',\n",
       "       'SMITH, WANLI W', 'SMITH-GAGEN, JULIE', 'SMITH, GWENN S',\n",
       "       'SMITH, LAYTON HARRIS', 'SMITH, JENNIFER SUSAN',\n",
       "       'SMITH, BRIAN CHRISTOPHER', 'GOLDSMITH, ELIZABETH J.',\n",
       "       'GOLDSMITH, JASON R.', 'SMITH, ISSAR', 'SMITH, ANDREW MICHAEL',\n",
       "       'CHANNON SMITH, JACQUELINE YVONNE', 'MORGAN-SMITH, MEGHAN LYNN',\n",
       "       'DARIAN-SMITH, CORINNA', 'BLOOMSMITH, MOLLIE A.',\n",
       "       'SMITH, CAROLYN L', 'SMITH, STEVEN RICHARD', 'SMITH, GLENN E.',\n",
       "       'SMITH, JENNIFER A.', 'SMITH, LARAMIE RAE', 'SMITH, WALLY',\n",
       "       'SMITH, CHARLES B', 'SMITH, JAMES E', 'SMITH, LLOYD M',\n",
       "       'SMITH, DOUGLAS G', 'SMITH, JEFFREY A',\n",
       "       'HIGHSMITH, WILLIAM EDWARD', 'SMITH, DAVID C',\n",
       "       'ARROWSMITH, CHERYL H', 'SMITH, WALLY R', 'SMITH, JOEL T',\n",
       "       'SMITH, DEREK DAVID', 'HERING-SMITH, KATHLEEN S', 'SMITH, BRIAN',\n",
       "       'SMITH, MICHAEL', 'SMITH, JACQUELINE D', 'SMITH, VIRGINIA GAIL',\n",
       "       'SMITH, PAUL J', 'WILDER-SMITH, PETRA E', 'SMITH, STEPHEN D',\n",
       "       'SMITH, THOMAS', 'SMITH, CLYDE A', 'SMITH, PAUL BRADLEY',\n",
       "       'SMITH, DESMOND JAMES', 'SMITH, DALE', 'SMITH, ANDREW',\n",
       "       'SMITH, LYNNE T', 'SMITH, JEFFREY R.', 'SMITH, TARA',\n",
       "       'SMITH, CURTIS SCOTT', 'SMITH, JEANENE A', 'SMITH, LAUREN',\n",
       "       'SMITH, HARVEY', 'SMITH, BRET', 'SMITH SLEP, AMY', 'SMITH, SUE J',\n",
       "       'SMITH, JULIE', 'SMITH, KATHRYN A. NAVARETTE', 'SMITH, GARY A.',\n",
       "       'SMITH-BANKHEAD, NEENA', 'SMITH, PATRICIA K.', 'SMITHEE, LAURI',\n",
       "       'SMITH, HAL', 'SMITH, LINDA LOU', 'GORMAN-SMITH, DEBORAH',\n",
       "       'SMITH, EVAN T.', 'SMITH, JANE S', 'SMITH, JENNIFER G',\n",
       "       'SLEP, AMY MICHELE SMITH', 'KLEINSMITH, MARGE', 'SMITH, VANESSA',\n",
       "       'CATCHINGS-SMITH, DEBORAH', 'SMITH, SANDRA SERNA',\n",
       "       'SMITH, SUSAN ARLENE', 'SMITH, TARA C', 'SMITH, MICHAEL WAYNE',\n",
       "       'SMITH, LAURA YVONNE', 'SMITH, ERICK -', 'SMITH, DARRON',\n",
       "       'SMITH, RICHARD', 'NESMITH, D. SCOTT', 'SMITH, D.', 'SMITH, C.',\n",
       "       'SMITH, M.', 'SMITH, J. M.', 'SMITH, H. M.', 'SMITH, C. R.',\n",
       "       'SMITH, M. O.', 'SMITH, B. J.', 'SMITH, ROGER O', 'SMITH, LINCOLN',\n",
       "       'SMITH, TIMOTHY', 'SMITH, CAROLYN B.', 'SMITH, JEFFREY C',\n",
       "       'SMITH, JANINE A', 'SMITH, ERICKA', 'SMITH, GILBERT',\n",
       "       'SMITH, PAUL', 'SMITH, LEE', 'SMITH, THOMAS J'], dtype=object)"
      ]
     },
     "execution_count": 255,
     "metadata": {},
     "output_type": "execute_result"
    }
   ],
   "source": [
    "smith[' CONTACT_PI_PROJECT_LEADER'].unique()"
   ]
  },
  {
   "cell_type": "code",
   "execution_count": null,
   "metadata": {},
   "outputs": [],
   "source": []
  },
  {
   "cell_type": "markdown",
   "metadata": {},
   "source": [
    "Let's count how many unique inventor IDs and PI names got matched."
   ]
  },
  {
   "cell_type": "code",
   "execution_count": 203,
   "metadata": {
    "ExecuteTime": {
     "end_time": "2020-01-24T03:22:43.454537Z",
     "start_time": "2020-01-24T03:22:43.435745Z"
    }
   },
   "outputs": [
    {
     "data": {
      "text/plain": [
       "250"
      ]
     },
     "execution_count": 203,
     "metadata": {},
     "output_type": "execute_result"
    }
   ],
   "source": [
    "# Let's check the count of unique inventor_ids\n",
    "merge_name['inventor_id'].nunique()"
   ]
  },
  {
   "cell_type": "code",
   "execution_count": 204,
   "metadata": {
    "ExecuteTime": {
     "end_time": "2020-01-24T03:22:43.494972Z",
     "start_time": "2020-01-24T03:22:43.469606Z"
    }
   },
   "outputs": [
    {
     "data": {
      "text/plain": [
       "250"
      ]
     },
     "execution_count": 204,
     "metadata": {},
     "output_type": "execute_result"
    }
   ],
   "source": [
    "# Let's check the count of unique PI names\n",
    "merge_name[' CONTACT_PI_PROJECT_LEADER'].nunique()"
   ]
  },
  {
   "cell_type": "markdown",
   "metadata": {},
   "source": [
    "We can now merge on the **phonetic first, middle, last name**."
   ]
  },
  {
   "cell_type": "code",
   "execution_count": 205,
   "metadata": {
    "ExecuteTime": {
     "end_time": "2020-01-24T03:22:43.729504Z",
     "start_time": "2020-01-24T03:22:43.504433Z"
    }
   },
   "outputs": [],
   "source": [
    "# Merge on phonetic first, middle, last name\n",
    "merge_name_phonetic_middle = inventors.merge(pi,on=['phonetic_first','phonetic_last','phonetic_middle'])"
   ]
  },
  {
   "cell_type": "code",
   "execution_count": 206,
   "metadata": {
    "ExecuteTime": {
     "end_time": "2020-01-24T03:22:43.752751Z",
     "start_time": "2020-01-24T03:22:43.734479Z"
    }
   },
   "outputs": [
    {
     "data": {
      "text/plain": [
       "307"
      ]
     },
     "execution_count": 206,
     "metadata": {},
     "output_type": "execute_result"
    }
   ],
   "source": [
    "# Let's check the count of unique inventor_ids\n",
    "merge_name_phonetic_middle['inventor_id'].nunique()"
   ]
  },
  {
   "cell_type": "code",
   "execution_count": 207,
   "metadata": {
    "ExecuteTime": {
     "end_time": "2020-01-24T03:22:43.774065Z",
     "start_time": "2020-01-24T03:22:43.761978Z"
    }
   },
   "outputs": [
    {
     "data": {
      "text/plain": [
       "422"
      ]
     },
     "execution_count": 207,
     "metadata": {},
     "output_type": "execute_result"
    }
   ],
   "source": [
    "# Let's check the count of unique PI names\n",
    "merge_name_phonetic_middle[' CONTACT_PI_PROJECT_LEADER'].nunique()"
   ]
  },
  {
   "cell_type": "markdown",
   "metadata": {},
   "source": [
    "You can enlarge your links and only merge on **first and last name**."
   ]
  },
  {
   "cell_type": "code",
   "execution_count": 208,
   "metadata": {
    "ExecuteTime": {
     "end_time": "2020-01-24T03:22:43.970945Z",
     "start_time": "2020-01-24T03:22:43.779061Z"
    }
   },
   "outputs": [],
   "source": [
    "merge_name_first_last = inventors.merge(pi,on=['name_first','name_last'])"
   ]
  },
  {
   "cell_type": "code",
   "execution_count": 209,
   "metadata": {
    "ExecuteTime": {
     "end_time": "2020-01-24T03:22:43.991938Z",
     "start_time": "2020-01-24T03:22:43.976928Z"
    }
   },
   "outputs": [
    {
     "data": {
      "text/plain": [
       "384"
      ]
     },
     "execution_count": 209,
     "metadata": {},
     "output_type": "execute_result"
    }
   ],
   "source": [
    "# Check the counts\n",
    "merge_name_first_last['inventor_id'].nunique()"
   ]
  },
  {
   "cell_type": "code",
   "execution_count": 210,
   "metadata": {
    "ExecuteTime": {
     "end_time": "2020-01-24T03:22:44.014580Z",
     "start_time": "2020-01-24T03:22:43.998813Z"
    }
   },
   "outputs": [
    {
     "data": {
      "text/plain": [
       "451"
      ]
     },
     "execution_count": 210,
     "metadata": {},
     "output_type": "execute_result"
    }
   ],
   "source": [
    "# Check the counts\n",
    "merge_name_first_last[' CONTACT_PI_PROJECT_LEADER'].nunique()"
   ]
  },
  {
   "cell_type": "markdown",
   "metadata": {},
   "source": [
    "You can also try merging on **phonetic first and last name**."
   ]
  },
  {
   "cell_type": "code",
   "execution_count": 211,
   "metadata": {
    "ExecuteTime": {
     "end_time": "2020-01-24T03:22:44.247454Z",
     "start_time": "2020-01-24T03:22:44.021197Z"
    }
   },
   "outputs": [],
   "source": [
    "merge_name_phonetic = inventors.merge(pi,on=['phonetic_first','phonetic_last'])"
   ]
  },
  {
   "cell_type": "code",
   "execution_count": 212,
   "metadata": {
    "ExecuteTime": {
     "end_time": "2020-01-24T03:22:44.272694Z",
     "start_time": "2020-01-24T03:22:44.254766Z"
    }
   },
   "outputs": [
    {
     "data": {
      "text/plain": [
       "537"
      ]
     },
     "execution_count": 212,
     "metadata": {},
     "output_type": "execute_result"
    }
   ],
   "source": [
    "merge_name_phonetic['inventor_id'].nunique()"
   ]
  },
  {
   "cell_type": "code",
   "execution_count": 213,
   "metadata": {
    "ExecuteTime": {
     "end_time": "2020-01-24T03:22:44.294742Z",
     "start_time": "2020-01-24T03:22:44.278722Z"
    }
   },
   "outputs": [
    {
     "data": {
      "text/plain": [
       "1152"
      ]
     },
     "execution_count": 213,
     "metadata": {},
     "output_type": "execute_result"
    }
   ],
   "source": [
    "merge_name_phonetic[' CONTACT_PI_PROJECT_LEADER'].nunique()"
   ]
  },
  {
   "cell_type": "markdown",
   "metadata": {},
   "source": [
    "What if we blocked by state?"
   ]
  },
  {
   "cell_type": "code",
   "execution_count": 214,
   "metadata": {
    "ExecuteTime": {
     "end_time": "2020-01-24T03:22:44.486058Z",
     "start_time": "2020-01-24T03:22:44.300759Z"
    }
   },
   "outputs": [],
   "source": [
    "# Rename columns in both datasets to the same name\n",
    "inventors = inventors.rename(columns={'inventor_state':'state'})\n",
    "pi = pi.rename(columns={' ORGANIZATION_STATE':'state'})"
   ]
  },
  {
   "cell_type": "markdown",
   "metadata": {
    "ExecuteTime": {
     "end_time": "2020-01-23T01:13:34.620172Z",
     "start_time": "2020-01-23T01:13:34.611235Z"
    }
   },
   "source": [
    "Merge on **first, middle, last name, and state**."
   ]
  },
  {
   "cell_type": "code",
   "execution_count": 215,
   "metadata": {
    "ExecuteTime": {
     "end_time": "2020-01-24T03:22:44.672376Z",
     "start_time": "2020-01-24T03:22:44.489934Z"
    }
   },
   "outputs": [],
   "source": [
    "merge_name_state = inventors.merge(pi,on=['name_first','name_last','name_middle','state'])"
   ]
  },
  {
   "cell_type": "markdown",
   "metadata": {},
   "source": [
    "How many matches did we get?"
   ]
  },
  {
   "cell_type": "code",
   "execution_count": 216,
   "metadata": {
    "ExecuteTime": {
     "end_time": "2020-01-24T03:22:44.689391Z",
     "start_time": "2020-01-24T03:22:44.677340Z"
    }
   },
   "outputs": [
    {
     "data": {
      "text/plain": [
       "221"
      ]
     },
     "execution_count": 216,
     "metadata": {},
     "output_type": "execute_result"
    }
   ],
   "source": [
    "merge_name_state['inventor_id'].nunique()"
   ]
  },
  {
   "cell_type": "code",
   "execution_count": 217,
   "metadata": {
    "ExecuteTime": {
     "end_time": "2020-01-24T03:22:44.706890Z",
     "start_time": "2020-01-24T03:22:44.693881Z"
    }
   },
   "outputs": [
    {
     "data": {
      "text/plain": [
       "221"
      ]
     },
     "execution_count": 217,
     "metadata": {},
     "output_type": "execute_result"
    }
   ],
   "source": [
    "merge_name_state[' CONTACT_PI_PROJECT_LEADER'].nunique()"
   ]
  },
  {
   "cell_type": "code",
   "execution_count": 218,
   "metadata": {
    "ExecuteTime": {
     "end_time": "2020-01-24T03:22:44.889943Z",
     "start_time": "2020-01-24T03:22:44.715413Z"
    }
   },
   "outputs": [],
   "source": [
    "merge_phonetic_name_state = inventors.merge(pi,on=['phonetic_first','phonetic_last','phonetic_middle','state'])"
   ]
  },
  {
   "cell_type": "code",
   "execution_count": 219,
   "metadata": {
    "ExecuteTime": {
     "end_time": "2020-01-24T03:22:44.903384Z",
     "start_time": "2020-01-24T03:22:44.892925Z"
    }
   },
   "outputs": [
    {
     "data": {
      "text/plain": [
       "244"
      ]
     },
     "execution_count": 219,
     "metadata": {},
     "output_type": "execute_result"
    }
   ],
   "source": [
    "merge_phonetic_name_state['inventor_id'].nunique()"
   ]
  },
  {
   "cell_type": "code",
   "execution_count": 220,
   "metadata": {
    "ExecuteTime": {
     "end_time": "2020-01-24T03:22:44.918649Z",
     "start_time": "2020-01-24T03:22:44.907231Z"
    }
   },
   "outputs": [
    {
     "data": {
      "text/plain": [
       "273"
      ]
     },
     "execution_count": 220,
     "metadata": {},
     "output_type": "execute_result"
    }
   ],
   "source": [
    "merge_phonetic_name_state[' CONTACT_PI_PROJECT_LEADER'].nunique()"
   ]
  },
  {
   "cell_type": "markdown",
   "metadata": {},
   "source": [
    "Now let's try blocking by **full name, city and state**."
   ]
  },
  {
   "cell_type": "code",
   "execution_count": 221,
   "metadata": {
    "ExecuteTime": {
     "end_time": "2020-01-24T03:22:44.936995Z",
     "start_time": "2020-01-24T03:22:44.924899Z"
    }
   },
   "outputs": [],
   "source": [
    "inventors['inventor_city'] = inventors['inventor_city'].str.upper()"
   ]
  },
  {
   "cell_type": "code",
   "execution_count": 222,
   "metadata": {
    "ExecuteTime": {
     "end_time": "2020-01-24T03:22:44.959738Z",
     "start_time": "2020-01-24T03:22:44.942603Z"
    }
   },
   "outputs": [],
   "source": [
    "inventors = inventors.rename(columns={'inventor_city':'city'})"
   ]
  },
  {
   "cell_type": "code",
   "execution_count": 223,
   "metadata": {
    "ExecuteTime": {
     "end_time": "2020-01-24T03:22:45.091606Z",
     "start_time": "2020-01-24T03:22:44.963877Z"
    }
   },
   "outputs": [],
   "source": [
    "pi = pi.rename(columns={' ORGANIZATION_CITY':'city'})"
   ]
  },
  {
   "cell_type": "code",
   "execution_count": 224,
   "metadata": {
    "ExecuteTime": {
     "end_time": "2020-01-24T03:22:45.269416Z",
     "start_time": "2020-01-24T03:22:45.095800Z"
    }
   },
   "outputs": [],
   "source": [
    "merge_name_location_city = inventors.merge(pi, on=['name_first','name_last','name_middle','state','city'])"
   ]
  },
  {
   "cell_type": "markdown",
   "metadata": {},
   "source": [
    "How many matches did we get?"
   ]
  },
  {
   "cell_type": "code",
   "execution_count": 225,
   "metadata": {
    "ExecuteTime": {
     "end_time": "2020-01-24T03:22:45.285447Z",
     "start_time": "2020-01-24T03:22:45.273248Z"
    }
   },
   "outputs": [
    {
     "data": {
      "text/plain": [
       "135"
      ]
     },
     "execution_count": 225,
     "metadata": {},
     "output_type": "execute_result"
    }
   ],
   "source": [
    "merge_name_location_city['inventor_id'].nunique()"
   ]
  },
  {
   "cell_type": "code",
   "execution_count": 226,
   "metadata": {
    "ExecuteTime": {
     "end_time": "2020-01-24T03:22:45.304232Z",
     "start_time": "2020-01-24T03:22:45.289798Z"
    }
   },
   "outputs": [
    {
     "data": {
      "text/plain": [
       "135"
      ]
     },
     "execution_count": 226,
     "metadata": {},
     "output_type": "execute_result"
    }
   ],
   "source": [
    "merge_name_location_city[' CONTACT_PI_PROJECT_LEADER'].nunique()"
   ]
  },
  {
   "cell_type": "code",
   "execution_count": 227,
   "metadata": {
    "ExecuteTime": {
     "end_time": "2020-01-24T03:22:45.633714Z",
     "start_time": "2020-01-24T03:22:45.311193Z"
    }
   },
   "outputs": [],
   "source": [
    "merge_phonetic_name_location_city = inventors.merge(pi, on=['phonetic_first','phonetic_last','state','city'])"
   ]
  },
  {
   "cell_type": "code",
   "execution_count": 228,
   "metadata": {
    "ExecuteTime": {
     "end_time": "2020-01-24T03:22:45.676335Z",
     "start_time": "2020-01-24T03:22:45.649205Z"
    }
   },
   "outputs": [
    {
     "data": {
      "text/plain": [
       "190"
      ]
     },
     "execution_count": 228,
     "metadata": {},
     "output_type": "execute_result"
    }
   ],
   "source": [
    "merge_phonetic_name_location_city['inventor_id'].nunique()"
   ]
  },
  {
   "cell_type": "code",
   "execution_count": 229,
   "metadata": {
    "ExecuteTime": {
     "end_time": "2020-01-24T03:22:45.748471Z",
     "start_time": "2020-01-24T03:22:45.696618Z"
    }
   },
   "outputs": [
    {
     "data": {
      "text/plain": [
       "206"
      ]
     },
     "execution_count": 229,
     "metadata": {},
     "output_type": "execute_result"
    }
   ],
   "source": [
    "merge_phonetic_name_location_city[' CONTACT_PI_PROJECT_LEADER'].nunique()"
   ]
  },
  {
   "cell_type": "markdown",
   "metadata": {},
   "source": [
    "<span style=\"color:red\">**Checkpoint 3: Deterministic matching of organization names**</span>"
   ]
  },
  {
   "cell_type": "markdown",
   "metadata": {},
   "source": [
    "Now try doing different types of merges using organization names, blocking on different variables and seeing the differences."
   ]
  },
  {
   "cell_type": "code",
   "execution_count": 230,
   "metadata": {
    "ExecuteTime": {
     "end_time": "2020-01-24T03:22:45.820125Z",
     "start_time": "2020-01-24T03:22:45.796257Z"
    }
   },
   "outputs": [],
   "source": [
    "# your code here...\n",
    "\n"
   ]
  },
  {
   "cell_type": "markdown",
   "metadata": {},
   "source": [
    "**Optional: Regular Expressions - regex**\n",
    "\n",
    "When defining a regular expression search pattern, it is a good idea to start out by writing down, explicitly, in plain English, what you are trying to search for and exactly how you identify when you've found a match.\n",
    "For example, if we look at an author field formatted as \"<last_name> , <first_name> <middle_name>\", in plain English, this is how I would explain where to find the last name: \"starting from the beginning of the line, take all the characters until you see a comma.\"\n",
    "\n",
    "We can build a regular expression that captures this idea from the following components:\n",
    "- ^ Matches beginning of the line\n",
    "- . Matches any character\n",
    "- .+ A modifier that means \"match one or more of the preceding expression\"\n",
    "\n",
    "In a regular expression, there are special reserved characters and character classes like those in the list above. Anything that is not a special character or class is just looked for explicitly (for example, a comma is not a special character in regular expressions, so if it is in a regular expression pattern, the regular expression processor will just be looking for a comma in the string, at that point in the pattern).\n",
    "\n",
    "Note: if you want to actually look for one of these reserved characters, it must be escaped, so that, for example, the expression looks for a literal period, rather than the special regular expression meaning of a period. To escape a reserved character in a regular expression, precede it with a back slash ( \".\" ).\n",
    "This results in the regular expression: ^.+,\n",
    "\n",
    "We start at the beginning of the line ( \"^\" ), matching any characters ( \".+\" ) until we come to the literal character of a comma ( \",\" ).\n",
    "\n",
    "In python, to use a regular expression like this to search for matches in a given string, we use the built-in \"re\" package ( https://docs.python.org/2/library/re.html ), specifically the \"re.search()\" method. To use \"re.search()\", pass it first the regular expression you want to use to search, enclosed in quotation marks, and then the string you want to search within. \n",
    "\n",
    "#### REGEX CHEATSHEET\n",
    "\n",
    "\n",
    "    - abc...     Letters\n",
    "    - 123...     Digits\n",
    "    - \\d         Any Digit\n",
    "    - \\D         Any non-Digit Character\n",
    "    - .          Any Character\n",
    "    - \\.         Period\n",
    "    - [a,b,c]    Only a, b or c\n",
    "    - [^a,b,c]   Not a,b, or c\n",
    "    - [a-z]      Characters a to z\n",
    "    - [0-9]      Numbers 0 to 9\n",
    "    - \\w any     Alphanumeric chracter\n",
    "    - \\W         any non-Alphanumeric character\n",
    "    - {m}        m Repetitions\n",
    "    - {m,n}      m to n repetitions\n",
    "    - *          Zero or more repetitions\n",
    "    - +          One or more repetitions\n",
    "    - ?          Optional Character\n",
    "    - \\s         any Whitespace\n",
    "    - \\S         any non-Whitespace character\n",
    "    - ^...$      Starts & Ends\n",
    "    - (...)      Capture Group\n",
    "    - (a(bc))    Capture sub-Group\n",
    "    - (.*)       Capture All\n",
    "    - (abc|def)  Capture abc or def\n",
    "     \n",
    "#### EXAMPLES\n",
    "    - (\\d\\d|\\D) will match 22X, 23G, 56H, etc...\n",
    "    - \\w will match any characters between 0-9 or a-z\n",
    "    - \\w{1-3} will match any alphanumeric character of a length of 1 to 3. \n",
    "    - (spell|spells) will match spell or spells"
   ]
  },
  {
   "cell_type": "markdown",
   "metadata": {},
   "source": [
    "## References and Further Readings\n",
    "\n",
    "\n",
    "### Record Linkage\n",
    "Winkler, William E. 2009. “Record Linkage.” In Handbook of Statistics 29a, Sample Surveys: Design, Methods and Applications, edited by D. Pfeffermann and C.\n",
    "R. Rao, 351–80. Elsevier.\n",
    "\n",
    "Lane, Julia, Ian Foster, Rayid Ghani, Ron S. Jarmin, Frauke Kreuter (editors), Big Data and Social Science: A Practical Guide to Methods and Tools, Chapman and Hall/CRC Press, 2016. \n",
    "https://coleridge-initiative.github.io/big-data-and-social-science/chap-link.html\n",
    "\n",
    "### Parsing\n",
    "\n",
    "* Python online documentation: https://docs.python.org/2/library/string.html#deprecated-string-functions\n",
    "* Python 2.7 Tutorial (Splitting and Joining Strings): http://www.pitt.edu/~naraehan/python2/split_join.html\n",
    "\n",
    "### Regular Expression\n",
    "\n",
    "* Python documentation: https://docs.python.org/2/library/re.html#regular-expression-syntax\n",
    "* Online regular expression tester (good for learning): http://regex101.com/\n",
    "\n",
    "### Record Linkage Python package\n",
    "* `recordlinkage` Python package: https://recordlinkage.readthedocs.io/en/latest/index.html"
   ]
  },
  {
   "cell_type": "code",
   "execution_count": null,
   "metadata": {},
   "outputs": [],
   "source": []
  }
 ],
 "metadata": {
  "kernelspec": {
   "display_name": "Python 3",
   "language": "python",
   "name": "python3"
  },
  "language_info": {
   "codemirror_mode": {
    "name": "ipython",
    "version": 3
   },
   "file_extension": ".py",
   "mimetype": "text/x-python",
   "name": "python",
   "nbconvert_exporter": "python",
   "pygments_lexer": "ipython3",
   "version": "3.7.4"
  },
  "toc": {
   "base_numbering": 1,
   "nav_menu": {},
   "number_sections": true,
   "sideBar": true,
   "skip_h1_title": false,
   "title_cell": "Table of Contents",
   "title_sidebar": "Contents",
   "toc_cell": true,
   "toc_position": {
    "height": "calc(100% - 180px)",
    "left": "10px",
    "top": "150px",
    "width": "165px"
   },
   "toc_section_display": true,
   "toc_window_display": false
  },
  "varInspector": {
   "cols": {
    "lenName": 16,
    "lenType": 16,
    "lenVar": 40
   },
   "kernels_config": {
    "python": {
     "delete_cmd_postfix": "",
     "delete_cmd_prefix": "del ",
     "library": "var_list.py",
     "varRefreshCmd": "print(var_dic_list())"
    },
    "r": {
     "delete_cmd_postfix": ") ",
     "delete_cmd_prefix": "rm(",
     "library": "var_list.r",
     "varRefreshCmd": "cat(var_dic_list()) "
    }
   },
   "types_to_exclude": [
    "module",
    "function",
    "builtin_function_or_method",
    "instance",
    "_Feature"
   ],
   "window_display": false
  }
 },
 "nbformat": 4,
 "nbformat_minor": 2
}
