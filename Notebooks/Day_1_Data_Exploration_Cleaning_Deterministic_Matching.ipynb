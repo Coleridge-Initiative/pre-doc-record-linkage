{
 "cells": [
  {
   "cell_type": "markdown",
   "metadata": {
    "toc": true
   },
   "source": [
    "<h1>Table of Contents<span class=\"tocSkip\"></span></h1>\n",
    "<div class=\"toc\"><ul class=\"toc-item\"><li><span><a href=\"#Record-Linkage\" data-toc-modified-id=\"Record-Linkage-1\"><span class=\"toc-item-num\">1&nbsp;&nbsp;</span>Record Linkage</a></span><ul class=\"toc-item\"><li><span><a href=\"#The-Principles-of-Record-Linkage\" data-toc-modified-id=\"The-Principles-of-Record-Linkage-1.1\"><span class=\"toc-item-num\">1.1&nbsp;&nbsp;</span>The Principles of Record Linkage</a></span></li><li><span><a href=\"#Linking-Patents-to-Grants:-individual-and-organization-levels\" data-toc-modified-id=\"Linking-Patents-to-Grants:-individual-and-organization-levels-1.2\"><span class=\"toc-item-num\">1.2&nbsp;&nbsp;</span>Linking Patents to Grants: individual and organization levels</a></span></li><li><span><a href=\"#Python-Setup\" data-toc-modified-id=\"Python-Setup-1.3\"><span class=\"toc-item-num\">1.3&nbsp;&nbsp;</span>Python Setup</a></span></li></ul></li><li><span><a href=\"#Data-Exploration:-Know-Your-Data\" data-toc-modified-id=\"Data-Exploration:-Know-Your-Data-2\"><span class=\"toc-item-num\">2&nbsp;&nbsp;</span>Data Exploration: Know Your Data</a></span><ul class=\"toc-item\"><li><ul class=\"toc-item\"><li><span><a href=\"#Individual-level-links:-inventor-(patent)-<->-principal-investigator-(grant)\" data-toc-modified-id=\"Individual-level-links:-inventor-(patent)-<->-principal-investigator-(grant)-2.0.1\"><span class=\"toc-item-num\">2.0.1&nbsp;&nbsp;</span>Individual-level links: inventor (patent) &lt;-&gt; principal investigator (grant)</a></span><ul class=\"toc-item\"><li><span><a href=\"#PatentsView:-inventor-names-on-patents\" data-toc-modified-id=\"PatentsView:-inventor-names-on-patents-2.0.1.1\"><span class=\"toc-item-num\">2.0.1.1&nbsp;&nbsp;</span>PatentsView: inventor names on patents</a></span></li><li><span><a href=\"#FedRePORTER:-principal-investigator-names-on-grants\" data-toc-modified-id=\"FedRePORTER:-principal-investigator-names-on-grants-2.0.1.2\"><span class=\"toc-item-num\">2.0.1.2&nbsp;&nbsp;</span>FedRePORTER: principal investigator names on grants</a></span></li></ul></li></ul></li></ul></li><li><span><a href=\"#Data-Cleaning\" data-toc-modified-id=\"Data-Cleaning-3\"><span class=\"toc-item-num\">3&nbsp;&nbsp;</span>Data Cleaning</a></span><ul class=\"toc-item\"><li><span><a href=\"#The-Importance-of-Pre-Processing\" data-toc-modified-id=\"The-Importance-of-Pre-Processing-3.1\"><span class=\"toc-item-num\">3.1&nbsp;&nbsp;</span>The Importance of Pre-Processing</a></span><ul class=\"toc-item\"><li><span><a href=\"#Individual-level-links\" data-toc-modified-id=\"Individual-level-links-3.1.1\"><span class=\"toc-item-num\">3.1.1&nbsp;&nbsp;</span>Individual-level links</a></span><ul class=\"toc-item\"><li><span><a href=\"#Clean-Inventor-Data\" data-toc-modified-id=\"Clean-Inventor-Data-3.1.1.1\"><span class=\"toc-item-num\">3.1.1.1&nbsp;&nbsp;</span>Clean Inventor Data</a></span></li><li><span><a href=\"#Clean-Grant-Data\" data-toc-modified-id=\"Clean-Grant-Data-3.1.1.2\"><span class=\"toc-item-num\">3.1.1.2&nbsp;&nbsp;</span>Clean Grant Data</a></span></li></ul></li></ul></li></ul></li><li><span><a href=\"#Deterministic-Matching\" data-toc-modified-id=\"Deterministic-Matching-4\"><span class=\"toc-item-num\">4&nbsp;&nbsp;</span>Deterministic Matching</a></span><ul class=\"toc-item\"><li><ul class=\"toc-item\"><li><span><a href=\"#Individual-level-links\" data-toc-modified-id=\"Individual-level-links-4.0.1\"><span class=\"toc-item-num\">4.0.1&nbsp;&nbsp;</span>Individual-level links</a></span><ul class=\"toc-item\"><li><span><a href=\"#REGEX-CHEATSHEET\" data-toc-modified-id=\"REGEX-CHEATSHEET-4.0.1.1\"><span class=\"toc-item-num\">4.0.1.1&nbsp;&nbsp;</span>REGEX CHEATSHEET</a></span></li><li><span><a href=\"#EXAMPLES\" data-toc-modified-id=\"EXAMPLES-4.0.1.2\"><span class=\"toc-item-num\">4.0.1.2&nbsp;&nbsp;</span>EXAMPLES</a></span></li></ul></li></ul></li><li><span><a href=\"#References-and-Further-Readings\" data-toc-modified-id=\"References-and-Further-Readings-4.1\"><span class=\"toc-item-num\">4.1&nbsp;&nbsp;</span>References and Further Readings</a></span><ul class=\"toc-item\"><li><span><a href=\"#Record-Linkage\" data-toc-modified-id=\"Record-Linkage-4.1.1\"><span class=\"toc-item-num\">4.1.1&nbsp;&nbsp;</span>Record Linkage</a></span></li><li><span><a href=\"#Parsing\" data-toc-modified-id=\"Parsing-4.1.2\"><span class=\"toc-item-num\">4.1.2&nbsp;&nbsp;</span>Parsing</a></span></li><li><span><a href=\"#Regular-Expression\" data-toc-modified-id=\"Regular-Expression-4.1.3\"><span class=\"toc-item-num\">4.1.3&nbsp;&nbsp;</span>Regular Expression</a></span></li><li><span><a href=\"#Record-Linkage-Python-package\" data-toc-modified-id=\"Record-Linkage-Python-package-4.1.4\"><span class=\"toc-item-num\">4.1.4&nbsp;&nbsp;</span>Record Linkage Python package</a></span></li></ul></li></ul></li></ul></div>"
   ]
  },
  {
   "cell_type": "markdown",
   "metadata": {},
   "source": [
    "Contributors:\n",
    "Rayid Ghani, Frauke Kreuter, Julia Lane, Brian Kim, Adrianne Bradford, Alex Engler, Nicolas Guetta Jeanrenaud, Graham Henke, Daniela Hochfellner, Clayton Hunter, Avishek Kumar, Jonathan Morgan, Ekaterina Levitskaya."
   ]
  },
  {
   "cell_type": "markdown",
   "metadata": {},
   "source": [
    "# Record Linkage"
   ]
  },
  {
   "cell_type": "markdown",
   "metadata": {},
   "source": [
    "This notebook will provide you with an instruction into Record Linkage using Python. Upon completion of this notebook you will be able to apply record linkage techniques using the `recordlinkage` package to combine data from different sources in Python. \n",
    "It will lead you through all the steps necessary for a sucessful record linkage starting with data preparation  including pre-processing, cleaning and standardization of data."
   ]
  },
  {
   "cell_type": "markdown",
   "metadata": {},
   "source": [
    "## The Principles of Record Linkage\n",
    "The goal of record linkage is to determine if pairs of records describe the same entity. For instance, this is important for removing duplicates from a data source or joining two separate data sources together. Record linkage also goes by the terms data matching, merge/purge, duplication detection, de-duping, reference matching, entity resolution, disambiguation, co-reference/anaphora in various fields.\n",
    "\n",
    "There are several approaches to record linkage that include \n",
    "    - exact matching,\n",
    "    - rule-based linking, \n",
    "    - probabilistic linking. \n",
    "- An example of **exact matching** is joining records based on a direct identifier. This is what we have already have done in SQL by joining tables. \n",
    "- **Rule-based matching** involves applying a cascading set of rules that reflect the domain knowledge of the records being linked. \n",
    "- In **probabilistic record linkages**, linkage weights are estimated to calculate the probability of a certain match.\n",
    "\n",
    "In practical applications you will need record linkage techiques to combine information addressing the same entity that is stored in different data sources. Record linkage will also help you to address the quality of different data sources. For example, if one of your databases has missing values you might be able to fill those by finding an identical pair in a different data source. Overall, the main applications of record linkage are:\n",
    "    1. Merging two or more data files. \n",
    "    2. Identifying the intersection of the two data sets. \n",
    "    3. Updating data files (with the data row of the other data files) and imputing missing data.\n",
    "    4. Entity disambiguation and de-duplication."
   ]
  },
  {
   "cell_type": "markdown",
   "metadata": {},
   "source": [
    "## Linking Patents to Grants: individual and organization levels\n",
    "\n",
    "In this class we will link records obtained from the **PatentsView** (https://www.patentsview.org/download/) to the data on federal grants in **FedRePORTER** (https://federalreporter.nih.gov/FileDownload). In both datasets we have names that we can use to link: inventor names on patents and principal investigator names on grants."
   ]
  },
  {
   "cell_type": "markdown",
   "metadata": {
    "ExecuteTime": {
     "end_time": "2020-01-24T00:05:31.897322Z",
     "start_time": "2020-01-24T00:05:31.874358Z"
    }
   },
   "source": [
    "**About USPTO/PatentsView**\n",
    "\n",
    "The PatentsView platform links inventors, organizations, locations, and patenting activity since 1976. \n",
    "\n",
    "\n",
    "**Key variables of interest**:\n",
    "\n",
    "**Patent**\n",
    "- Patent processing time (duration between a patent application filing date and\n",
    "grant date)\n",
    "- Title\n",
    "- Type of patent document (utility, design, plant, reissue, defensive, and statutory\n",
    "invention registration—offer different kinds of protection for distinct types of\n",
    "subject matter)\n",
    "- Cited patent (patent is cited when it appears as a reference in another patent or\n",
    "patent application)\n",
    "- Citing patent (patent that cites a patent or patent application as a reference in its\n",
    "&#39;references cited&#39; section)\n",
    "- Grant date (date a patent was issued by the USPTO)\n",
    "- International Patent Classification (IPC) (system of patent classifications\n",
    "published by the World Intellectual Property Organization (WIPO))\n",
    "\n",
    "**Assignee** (the name of the entity—company, foundation, partnership, holding company\n",
    "or individual—that owns the patent)\n",
    "- First name (if assignee is individual)\n",
    "- Last name (if assignee is individual)\n",
    "- Organization name (if assignee is organization)\n",
    "- Type (classification of assignee)\n",
    "- Location (City, State, Country, Latitude, Longitude, County, FIPS code (state), FIPS code (county))\n",
    "\n",
    "**Inventor** (the individual who conceived the invention)\n",
    "- First name\n",
    "- Last name\n",
    "- Gender\n",
    "- Location (City, State, Country, Latitude, Longitude, County, FIPS code (state), FIPS code (county))\n",
    "- Co-inventor (a person who appears on the same patent or patent application as\n",
    "another inventor)"
   ]
  },
  {
   "cell_type": "markdown",
   "metadata": {},
   "source": [
    "**About Federal RePORTER**\n",
    "\n",
    "Federal RePORTER is a collaborative effort led by STAR METRICS® to create a searchable\n",
    "database of scientific awards from agencies (across agencies or fiscal years, by the award&#39;s\n",
    "project leader, or by a text search of a project&#39;s title, terms, or abstracts). The National Institutes of Health (NIH) and the National Science Foundation (NSF), under the auspices of Office of Science and Technology Policy (OSTP), are leading this project with funding provided by NIH, NSF, the U.S. Department of Agriculture, and the Environmental Protection Agency."
   ]
  },
  {
   "cell_type": "markdown",
   "metadata": {
    "ExecuteTime": {
     "end_time": "2020-01-24T00:10:44.220943Z",
     "start_time": "2020-01-24T00:10:44.210446Z"
    }
   },
   "source": [
    "Agencies with data in Federal RePORTER: DOD (Department of Defense), ED (Department of Education), Environmental Protection Agency (EPA), HHS (Department of Health and Human Services), National Aeronautics and Space Administration (NASA), National Science Foundation (NSF), USDA (United States Department of Agriculture), U.S. Department of Veterans Affairs (VA)."
   ]
  },
  {
   "cell_type": "markdown",
   "metadata": {},
   "source": [
    "**Key variables of interest**:\n",
    "- Project description\n",
    "    - Title\n",
    "    - Abstract\n",
    "    - Terms (keywords from the project title and abstract)\n",
    "- Project duration\n",
    "    - Start date\n",
    "    - End date\n",
    "- Total cost of a project\n",
    "- Financial year\n",
    "- Federal agency, department\n",
    "- Principal Investigator (PI) Project Leader\n",
    "    - First name\n",
    "    - Last name\n",
    "- Other PIs\n",
    "    - First name\n",
    "    - Last name\n",
    "- Organization name\n",
    "- Organization location (City, State, Zip, Country)\n",
    "- CFDA code (The Catalog of Federal Domestic Assistance, federal financial assistance\n",
    "and nonfinancial assistance programs)"
   ]
  },
  {
   "cell_type": "markdown",
   "metadata": {},
   "source": [
    "**Questions for group discussion:** \n",
    "- What variables would you use for record linkage using these datasets?\n",
    "- What problems do you anticipate?"
   ]
  },
  {
   "cell_type": "markdown",
   "metadata": {},
   "source": [
    "## Python Setup"
   ]
  },
  {
   "cell_type": "markdown",
   "metadata": {},
   "source": [
    "**Class Subset**: The FedRePORTER dataset includes records from year 2010, and PatentsView dataset includes records from 2015-2019 of patents with government interest (in order to account for a time lag between the start of a grant and potential outputs (registered patents) from a grant)."
   ]
  },
  {
   "cell_type": "markdown",
   "metadata": {},
   "source": [
    "Import necessary Python packages."
   ]
  },
  {
   "cell_type": "code",
   "execution_count": 1,
   "metadata": {
    "ExecuteTime": {
     "end_time": "2020-01-23T23:04:33.854706Z",
     "start_time": "2020-01-23T23:04:31.380271Z"
    },
    "collapsed": true
   },
   "outputs": [],
   "source": [
    "# data import and manipulation\n",
    "import pandas as pd\n",
    "\n",
    "# record linkage and preprocessing\n",
    "import recordlinkage as rl\n",
    "from recordlinkage.preprocessing import clean, phonetic"
   ]
  },
  {
   "cell_type": "markdown",
   "metadata": {},
   "source": [
    "# Data Exploration: Know Your Data"
   ]
  },
  {
   "cell_type": "markdown",
   "metadata": {},
   "source": [
    "### Individual-level links: inventor (patent) <-> principal investigator (grant)"
   ]
  },
  {
   "cell_type": "markdown",
   "metadata": {},
   "source": [
    "#### PatentsView: inventor names on patents"
   ]
  },
  {
   "cell_type": "code",
   "execution_count": 120,
   "metadata": {
    "ExecuteTime": {
     "end_time": "2020-01-23T23:10:57.921954Z",
     "start_time": "2020-01-23T23:10:57.895866Z"
    },
    "collapsed": true
   },
   "outputs": [],
   "source": [
    "# Import CSV into a dataframe\n",
    "inventors = pd.read_csv('patentsview_inventors.csv')"
   ]
  },
  {
   "cell_type": "code",
   "execution_count": 155,
   "metadata": {
    "ExecuteTime": {
     "end_time": "2020-01-24T01:21:44.263194Z",
     "start_time": "2020-01-24T01:21:44.239664Z"
    },
    "collapsed": false
   },
   "outputs": [
    {
     "data": {
      "text/html": [
       "<div>\n",
       "<style scoped>\n",
       "    .dataframe tbody tr th:only-of-type {\n",
       "        vertical-align: middle;\n",
       "    }\n",
       "\n",
       "    .dataframe tbody tr th {\n",
       "        vertical-align: top;\n",
       "    }\n",
       "\n",
       "    .dataframe thead th {\n",
       "        text-align: right;\n",
       "    }\n",
       "</style>\n",
       "<table border=\"1\" class=\"dataframe\">\n",
       "  <thead>\n",
       "    <tr style=\"text-align: right;\">\n",
       "      <th></th>\n",
       "      <th>patent_id</th>\n",
       "      <th>year</th>\n",
       "      <th>inventor_id</th>\n",
       "      <th>name_first</th>\n",
       "      <th>name_last</th>\n",
       "      <th>inventor_city</th>\n",
       "      <th>inventor_state</th>\n",
       "      <th>inventor_country</th>\n",
       "      <th>full_name</th>\n",
       "    </tr>\n",
       "  </thead>\n",
       "  <tbody>\n",
       "    <tr>\n",
       "      <td>0</td>\n",
       "      <td>9980635</td>\n",
       "      <td>2018</td>\n",
       "      <td>9980635-1</td>\n",
       "      <td>Maria Eliana</td>\n",
       "      <td>Manquez Hatta</td>\n",
       "      <td>Santiago</td>\n",
       "      <td>NaN</td>\n",
       "      <td>CL</td>\n",
       "      <td>Maria Eliana Manquez Hatta</td>\n",
       "    </tr>\n",
       "    <tr>\n",
       "      <td>1</td>\n",
       "      <td>9980635</td>\n",
       "      <td>2018</td>\n",
       "      <td>9980635-2</td>\n",
       "      <td>Humberto</td>\n",
       "      <td>Lobos Sucarrat</td>\n",
       "      <td>Santiago</td>\n",
       "      <td>NaN</td>\n",
       "      <td>CL</td>\n",
       "      <td>Humberto Lobos Sucarrat</td>\n",
       "    </tr>\n",
       "    <tr>\n",
       "      <td>2</td>\n",
       "      <td>9999665</td>\n",
       "      <td>2018</td>\n",
       "      <td>8398993-2</td>\n",
       "      <td>Pablo A.</td>\n",
       "      <td>Gonzalez Munoz</td>\n",
       "      <td>Santiago</td>\n",
       "      <td>NaN</td>\n",
       "      <td>CL</td>\n",
       "      <td>Pablo A. Gonzalez Munoz</td>\n",
       "    </tr>\n",
       "    <tr>\n",
       "      <td>3</td>\n",
       "      <td>9980641</td>\n",
       "      <td>2018</td>\n",
       "      <td>5321501-6</td>\n",
       "      <td>Joel S.</td>\n",
       "      <td>Schuman</td>\n",
       "      <td>Pittsburgh</td>\n",
       "      <td>PA</td>\n",
       "      <td>US</td>\n",
       "      <td>Joel S. Schuman</td>\n",
       "    </tr>\n",
       "    <tr>\n",
       "      <td>4</td>\n",
       "      <td>9980641</td>\n",
       "      <td>2018</td>\n",
       "      <td>9980641-3</td>\n",
       "      <td>Lawrence Edward</td>\n",
       "      <td>Kagemann</td>\n",
       "      <td>Pittsburgh</td>\n",
       "      <td>PA</td>\n",
       "      <td>US</td>\n",
       "      <td>Lawrence Edward Kagemann</td>\n",
       "    </tr>\n",
       "  </tbody>\n",
       "</table>\n",
       "</div>"
      ],
      "text/plain": [
       "  patent_id  year inventor_id       name_first       name_last inventor_city  \\\n",
       "0   9980635  2018   9980635-1     Maria Eliana   Manquez Hatta      Santiago   \n",
       "1   9980635  2018   9980635-2         Humberto  Lobos Sucarrat      Santiago   \n",
       "2   9999665  2018   8398993-2         Pablo A.  Gonzalez Munoz      Santiago   \n",
       "3   9980641  2018   5321501-6          Joel S.         Schuman    Pittsburgh   \n",
       "4   9980641  2018   9980641-3  Lawrence Edward        Kagemann    Pittsburgh   \n",
       "\n",
       "  inventor_state inventor_country                   full_name  \n",
       "0            NaN               CL  Maria Eliana Manquez Hatta  \n",
       "1            NaN               CL     Humberto Lobos Sucarrat  \n",
       "2            NaN               CL     Pablo A. Gonzalez Munoz  \n",
       "3             PA               US             Joel S. Schuman  \n",
       "4             PA               US    Lawrence Edward Kagemann  "
      ]
     },
     "execution_count": 155,
     "metadata": {},
     "output_type": "execute_result"
    }
   ],
   "source": [
    "# View first rows of the dataframe\n",
    "inventors.head()"
   ]
  },
  {
   "cell_type": "code",
   "execution_count": 160,
   "metadata": {
    "ExecuteTime": {
     "end_time": "2020-01-24T01:25:40.363277Z",
     "start_time": "2020-01-24T01:25:40.348123Z"
    },
    "collapsed": false
   },
   "outputs": [
    {
     "data": {
      "text/plain": [
       "array(['David C.', 'Joseph T.', 'William Addison', 'Brian Anthony',\n",
       "       'Nicholas'], dtype=object)"
      ]
     },
     "execution_count": 160,
     "metadata": {},
     "output_type": "execute_result"
    }
   ],
   "source": [
    "inventors[inventors['name_last'] == 'Smith']['name_first'].unique()"
   ]
  },
  {
   "cell_type": "code",
   "execution_count": 150,
   "metadata": {
    "ExecuteTime": {
     "end_time": "2020-01-24T00:16:19.419206Z",
     "start_time": "2020-01-24T00:16:19.406565Z"
    },
    "collapsed": false
   },
   "outputs": [
    {
     "name": "stdout",
     "output_type": "stream",
     "text": [
      "<class 'pandas.core.frame.DataFrame'>\n",
      "RangeIndex: 4841 entries, 0 to 4840\n",
      "Data columns (total 9 columns):\n",
      "patent_id           4841 non-null object\n",
      "year                4841 non-null int64\n",
      "inventor_id         4841 non-null object\n",
      "name_first          4841 non-null object\n",
      "name_last           4841 non-null object\n",
      "inventor_city       4840 non-null object\n",
      "inventor_state      3994 non-null object\n",
      "inventor_country    4841 non-null object\n",
      "full_name           4841 non-null object\n",
      "dtypes: int64(1), object(8)\n",
      "memory usage: 340.5+ KB\n"
     ]
    }
   ],
   "source": [
    "inventors.info()"
   ]
  },
  {
   "cell_type": "markdown",
   "metadata": {},
   "source": [
    "We notice that `inventor_state` information appears to be missing in some cases (3,994 records vs total 4,841 records).\n",
    "\n",
    "We can check the rows that are missing by calling `.isnull()`."
   ]
  },
  {
   "cell_type": "code",
   "execution_count": 59,
   "metadata": {
    "ExecuteTime": {
     "end_time": "2020-01-23T23:06:26.079521Z",
     "start_time": "2020-01-23T23:06:26.054998Z"
    },
    "collapsed": false
   },
   "outputs": [
    {
     "data": {
      "text/html": [
       "<div>\n",
       "<style scoped>\n",
       "    .dataframe tbody tr th:only-of-type {\n",
       "        vertical-align: middle;\n",
       "    }\n",
       "\n",
       "    .dataframe tbody tr th {\n",
       "        vertical-align: top;\n",
       "    }\n",
       "\n",
       "    .dataframe thead th {\n",
       "        text-align: right;\n",
       "    }\n",
       "</style>\n",
       "<table border=\"1\" class=\"dataframe\">\n",
       "  <thead>\n",
       "    <tr style=\"text-align: right;\">\n",
       "      <th></th>\n",
       "      <th>patent_id</th>\n",
       "      <th>year</th>\n",
       "      <th>inventor_id</th>\n",
       "      <th>name_first</th>\n",
       "      <th>name_last</th>\n",
       "      <th>inventor_city</th>\n",
       "      <th>inventor_state</th>\n",
       "      <th>inventor_country</th>\n",
       "    </tr>\n",
       "  </thead>\n",
       "  <tbody>\n",
       "    <tr>\n",
       "      <td>0</td>\n",
       "      <td>9980635</td>\n",
       "      <td>2018</td>\n",
       "      <td>9980635-1</td>\n",
       "      <td>Maria Eliana</td>\n",
       "      <td>Manquez Hatta</td>\n",
       "      <td>Santiago</td>\n",
       "      <td>NaN</td>\n",
       "      <td>CL</td>\n",
       "    </tr>\n",
       "    <tr>\n",
       "      <td>1</td>\n",
       "      <td>9980635</td>\n",
       "      <td>2018</td>\n",
       "      <td>9980635-2</td>\n",
       "      <td>Humberto</td>\n",
       "      <td>Lobos Sucarrat</td>\n",
       "      <td>Santiago</td>\n",
       "      <td>NaN</td>\n",
       "      <td>CL</td>\n",
       "    </tr>\n",
       "    <tr>\n",
       "      <td>2</td>\n",
       "      <td>9999665</td>\n",
       "      <td>2018</td>\n",
       "      <td>8398993-2</td>\n",
       "      <td>Pablo A.</td>\n",
       "      <td>Gonzalez Munoz</td>\n",
       "      <td>Santiago</td>\n",
       "      <td>NaN</td>\n",
       "      <td>CL</td>\n",
       "    </tr>\n",
       "    <tr>\n",
       "      <td>100</td>\n",
       "      <td>9980645</td>\n",
       "      <td>2018</td>\n",
       "      <td>4306291-3</td>\n",
       "      <td>Dominique M.</td>\n",
       "      <td>Durand</td>\n",
       "      <td>Toronto</td>\n",
       "      <td>NaN</td>\n",
       "      <td>CA</td>\n",
       "    </tr>\n",
       "    <tr>\n",
       "      <td>101</td>\n",
       "      <td>9981915</td>\n",
       "      <td>2018</td>\n",
       "      <td>5156079-2</td>\n",
       "      <td>Wei</td>\n",
       "      <td>Li</td>\n",
       "      <td>Toronto</td>\n",
       "      <td>NaN</td>\n",
       "      <td>CA</td>\n",
       "    </tr>\n",
       "    <tr>\n",
       "      <td>...</td>\n",
       "      <td>...</td>\n",
       "      <td>...</td>\n",
       "      <td>...</td>\n",
       "      <td>...</td>\n",
       "      <td>...</td>\n",
       "      <td>...</td>\n",
       "      <td>...</td>\n",
       "      <td>...</td>\n",
       "    </tr>\n",
       "    <tr>\n",
       "      <td>4799</td>\n",
       "      <td>RE46129</td>\n",
       "      <td>2016</td>\n",
       "      <td>5498696-4</td>\n",
       "      <td>Xiaodong</td>\n",
       "      <td>Wang</td>\n",
       "      <td>Shanxi</td>\n",
       "      <td>NaN</td>\n",
       "      <td>CN</td>\n",
       "    </tr>\n",
       "    <tr>\n",
       "      <td>4803</td>\n",
       "      <td>RE46129</td>\n",
       "      <td>2016</td>\n",
       "      <td>5498696-4</td>\n",
       "      <td>Xiaodong</td>\n",
       "      <td>Wang</td>\n",
       "      <td>Ilmenau</td>\n",
       "      <td>NaN</td>\n",
       "      <td>DE</td>\n",
       "    </tr>\n",
       "    <tr>\n",
       "      <td>4804</td>\n",
       "      <td>RE46129</td>\n",
       "      <td>2016</td>\n",
       "      <td>5498696-4</td>\n",
       "      <td>Xiaodong</td>\n",
       "      <td>Wang</td>\n",
       "      <td>Zhuji</td>\n",
       "      <td>NaN</td>\n",
       "      <td>CN</td>\n",
       "    </tr>\n",
       "    <tr>\n",
       "      <td>4811</td>\n",
       "      <td>RE46423</td>\n",
       "      <td>2017</td>\n",
       "      <td>5264365-1</td>\n",
       "      <td>George M.</td>\n",
       "      <td>Georgiou</td>\n",
       "      <td>Fawkner</td>\n",
       "      <td>NaN</td>\n",
       "      <td>AU</td>\n",
       "    </tr>\n",
       "    <tr>\n",
       "      <td>4822</td>\n",
       "      <td>RE46817</td>\n",
       "      <td>2018</td>\n",
       "      <td>7135040-1</td>\n",
       "      <td>Shu</td>\n",
       "      <td>Wang</td>\n",
       "      <td>Saint Egreve</td>\n",
       "      <td>NaN</td>\n",
       "      <td>FR</td>\n",
       "    </tr>\n",
       "  </tbody>\n",
       "</table>\n",
       "<p>847 rows × 8 columns</p>\n",
       "</div>"
      ],
      "text/plain": [
       "     patent_id  year inventor_id    name_first       name_last inventor_city  \\\n",
       "0      9980635  2018   9980635-1  Maria Eliana   Manquez Hatta      Santiago   \n",
       "1      9980635  2018   9980635-2      Humberto  Lobos Sucarrat      Santiago   \n",
       "2      9999665  2018   8398993-2      Pablo A.  Gonzalez Munoz      Santiago   \n",
       "100    9980645  2018   4306291-3  Dominique M.          Durand       Toronto   \n",
       "101    9981915  2018   5156079-2           Wei              Li       Toronto   \n",
       "...        ...   ...         ...           ...             ...           ...   \n",
       "4799   RE46129  2016   5498696-4      Xiaodong            Wang        Shanxi   \n",
       "4803   RE46129  2016   5498696-4      Xiaodong            Wang       Ilmenau   \n",
       "4804   RE46129  2016   5498696-4      Xiaodong            Wang         Zhuji   \n",
       "4811   RE46423  2017   5264365-1     George M.        Georgiou       Fawkner   \n",
       "4822   RE46817  2018   7135040-1           Shu            Wang  Saint Egreve   \n",
       "\n",
       "     inventor_state inventor_country  \n",
       "0               NaN               CL  \n",
       "1               NaN               CL  \n",
       "2               NaN               CL  \n",
       "100             NaN               CA  \n",
       "101             NaN               CA  \n",
       "...             ...              ...  \n",
       "4799            NaN               CN  \n",
       "4803            NaN               DE  \n",
       "4804            NaN               CN  \n",
       "4811            NaN               AU  \n",
       "4822            NaN               FR  \n",
       "\n",
       "[847 rows x 8 columns]"
      ]
     },
     "execution_count": 59,
     "metadata": {},
     "output_type": "execute_result"
    }
   ],
   "source": [
    "# Show rows which are null in `inventor_state` column\n",
    "inventors[inventors['inventor_state'].isnull()]"
   ]
  },
  {
   "cell_type": "markdown",
   "metadata": {},
   "source": [
    "It looks like our records are not filtered by only US."
   ]
  },
  {
   "cell_type": "code",
   "execution_count": 60,
   "metadata": {
    "ExecuteTime": {
     "end_time": "2020-01-23T23:06:26.554284Z",
     "start_time": "2020-01-23T23:06:26.546626Z"
    },
    "collapsed": false
   },
   "outputs": [
    {
     "data": {
      "text/plain": [
       "array(['CL', 'US', 'CA', 'FR', 'GB', 'CN', 'JP', 'KR', 'SG', 'DE', 'NL',\n",
       "       'IN', 'CH', 'AU', 'TW', 'HK', 'FI', 'BE', 'SE', 'SW', 'EN', 'NM',\n",
       "       'VN', 'BR', 'IE', 'SA', 'ES', 'IT', 'CZ', 'IL', 'RU', 'MX', 'AT',\n",
       "       'DK', 'MO', 'UY', 'BG', 'PH'], dtype=object)"
      ]
     },
     "execution_count": 60,
     "metadata": {},
     "output_type": "execute_result"
    }
   ],
   "source": [
    "# Check unique values in the `inventor_country` column\n",
    "inventors['inventor_country'].unique()"
   ]
  },
  {
   "cell_type": "markdown",
   "metadata": {},
   "source": [
    "Let's filter by only those records which are in the US."
   ]
  },
  {
   "cell_type": "code",
   "execution_count": 61,
   "metadata": {
    "ExecuteTime": {
     "end_time": "2020-01-23T23:06:27.088116Z",
     "start_time": "2020-01-23T23:06:27.079203Z"
    },
    "collapsed": true
   },
   "outputs": [],
   "source": [
    "# Filter by those rows where country is US\n",
    "inventors = inventors[inventors['inventor_country'] == 'US']"
   ]
  },
  {
   "cell_type": "code",
   "execution_count": 62,
   "metadata": {
    "ExecuteTime": {
     "end_time": "2020-01-23T23:06:27.342090Z",
     "start_time": "2020-01-23T23:06:27.331272Z"
    },
    "collapsed": false
   },
   "outputs": [
    {
     "data": {
      "text/plain": [
       "array(['US'], dtype=object)"
      ]
     },
     "execution_count": 62,
     "metadata": {},
     "output_type": "execute_result"
    }
   ],
   "source": [
    "# Check that now we only have US as an inventor country\n",
    "inventors['inventor_country'].unique()"
   ]
  },
  {
   "cell_type": "code",
   "execution_count": 63,
   "metadata": {
    "ExecuteTime": {
     "end_time": "2020-01-23T23:06:27.591770Z",
     "start_time": "2020-01-23T23:06:27.575901Z"
    },
    "collapsed": false
   },
   "outputs": [
    {
     "data": {
      "text/plain": [
       "593"
      ]
     },
     "execution_count": 63,
     "metadata": {},
     "output_type": "execute_result"
    }
   ],
   "source": [
    "inventors['patent_id'].nunique()"
   ]
  },
  {
   "cell_type": "markdown",
   "metadata": {},
   "source": [
    "We will be linking on name and location. What do you observe in the data?"
   ]
  },
  {
   "cell_type": "code",
   "execution_count": 64,
   "metadata": {
    "ExecuteTime": {
     "end_time": "2020-01-23T23:06:28.109164Z",
     "start_time": "2020-01-23T23:06:28.080765Z"
    },
    "collapsed": false
   },
   "outputs": [
    {
     "data": {
      "text/html": [
       "<div>\n",
       "<style scoped>\n",
       "    .dataframe tbody tr th:only-of-type {\n",
       "        vertical-align: middle;\n",
       "    }\n",
       "\n",
       "    .dataframe tbody tr th {\n",
       "        vertical-align: top;\n",
       "    }\n",
       "\n",
       "    .dataframe thead th {\n",
       "        text-align: right;\n",
       "    }\n",
       "</style>\n",
       "<table border=\"1\" class=\"dataframe\">\n",
       "  <thead>\n",
       "    <tr style=\"text-align: right;\">\n",
       "      <th></th>\n",
       "      <th>patent_id</th>\n",
       "      <th>year</th>\n",
       "      <th>inventor_id</th>\n",
       "      <th>name_first</th>\n",
       "      <th>name_last</th>\n",
       "      <th>inventor_city</th>\n",
       "      <th>inventor_state</th>\n",
       "      <th>inventor_country</th>\n",
       "    </tr>\n",
       "  </thead>\n",
       "  <tbody>\n",
       "    <tr>\n",
       "      <td>4831</td>\n",
       "      <td>RE47009</td>\n",
       "      <td>2018</td>\n",
       "      <td>6534277-1</td>\n",
       "      <td>Wayne W.</td>\n",
       "      <td>Hancock</td>\n",
       "      <td>Medfield</td>\n",
       "      <td>MA</td>\n",
       "      <td>US</td>\n",
       "    </tr>\n",
       "    <tr>\n",
       "      <td>4832</td>\n",
       "      <td>RE47026</td>\n",
       "      <td>2018</td>\n",
       "      <td>5805332-1</td>\n",
       "      <td>Anand</td>\n",
       "      <td>Gopinath</td>\n",
       "      <td>Wayzata</td>\n",
       "      <td>MN</td>\n",
       "      <td>US</td>\n",
       "    </tr>\n",
       "    <tr>\n",
       "      <td>4833</td>\n",
       "      <td>RE47026</td>\n",
       "      <td>2018</td>\n",
       "      <td>5805332-1</td>\n",
       "      <td>Anand</td>\n",
       "      <td>Gopinath</td>\n",
       "      <td>Orono</td>\n",
       "      <td>MN</td>\n",
       "      <td>US</td>\n",
       "    </tr>\n",
       "    <tr>\n",
       "      <td>4834</td>\n",
       "      <td>RE47026</td>\n",
       "      <td>2018</td>\n",
       "      <td>6650116-3</td>\n",
       "      <td>Lance</td>\n",
       "      <td>DelaBarre</td>\n",
       "      <td>St. Anthony</td>\n",
       "      <td>MN</td>\n",
       "      <td>US</td>\n",
       "    </tr>\n",
       "    <tr>\n",
       "      <td>4835</td>\n",
       "      <td>RE47026</td>\n",
       "      <td>2018</td>\n",
       "      <td>6969992-4</td>\n",
       "      <td>John</td>\n",
       "      <td>Strupp</td>\n",
       "      <td>Marine on St. Croix</td>\n",
       "      <td>MN</td>\n",
       "      <td>US</td>\n",
       "    </tr>\n",
       "    <tr>\n",
       "      <td>4836</td>\n",
       "      <td>RE47026</td>\n",
       "      <td>2018</td>\n",
       "      <td>6969992-4</td>\n",
       "      <td>John</td>\n",
       "      <td>Strupp</td>\n",
       "      <td>Coon Rapids</td>\n",
       "      <td>MN</td>\n",
       "      <td>US</td>\n",
       "    </tr>\n",
       "    <tr>\n",
       "      <td>4837</td>\n",
       "      <td>RE47026</td>\n",
       "      <td>2018</td>\n",
       "      <td>6969992-5</td>\n",
       "      <td>Peter M.</td>\n",
       "      <td>Andersen</td>\n",
       "      <td>Independence</td>\n",
       "      <td>MN</td>\n",
       "      <td>US</td>\n",
       "    </tr>\n",
       "    <tr>\n",
       "      <td>4838</td>\n",
       "      <td>RE47026</td>\n",
       "      <td>2018</td>\n",
       "      <td>7800368-5</td>\n",
       "      <td>Heather Diane</td>\n",
       "      <td>Orser</td>\n",
       "      <td>Farmington</td>\n",
       "      <td>MN</td>\n",
       "      <td>US</td>\n",
       "    </tr>\n",
       "    <tr>\n",
       "      <td>4839</td>\n",
       "      <td>RE47026</td>\n",
       "      <td>2018</td>\n",
       "      <td>RE47026-4</td>\n",
       "      <td>Chris E</td>\n",
       "      <td>Olson</td>\n",
       "      <td>Palatine</td>\n",
       "      <td>IL</td>\n",
       "      <td>US</td>\n",
       "    </tr>\n",
       "    <tr>\n",
       "      <td>4840</td>\n",
       "      <td>RE47267</td>\n",
       "      <td>2019</td>\n",
       "      <td>5494810-2</td>\n",
       "      <td>John A.</td>\n",
       "      <td>Zebala</td>\n",
       "      <td>Auburn</td>\n",
       "      <td>WA</td>\n",
       "      <td>US</td>\n",
       "    </tr>\n",
       "  </tbody>\n",
       "</table>\n",
       "</div>"
      ],
      "text/plain": [
       "     patent_id  year inventor_id     name_first  name_last  \\\n",
       "4831   RE47009  2018   6534277-1       Wayne W.    Hancock   \n",
       "4832   RE47026  2018   5805332-1          Anand   Gopinath   \n",
       "4833   RE47026  2018   5805332-1          Anand   Gopinath   \n",
       "4834   RE47026  2018   6650116-3          Lance  DelaBarre   \n",
       "4835   RE47026  2018   6969992-4           John     Strupp   \n",
       "4836   RE47026  2018   6969992-4           John     Strupp   \n",
       "4837   RE47026  2018   6969992-5       Peter M.   Andersen   \n",
       "4838   RE47026  2018   7800368-5  Heather Diane      Orser   \n",
       "4839   RE47026  2018   RE47026-4        Chris E      Olson   \n",
       "4840   RE47267  2019   5494810-2        John A.     Zebala   \n",
       "\n",
       "            inventor_city inventor_state inventor_country  \n",
       "4831             Medfield             MA               US  \n",
       "4832              Wayzata             MN               US  \n",
       "4833                Orono             MN               US  \n",
       "4834          St. Anthony             MN               US  \n",
       "4835  Marine on St. Croix             MN               US  \n",
       "4836          Coon Rapids             MN               US  \n",
       "4837         Independence             MN               US  \n",
       "4838           Farmington             MN               US  \n",
       "4839             Palatine             IL               US  \n",
       "4840               Auburn             WA               US  "
      ]
     },
     "execution_count": 64,
     "metadata": {},
     "output_type": "execute_result"
    }
   ],
   "source": [
    "# Check the tail of the table \n",
    "inventors.tail(10)"
   ]
  },
  {
   "cell_type": "markdown",
   "metadata": {},
   "source": [
    "- First name includes first and middle names (potentially parse out)\n",
    "- First and last names are capitalized\n",
    "- The same person (with the same inventor id) can have different associated locations "
   ]
  },
  {
   "cell_type": "markdown",
   "metadata": {
    "ExecuteTime": {
     "end_time": "2020-01-22T01:29:47.602379Z",
     "start_time": "2020-01-22T01:29:47.588431Z"
    }
   },
   "source": [
    "Check most frequent counts of variables."
   ]
  },
  {
   "cell_type": "code",
   "execution_count": 65,
   "metadata": {
    "ExecuteTime": {
     "end_time": "2020-01-23T23:06:28.902519Z",
     "start_time": "2020-01-23T23:06:28.890386Z"
    },
    "collapsed": false
   },
   "outputs": [
    {
     "data": {
      "text/plain": [
       "Cambridge      80\n",
       "Los Angeles    60\n",
       "San Diego      57\n",
       "New York       48\n",
       "Albuquerque    45\n",
       "San Jose       44\n",
       "Palo Alto      43\n",
       "Baltimore      38\n",
       "Pasadena       36\n",
       "Chicago        35\n",
       "Name: inventor_city, dtype: int64"
      ]
     },
     "execution_count": 65,
     "metadata": {},
     "output_type": "execute_result"
    }
   ],
   "source": [
    "inventors['inventor_city'].value_counts().head(10)"
   ]
  },
  {
   "cell_type": "code",
   "execution_count": 66,
   "metadata": {
    "ExecuteTime": {
     "end_time": "2020-01-23T23:06:29.159961Z",
     "start_time": "2020-01-23T23:06:29.146170Z"
    },
    "collapsed": false
   },
   "outputs": [
    {
     "data": {
      "text/plain": [
       "CA    917\n",
       "MA    400\n",
       "NY    258\n",
       "MD    176\n",
       "FL    164\n",
       "IL    163\n",
       "PA    154\n",
       "TX    142\n",
       "NJ    129\n",
       "CT    122\n",
       "Name: inventor_state, dtype: int64"
      ]
     },
     "execution_count": 66,
     "metadata": {},
     "output_type": "execute_result"
    }
   ],
   "source": [
    "inventors['inventor_state'].value_counts().head(10)"
   ]
  },
  {
   "cell_type": "markdown",
   "metadata": {
    "ExecuteTime": {
     "end_time": "2020-01-21T23:20:15.266678Z",
     "start_time": "2020-01-21T23:20:15.256670Z"
    }
   },
   "source": [
    "#### FedRePORTER: principal investigator names on grants"
   ]
  },
  {
   "cell_type": "code",
   "execution_count": 156,
   "metadata": {
    "ExecuteTime": {
     "end_time": "2020-01-24T01:21:50.586301Z",
     "start_time": "2020-01-24T01:21:50.365114Z"
    },
    "collapsed": true
   },
   "outputs": [],
   "source": [
    "# Read-in the dataset into a dataframe\n",
    "pi = pd.read_csv('FedRePORTER_pi_grants.csv')"
   ]
  },
  {
   "cell_type": "code",
   "execution_count": 157,
   "metadata": {
    "ExecuteTime": {
     "end_time": "2020-01-24T01:21:51.062493Z",
     "start_time": "2020-01-24T01:21:51.048755Z"
    },
    "collapsed": false
   },
   "outputs": [
    {
     "data": {
      "text/html": [
       "<div>\n",
       "<style scoped>\n",
       "    .dataframe tbody tr th:only-of-type {\n",
       "        vertical-align: middle;\n",
       "    }\n",
       "\n",
       "    .dataframe tbody tr th {\n",
       "        vertical-align: top;\n",
       "    }\n",
       "\n",
       "    .dataframe thead th {\n",
       "        text-align: right;\n",
       "    }\n",
       "</style>\n",
       "<table border=\"1\" class=\"dataframe\">\n",
       "  <thead>\n",
       "    <tr style=\"text-align: right;\">\n",
       "      <th></th>\n",
       "      <th>PROJECT_ID</th>\n",
       "      <th>CONTACT_PI_PROJECT_LEADER</th>\n",
       "      <th>OTHER_PIS</th>\n",
       "      <th>ORGANIZATION_CITY</th>\n",
       "      <th>ORGANIZATION_STATE</th>\n",
       "      <th>ORGANIZATION_COUNTRY</th>\n",
       "    </tr>\n",
       "  </thead>\n",
       "  <tbody>\n",
       "    <tr>\n",
       "      <td>0</td>\n",
       "      <td>121219</td>\n",
       "      <td>POIRER, DAVID</td>\n",
       "      <td>NaN</td>\n",
       "      <td>TUCSON</td>\n",
       "      <td>AZ</td>\n",
       "      <td>UNITED STATES</td>\n",
       "    </tr>\n",
       "    <tr>\n",
       "      <td>1</td>\n",
       "      <td>121220</td>\n",
       "      <td>HEYWARD, ANN O</td>\n",
       "      <td>NaN</td>\n",
       "      <td>BROOK PARK</td>\n",
       "      <td>OH</td>\n",
       "      <td>UNITED STATES</td>\n",
       "    </tr>\n",
       "    <tr>\n",
       "      <td>2</td>\n",
       "      <td>121221</td>\n",
       "      <td>KALOGERA, VASSILIKI</td>\n",
       "      <td>LUIJTEN, ERIK</td>\n",
       "      <td>EVANSTON</td>\n",
       "      <td>IL</td>\n",
       "      <td>UNITED STATES</td>\n",
       "    </tr>\n",
       "    <tr>\n",
       "      <td>3</td>\n",
       "      <td>121222</td>\n",
       "      <td>GUILDERSON, THOMAS P</td>\n",
       "      <td>NaN</td>\n",
       "      <td>SANTA CRUZ</td>\n",
       "      <td>CA</td>\n",
       "      <td>UNITED STATES</td>\n",
       "    </tr>\n",
       "    <tr>\n",
       "      <td>4</td>\n",
       "      <td>121223</td>\n",
       "      <td>HAYES, GILLIAN</td>\n",
       "      <td>TENTORI, MONICA</td>\n",
       "      <td>IRVINE</td>\n",
       "      <td>CA</td>\n",
       "      <td>UNITED STATES</td>\n",
       "    </tr>\n",
       "  </tbody>\n",
       "</table>\n",
       "</div>"
      ],
      "text/plain": [
       "   PROJECT_ID  CONTACT_PI_PROJECT_LEADER        OTHER_PIS  ORGANIZATION_CITY  \\\n",
       "0      121219              POIRER, DAVID              NaN             TUCSON   \n",
       "1      121220             HEYWARD, ANN O              NaN         BROOK PARK   \n",
       "2      121221        KALOGERA, VASSILIKI    LUIJTEN, ERIK           EVANSTON   \n",
       "3      121222       GUILDERSON, THOMAS P              NaN         SANTA CRUZ   \n",
       "4      121223             HAYES, GILLIAN  TENTORI, MONICA             IRVINE   \n",
       "\n",
       "   ORGANIZATION_STATE  ORGANIZATION_COUNTRY  \n",
       "0                  AZ         UNITED STATES  \n",
       "1                  OH         UNITED STATES  \n",
       "2                  IL         UNITED STATES  \n",
       "3                  CA         UNITED STATES  \n",
       "4                  CA         UNITED STATES  "
      ]
     },
     "execution_count": 157,
     "metadata": {},
     "output_type": "execute_result"
    }
   ],
   "source": [
    "# Show first rows of the dataframe\n",
    "pi.head()"
   ]
  },
  {
   "cell_type": "code",
   "execution_count": 158,
   "metadata": {
    "ExecuteTime": {
     "end_time": "2020-01-24T01:21:54.058818Z",
     "start_time": "2020-01-24T01:21:54.013098Z"
    },
    "collapsed": false
   },
   "outputs": [
    {
     "name": "stdout",
     "output_type": "stream",
     "text": [
      "<class 'pandas.core.frame.DataFrame'>\n",
      "RangeIndex: 111400 entries, 0 to 111399\n",
      "Data columns (total 6 columns):\n",
      "PROJECT_ID                    111400 non-null int64\n",
      " CONTACT_PI_PROJECT_LEADER    111398 non-null object\n",
      " OTHER_PIS                    10477 non-null object\n",
      " ORGANIZATION_CITY            110853 non-null object\n",
      " ORGANIZATION_STATE           109933 non-null object\n",
      " ORGANIZATION_COUNTRY         110861 non-null object\n",
      "dtypes: int64(1), object(5)\n",
      "memory usage: 5.1+ MB\n"
     ]
    }
   ],
   "source": [
    "pi.info()"
   ]
  },
  {
   "cell_type": "markdown",
   "metadata": {},
   "source": [
    "Let's check which countries are there in the dataset."
   ]
  },
  {
   "cell_type": "code",
   "execution_count": 71,
   "metadata": {
    "ExecuteTime": {
     "end_time": "2020-01-23T23:06:31.594096Z",
     "start_time": "2020-01-23T23:06:31.579887Z"
    },
    "collapsed": false
   },
   "outputs": [
    {
     "data": {
      "text/plain": [
       "array(['UNITED STATES', 'BRAZIL', 'BERMUDA', 'SWITZERLAND', 'FRANCE',\n",
       "       'CANADA', 'UNITED KINGDOM', 'VENEZUELA', 'SOUTH AFRICA',\n",
       "       'NEW ZEALAND', 'DENMARK', nan, 'SWEDEN', 'INDIA', 'SPAIN',\n",
       "       'AUSTRALIA', 'PERU', 'HAITI', 'DOMINICAN REP', 'JAMAICA',\n",
       "       'NIGERIA', 'ITALY', 'IRELAND', 'BELGIUM', 'CHINA', 'THAILAND',\n",
       "       'JAPAN', 'ZAMBIA', 'ISRAEL', 'GERMANY', 'NETHERLANDS', 'UGANDA',\n",
       "       'PAKISTAN', 'KOREA REP OF', 'CHILE', 'TANZANIA U REP', 'ARGENTINA',\n",
       "       'HUNGARY', 'URUGUAY', 'RUSSIA', 'KENYA', 'MALAWI', 'LITHUANIA',\n",
       "       'FINLAND', 'MEXICO', 'COLOMBIA', 'CAMBODIA', 'PHILIPPINES',\n",
       "       'TURKEY', 'ZIMBABWE', 'BOTSWANA', 'CROATIA', 'COSTA RICA',\n",
       "       'TUNISIA', 'ICELAND', 'MOZAMBIQUE', 'GHANA', 'SINGAPORE',\n",
       "       'LEBANON', 'PARAGUAY', 'ETHIOPIA', 'UKRAINE', 'LESOTHO',\n",
       "       \"COTE D'IVOIRE\", 'DOMINICA', 'NAMIBIA', 'GUATEMALA', 'RWANDA',\n",
       "       'GEORGIA', 'VIETNAM', 'MOLDOVA', 'TRINIDAD/TOBA', 'CAMEROON',\n",
       "       'ANGOLA', 'INDONESIA', 'CONGO', 'CONGO DEM REP', 'SWAZILAND',\n",
       "       'BANGLADESH', 'MALI', 'FED MICRONESIA', 'BARBADOS', 'EGYPT',\n",
       "       'GUYANA', 'KAZAKHSTAN', 'MONGOLIA', 'BAHAMAS', 'KYRGYZSTAN',\n",
       "       'NEPAL', 'SRI LANKA', 'AFGHANISTAN', 'JORDAN', 'EL SALVADOR',\n",
       "       'ARMENIA', 'ST LUCIA', 'MADAGASCAR', 'NEW CALEDONIA', 'TAJIKISTAN',\n",
       "       'SENEGAL', 'MOROCCO', 'NORWAY'], dtype=object)"
      ]
     },
     "execution_count": 71,
     "metadata": {},
     "output_type": "execute_result"
    }
   ],
   "source": [
    "# Call .unique() function\n",
    "pi[' ORGANIZATION_COUNTRY'].unique()"
   ]
  },
  {
   "cell_type": "markdown",
   "metadata": {},
   "source": [
    "Let's filter by only US like we did with the PatentsView dataset."
   ]
  },
  {
   "cell_type": "code",
   "execution_count": 72,
   "metadata": {
    "ExecuteTime": {
     "end_time": "2020-01-23T23:06:32.236285Z",
     "start_time": "2020-01-23T23:06:32.209283Z"
    },
    "collapsed": true
   },
   "outputs": [],
   "source": [
    "# Filter by only those rows with US as an organization_country\n",
    "pi = pi[pi[' ORGANIZATION_COUNTRY'] == 'UNITED STATES']"
   ]
  },
  {
   "cell_type": "code",
   "execution_count": 73,
   "metadata": {
    "ExecuteTime": {
     "end_time": "2020-01-23T23:06:32.500722Z",
     "start_time": "2020-01-23T23:06:32.484494Z"
    },
    "collapsed": false
   },
   "outputs": [
    {
     "data": {
      "text/plain": [
       "array(['UNITED STATES'], dtype=object)"
      ]
     },
     "execution_count": 73,
     "metadata": {},
     "output_type": "execute_result"
    }
   ],
   "source": [
    "# Call .unique() function\n",
    "pi[' ORGANIZATION_COUNTRY'].unique()"
   ]
  },
  {
   "cell_type": "code",
   "execution_count": 74,
   "metadata": {
    "ExecuteTime": {
     "end_time": "2020-01-23T23:06:32.774178Z",
     "start_time": "2020-01-23T23:06:32.748483Z"
    },
    "collapsed": false
   },
   "outputs": [
    {
     "data": {
      "text/plain": [
       "BOSTON          5802\n",
       "NEW YORK        4603\n",
       "BEHTESDA        3745\n",
       "PHILADELPHIA    3044\n",
       "BALTIMORE       2957\n",
       "SEATTLE         2917\n",
       "LOS ANGELES     2905\n",
       "LA JOLLA        2835\n",
       "CHICAGO         2523\n",
       "HOUSTON         2345\n",
       "Name:  ORGANIZATION_CITY, dtype: int64"
      ]
     },
     "execution_count": 74,
     "metadata": {},
     "output_type": "execute_result"
    }
   ],
   "source": [
    "pi[' ORGANIZATION_CITY'].value_counts().head(10)"
   ]
  },
  {
   "cell_type": "code",
   "execution_count": 75,
   "metadata": {
    "ExecuteTime": {
     "end_time": "2020-01-23T23:06:33.055152Z",
     "start_time": "2020-01-23T23:06:33.031007Z"
    },
    "collapsed": false
   },
   "outputs": [
    {
     "data": {
      "text/plain": [
       "CA    15293\n",
       "NY     9186\n",
       "MA     8812\n",
       "MD     7932\n",
       "PA     6245\n",
       "TX     5653\n",
       "NC     4036\n",
       "IL     3796\n",
       "WA     3409\n",
       "OH     3034\n",
       "Name:  ORGANIZATION_STATE, dtype: int64"
      ]
     },
     "execution_count": 75,
     "metadata": {},
     "output_type": "execute_result"
    }
   ],
   "source": [
    "pi[' ORGANIZATION_STATE'].value_counts().head(10)"
   ]
  },
  {
   "cell_type": "markdown",
   "metadata": {},
   "source": [
    "**Compare inventor and grants table: what types of cleaning/standardization would we need to do?**"
   ]
  },
  {
   "cell_type": "code",
   "execution_count": 76,
   "metadata": {
    "ExecuteTime": {
     "end_time": "2020-01-23T23:06:33.592160Z",
     "start_time": "2020-01-23T23:06:33.575438Z"
    },
    "collapsed": false
   },
   "outputs": [
    {
     "data": {
      "text/html": [
       "<div>\n",
       "<style scoped>\n",
       "    .dataframe tbody tr th:only-of-type {\n",
       "        vertical-align: middle;\n",
       "    }\n",
       "\n",
       "    .dataframe tbody tr th {\n",
       "        vertical-align: top;\n",
       "    }\n",
       "\n",
       "    .dataframe thead th {\n",
       "        text-align: right;\n",
       "    }\n",
       "</style>\n",
       "<table border=\"1\" class=\"dataframe\">\n",
       "  <thead>\n",
       "    <tr style=\"text-align: right;\">\n",
       "      <th></th>\n",
       "      <th>patent_id</th>\n",
       "      <th>year</th>\n",
       "      <th>inventor_id</th>\n",
       "      <th>name_first</th>\n",
       "      <th>name_last</th>\n",
       "      <th>inventor_city</th>\n",
       "      <th>inventor_state</th>\n",
       "      <th>inventor_country</th>\n",
       "    </tr>\n",
       "  </thead>\n",
       "  <tbody>\n",
       "    <tr>\n",
       "      <td>3</td>\n",
       "      <td>9980641</td>\n",
       "      <td>2018</td>\n",
       "      <td>5321501-6</td>\n",
       "      <td>Joel S.</td>\n",
       "      <td>Schuman</td>\n",
       "      <td>Pittsburgh</td>\n",
       "      <td>PA</td>\n",
       "      <td>US</td>\n",
       "    </tr>\n",
       "    <tr>\n",
       "      <td>4</td>\n",
       "      <td>9980641</td>\n",
       "      <td>2018</td>\n",
       "      <td>9980641-3</td>\n",
       "      <td>Lawrence Edward</td>\n",
       "      <td>Kagemann</td>\n",
       "      <td>Pittsburgh</td>\n",
       "      <td>PA</td>\n",
       "      <td>US</td>\n",
       "    </tr>\n",
       "    <tr>\n",
       "      <td>5</td>\n",
       "      <td>9980645</td>\n",
       "      <td>2018</td>\n",
       "      <td>9037248-2</td>\n",
       "      <td>Brian</td>\n",
       "      <td>Wodlinger</td>\n",
       "      <td>Pittsburgh</td>\n",
       "      <td>PA</td>\n",
       "      <td>US</td>\n",
       "    </tr>\n",
       "    <tr>\n",
       "      <td>6</td>\n",
       "      <td>9981048</td>\n",
       "      <td>2018</td>\n",
       "      <td>9981048-1</td>\n",
       "      <td>Ira Jacob</td>\n",
       "      <td>Fox</td>\n",
       "      <td>Pittsburgh</td>\n",
       "      <td>PA</td>\n",
       "      <td>US</td>\n",
       "    </tr>\n",
       "    <tr>\n",
       "      <td>7</td>\n",
       "      <td>9981048</td>\n",
       "      <td>2018</td>\n",
       "      <td>9981048-3</td>\n",
       "      <td>Taichiro N.</td>\n",
       "      <td>Nishikawa</td>\n",
       "      <td>Pittsburgh</td>\n",
       "      <td>PA</td>\n",
       "      <td>US</td>\n",
       "    </tr>\n",
       "  </tbody>\n",
       "</table>\n",
       "</div>"
      ],
      "text/plain": [
       "  patent_id  year inventor_id       name_first  name_last inventor_city  \\\n",
       "3   9980641  2018   5321501-6          Joel S.    Schuman    Pittsburgh   \n",
       "4   9980641  2018   9980641-3  Lawrence Edward   Kagemann    Pittsburgh   \n",
       "5   9980645  2018   9037248-2            Brian  Wodlinger    Pittsburgh   \n",
       "6   9981048  2018   9981048-1        Ira Jacob        Fox    Pittsburgh   \n",
       "7   9981048  2018   9981048-3      Taichiro N.  Nishikawa    Pittsburgh   \n",
       "\n",
       "  inventor_state inventor_country  \n",
       "3             PA               US  \n",
       "4             PA               US  \n",
       "5             PA               US  \n",
       "6             PA               US  \n",
       "7             PA               US  "
      ]
     },
     "execution_count": 76,
     "metadata": {},
     "output_type": "execute_result"
    }
   ],
   "source": [
    "inventors.head()"
   ]
  },
  {
   "cell_type": "code",
   "execution_count": 79,
   "metadata": {
    "ExecuteTime": {
     "end_time": "2020-01-23T23:06:34.521755Z",
     "start_time": "2020-01-23T23:06:34.503989Z"
    },
    "collapsed": false
   },
   "outputs": [
    {
     "data": {
      "text/html": [
       "<div>\n",
       "<style scoped>\n",
       "    .dataframe tbody tr th:only-of-type {\n",
       "        vertical-align: middle;\n",
       "    }\n",
       "\n",
       "    .dataframe tbody tr th {\n",
       "        vertical-align: top;\n",
       "    }\n",
       "\n",
       "    .dataframe thead th {\n",
       "        text-align: right;\n",
       "    }\n",
       "</style>\n",
       "<table border=\"1\" class=\"dataframe\">\n",
       "  <thead>\n",
       "    <tr style=\"text-align: right;\">\n",
       "      <th></th>\n",
       "      <th>PROJECT_ID</th>\n",
       "      <th>CONTACT_PI_PROJECT_LEADER</th>\n",
       "      <th>OTHER_PIS</th>\n",
       "      <th>ORGANIZATION_CITY</th>\n",
       "      <th>ORGANIZATION_STATE</th>\n",
       "      <th>ORGANIZATION_COUNTRY</th>\n",
       "    </tr>\n",
       "  </thead>\n",
       "  <tbody>\n",
       "    <tr>\n",
       "      <td>0</td>\n",
       "      <td>121219</td>\n",
       "      <td>POIRER, DAVID</td>\n",
       "      <td>NaN</td>\n",
       "      <td>TUCSON</td>\n",
       "      <td>AZ</td>\n",
       "      <td>UNITED STATES</td>\n",
       "    </tr>\n",
       "    <tr>\n",
       "      <td>1</td>\n",
       "      <td>121220</td>\n",
       "      <td>HEYWARD, ANN O</td>\n",
       "      <td>NaN</td>\n",
       "      <td>BROOK PARK</td>\n",
       "      <td>OH</td>\n",
       "      <td>UNITED STATES</td>\n",
       "    </tr>\n",
       "    <tr>\n",
       "      <td>2</td>\n",
       "      <td>121221</td>\n",
       "      <td>KALOGERA, VASSILIKI</td>\n",
       "      <td>LUIJTEN, ERIK</td>\n",
       "      <td>EVANSTON</td>\n",
       "      <td>IL</td>\n",
       "      <td>UNITED STATES</td>\n",
       "    </tr>\n",
       "    <tr>\n",
       "      <td>3</td>\n",
       "      <td>121222</td>\n",
       "      <td>GUILDERSON, THOMAS P</td>\n",
       "      <td>NaN</td>\n",
       "      <td>SANTA CRUZ</td>\n",
       "      <td>CA</td>\n",
       "      <td>UNITED STATES</td>\n",
       "    </tr>\n",
       "    <tr>\n",
       "      <td>4</td>\n",
       "      <td>121223</td>\n",
       "      <td>HAYES, GILLIAN</td>\n",
       "      <td>TENTORI, MONICA</td>\n",
       "      <td>IRVINE</td>\n",
       "      <td>CA</td>\n",
       "      <td>UNITED STATES</td>\n",
       "    </tr>\n",
       "  </tbody>\n",
       "</table>\n",
       "</div>"
      ],
      "text/plain": [
       "   PROJECT_ID  CONTACT_PI_PROJECT_LEADER        OTHER_PIS  ORGANIZATION_CITY  \\\n",
       "0      121219              POIRER, DAVID              NaN             TUCSON   \n",
       "1      121220             HEYWARD, ANN O              NaN         BROOK PARK   \n",
       "2      121221        KALOGERA, VASSILIKI    LUIJTEN, ERIK           EVANSTON   \n",
       "3      121222       GUILDERSON, THOMAS P              NaN         SANTA CRUZ   \n",
       "4      121223             HAYES, GILLIAN  TENTORI, MONICA             IRVINE   \n",
       "\n",
       "   ORGANIZATION_STATE  ORGANIZATION_COUNTRY  \n",
       "0                  AZ         UNITED STATES  \n",
       "1                  OH         UNITED STATES  \n",
       "2                  IL         UNITED STATES  \n",
       "3                  CA         UNITED STATES  \n",
       "4                  CA         UNITED STATES  "
      ]
     },
     "execution_count": 79,
     "metadata": {},
     "output_type": "execute_result"
    }
   ],
   "source": [
    "pi.head()"
   ]
  },
  {
   "cell_type": "markdown",
   "metadata": {},
   "source": [
    "<span style=\"color:red\">**Checkpoint 1: Explore organization-level data from PatentsView and FedRePORTER**</span>"
   ]
  },
  {
   "cell_type": "markdown",
   "metadata": {},
   "source": [
    "Now try exploring organization-level data for both PatentsView and FedRePORTER using functions for data exploration used in the examples above."
   ]
  },
  {
   "cell_type": "code",
   "execution_count": 161,
   "metadata": {
    "ExecuteTime": {
     "end_time": "2020-01-24T01:26:09.385700Z",
     "start_time": "2020-01-24T01:26:09.361132Z"
    },
    "collapsed": true
   },
   "outputs": [],
   "source": [
    "assignees = pd.read_csv('patentsview_assignees.csv')"
   ]
  },
  {
   "cell_type": "code",
   "execution_count": 147,
   "metadata": {
    "ExecuteTime": {
     "end_time": "2020-01-24T00:15:40.660983Z",
     "start_time": "2020-01-24T00:15:40.512479Z"
    },
    "collapsed": true
   },
   "outputs": [],
   "source": [
    "organizations = pd.read_csv('fedreporter_org_names_grants.csv')"
   ]
  },
  {
   "cell_type": "code",
   "execution_count": 83,
   "metadata": {
    "ExecuteTime": {
     "end_time": "2020-01-23T23:06:36.389127Z",
     "start_time": "2020-01-23T23:06:36.384852Z"
    },
    "collapsed": true
   },
   "outputs": [],
   "source": [
    "# your code here...\n",
    "\n",
    "\n"
   ]
  },
  {
   "cell_type": "markdown",
   "metadata": {},
   "source": [
    "# Data Cleaning"
   ]
  },
  {
   "cell_type": "markdown",
   "metadata": {},
   "source": [
    "## The Importance of Pre-Processing\n",
    "Data pre-processing is an important step in a data anlysis project in general, in record linkage applications in particular. The goal of pre-processing is to transform messy data into a dataset that can be used in a project workflow.\n",
    "\n",
    "Linking records from different data sources comes with different challenges that need to be addressed by the analyst. The analyst must determine whether or not two entities (individuals, businesses, geographical units) on two different files are the same. This determination is not always easy. In most of the cases there is no common uniquely identifing characteristic for a entity. For example, is Bob Miller from New Yor the same person as Bob Miller from Chicago in a given dataset? This detemination has to be executed carefully because consequences of wrong linkages may be substantial (is person X the same person as the person X on the list of identified terrorists). Pre-processing can help to make better informed decisions.\n",
    "\n",
    "Pre-processing can be difficult because there are a lot of things to keep in mind. For example, data input errors, such as typos, misspellings, truncation, abbreviations, and missing values need to be corrected. Literature shows that preprocessing can improve matches. \n",
    "\n",
    "“In situations of reasonably high-quality data, preprocessing can yield a greater improvement in matching efficiency than string comparators and ‘optimized’ parameters. In some situations, 90% of the improvement in matching efficiency may be due to preprocessing” (Winkler 2009).\n",
    "\n",
    "The most common reason why matching projects fail is lack of time and resources for data cleaning. \n",
    "\n",
    "In the following section we will walk you through some pre-processing steps, these include but are not limited to removing spaces, parsing fields, and standardizing strings."
   ]
  },
  {
   "cell_type": "markdown",
   "metadata": {},
   "source": [
    "### Individual-level links"
   ]
  },
  {
   "cell_type": "markdown",
   "metadata": {},
   "source": [
    "#### Clean Inventor Data\n",
    "We will start by cleaning and preprocessing the inventor data. We need to remove whitespaces, make sure that everything is in lower case, we need to parse the first name and the last name, and harmonize all the other information we need for the linkage."
   ]
  },
  {
   "cell_type": "markdown",
   "metadata": {},
   "source": [
    "The `recordlinkage` package comes with a built-in cleaning function we can use. The `clean()` function removes any characters such as `-`, `.`, `/`, `:`, brackets of all types, and also lowercases by default."
   ]
  },
  {
   "cell_type": "code",
   "execution_count": 100,
   "metadata": {
    "ExecuteTime": {
     "end_time": "2020-01-23T23:06:47.502277Z",
     "start_time": "2020-01-23T23:06:47.481910Z"
    },
    "collapsed": false
   },
   "outputs": [
    {
     "data": {
      "text/html": [
       "<div>\n",
       "<style scoped>\n",
       "    .dataframe tbody tr th:only-of-type {\n",
       "        vertical-align: middle;\n",
       "    }\n",
       "\n",
       "    .dataframe tbody tr th {\n",
       "        vertical-align: top;\n",
       "    }\n",
       "\n",
       "    .dataframe thead th {\n",
       "        text-align: right;\n",
       "    }\n",
       "</style>\n",
       "<table border=\"1\" class=\"dataframe\">\n",
       "  <thead>\n",
       "    <tr style=\"text-align: right;\">\n",
       "      <th></th>\n",
       "      <th>patent_id</th>\n",
       "      <th>year</th>\n",
       "      <th>inventor_id</th>\n",
       "      <th>name_first</th>\n",
       "      <th>name_last</th>\n",
       "      <th>inventor_city</th>\n",
       "      <th>inventor_state</th>\n",
       "      <th>inventor_country</th>\n",
       "      <th>full_name</th>\n",
       "    </tr>\n",
       "  </thead>\n",
       "  <tbody>\n",
       "    <tr>\n",
       "      <td>3</td>\n",
       "      <td>9980641</td>\n",
       "      <td>2018</td>\n",
       "      <td>5321501-6</td>\n",
       "      <td>Joel S.</td>\n",
       "      <td>Schuman</td>\n",
       "      <td>Pittsburgh</td>\n",
       "      <td>PA</td>\n",
       "      <td>US</td>\n",
       "      <td>SCHUMAN, JOEL S.</td>\n",
       "    </tr>\n",
       "    <tr>\n",
       "      <td>4</td>\n",
       "      <td>9980641</td>\n",
       "      <td>2018</td>\n",
       "      <td>9980641-3</td>\n",
       "      <td>Lawrence Edward</td>\n",
       "      <td>Kagemann</td>\n",
       "      <td>Pittsburgh</td>\n",
       "      <td>PA</td>\n",
       "      <td>US</td>\n",
       "      <td>KAGEMANN, LAWRENCE EDWARD</td>\n",
       "    </tr>\n",
       "    <tr>\n",
       "      <td>5</td>\n",
       "      <td>9980645</td>\n",
       "      <td>2018</td>\n",
       "      <td>9037248-2</td>\n",
       "      <td>Brian</td>\n",
       "      <td>Wodlinger</td>\n",
       "      <td>Pittsburgh</td>\n",
       "      <td>PA</td>\n",
       "      <td>US</td>\n",
       "      <td>WODLINGER, BRIAN</td>\n",
       "    </tr>\n",
       "    <tr>\n",
       "      <td>6</td>\n",
       "      <td>9981048</td>\n",
       "      <td>2018</td>\n",
       "      <td>9981048-1</td>\n",
       "      <td>Ira Jacob</td>\n",
       "      <td>Fox</td>\n",
       "      <td>Pittsburgh</td>\n",
       "      <td>PA</td>\n",
       "      <td>US</td>\n",
       "      <td>FOX, IRA JACOB</td>\n",
       "    </tr>\n",
       "    <tr>\n",
       "      <td>7</td>\n",
       "      <td>9981048</td>\n",
       "      <td>2018</td>\n",
       "      <td>9981048-3</td>\n",
       "      <td>Taichiro N.</td>\n",
       "      <td>Nishikawa</td>\n",
       "      <td>Pittsburgh</td>\n",
       "      <td>PA</td>\n",
       "      <td>US</td>\n",
       "      <td>NISHIKAWA, TAICHIRO N.</td>\n",
       "    </tr>\n",
       "  </tbody>\n",
       "</table>\n",
       "</div>"
      ],
      "text/plain": [
       "  patent_id  year inventor_id       name_first  name_last inventor_city  \\\n",
       "3   9980641  2018   5321501-6          Joel S.    Schuman    Pittsburgh   \n",
       "4   9980641  2018   9980641-3  Lawrence Edward   Kagemann    Pittsburgh   \n",
       "5   9980645  2018   9037248-2            Brian  Wodlinger    Pittsburgh   \n",
       "6   9981048  2018   9981048-1        Ira Jacob        Fox    Pittsburgh   \n",
       "7   9981048  2018   9981048-3      Taichiro N.  Nishikawa    Pittsburgh   \n",
       "\n",
       "  inventor_state inventor_country                  full_name  \n",
       "3             PA               US           SCHUMAN, JOEL S.  \n",
       "4             PA               US  KAGEMANN, LAWRENCE EDWARD  \n",
       "5             PA               US           WODLINGER, BRIAN  \n",
       "6             PA               US             FOX, IRA JACOB  \n",
       "7             PA               US     NISHIKAWA, TAICHIRO N.  "
      ]
     },
     "execution_count": 100,
     "metadata": {},
     "output_type": "execute_result"
    }
   ],
   "source": [
    "# Let's take a look at names before\n",
    "inventors.head()"
   ]
  },
  {
   "cell_type": "code",
   "execution_count": 101,
   "metadata": {
    "ExecuteTime": {
     "end_time": "2020-01-23T23:06:47.868781Z",
     "start_time": "2020-01-23T23:06:47.813024Z"
    },
    "collapsed": true
   },
   "outputs": [],
   "source": [
    "# Cleaning names (using the record linkage package tool)\n",
    "inventors['name_last'] = clean(inventors['name_last'])\n",
    "inventors['name_first'] = clean(inventors['name_first'])"
   ]
  },
  {
   "cell_type": "code",
   "execution_count": 102,
   "metadata": {
    "ExecuteTime": {
     "end_time": "2020-01-23T23:06:48.154509Z",
     "start_time": "2020-01-23T23:06:48.136231Z"
    },
    "collapsed": false
   },
   "outputs": [
    {
     "data": {
      "text/html": [
       "<div>\n",
       "<style scoped>\n",
       "    .dataframe tbody tr th:only-of-type {\n",
       "        vertical-align: middle;\n",
       "    }\n",
       "\n",
       "    .dataframe tbody tr th {\n",
       "        vertical-align: top;\n",
       "    }\n",
       "\n",
       "    .dataframe thead th {\n",
       "        text-align: right;\n",
       "    }\n",
       "</style>\n",
       "<table border=\"1\" class=\"dataframe\">\n",
       "  <thead>\n",
       "    <tr style=\"text-align: right;\">\n",
       "      <th></th>\n",
       "      <th>patent_id</th>\n",
       "      <th>year</th>\n",
       "      <th>inventor_id</th>\n",
       "      <th>name_first</th>\n",
       "      <th>name_last</th>\n",
       "      <th>inventor_city</th>\n",
       "      <th>inventor_state</th>\n",
       "      <th>inventor_country</th>\n",
       "      <th>full_name</th>\n",
       "    </tr>\n",
       "  </thead>\n",
       "  <tbody>\n",
       "    <tr>\n",
       "      <td>3</td>\n",
       "      <td>9980641</td>\n",
       "      <td>2018</td>\n",
       "      <td>5321501-6</td>\n",
       "      <td>joel s</td>\n",
       "      <td>schuman</td>\n",
       "      <td>Pittsburgh</td>\n",
       "      <td>PA</td>\n",
       "      <td>US</td>\n",
       "      <td>SCHUMAN, JOEL S.</td>\n",
       "    </tr>\n",
       "    <tr>\n",
       "      <td>4</td>\n",
       "      <td>9980641</td>\n",
       "      <td>2018</td>\n",
       "      <td>9980641-3</td>\n",
       "      <td>lawrence edward</td>\n",
       "      <td>kagemann</td>\n",
       "      <td>Pittsburgh</td>\n",
       "      <td>PA</td>\n",
       "      <td>US</td>\n",
       "      <td>KAGEMANN, LAWRENCE EDWARD</td>\n",
       "    </tr>\n",
       "    <tr>\n",
       "      <td>5</td>\n",
       "      <td>9980645</td>\n",
       "      <td>2018</td>\n",
       "      <td>9037248-2</td>\n",
       "      <td>brian</td>\n",
       "      <td>wodlinger</td>\n",
       "      <td>Pittsburgh</td>\n",
       "      <td>PA</td>\n",
       "      <td>US</td>\n",
       "      <td>WODLINGER, BRIAN</td>\n",
       "    </tr>\n",
       "    <tr>\n",
       "      <td>6</td>\n",
       "      <td>9981048</td>\n",
       "      <td>2018</td>\n",
       "      <td>9981048-1</td>\n",
       "      <td>ira jacob</td>\n",
       "      <td>fox</td>\n",
       "      <td>Pittsburgh</td>\n",
       "      <td>PA</td>\n",
       "      <td>US</td>\n",
       "      <td>FOX, IRA JACOB</td>\n",
       "    </tr>\n",
       "    <tr>\n",
       "      <td>7</td>\n",
       "      <td>9981048</td>\n",
       "      <td>2018</td>\n",
       "      <td>9981048-3</td>\n",
       "      <td>taichiro n</td>\n",
       "      <td>nishikawa</td>\n",
       "      <td>Pittsburgh</td>\n",
       "      <td>PA</td>\n",
       "      <td>US</td>\n",
       "      <td>NISHIKAWA, TAICHIRO N.</td>\n",
       "    </tr>\n",
       "  </tbody>\n",
       "</table>\n",
       "</div>"
      ],
      "text/plain": [
       "  patent_id  year inventor_id       name_first  name_last inventor_city  \\\n",
       "3   9980641  2018   5321501-6           joel s    schuman    Pittsburgh   \n",
       "4   9980641  2018   9980641-3  lawrence edward   kagemann    Pittsburgh   \n",
       "5   9980645  2018   9037248-2            brian  wodlinger    Pittsburgh   \n",
       "6   9981048  2018   9981048-1        ira jacob        fox    Pittsburgh   \n",
       "7   9981048  2018   9981048-3       taichiro n  nishikawa    Pittsburgh   \n",
       "\n",
       "  inventor_state inventor_country                  full_name  \n",
       "3             PA               US           SCHUMAN, JOEL S.  \n",
       "4             PA               US  KAGEMANN, LAWRENCE EDWARD  \n",
       "5             PA               US           WODLINGER, BRIAN  \n",
       "6             PA               US             FOX, IRA JACOB  \n",
       "7             PA               US     NISHIKAWA, TAICHIRO N.  "
      ]
     },
     "execution_count": 102,
     "metadata": {},
     "output_type": "execute_result"
    }
   ],
   "source": [
    "# Let's take a look at names after the cleaning\n",
    "inventors.head()"
   ]
  },
  {
   "cell_type": "markdown",
   "metadata": {},
   "source": [
    "We can parse and extract middle names."
   ]
  },
  {
   "cell_type": "code",
   "execution_count": 103,
   "metadata": {
    "ExecuteTime": {
     "end_time": "2020-01-23T23:06:48.777135Z",
     "start_time": "2020-01-23T23:06:48.750660Z"
    },
    "collapsed": true
   },
   "outputs": [],
   "source": [
    "# Split by white space and extract first element for the first name,\n",
    "# second element for the middle name\n",
    "inventors['name_middle'] = inventors.name_first.str.split(' ').str.get(1)\n",
    "inventors['name_first'] = inventors.name_first.str.split(' ').str.get(0)"
   ]
  },
  {
   "cell_type": "code",
   "execution_count": 104,
   "metadata": {
    "ExecuteTime": {
     "end_time": "2020-01-23T23:06:49.087139Z",
     "start_time": "2020-01-23T23:06:49.068348Z"
    },
    "collapsed": false
   },
   "outputs": [
    {
     "data": {
      "text/html": [
       "<div>\n",
       "<style scoped>\n",
       "    .dataframe tbody tr th:only-of-type {\n",
       "        vertical-align: middle;\n",
       "    }\n",
       "\n",
       "    .dataframe tbody tr th {\n",
       "        vertical-align: top;\n",
       "    }\n",
       "\n",
       "    .dataframe thead th {\n",
       "        text-align: right;\n",
       "    }\n",
       "</style>\n",
       "<table border=\"1\" class=\"dataframe\">\n",
       "  <thead>\n",
       "    <tr style=\"text-align: right;\">\n",
       "      <th></th>\n",
       "      <th>patent_id</th>\n",
       "      <th>year</th>\n",
       "      <th>inventor_id</th>\n",
       "      <th>name_first</th>\n",
       "      <th>name_last</th>\n",
       "      <th>inventor_city</th>\n",
       "      <th>inventor_state</th>\n",
       "      <th>inventor_country</th>\n",
       "      <th>full_name</th>\n",
       "      <th>name_middle</th>\n",
       "    </tr>\n",
       "  </thead>\n",
       "  <tbody>\n",
       "    <tr>\n",
       "      <td>3</td>\n",
       "      <td>9980641</td>\n",
       "      <td>2018</td>\n",
       "      <td>5321501-6</td>\n",
       "      <td>joel</td>\n",
       "      <td>schuman</td>\n",
       "      <td>Pittsburgh</td>\n",
       "      <td>PA</td>\n",
       "      <td>US</td>\n",
       "      <td>SCHUMAN, JOEL S.</td>\n",
       "      <td>s</td>\n",
       "    </tr>\n",
       "    <tr>\n",
       "      <td>4</td>\n",
       "      <td>9980641</td>\n",
       "      <td>2018</td>\n",
       "      <td>9980641-3</td>\n",
       "      <td>lawrence</td>\n",
       "      <td>kagemann</td>\n",
       "      <td>Pittsburgh</td>\n",
       "      <td>PA</td>\n",
       "      <td>US</td>\n",
       "      <td>KAGEMANN, LAWRENCE EDWARD</td>\n",
       "      <td>edward</td>\n",
       "    </tr>\n",
       "    <tr>\n",
       "      <td>5</td>\n",
       "      <td>9980645</td>\n",
       "      <td>2018</td>\n",
       "      <td>9037248-2</td>\n",
       "      <td>brian</td>\n",
       "      <td>wodlinger</td>\n",
       "      <td>Pittsburgh</td>\n",
       "      <td>PA</td>\n",
       "      <td>US</td>\n",
       "      <td>WODLINGER, BRIAN</td>\n",
       "      <td>NaN</td>\n",
       "    </tr>\n",
       "    <tr>\n",
       "      <td>6</td>\n",
       "      <td>9981048</td>\n",
       "      <td>2018</td>\n",
       "      <td>9981048-1</td>\n",
       "      <td>ira</td>\n",
       "      <td>fox</td>\n",
       "      <td>Pittsburgh</td>\n",
       "      <td>PA</td>\n",
       "      <td>US</td>\n",
       "      <td>FOX, IRA JACOB</td>\n",
       "      <td>jacob</td>\n",
       "    </tr>\n",
       "    <tr>\n",
       "      <td>7</td>\n",
       "      <td>9981048</td>\n",
       "      <td>2018</td>\n",
       "      <td>9981048-3</td>\n",
       "      <td>taichiro</td>\n",
       "      <td>nishikawa</td>\n",
       "      <td>Pittsburgh</td>\n",
       "      <td>PA</td>\n",
       "      <td>US</td>\n",
       "      <td>NISHIKAWA, TAICHIRO N.</td>\n",
       "      <td>n</td>\n",
       "    </tr>\n",
       "  </tbody>\n",
       "</table>\n",
       "</div>"
      ],
      "text/plain": [
       "  patent_id  year inventor_id name_first  name_last inventor_city  \\\n",
       "3   9980641  2018   5321501-6       joel    schuman    Pittsburgh   \n",
       "4   9980641  2018   9980641-3   lawrence   kagemann    Pittsburgh   \n",
       "5   9980645  2018   9037248-2      brian  wodlinger    Pittsburgh   \n",
       "6   9981048  2018   9981048-1        ira        fox    Pittsburgh   \n",
       "7   9981048  2018   9981048-3   taichiro  nishikawa    Pittsburgh   \n",
       "\n",
       "  inventor_state inventor_country                  full_name name_middle  \n",
       "3             PA               US           SCHUMAN, JOEL S.           s  \n",
       "4             PA               US  KAGEMANN, LAWRENCE EDWARD      edward  \n",
       "5             PA               US           WODLINGER, BRIAN         NaN  \n",
       "6             PA               US             FOX, IRA JACOB       jacob  \n",
       "7             PA               US     NISHIKAWA, TAICHIRO N.           n  "
      ]
     },
     "execution_count": 104,
     "metadata": {},
     "output_type": "execute_result"
    }
   ],
   "source": [
    "inventors.head()"
   ]
  },
  {
   "cell_type": "markdown",
   "metadata": {},
   "source": [
    "Now we are done with the inital data prep work for the inventor file. Please keep in mind that we just provided some examples for you to demonstrate the process. You can add as many further steps to it as necessary. "
   ]
  },
  {
   "cell_type": "markdown",
   "metadata": {},
   "source": [
    "#### Clean Grant Data\n",
    "Now we will clean and preprocess the grants data. We need a dataset that has the first, middle and last name of the researcher, the city, state, and country information. "
   ]
  },
  {
   "cell_type": "code",
   "execution_count": 105,
   "metadata": {
    "ExecuteTime": {
     "end_time": "2020-01-23T23:06:50.032053Z",
     "start_time": "2020-01-23T23:06:50.016935Z"
    },
    "collapsed": false
   },
   "outputs": [
    {
     "data": {
      "text/html": [
       "<div>\n",
       "<style scoped>\n",
       "    .dataframe tbody tr th:only-of-type {\n",
       "        vertical-align: middle;\n",
       "    }\n",
       "\n",
       "    .dataframe tbody tr th {\n",
       "        vertical-align: top;\n",
       "    }\n",
       "\n",
       "    .dataframe thead th {\n",
       "        text-align: right;\n",
       "    }\n",
       "</style>\n",
       "<table border=\"1\" class=\"dataframe\">\n",
       "  <thead>\n",
       "    <tr style=\"text-align: right;\">\n",
       "      <th></th>\n",
       "      <th>PROJECT_ID</th>\n",
       "      <th>CONTACT_PI_PROJECT_LEADER</th>\n",
       "      <th>OTHER_PIS</th>\n",
       "      <th>ORGANIZATION_CITY</th>\n",
       "      <th>ORGANIZATION_STATE</th>\n",
       "      <th>ORGANIZATION_COUNTRY</th>\n",
       "    </tr>\n",
       "  </thead>\n",
       "  <tbody>\n",
       "    <tr>\n",
       "      <td>0</td>\n",
       "      <td>121219</td>\n",
       "      <td>POIRER, DAVID</td>\n",
       "      <td>NaN</td>\n",
       "      <td>TUCSON</td>\n",
       "      <td>AZ</td>\n",
       "      <td>UNITED STATES</td>\n",
       "    </tr>\n",
       "    <tr>\n",
       "      <td>1</td>\n",
       "      <td>121220</td>\n",
       "      <td>HEYWARD, ANN O</td>\n",
       "      <td>NaN</td>\n",
       "      <td>BROOK PARK</td>\n",
       "      <td>OH</td>\n",
       "      <td>UNITED STATES</td>\n",
       "    </tr>\n",
       "    <tr>\n",
       "      <td>2</td>\n",
       "      <td>121221</td>\n",
       "      <td>KALOGERA, VASSILIKI</td>\n",
       "      <td>LUIJTEN, ERIK</td>\n",
       "      <td>EVANSTON</td>\n",
       "      <td>IL</td>\n",
       "      <td>UNITED STATES</td>\n",
       "    </tr>\n",
       "    <tr>\n",
       "      <td>3</td>\n",
       "      <td>121222</td>\n",
       "      <td>GUILDERSON, THOMAS P</td>\n",
       "      <td>NaN</td>\n",
       "      <td>SANTA CRUZ</td>\n",
       "      <td>CA</td>\n",
       "      <td>UNITED STATES</td>\n",
       "    </tr>\n",
       "    <tr>\n",
       "      <td>4</td>\n",
       "      <td>121223</td>\n",
       "      <td>HAYES, GILLIAN</td>\n",
       "      <td>TENTORI, MONICA</td>\n",
       "      <td>IRVINE</td>\n",
       "      <td>CA</td>\n",
       "      <td>UNITED STATES</td>\n",
       "    </tr>\n",
       "  </tbody>\n",
       "</table>\n",
       "</div>"
      ],
      "text/plain": [
       "   PROJECT_ID  CONTACT_PI_PROJECT_LEADER        OTHER_PIS  ORGANIZATION_CITY  \\\n",
       "0      121219              POIRER, DAVID              NaN             TUCSON   \n",
       "1      121220             HEYWARD, ANN O              NaN         BROOK PARK   \n",
       "2      121221        KALOGERA, VASSILIKI    LUIJTEN, ERIK           EVANSTON   \n",
       "3      121222       GUILDERSON, THOMAS P              NaN         SANTA CRUZ   \n",
       "4      121223             HAYES, GILLIAN  TENTORI, MONICA             IRVINE   \n",
       "\n",
       "   ORGANIZATION_STATE  ORGANIZATION_COUNTRY  \n",
       "0                  AZ         UNITED STATES  \n",
       "1                  OH         UNITED STATES  \n",
       "2                  IL         UNITED STATES  \n",
       "3                  CA         UNITED STATES  \n",
       "4                  CA         UNITED STATES  "
      ]
     },
     "execution_count": 105,
     "metadata": {},
     "output_type": "execute_result"
    }
   ],
   "source": [
    "pi.head()"
   ]
  },
  {
   "cell_type": "markdown",
   "metadata": {},
   "source": [
    "Here you can start cleaning the data and extract the information that we need to compare it to the inventor file. You want to find as many variables as you can match to as possible. You can also see that we have two field with names. You have the PI field, but you can extract more names from the OTHER PIDS fields if you are interested. "
   ]
  },
  {
   "cell_type": "code",
   "execution_count": 106,
   "metadata": {
    "ExecuteTime": {
     "end_time": "2020-01-23T23:06:51.209001Z",
     "start_time": "2020-01-23T23:06:50.618160Z"
    },
    "collapsed": true
   },
   "outputs": [],
   "source": [
    "pi[' CONTACT_PI_PROJECT_LEADER'] = clean(pi[' CONTACT_PI_PROJECT_LEADER'])"
   ]
  },
  {
   "cell_type": "code",
   "execution_count": 107,
   "metadata": {
    "ExecuteTime": {
     "end_time": "2020-01-23T23:06:52.084639Z",
     "start_time": "2020-01-23T23:06:51.305335Z"
    },
    "collapsed": true
   },
   "outputs": [],
   "source": [
    "pi['name_first'] = pi[' CONTACT_PI_PROJECT_LEADER'].str.split(' ').str.get(1)\n",
    "pi['name_last'] = pi[' CONTACT_PI_PROJECT_LEADER'].str.split(' ').str.get(0)\n",
    "pi['name_middle'] = pi[' CONTACT_PI_PROJECT_LEADER'].str.split(' ').str.get(2)"
   ]
  },
  {
   "cell_type": "code",
   "execution_count": 108,
   "metadata": {
    "ExecuteTime": {
     "end_time": "2020-01-23T23:06:52.217778Z",
     "start_time": "2020-01-23T23:06:52.192680Z"
    },
    "collapsed": false
   },
   "outputs": [
    {
     "data": {
      "text/html": [
       "<div>\n",
       "<style scoped>\n",
       "    .dataframe tbody tr th:only-of-type {\n",
       "        vertical-align: middle;\n",
       "    }\n",
       "\n",
       "    .dataframe tbody tr th {\n",
       "        vertical-align: top;\n",
       "    }\n",
       "\n",
       "    .dataframe thead th {\n",
       "        text-align: right;\n",
       "    }\n",
       "</style>\n",
       "<table border=\"1\" class=\"dataframe\">\n",
       "  <thead>\n",
       "    <tr style=\"text-align: right;\">\n",
       "      <th></th>\n",
       "      <th>PROJECT_ID</th>\n",
       "      <th>CONTACT_PI_PROJECT_LEADER</th>\n",
       "      <th>OTHER_PIS</th>\n",
       "      <th>ORGANIZATION_CITY</th>\n",
       "      <th>ORGANIZATION_STATE</th>\n",
       "      <th>ORGANIZATION_COUNTRY</th>\n",
       "      <th>name_first</th>\n",
       "      <th>name_last</th>\n",
       "      <th>name_middle</th>\n",
       "    </tr>\n",
       "  </thead>\n",
       "  <tbody>\n",
       "    <tr>\n",
       "      <td>0</td>\n",
       "      <td>121219</td>\n",
       "      <td>poirer david</td>\n",
       "      <td>NaN</td>\n",
       "      <td>TUCSON</td>\n",
       "      <td>AZ</td>\n",
       "      <td>UNITED STATES</td>\n",
       "      <td>david</td>\n",
       "      <td>poirer</td>\n",
       "      <td>NaN</td>\n",
       "    </tr>\n",
       "    <tr>\n",
       "      <td>1</td>\n",
       "      <td>121220</td>\n",
       "      <td>heyward ann o</td>\n",
       "      <td>NaN</td>\n",
       "      <td>BROOK PARK</td>\n",
       "      <td>OH</td>\n",
       "      <td>UNITED STATES</td>\n",
       "      <td>ann</td>\n",
       "      <td>heyward</td>\n",
       "      <td>o</td>\n",
       "    </tr>\n",
       "    <tr>\n",
       "      <td>2</td>\n",
       "      <td>121221</td>\n",
       "      <td>kalogera vassiliki</td>\n",
       "      <td>LUIJTEN, ERIK</td>\n",
       "      <td>EVANSTON</td>\n",
       "      <td>IL</td>\n",
       "      <td>UNITED STATES</td>\n",
       "      <td>vassiliki</td>\n",
       "      <td>kalogera</td>\n",
       "      <td>NaN</td>\n",
       "    </tr>\n",
       "    <tr>\n",
       "      <td>3</td>\n",
       "      <td>121222</td>\n",
       "      <td>guilderson thomas p</td>\n",
       "      <td>NaN</td>\n",
       "      <td>SANTA CRUZ</td>\n",
       "      <td>CA</td>\n",
       "      <td>UNITED STATES</td>\n",
       "      <td>thomas</td>\n",
       "      <td>guilderson</td>\n",
       "      <td>p</td>\n",
       "    </tr>\n",
       "    <tr>\n",
       "      <td>4</td>\n",
       "      <td>121223</td>\n",
       "      <td>hayes gillian</td>\n",
       "      <td>TENTORI, MONICA</td>\n",
       "      <td>IRVINE</td>\n",
       "      <td>CA</td>\n",
       "      <td>UNITED STATES</td>\n",
       "      <td>gillian</td>\n",
       "      <td>hayes</td>\n",
       "      <td>NaN</td>\n",
       "    </tr>\n",
       "  </tbody>\n",
       "</table>\n",
       "</div>"
      ],
      "text/plain": [
       "   PROJECT_ID  CONTACT_PI_PROJECT_LEADER        OTHER_PIS  ORGANIZATION_CITY  \\\n",
       "0      121219               poirer david              NaN             TUCSON   \n",
       "1      121220              heyward ann o              NaN         BROOK PARK   \n",
       "2      121221         kalogera vassiliki    LUIJTEN, ERIK           EVANSTON   \n",
       "3      121222        guilderson thomas p              NaN         SANTA CRUZ   \n",
       "4      121223              hayes gillian  TENTORI, MONICA             IRVINE   \n",
       "\n",
       "   ORGANIZATION_STATE  ORGANIZATION_COUNTRY name_first   name_last name_middle  \n",
       "0                  AZ         UNITED STATES      david      poirer         NaN  \n",
       "1                  OH         UNITED STATES        ann     heyward           o  \n",
       "2                  IL         UNITED STATES  vassiliki    kalogera         NaN  \n",
       "3                  CA         UNITED STATES     thomas  guilderson           p  \n",
       "4                  CA         UNITED STATES    gillian       hayes         NaN  "
      ]
     },
     "execution_count": 108,
     "metadata": {},
     "output_type": "execute_result"
    }
   ],
   "source": [
    "pi.head()"
   ]
  },
  {
   "cell_type": "markdown",
   "metadata": {},
   "source": [
    "We will add one more thing: **phonetic processing**.\n",
    "\n",
    "Sometimes, words or names are recorded differently because they are written down as they sound. This can result in failed matches, because the same organization or individual will technically have different written names, even though the names would sound identically when pronounced out loud. To avoid these issues, we will add onoe more thing: a soundex (a phonetic algorithm for indexing names by sound, as pronounced in English).\n",
    "\n",
    "The `phonetic()` function is used to convert strings into their corresponding phonetic codes. This is particularly useful when comparing names where different possible spellings make it difficult to find exact matches (e.g. Jillian and Gillian).\n",
    "\n",
    "Let's add a column called `phonetic_name` to our existing table, which will contain the result of applying a `phonetic` function to the name (the phonetic transcription of the name). We are using a method called NYSIIS - the New York State Identification and Intelligence System phonetic code."
   ]
  },
  {
   "cell_type": "code",
   "execution_count": 109,
   "metadata": {
    "ExecuteTime": {
     "end_time": "2020-01-23T23:06:53.321144Z",
     "start_time": "2020-01-23T23:06:52.349524Z"
    },
    "collapsed": true
   },
   "outputs": [],
   "source": [
    "inventors[\"phonetic_first\"] = phonetic(inventors[\"name_first\"], method=\"nysiis\")\n",
    "inventors[\"phonetic_last\"] = phonetic(inventors[\"name_last\"], method=\"nysiis\")\n",
    "inventors[\"phonetic_middle\"] = phonetic(inventors[\"name_middle\"], method=\"nysiis\")\n",
    "\n",
    "pi[\"phonetic_first\"] = phonetic(pi[\"name_first\"], method=\"nysiis\")\n",
    "pi[\"phonetic_last\"] = phonetic(pi[\"name_last\"], method=\"nysiis\")\n",
    "pi[\"phonetic_middle\"] = phonetic(pi[\"name_middle\"], method=\"nysiis\")"
   ]
  },
  {
   "cell_type": "code",
   "execution_count": 154,
   "metadata": {
    "ExecuteTime": {
     "end_time": "2020-01-24T01:08:23.419249Z",
     "start_time": "2020-01-24T01:08:23.394957Z"
    },
    "collapsed": false
   },
   "outputs": [
    {
     "data": {
      "text/html": [
       "<div>\n",
       "<style scoped>\n",
       "    .dataframe tbody tr th:only-of-type {\n",
       "        vertical-align: middle;\n",
       "    }\n",
       "\n",
       "    .dataframe tbody tr th {\n",
       "        vertical-align: top;\n",
       "    }\n",
       "\n",
       "    .dataframe thead th {\n",
       "        text-align: right;\n",
       "    }\n",
       "</style>\n",
       "<table border=\"1\" class=\"dataframe\">\n",
       "  <thead>\n",
       "    <tr style=\"text-align: right;\">\n",
       "      <th></th>\n",
       "      <th>PROJECT_ID</th>\n",
       "      <th>CONTACT_PI_PROJECT_LEADER</th>\n",
       "      <th>OTHER_PIS</th>\n",
       "      <th>ORGANIZATION_CITY</th>\n",
       "      <th>ORGANIZATION_STATE</th>\n",
       "      <th>ORGANIZATION_COUNTRY</th>\n",
       "    </tr>\n",
       "  </thead>\n",
       "  <tbody>\n",
       "    <tr>\n",
       "      <td>0</td>\n",
       "      <td>121219</td>\n",
       "      <td>POIRER, DAVID</td>\n",
       "      <td>NaN</td>\n",
       "      <td>TUCSON</td>\n",
       "      <td>AZ</td>\n",
       "      <td>UNITED STATES</td>\n",
       "    </tr>\n",
       "    <tr>\n",
       "      <td>1</td>\n",
       "      <td>121220</td>\n",
       "      <td>HEYWARD, ANN O</td>\n",
       "      <td>NaN</td>\n",
       "      <td>BROOK PARK</td>\n",
       "      <td>OH</td>\n",
       "      <td>UNITED STATES</td>\n",
       "    </tr>\n",
       "    <tr>\n",
       "      <td>2</td>\n",
       "      <td>121221</td>\n",
       "      <td>KALOGERA, VASSILIKI</td>\n",
       "      <td>LUIJTEN, ERIK</td>\n",
       "      <td>EVANSTON</td>\n",
       "      <td>IL</td>\n",
       "      <td>UNITED STATES</td>\n",
       "    </tr>\n",
       "    <tr>\n",
       "      <td>3</td>\n",
       "      <td>121222</td>\n",
       "      <td>GUILDERSON, THOMAS P</td>\n",
       "      <td>NaN</td>\n",
       "      <td>SANTA CRUZ</td>\n",
       "      <td>CA</td>\n",
       "      <td>UNITED STATES</td>\n",
       "    </tr>\n",
       "    <tr>\n",
       "      <td>4</td>\n",
       "      <td>121223</td>\n",
       "      <td>HAYES, GILLIAN</td>\n",
       "      <td>TENTORI, MONICA</td>\n",
       "      <td>IRVINE</td>\n",
       "      <td>CA</td>\n",
       "      <td>UNITED STATES</td>\n",
       "    </tr>\n",
       "  </tbody>\n",
       "</table>\n",
       "</div>"
      ],
      "text/plain": [
       "   PROJECT_ID  CONTACT_PI_PROJECT_LEADER        OTHER_PIS  ORGANIZATION_CITY  \\\n",
       "0      121219              POIRER, DAVID              NaN             TUCSON   \n",
       "1      121220             HEYWARD, ANN O              NaN         BROOK PARK   \n",
       "2      121221        KALOGERA, VASSILIKI    LUIJTEN, ERIK           EVANSTON   \n",
       "3      121222       GUILDERSON, THOMAS P              NaN         SANTA CRUZ   \n",
       "4      121223             HAYES, GILLIAN  TENTORI, MONICA             IRVINE   \n",
       "\n",
       "   ORGANIZATION_STATE  ORGANIZATION_COUNTRY  \n",
       "0                  AZ         UNITED STATES  \n",
       "1                  OH         UNITED STATES  \n",
       "2                  IL         UNITED STATES  \n",
       "3                  CA         UNITED STATES  \n",
       "4                  CA         UNITED STATES  "
      ]
     },
     "execution_count": 154,
     "metadata": {},
     "output_type": "execute_result"
    }
   ],
   "source": [
    "pi.head()"
   ]
  },
  {
   "cell_type": "markdown",
   "metadata": {},
   "source": [
    "<span style=\"color:red\">**Checkpoint 2: Clean organization-level data**</span>"
   ]
  },
  {
   "cell_type": "markdown",
   "metadata": {},
   "source": [
    "Use `clean` function above, remove white space, and find phonetic transcriptions of organization names."
   ]
  },
  {
   "cell_type": "code",
   "execution_count": 34,
   "metadata": {
    "ExecuteTime": {
     "end_time": "2020-01-23T14:13:17.406454Z",
     "start_time": "2020-01-23T14:13:17.401292Z"
    },
    "collapsed": true
   },
   "outputs": [],
   "source": [
    "# your code here...\n",
    "\n",
    "\n",
    "\n",
    "\n"
   ]
  },
  {
   "cell_type": "markdown",
   "metadata": {},
   "source": [
    "# Deterministic Matching"
   ]
  },
  {
   "cell_type": "markdown",
   "metadata": {},
   "source": [
    "### Individual-level links"
   ]
  },
  {
   "cell_type": "markdown",
   "metadata": {},
   "source": [
    "Let's first do an exact match (merge) on the **first, middle, last name** and examine the results."
   ]
  },
  {
   "cell_type": "code",
   "execution_count": 110,
   "metadata": {
    "ExecuteTime": {
     "end_time": "2020-01-23T23:06:56.979723Z",
     "start_time": "2020-01-23T23:06:56.737526Z"
    },
    "collapsed": true
   },
   "outputs": [],
   "source": [
    "# Merge on first, middle, last name\n",
    "merge_name = inventors.merge(pi,on=['name_first','name_last','name_middle'])"
   ]
  },
  {
   "cell_type": "markdown",
   "metadata": {},
   "source": [
    "Let's count how many unique inventor IDs and PI names got matched."
   ]
  },
  {
   "cell_type": "code",
   "execution_count": 111,
   "metadata": {
    "ExecuteTime": {
     "end_time": "2020-01-23T23:06:57.959992Z",
     "start_time": "2020-01-23T23:06:57.945983Z"
    },
    "collapsed": false
   },
   "outputs": [
    {
     "data": {
      "text/plain": [
       "250"
      ]
     },
     "execution_count": 111,
     "metadata": {},
     "output_type": "execute_result"
    }
   ],
   "source": [
    "# Let's check the count of unique inventor_ids\n",
    "merge_name['inventor_id'].nunique()"
   ]
  },
  {
   "cell_type": "code",
   "execution_count": 39,
   "metadata": {
    "ExecuteTime": {
     "end_time": "2020-01-23T14:13:35.598029Z",
     "start_time": "2020-01-23T14:13:35.590114Z"
    },
    "collapsed": false
   },
   "outputs": [
    {
     "data": {
      "text/plain": [
       "250"
      ]
     },
     "execution_count": 39,
     "metadata": {},
     "output_type": "execute_result"
    }
   ],
   "source": [
    "# Let's check the count of unique PI names\n",
    "merge_name[' CONTACT_PI_PROJECT_LEADER'].nunique()"
   ]
  },
  {
   "cell_type": "markdown",
   "metadata": {},
   "source": [
    "We can now merge on the **phonetic first, middle, last name**."
   ]
  },
  {
   "cell_type": "code",
   "execution_count": 243,
   "metadata": {
    "ExecuteTime": {
     "end_time": "2020-01-23T01:18:48.914290Z",
     "start_time": "2020-01-23T01:18:48.766758Z"
    },
    "collapsed": true
   },
   "outputs": [],
   "source": [
    "# Merge on phonetic first, middle, last name\n",
    "merge_name_phonetic_middle = inventors.merge(pi,on=['phonetic_first','phonetic_last','phonetic_middle'])"
   ]
  },
  {
   "cell_type": "code",
   "execution_count": 244,
   "metadata": {
    "ExecuteTime": {
     "end_time": "2020-01-23T01:18:49.379230Z",
     "start_time": "2020-01-23T01:18:49.370011Z"
    },
    "collapsed": false
   },
   "outputs": [
    {
     "data": {
      "text/plain": [
       "307"
      ]
     },
     "execution_count": 244,
     "metadata": {},
     "output_type": "execute_result"
    }
   ],
   "source": [
    "# Let's check the count of unique inventor_ids\n",
    "merge_name_phonetic_middle['inventor_id'].nunique()"
   ]
  },
  {
   "cell_type": "code",
   "execution_count": 245,
   "metadata": {
    "ExecuteTime": {
     "end_time": "2020-01-23T01:18:49.836659Z",
     "start_time": "2020-01-23T01:18:49.827394Z"
    },
    "collapsed": false
   },
   "outputs": [
    {
     "data": {
      "text/plain": [
       "422"
      ]
     },
     "execution_count": 245,
     "metadata": {},
     "output_type": "execute_result"
    }
   ],
   "source": [
    "# Let's check the count of unique PI names\n",
    "merge_name_phonetic_middle[' CONTACT_PI_PROJECT_LEADER'].nunique()"
   ]
  },
  {
   "cell_type": "markdown",
   "metadata": {},
   "source": [
    "You can enlarge your links and only merge on **first and last name**."
   ]
  },
  {
   "cell_type": "code",
   "execution_count": 246,
   "metadata": {
    "ExecuteTime": {
     "end_time": "2020-01-23T01:18:50.451600Z",
     "start_time": "2020-01-23T01:18:50.294837Z"
    },
    "collapsed": true
   },
   "outputs": [],
   "source": [
    "merge_name_first_last = inventors.merge(pi,on=['name_first','name_last'])"
   ]
  },
  {
   "cell_type": "code",
   "execution_count": 247,
   "metadata": {
    "ExecuteTime": {
     "end_time": "2020-01-23T01:18:50.889465Z",
     "start_time": "2020-01-23T01:18:50.879257Z"
    },
    "collapsed": false
   },
   "outputs": [
    {
     "data": {
      "text/plain": [
       "384"
      ]
     },
     "execution_count": 247,
     "metadata": {},
     "output_type": "execute_result"
    }
   ],
   "source": [
    "# Check the counts\n",
    "merge_name_first_last['inventor_id'].nunique()"
   ]
  },
  {
   "cell_type": "code",
   "execution_count": 248,
   "metadata": {
    "ExecuteTime": {
     "end_time": "2020-01-23T01:18:51.348176Z",
     "start_time": "2020-01-23T01:18:51.339454Z"
    },
    "collapsed": false
   },
   "outputs": [
    {
     "data": {
      "text/plain": [
       "451"
      ]
     },
     "execution_count": 248,
     "metadata": {},
     "output_type": "execute_result"
    }
   ],
   "source": [
    "# Check the counts\n",
    "merge_name_first_last[' CONTACT_PI_PROJECT_LEADER'].nunique()"
   ]
  },
  {
   "cell_type": "markdown",
   "metadata": {},
   "source": [
    "You can also try merging on **phonetic first and last name**."
   ]
  },
  {
   "cell_type": "code",
   "execution_count": 249,
   "metadata": {
    "ExecuteTime": {
     "end_time": "2020-01-23T01:18:51.944175Z",
     "start_time": "2020-01-23T01:18:51.796745Z"
    },
    "collapsed": true
   },
   "outputs": [],
   "source": [
    "merge_name_phonetic = inventors.merge(pi,on=['phonetic_first','phonetic_last'])"
   ]
  },
  {
   "cell_type": "code",
   "execution_count": 250,
   "metadata": {
    "ExecuteTime": {
     "end_time": "2020-01-23T01:18:52.369236Z",
     "start_time": "2020-01-23T01:18:52.358679Z"
    },
    "collapsed": false
   },
   "outputs": [
    {
     "data": {
      "text/plain": [
       "537"
      ]
     },
     "execution_count": 250,
     "metadata": {},
     "output_type": "execute_result"
    }
   ],
   "source": [
    "merge_name_phonetic['inventor_id'].nunique()"
   ]
  },
  {
   "cell_type": "code",
   "execution_count": 251,
   "metadata": {
    "ExecuteTime": {
     "end_time": "2020-01-23T01:18:52.811895Z",
     "start_time": "2020-01-23T01:18:52.801864Z"
    },
    "collapsed": false
   },
   "outputs": [
    {
     "data": {
      "text/plain": [
       "1152"
      ]
     },
     "execution_count": 251,
     "metadata": {},
     "output_type": "execute_result"
    }
   ],
   "source": [
    "merge_name_phonetic[' CONTACT_PI_PROJECT_LEADER'].nunique()"
   ]
  },
  {
   "cell_type": "markdown",
   "metadata": {},
   "source": [
    "What if we blocked by state?"
   ]
  },
  {
   "cell_type": "code",
   "execution_count": 252,
   "metadata": {
    "ExecuteTime": {
     "end_time": "2020-01-23T01:18:53.363389Z",
     "start_time": "2020-01-23T01:18:53.238138Z"
    },
    "collapsed": true
   },
   "outputs": [],
   "source": [
    "# Rename columns in both datasets to the same name\n",
    "inventors = inventors.rename(columns={'inventor_state':'state'})\n",
    "pi = pi.rename(columns={' ORGANIZATION_STATE':'state'})"
   ]
  },
  {
   "cell_type": "markdown",
   "metadata": {
    "ExecuteTime": {
     "end_time": "2020-01-23T01:13:34.620172Z",
     "start_time": "2020-01-23T01:13:34.611235Z"
    }
   },
   "source": [
    "Merge on **first, middle, last name, and state**."
   ]
  },
  {
   "cell_type": "code",
   "execution_count": 253,
   "metadata": {
    "ExecuteTime": {
     "end_time": "2020-01-23T01:18:53.938957Z",
     "start_time": "2020-01-23T01:18:53.799932Z"
    },
    "collapsed": true
   },
   "outputs": [],
   "source": [
    "merge_name_state = inventors.merge(pi,on=['name_first','name_last','name_middle','state'])"
   ]
  },
  {
   "cell_type": "markdown",
   "metadata": {},
   "source": [
    "How many matches did we get?"
   ]
  },
  {
   "cell_type": "code",
   "execution_count": 254,
   "metadata": {
    "ExecuteTime": {
     "end_time": "2020-01-23T01:18:54.393751Z",
     "start_time": "2020-01-23T01:18:54.382661Z"
    },
    "collapsed": false
   },
   "outputs": [
    {
     "data": {
      "text/plain": [
       "221"
      ]
     },
     "execution_count": 254,
     "metadata": {},
     "output_type": "execute_result"
    }
   ],
   "source": [
    "merge_name_state['inventor_id'].nunique()"
   ]
  },
  {
   "cell_type": "code",
   "execution_count": 255,
   "metadata": {
    "ExecuteTime": {
     "end_time": "2020-01-23T01:18:54.865130Z",
     "start_time": "2020-01-23T01:18:54.856486Z"
    },
    "collapsed": false
   },
   "outputs": [
    {
     "data": {
      "text/plain": [
       "221"
      ]
     },
     "execution_count": 255,
     "metadata": {},
     "output_type": "execute_result"
    }
   ],
   "source": [
    "merge_name_state[' CONTACT_PI_PROJECT_LEADER'].nunique()"
   ]
  },
  {
   "cell_type": "code",
   "execution_count": 307,
   "metadata": {
    "ExecuteTime": {
     "end_time": "2020-01-23T01:50:21.193675Z",
     "start_time": "2020-01-23T01:50:21.032265Z"
    },
    "collapsed": true
   },
   "outputs": [],
   "source": [
    "merge_phonetic_name_state = inventors.merge(pi,on=['phonetic_first','phonetic_last','phonetic_middle','state'])"
   ]
  },
  {
   "cell_type": "code",
   "execution_count": 308,
   "metadata": {
    "ExecuteTime": {
     "end_time": "2020-01-23T01:50:37.330426Z",
     "start_time": "2020-01-23T01:50:37.321961Z"
    },
    "collapsed": false
   },
   "outputs": [
    {
     "data": {
      "text/plain": [
       "244"
      ]
     },
     "execution_count": 308,
     "metadata": {},
     "output_type": "execute_result"
    }
   ],
   "source": [
    "merge_phonetic_name_state['inventor_id'].nunique()"
   ]
  },
  {
   "cell_type": "code",
   "execution_count": 309,
   "metadata": {
    "ExecuteTime": {
     "end_time": "2020-01-23T01:50:53.207467Z",
     "start_time": "2020-01-23T01:50:53.198990Z"
    },
    "collapsed": false
   },
   "outputs": [
    {
     "data": {
      "text/plain": [
       "273"
      ]
     },
     "execution_count": 309,
     "metadata": {},
     "output_type": "execute_result"
    }
   ],
   "source": [
    "merge_phonetic_name_state[' CONTACT_PI_PROJECT_LEADER'].nunique()"
   ]
  },
  {
   "cell_type": "markdown",
   "metadata": {},
   "source": [
    "Now let's try blocking by **full name, city and state**."
   ]
  },
  {
   "cell_type": "code",
   "execution_count": 256,
   "metadata": {
    "ExecuteTime": {
     "end_time": "2020-01-23T01:18:55.324011Z",
     "start_time": "2020-01-23T01:18:55.315675Z"
    },
    "collapsed": true
   },
   "outputs": [],
   "source": [
    "inventors['inventor_city'] = inventors['inventor_city'].str.upper()"
   ]
  },
  {
   "cell_type": "code",
   "execution_count": 257,
   "metadata": {
    "ExecuteTime": {
     "end_time": "2020-01-23T01:18:55.769840Z",
     "start_time": "2020-01-23T01:18:55.759819Z"
    },
    "collapsed": true
   },
   "outputs": [],
   "source": [
    "inventors = inventors.rename(columns={'inventor_city':'city'})"
   ]
  },
  {
   "cell_type": "code",
   "execution_count": 258,
   "metadata": {
    "ExecuteTime": {
     "end_time": "2020-01-23T01:18:56.342086Z",
     "start_time": "2020-01-23T01:18:56.232254Z"
    },
    "collapsed": true
   },
   "outputs": [],
   "source": [
    "pi = pi.rename(columns={' ORGANIZATION_CITY':'city'})"
   ]
  },
  {
   "cell_type": "code",
   "execution_count": 259,
   "metadata": {
    "ExecuteTime": {
     "end_time": "2020-01-23T01:18:56.949441Z",
     "start_time": "2020-01-23T01:18:56.778495Z"
    },
    "collapsed": true
   },
   "outputs": [],
   "source": [
    "merge_name_location_city = inventors.merge(pi, on=['name_first','name_last','name_middle','state','city'])"
   ]
  },
  {
   "cell_type": "markdown",
   "metadata": {},
   "source": [
    "How many matches did we get?"
   ]
  },
  {
   "cell_type": "code",
   "execution_count": 260,
   "metadata": {
    "ExecuteTime": {
     "end_time": "2020-01-23T01:18:57.421384Z",
     "start_time": "2020-01-23T01:18:57.412398Z"
    },
    "collapsed": false
   },
   "outputs": [
    {
     "data": {
      "text/plain": [
       "135"
      ]
     },
     "execution_count": 260,
     "metadata": {},
     "output_type": "execute_result"
    }
   ],
   "source": [
    "merge_name_location_city['inventor_id'].nunique()"
   ]
  },
  {
   "cell_type": "code",
   "execution_count": 261,
   "metadata": {
    "ExecuteTime": {
     "end_time": "2020-01-23T01:18:57.903633Z",
     "start_time": "2020-01-23T01:18:57.893663Z"
    },
    "collapsed": false
   },
   "outputs": [
    {
     "data": {
      "text/plain": [
       "135"
      ]
     },
     "execution_count": 261,
     "metadata": {},
     "output_type": "execute_result"
    }
   ],
   "source": [
    "merge_name_location_city[' CONTACT_PI_PROJECT_LEADER'].nunique()"
   ]
  },
  {
   "cell_type": "code",
   "execution_count": 317,
   "metadata": {
    "ExecuteTime": {
     "end_time": "2020-01-23T01:54:14.979560Z",
     "start_time": "2020-01-23T01:54:14.833347Z"
    },
    "collapsed": true
   },
   "outputs": [],
   "source": [
    "merge_phonetic_name_location_city = inventors.merge(pi, on=['phonetic_first','phonetic_last','state','city'])"
   ]
  },
  {
   "cell_type": "code",
   "execution_count": 318,
   "metadata": {
    "ExecuteTime": {
     "end_time": "2020-01-23T01:54:15.570050Z",
     "start_time": "2020-01-23T01:54:15.562355Z"
    },
    "collapsed": false
   },
   "outputs": [
    {
     "data": {
      "text/plain": [
       "190"
      ]
     },
     "execution_count": 318,
     "metadata": {},
     "output_type": "execute_result"
    }
   ],
   "source": [
    "merge_phonetic_name_location_city['inventor_id'].nunique()"
   ]
  },
  {
   "cell_type": "code",
   "execution_count": 319,
   "metadata": {
    "ExecuteTime": {
     "end_time": "2020-01-23T01:54:16.547277Z",
     "start_time": "2020-01-23T01:54:16.538402Z"
    },
    "collapsed": false
   },
   "outputs": [
    {
     "data": {
      "text/plain": [
       "206"
      ]
     },
     "execution_count": 319,
     "metadata": {},
     "output_type": "execute_result"
    }
   ],
   "source": [
    "merge_phonetic_name_location_city[' CONTACT_PI_PROJECT_LEADER'].nunique()"
   ]
  },
  {
   "cell_type": "markdown",
   "metadata": {},
   "source": [
    "<span style=\"color:red\">**Checkpoint 3: Deterministic matching of organization names**</span>"
   ]
  },
  {
   "cell_type": "markdown",
   "metadata": {},
   "source": [
    "Now try doing different types of merges using organization names, blocking on different variables and seeing the differences."
   ]
  },
  {
   "cell_type": "code",
   "execution_count": null,
   "metadata": {
    "collapsed": true
   },
   "outputs": [],
   "source": [
    "# your code here...\n",
    "\n"
   ]
  },
  {
   "cell_type": "markdown",
   "metadata": {},
   "source": [
    "**Optional: Regular Expressions - regex**\n",
    "\n",
    "When defining a regular expression search pattern, it is a good idea to start out by writing down, explicitly, in plain English, what you are trying to search for and exactly how you identify when you've found a match.\n",
    "For example, if we look at an author field formatted as \"<last_name> , <first_name> <middle_name>\", in plain English, this is how I would explain where to find the last name: \"starting from the beginning of the line, take all the characters until you see a comma.\"\n",
    "\n",
    "We can build a regular expression that captures this idea from the following components:\n",
    "- ^ Matches beginning of the line\n",
    "- . Matches any character\n",
    "- .+ A modifier that means \"match one or more of the preceding expression\"\n",
    "\n",
    "In a regular expression, there are special reserved characters and character classes like those in the list above. Anything that is not a special character or class is just looked for explicitly (for example, a comma is not a special character in regular expressions, so if it is in a regular expression pattern, the regular expression processor will just be looking for a comma in the string, at that point in the pattern).\n",
    "\n",
    "Note: if you want to actually look for one of these reserved characters, it must be escaped, so that, for example, the expression looks for a literal period, rather than the special regular expression meaning of a period. To escape a reserved character in a regular expression, precede it with a back slash ( \".\" ).\n",
    "This results in the regular expression: ^.+,\n",
    "\n",
    "We start at the beginning of the line ( \"^\" ), matching any characters ( \".+\" ) until we come to the literal character of a comma ( \",\" ).\n",
    "\n",
    "In python, to use a regular expression like this to search for matches in a given string, we use the built-in \"re\" package ( https://docs.python.org/2/library/re.html ), specifically the \"re.search()\" method. To use \"re.search()\", pass it first the regular expression you want to use to search, enclosed in quotation marks, and then the string you want to search within. \n",
    "\n",
    "#### REGEX CHEATSHEET\n",
    "\n",
    "\n",
    "    - abc...     Letters\n",
    "    - 123...     Digits\n",
    "    - \\d         Any Digit\n",
    "    - \\D         Any non-Digit Character\n",
    "    - .          Any Character\n",
    "    - \\.         Period\n",
    "    - [a,b,c]    Only a, b or c\n",
    "    - [^a,b,c]   Not a,b, or c\n",
    "    - [a-z]      Characters a to z\n",
    "    - [0-9]      Numbers 0 to 9\n",
    "    - \\w any     Alphanumeric chracter\n",
    "    - \\W         any non-Alphanumeric character\n",
    "    - {m}        m Repetitions\n",
    "    - {m,n}      m to n repetitions\n",
    "    - *          Zero or more repetitions\n",
    "    - +          One or more repetitions\n",
    "    - ?          Optional Character\n",
    "    - \\s         any Whitespace\n",
    "    - \\S         any non-Whitespace character\n",
    "    - ^...$      Starts & Ends\n",
    "    - (...)      Capture Group\n",
    "    - (a(bc))    Capture sub-Group\n",
    "    - (.*)       Capture All\n",
    "    - (abc|def)  Capture abc or def\n",
    "     \n",
    "#### EXAMPLES\n",
    "    - (\\d\\d|\\D) will match 22X, 23G, 56H, etc...\n",
    "    - \\w will match any characters between 0-9 or a-z\n",
    "    - \\w{1-3} will match any alphanumeric character of a length of 1 to 3. \n",
    "    - (spell|spells) will match spell or spells"
   ]
  },
  {
   "cell_type": "markdown",
   "metadata": {},
   "source": [
    "## References and Further Readings\n",
    "\n",
    "\n",
    "### Record Linkage\n",
    "Winkler, William E. 2009. “Record Linkage.” In Handbook of Statistics 29a, Sample Surveys: Design, Methods and Applications, edited by D. Pfeffermann and C.\n",
    "R. Rao, 351–80. Elsevier.\n",
    "\n",
    "Lane, Julia, Ian Foster, Rayid Ghani, Ron S. Jarmin, Frauke Kreuter (editors), Big Data and Social Science: A Practical Guide to Methods and Tools, Chapman and Hall/CRC Press, 2016. \n",
    "https://coleridge-initiative.github.io/big-data-and-social-science/chap-link.html\n",
    "\n",
    "### Parsing\n",
    "\n",
    "* Python online documentation: https://docs.python.org/2/library/string.html#deprecated-string-functions\n",
    "* Python 2.7 Tutorial (Splitting and Joining Strings): http://www.pitt.edu/~naraehan/python2/split_join.html\n",
    "\n",
    "### Regular Expression\n",
    "\n",
    "* Python documentation: https://docs.python.org/2/library/re.html#regular-expression-syntax\n",
    "* Online regular expression tester (good for learning): http://regex101.com/\n",
    "\n",
    "### Record Linkage Python package\n",
    "* `recordlinkage` Python package: https://recordlinkage.readthedocs.io/en/latest/index.html"
   ]
  },
  {
   "cell_type": "code",
   "execution_count": null,
   "metadata": {
    "collapsed": true
   },
   "outputs": [],
   "source": []
  }
 ],
 "metadata": {
  "kernelspec": {
   "display_name": "py3-RecLink",
   "language": "python",
   "name": "py3-rl"
  },
  "language_info": {
   "codemirror_mode": {
    "name": "ipython",
    "version": 3
   },
   "file_extension": ".py",
   "mimetype": "text/x-python",
   "name": "python",
   "nbconvert_exporter": "python",
   "pygments_lexer": "ipython3",
   "version": "3.6.7"
  },
  "toc": {
   "base_numbering": 1,
   "nav_menu": {},
   "number_sections": true,
   "sideBar": true,
   "skip_h1_title": false,
   "title_cell": "Table of Contents",
   "title_sidebar": "Contents",
   "toc_cell": true,
   "toc_position": {
    "height": "calc(100% - 180px)",
    "left": "10px",
    "top": "150px",
    "width": "165px"
   },
   "toc_section_display": true,
   "toc_window_display": false
  },
  "varInspector": {
   "cols": {
    "lenName": 16,
    "lenType": 16,
    "lenVar": 40
   },
   "kernels_config": {
    "python": {
     "delete_cmd_postfix": "",
     "delete_cmd_prefix": "del ",
     "library": "var_list.py",
     "varRefreshCmd": "print(var_dic_list())"
    },
    "r": {
     "delete_cmd_postfix": ") ",
     "delete_cmd_prefix": "rm(",
     "library": "var_list.r",
     "varRefreshCmd": "cat(var_dic_list()) "
    }
   },
   "types_to_exclude": [
    "module",
    "function",
    "builtin_function_or_method",
    "instance",
    "_Feature"
   ],
   "window_display": false
  }
 },
 "nbformat": 4,
 "nbformat_minor": 2
}
