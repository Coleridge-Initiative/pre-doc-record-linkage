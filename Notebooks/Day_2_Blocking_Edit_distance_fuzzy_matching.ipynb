{
 "cells": [
  {
   "cell_type": "markdown",
   "metadata": {},
   "source": [
    "![Coleridge Initiative Logo](images/CI_horizontal.png)"
   ]
  },
  {
   "cell_type": "markdown",
   "metadata": {},
   "source": [
    "<center>\n",
    "    <span style=\"font-size: 1.5em;\">\n",
    "        <a href='https://www.coleridgeinitiative.org'>Website</a>\n",
    "    </span>\n",
    "</center>"
   ]
  },
  {
   "cell_type": "markdown",
   "metadata": {},
   "source": [
    "Contributors: Ghani, Rayid, Frauke Kreuter, Julia Lane, Brian Kim, Adrianne Bradford, Alex Engler, Nicolas Guetta Jeanrenaud, Graham Henke, Daniela Hochfellner, Clayton Hunter, Avishek Kumar, Jonathan Morgan, Ekaterina Levitskaya."
   ]
  },
  {
   "cell_type": "markdown",
   "metadata": {
    "toc": true
   },
   "source": [
    "<h1>Table of Contents<span class=\"tocSkip\"></span></h1>\n",
    "<div class=\"toc\"><ul class=\"toc-item\"><li><span><a href=\"#Python-Setup\" data-toc-modified-id=\"Python-Setup-1\"><span class=\"toc-item-num\">1&nbsp;&nbsp;</span>Python Setup</a></span></li><li><span><a href=\"#Data-Import\" data-toc-modified-id=\"Data-Import-2\"><span class=\"toc-item-num\">2&nbsp;&nbsp;</span>Data Import</a></span></li><li><span><a href=\"#Record-Linkage\" data-toc-modified-id=\"Record-Linkage-3\"><span class=\"toc-item-num\">3&nbsp;&nbsp;</span>Record Linkage</a></span><ul class=\"toc-item\"><li><span><a href=\"#Indexing\" data-toc-modified-id=\"Indexing-3.1\"><span class=\"toc-item-num\">3.1&nbsp;&nbsp;</span>Indexing</a></span></li></ul></li><li><span><a href=\"#Record-Comparison\" data-toc-modified-id=\"Record-Comparison-4\"><span class=\"toc-item-num\">4&nbsp;&nbsp;</span>Record Comparison</a></span><ul class=\"toc-item\"><li><span><a href=\"#Classification\" data-toc-modified-id=\"Classification-4.1\"><span class=\"toc-item-num\">4.1&nbsp;&nbsp;</span>Classification</a></span></li></ul></li><li><span><a href=\"#References-and-Further-Readings\" data-toc-modified-id=\"References-and-Further-Readings-5\"><span class=\"toc-item-num\">5&nbsp;&nbsp;</span>References and Further Readings</a></span><ul class=\"toc-item\"><li><span><a href=\"#Record-Linkage\" data-toc-modified-id=\"Record-Linkage-5.1\"><span class=\"toc-item-num\">5.1&nbsp;&nbsp;</span>Record Linkage</a></span></li><li><span><a href=\"#Record-Linkage-Python-package\" data-toc-modified-id=\"Record-Linkage-Python-package-5.2\"><span class=\"toc-item-num\">5.2&nbsp;&nbsp;</span>Record Linkage Python package</a></span></li><li><span><a href=\"#String-Comparators\" data-toc-modified-id=\"String-Comparators-5.3\"><span class=\"toc-item-num\">5.3&nbsp;&nbsp;</span>String Comparators</a></span></li><li><span><a href=\"#Fellegi-Sunter-Record-Linkage\" data-toc-modified-id=\"Fellegi-Sunter-Record-Linkage-5.4\"><span class=\"toc-item-num\">5.4&nbsp;&nbsp;</span>Fellegi-Sunter Record Linkage</a></span></li></ul></li></ul></div>"
   ]
  },
  {
   "cell_type": "markdown",
   "metadata": {},
   "source": [
    "## Python Setup"
   ]
  },
  {
   "cell_type": "code",
   "execution_count": 83,
   "metadata": {
    "ExecuteTime": {
     "end_time": "2020-01-24T23:57:01.563980Z",
     "start_time": "2020-01-24T23:57:01.554186Z"
    }
   },
   "outputs": [],
   "source": [
    "# data import and manipulation\n",
    "import pandas as pd\n",
    "\n",
    "# record linkage and preprocessing\n",
    "import recordlinkage as rl"
   ]
  },
  {
   "cell_type": "markdown",
   "metadata": {},
   "source": [
    "## Data Import"
   ]
  },
  {
   "cell_type": "markdown",
   "metadata": {},
   "source": [
    "Read-in previously cleaned datasets."
   ]
  },
  {
   "cell_type": "code",
   "execution_count": 88,
   "metadata": {
    "ExecuteTime": {
     "end_time": "2020-01-24T23:57:29.305063Z",
     "start_time": "2020-01-24T23:57:28.922229Z"
    }
   },
   "outputs": [],
   "source": [
    "# Read-in files with cleaned inventors (PatentsView) and principal investigators (FedRePORTER) names\n",
    "inventors = pd.read_csv('inventors_cleaned.csv')\n",
    "pi = pd.read_csv('pi_cleaned.csv')"
   ]
  },
  {
   "cell_type": "code",
   "execution_count": 89,
   "metadata": {
    "ExecuteTime": {
     "end_time": "2020-01-24T23:57:29.543162Z",
     "start_time": "2020-01-24T23:57:29.510059Z"
    }
   },
   "outputs": [
    {
     "data": {
      "text/html": [
       "<div>\n",
       "<style scoped>\n",
       "    .dataframe tbody tr th:only-of-type {\n",
       "        vertical-align: middle;\n",
       "    }\n",
       "\n",
       "    .dataframe tbody tr th {\n",
       "        vertical-align: top;\n",
       "    }\n",
       "\n",
       "    .dataframe thead th {\n",
       "        text-align: right;\n",
       "    }\n",
       "</style>\n",
       "<table border=\"1\" class=\"dataframe\">\n",
       "  <thead>\n",
       "    <tr style=\"text-align: right;\">\n",
       "      <th></th>\n",
       "      <th>patent_id</th>\n",
       "      <th>year</th>\n",
       "      <th>inventor_id</th>\n",
       "      <th>name_first</th>\n",
       "      <th>name_last</th>\n",
       "      <th>city</th>\n",
       "      <th>state</th>\n",
       "      <th>inventor_country</th>\n",
       "      <th>name_middle</th>\n",
       "      <th>phonetic_first</th>\n",
       "      <th>phonetic_last</th>\n",
       "      <th>phonetic_middle</th>\n",
       "    </tr>\n",
       "  </thead>\n",
       "  <tbody>\n",
       "    <tr>\n",
       "      <td>0</td>\n",
       "      <td>9980641</td>\n",
       "      <td>2018</td>\n",
       "      <td>5321501-6</td>\n",
       "      <td>joel</td>\n",
       "      <td>schuman</td>\n",
       "      <td>PITTSBURGH</td>\n",
       "      <td>PA</td>\n",
       "      <td>US</td>\n",
       "      <td>s</td>\n",
       "      <td>JAL</td>\n",
       "      <td>SANAN</td>\n",
       "      <td>S</td>\n",
       "    </tr>\n",
       "    <tr>\n",
       "      <td>1</td>\n",
       "      <td>9980641</td>\n",
       "      <td>2018</td>\n",
       "      <td>9980641-3</td>\n",
       "      <td>lawrence</td>\n",
       "      <td>kagemann</td>\n",
       "      <td>PITTSBURGH</td>\n",
       "      <td>PA</td>\n",
       "      <td>US</td>\n",
       "      <td>edward</td>\n",
       "      <td>LARANC</td>\n",
       "      <td>CAGANAN</td>\n",
       "      <td>EDWAD</td>\n",
       "    </tr>\n",
       "    <tr>\n",
       "      <td>2</td>\n",
       "      <td>9980645</td>\n",
       "      <td>2018</td>\n",
       "      <td>9037248-2</td>\n",
       "      <td>brian</td>\n",
       "      <td>wodlinger</td>\n",
       "      <td>PITTSBURGH</td>\n",
       "      <td>PA</td>\n",
       "      <td>US</td>\n",
       "      <td>NaN</td>\n",
       "      <td>BRAN</td>\n",
       "      <td>WADLANGAR</td>\n",
       "      <td>NaN</td>\n",
       "    </tr>\n",
       "    <tr>\n",
       "      <td>3</td>\n",
       "      <td>9981048</td>\n",
       "      <td>2018</td>\n",
       "      <td>9981048-1</td>\n",
       "      <td>ira</td>\n",
       "      <td>fox</td>\n",
       "      <td>PITTSBURGH</td>\n",
       "      <td>PA</td>\n",
       "      <td>US</td>\n",
       "      <td>jacob</td>\n",
       "      <td>IR</td>\n",
       "      <td>FAX</td>\n",
       "      <td>JACAB</td>\n",
       "    </tr>\n",
       "    <tr>\n",
       "      <td>4</td>\n",
       "      <td>9981048</td>\n",
       "      <td>2018</td>\n",
       "      <td>9981048-3</td>\n",
       "      <td>taichiro</td>\n",
       "      <td>nishikawa</td>\n",
       "      <td>PITTSBURGH</td>\n",
       "      <td>PA</td>\n",
       "      <td>US</td>\n",
       "      <td>n</td>\n",
       "      <td>TACAR</td>\n",
       "      <td>NASAC</td>\n",
       "      <td>N</td>\n",
       "    </tr>\n",
       "  </tbody>\n",
       "</table>\n",
       "</div>"
      ],
      "text/plain": [
       "  patent_id  year inventor_id name_first  name_last        city state  \\\n",
       "0   9980641  2018   5321501-6       joel    schuman  PITTSBURGH    PA   \n",
       "1   9980641  2018   9980641-3   lawrence   kagemann  PITTSBURGH    PA   \n",
       "2   9980645  2018   9037248-2      brian  wodlinger  PITTSBURGH    PA   \n",
       "3   9981048  2018   9981048-1        ira        fox  PITTSBURGH    PA   \n",
       "4   9981048  2018   9981048-3   taichiro  nishikawa  PITTSBURGH    PA   \n",
       "\n",
       "  inventor_country name_middle phonetic_first phonetic_last phonetic_middle  \n",
       "0               US           s            JAL         SANAN               S  \n",
       "1               US      edward         LARANC       CAGANAN           EDWAD  \n",
       "2               US         NaN           BRAN     WADLANGAR             NaN  \n",
       "3               US       jacob             IR           FAX           JACAB  \n",
       "4               US           n          TACAR         NASAC               N  "
      ]
     },
     "execution_count": 89,
     "metadata": {},
     "output_type": "execute_result"
    }
   ],
   "source": [
    "# View first rows of the table\n",
    "inventors.head()"
   ]
  },
  {
   "cell_type": "code",
   "execution_count": 90,
   "metadata": {
    "ExecuteTime": {
     "end_time": "2020-01-24T23:57:30.018666Z",
     "start_time": "2020-01-24T23:57:29.992371Z"
    }
   },
   "outputs": [
    {
     "data": {
      "text/html": [
       "<div>\n",
       "<style scoped>\n",
       "    .dataframe tbody tr th:only-of-type {\n",
       "        vertical-align: middle;\n",
       "    }\n",
       "\n",
       "    .dataframe tbody tr th {\n",
       "        vertical-align: top;\n",
       "    }\n",
       "\n",
       "    .dataframe thead th {\n",
       "        text-align: right;\n",
       "    }\n",
       "</style>\n",
       "<table border=\"1\" class=\"dataframe\">\n",
       "  <thead>\n",
       "    <tr style=\"text-align: right;\">\n",
       "      <th></th>\n",
       "      <th>PROJECT_ID</th>\n",
       "      <th>CONTACT_PI_PROJECT_LEADER</th>\n",
       "      <th>OTHER_PIS</th>\n",
       "      <th>city</th>\n",
       "      <th>state</th>\n",
       "      <th>ORGANIZATION_COUNTRY</th>\n",
       "      <th>name_first</th>\n",
       "      <th>name_last</th>\n",
       "      <th>name_middle</th>\n",
       "      <th>phonetic_first</th>\n",
       "      <th>phonetic_last</th>\n",
       "      <th>phonetic_middle</th>\n",
       "    </tr>\n",
       "  </thead>\n",
       "  <tbody>\n",
       "    <tr>\n",
       "      <td>0</td>\n",
       "      <td>121219</td>\n",
       "      <td>poirer david</td>\n",
       "      <td>NaN</td>\n",
       "      <td>TUCSON</td>\n",
       "      <td>AZ</td>\n",
       "      <td>UNITED STATES</td>\n",
       "      <td>david</td>\n",
       "      <td>poirer</td>\n",
       "      <td>NaN</td>\n",
       "      <td>DAVAD</td>\n",
       "      <td>PARAR</td>\n",
       "      <td>NaN</td>\n",
       "    </tr>\n",
       "    <tr>\n",
       "      <td>1</td>\n",
       "      <td>121220</td>\n",
       "      <td>heyward ann o</td>\n",
       "      <td>NaN</td>\n",
       "      <td>BROOK PARK</td>\n",
       "      <td>OH</td>\n",
       "      <td>UNITED STATES</td>\n",
       "      <td>ann</td>\n",
       "      <td>heyward</td>\n",
       "      <td>o</td>\n",
       "      <td>AN</td>\n",
       "      <td>HAYWAD</td>\n",
       "      <td>O</td>\n",
       "    </tr>\n",
       "    <tr>\n",
       "      <td>2</td>\n",
       "      <td>121221</td>\n",
       "      <td>kalogera vassiliki</td>\n",
       "      <td>LUIJTEN, ERIK</td>\n",
       "      <td>EVANSTON</td>\n",
       "      <td>IL</td>\n",
       "      <td>UNITED STATES</td>\n",
       "      <td>vassiliki</td>\n",
       "      <td>kalogera</td>\n",
       "      <td>NaN</td>\n",
       "      <td>VASALAC</td>\n",
       "      <td>CALAGAR</td>\n",
       "      <td>NaN</td>\n",
       "    </tr>\n",
       "    <tr>\n",
       "      <td>3</td>\n",
       "      <td>121222</td>\n",
       "      <td>guilderson thomas p</td>\n",
       "      <td>NaN</td>\n",
       "      <td>SANTA CRUZ</td>\n",
       "      <td>CA</td>\n",
       "      <td>UNITED STATES</td>\n",
       "      <td>thomas</td>\n",
       "      <td>guilderson</td>\n",
       "      <td>p</td>\n",
       "      <td>TAN</td>\n",
       "      <td>GALDARSAN</td>\n",
       "      <td>P</td>\n",
       "    </tr>\n",
       "    <tr>\n",
       "      <td>4</td>\n",
       "      <td>121223</td>\n",
       "      <td>hayes gillian</td>\n",
       "      <td>TENTORI, MONICA</td>\n",
       "      <td>IRVINE</td>\n",
       "      <td>CA</td>\n",
       "      <td>UNITED STATES</td>\n",
       "      <td>gillian</td>\n",
       "      <td>hayes</td>\n",
       "      <td>NaN</td>\n",
       "      <td>GALAN</td>\n",
       "      <td>HAY</td>\n",
       "      <td>NaN</td>\n",
       "    </tr>\n",
       "  </tbody>\n",
       "</table>\n",
       "</div>"
      ],
      "text/plain": [
       "   PROJECT_ID  CONTACT_PI_PROJECT_LEADER        OTHER_PIS        city state  \\\n",
       "0      121219               poirer david              NaN      TUCSON    AZ   \n",
       "1      121220              heyward ann o              NaN  BROOK PARK    OH   \n",
       "2      121221         kalogera vassiliki    LUIJTEN, ERIK    EVANSTON    IL   \n",
       "3      121222        guilderson thomas p              NaN  SANTA CRUZ    CA   \n",
       "4      121223              hayes gillian  TENTORI, MONICA      IRVINE    CA   \n",
       "\n",
       "   ORGANIZATION_COUNTRY name_first   name_last name_middle phonetic_first  \\\n",
       "0         UNITED STATES      david      poirer         NaN          DAVAD   \n",
       "1         UNITED STATES        ann     heyward           o             AN   \n",
       "2         UNITED STATES  vassiliki    kalogera         NaN        VASALAC   \n",
       "3         UNITED STATES     thomas  guilderson           p            TAN   \n",
       "4         UNITED STATES    gillian       hayes         NaN          GALAN   \n",
       "\n",
       "  phonetic_last phonetic_middle  \n",
       "0         PARAR             NaN  \n",
       "1        HAYWAD               O  \n",
       "2       CALAGAR             NaN  \n",
       "3     GALDARSAN               P  \n",
       "4           HAY             NaN  "
      ]
     },
     "execution_count": 90,
     "metadata": {},
     "output_type": "execute_result"
    }
   ],
   "source": [
    "# View first rows of the table\n",
    "pi.head()"
   ]
  },
  {
   "cell_type": "code",
   "execution_count": 87,
   "metadata": {
    "ExecuteTime": {
     "end_time": "2020-01-24T23:57:13.475095Z",
     "start_time": "2020-01-24T23:57:13.290417Z"
    }
   },
   "outputs": [],
   "source": [
    "# Read-in files with cleaned organization names in PatentsView (assignees) and FedRePORTER (organizations)\n",
    "assignees = pd.read_csv('assignees_cleaned.csv')\n",
    "organizations = pd.read_csv('organizations_cleaned.csv')"
   ]
  },
  {
   "cell_type": "code",
   "execution_count": 8,
   "metadata": {
    "ExecuteTime": {
     "end_time": "2020-01-24T21:06:36.257569Z",
     "start_time": "2020-01-24T21:06:36.235856Z"
    }
   },
   "outputs": [
    {
     "data": {
      "text/html": [
       "<div>\n",
       "<style scoped>\n",
       "    .dataframe tbody tr th:only-of-type {\n",
       "        vertical-align: middle;\n",
       "    }\n",
       "\n",
       "    .dataframe tbody tr th {\n",
       "        vertical-align: top;\n",
       "    }\n",
       "\n",
       "    .dataframe thead th {\n",
       "        text-align: right;\n",
       "    }\n",
       "</style>\n",
       "<table border=\"1\" class=\"dataframe\">\n",
       "  <thead>\n",
       "    <tr style=\"text-align: right;\">\n",
       "      <th></th>\n",
       "      <th>patent_id</th>\n",
       "      <th>org_name</th>\n",
       "      <th>city</th>\n",
       "      <th>state</th>\n",
       "      <th>org_country</th>\n",
       "      <th>phonetic_name</th>\n",
       "    </tr>\n",
       "  </thead>\n",
       "  <tbody>\n",
       "    <tr>\n",
       "      <td>0</td>\n",
       "      <td>9992413</td>\n",
       "      <td>raytheoncompany</td>\n",
       "      <td>LEXINGTON</td>\n",
       "      <td>MA</td>\n",
       "      <td>US</td>\n",
       "      <td>RAYTANCANPANY</td>\n",
       "    </tr>\n",
       "    <tr>\n",
       "      <td>1</td>\n",
       "      <td>RE45718</td>\n",
       "      <td>bostonscientificcorporation</td>\n",
       "      <td>LEXINGTON</td>\n",
       "      <td>MA</td>\n",
       "      <td>US</td>\n",
       "      <td>BASTANSCANTAFACARPARATAN</td>\n",
       "    </tr>\n",
       "    <tr>\n",
       "      <td>2</td>\n",
       "      <td>9992413</td>\n",
       "      <td>raytheoncompany</td>\n",
       "      <td>WALTHAM</td>\n",
       "      <td>MA</td>\n",
       "      <td>US</td>\n",
       "      <td>RAYTANCANPANY</td>\n",
       "    </tr>\n",
       "    <tr>\n",
       "      <td>3</td>\n",
       "      <td>9988932</td>\n",
       "      <td>honeywellinternationalinc</td>\n",
       "      <td>WALTHAM</td>\n",
       "      <td>MA</td>\n",
       "      <td>US</td>\n",
       "      <td>HANAYWALANTARNATANALANC</td>\n",
       "    </tr>\n",
       "    <tr>\n",
       "      <td>4</td>\n",
       "      <td>9991578</td>\n",
       "      <td>honeywellinternationalinc</td>\n",
       "      <td>WALTHAM</td>\n",
       "      <td>MA</td>\n",
       "      <td>US</td>\n",
       "      <td>HANAYWALANTARNATANALANC</td>\n",
       "    </tr>\n",
       "  </tbody>\n",
       "</table>\n",
       "</div>"
      ],
      "text/plain": [
       "  patent_id                     org_name       city state org_country  \\\n",
       "0   9992413              raytheoncompany  LEXINGTON    MA          US   \n",
       "1   RE45718  bostonscientificcorporation  LEXINGTON    MA          US   \n",
       "2   9992413              raytheoncompany    WALTHAM    MA          US   \n",
       "3   9988932    honeywellinternationalinc    WALTHAM    MA          US   \n",
       "4   9991578    honeywellinternationalinc    WALTHAM    MA          US   \n",
       "\n",
       "              phonetic_name  \n",
       "0             RAYTANCANPANY  \n",
       "1  BASTANSCANTAFACARPARATAN  \n",
       "2             RAYTANCANPANY  \n",
       "3   HANAYWALANTARNATANALANC  \n",
       "4   HANAYWALANTARNATANALANC  "
      ]
     },
     "execution_count": 8,
     "metadata": {},
     "output_type": "execute_result"
    }
   ],
   "source": [
    "# View first rows of the table\n",
    "assignees.head()"
   ]
  },
  {
   "cell_type": "code",
   "execution_count": 9,
   "metadata": {
    "ExecuteTime": {
     "end_time": "2020-01-24T21:06:46.903484Z",
     "start_time": "2020-01-24T21:06:46.886773Z"
    }
   },
   "outputs": [
    {
     "data": {
      "text/html": [
       "<div>\n",
       "<style scoped>\n",
       "    .dataframe tbody tr th:only-of-type {\n",
       "        vertical-align: middle;\n",
       "    }\n",
       "\n",
       "    .dataframe tbody tr th {\n",
       "        vertical-align: top;\n",
       "    }\n",
       "\n",
       "    .dataframe thead th {\n",
       "        text-align: right;\n",
       "    }\n",
       "</style>\n",
       "<table border=\"1\" class=\"dataframe\">\n",
       "  <thead>\n",
       "    <tr style=\"text-align: right;\">\n",
       "      <th></th>\n",
       "      <th>PROJECT_ID</th>\n",
       "      <th>org_name</th>\n",
       "      <th>city</th>\n",
       "      <th>state</th>\n",
       "      <th>ORGANIZATION_COUNTRY</th>\n",
       "      <th>phonetic_name</th>\n",
       "    </tr>\n",
       "  </thead>\n",
       "  <tbody>\n",
       "    <tr>\n",
       "      <td>0</td>\n",
       "      <td>121219</td>\n",
       "      <td>universityofarizona</td>\n",
       "      <td>TUCSON</td>\n",
       "      <td>AZ</td>\n",
       "      <td>UNITED STATES</td>\n",
       "      <td>UNAVARSATYAFARASAN</td>\n",
       "    </tr>\n",
       "    <tr>\n",
       "      <td>1</td>\n",
       "      <td>121220</td>\n",
       "      <td>ohioaerospaceinstitute</td>\n",
       "      <td>BROOK PARK</td>\n",
       "      <td>OH</td>\n",
       "      <td>UNITED STATES</td>\n",
       "      <td>OHARASPACANSTATAT</td>\n",
       "    </tr>\n",
       "    <tr>\n",
       "      <td>2</td>\n",
       "      <td>121221</td>\n",
       "      <td>northwesternuniversity</td>\n",
       "      <td>EVANSTON</td>\n",
       "      <td>IL</td>\n",
       "      <td>UNITED STATES</td>\n",
       "      <td>NARTWASTARNANAVARSATY</td>\n",
       "    </tr>\n",
       "    <tr>\n",
       "      <td>3</td>\n",
       "      <td>121222</td>\n",
       "      <td>universityofcaliforniasantacruz</td>\n",
       "      <td>SANTA CRUZ</td>\n",
       "      <td>CA</td>\n",
       "      <td>UNITED STATES</td>\n",
       "      <td>UNAVARSATYAFCALAFARNASANTACR</td>\n",
       "    </tr>\n",
       "    <tr>\n",
       "      <td>4</td>\n",
       "      <td>121223</td>\n",
       "      <td>universityofcaliforniairvine</td>\n",
       "      <td>IRVINE</td>\n",
       "      <td>CA</td>\n",
       "      <td>UNITED STATES</td>\n",
       "      <td>UNAVARSATYAFCALAFARNARVAN</td>\n",
       "    </tr>\n",
       "  </tbody>\n",
       "</table>\n",
       "</div>"
      ],
      "text/plain": [
       "   PROJECT_ID                         org_name        city state  \\\n",
       "0      121219              universityofarizona      TUCSON    AZ   \n",
       "1      121220           ohioaerospaceinstitute  BROOK PARK    OH   \n",
       "2      121221           northwesternuniversity    EVANSTON    IL   \n",
       "3      121222  universityofcaliforniasantacruz  SANTA CRUZ    CA   \n",
       "4      121223     universityofcaliforniairvine      IRVINE    CA   \n",
       "\n",
       "   ORGANIZATION_COUNTRY                 phonetic_name  \n",
       "0         UNITED STATES            UNAVARSATYAFARASAN  \n",
       "1         UNITED STATES             OHARASPACANSTATAT  \n",
       "2         UNITED STATES         NARTWASTARNANAVARSATY  \n",
       "3         UNITED STATES  UNAVARSATYAFCALAFARNASANTACR  \n",
       "4         UNITED STATES     UNAVARSATYAFCALAFARNARVAN  "
      ]
     },
     "execution_count": 9,
     "metadata": {},
     "output_type": "execute_result"
    }
   ],
   "source": [
    "# View first rows of the table\n",
    "organizations.head()"
   ]
  },
  {
   "cell_type": "markdown",
   "metadata": {
    "ExecuteTime": {
     "end_time": "2020-01-21T14:52:49.770491Z",
     "start_time": "2020-01-21T14:52:49.757602Z"
    }
   },
   "source": [
    "## Record Linkage\n",
    "\n",
    "The `recordlinkage` package is a quite powerful tool for you to use when you want to link records within a dataset or across multiple datasets. We've already done some pre-processing and then tried deterministic matching.\n",
    "\n",
    "However, as we have seen in the previous notebook, we might want to consider how strict we want our matching to be. For example, we want to make sure that we catch any typos or common misspellings, but we want to avoid relaxing the matching condition to the point that anything will match anything. "
   ]
  },
  {
   "cell_type": "markdown",
   "metadata": {},
   "source": [
    "### Indexing\n",
    "\n",
    "Indexing allows us to create candidate links, which basically means identifying pairs of data rows which might refer to the same real world entity. This is also called the comparison space (matrix). There are different ways to index data. The easiest is to create a full index and consider every pair a match. This is also the least efficient method, because we will be comparing every row of one dataset with every row of the other dataset.\n",
    "\n",
    "If we had 10,000 records in data frame A and 100,000 records in data frame B, we would have 1,000,000,000 candidate links. You can see that comparing over a full index is getting inefficient when working with big data."
   ]
  },
  {
   "cell_type": "markdown",
   "metadata": {},
   "source": [
    "We can do better if we actually include our knowledge about the data to eliminate bad link from the start. This can be done through blocking. The `recordlinkage` package gives you multiple options for this. For example, you can block by using variables, which means only links exactly equal on specified values will be kept. "
   ]
  },
  {
   "cell_type": "markdown",
   "metadata": {},
   "source": [
    "Here we will start by blocking on `city` and `state`, to narrow down the number of candidate links."
   ]
  },
  {
   "cell_type": "markdown",
   "metadata": {},
   "source": [
    "You can try and see how the number of candidate links change when blocking on more or less variables."
   ]
  },
  {
   "cell_type": "code",
   "execution_count": 91,
   "metadata": {
    "ExecuteTime": {
     "end_time": "2020-01-24T23:59:58.508988Z",
     "start_time": "2020-01-24T23:59:58.285681Z"
    }
   },
   "outputs": [],
   "source": [
    "indexerBL = rl.BlockIndex(on=['city', 'state'])\n",
    "candidate_links = indexerBL.index(inventors, pi)"
   ]
  },
  {
   "cell_type": "code",
   "execution_count": 92,
   "metadata": {
    "ExecuteTime": {
     "end_time": "2020-01-24T23:59:59.123991Z",
     "start_time": "2020-01-24T23:59:59.112754Z"
    }
   },
   "outputs": [
    {
     "data": {
      "text/plain": [
       "1924057"
      ]
     },
     "execution_count": 92,
     "metadata": {},
     "output_type": "execute_result"
    }
   ],
   "source": [
    "len(candidate_links)"
   ]
  },
  {
   "cell_type": "code",
   "execution_count": 93,
   "metadata": {
    "ExecuteTime": {
     "end_time": "2020-01-25T00:00:01.693948Z",
     "start_time": "2020-01-25T00:00:01.682850Z"
    }
   },
   "outputs": [
    {
     "data": {
      "text/plain": [
       "MultiIndex([(0,  85),\n",
       "            (0, 214),\n",
       "            (0, 305),\n",
       "            (0, 317),\n",
       "            (0, 468),\n",
       "            (0, 477),\n",
       "            (0, 530),\n",
       "            (0, 723),\n",
       "            (0, 836),\n",
       "            (0, 885)],\n",
       "           )"
      ]
     },
     "execution_count": 93,
     "metadata": {},
     "output_type": "execute_result"
    }
   ],
   "source": [
    "candidate_links[:10]"
   ]
  },
  {
   "cell_type": "markdown",
   "metadata": {},
   "source": [
    "Let's check the first pair of candidate links blocked on city and state: (0, 85)"
   ]
  },
  {
   "cell_type": "code",
   "execution_count": 94,
   "metadata": {
    "ExecuteTime": {
     "end_time": "2020-01-25T00:00:12.062388Z",
     "start_time": "2020-01-25T00:00:12.047911Z"
    }
   },
   "outputs": [
    {
     "data": {
      "text/plain": [
       "patent_id              9980641\n",
       "year                      2018\n",
       "inventor_id          5321501-6\n",
       "name_first                joel\n",
       "name_last              schuman\n",
       "city                PITTSBURGH\n",
       "state                       PA\n",
       "inventor_country            US\n",
       "name_middle                  s\n",
       "phonetic_first             JAL\n",
       "phonetic_last            SANAN\n",
       "phonetic_middle              S\n",
       "Name: 0, dtype: object"
      ]
     },
     "execution_count": 94,
     "metadata": {},
     "output_type": "execute_result"
    }
   ],
   "source": [
    "inventors.iloc[0]"
   ]
  },
  {
   "cell_type": "code",
   "execution_count": 95,
   "metadata": {
    "ExecuteTime": {
     "end_time": "2020-01-25T00:00:14.540037Z",
     "start_time": "2020-01-25T00:00:14.529354Z"
    }
   },
   "outputs": [
    {
     "data": {
      "text/plain": [
       "PROJECT_ID                           121304\n",
       " CONTACT_PI_PROJECT_LEADER          yang ge\n",
       " OTHER_PIS                              NaN\n",
       "city                             PITTSBURGH\n",
       "state                                    PA\n",
       " ORGANIZATION_COUNTRY         UNITED STATES\n",
       "name_first                               ge\n",
       "name_last                              yang\n",
       "name_middle                             NaN\n",
       "phonetic_first                            G\n",
       "phonetic_last                          YANG\n",
       "phonetic_middle                         NaN\n",
       "Name: 85, dtype: object"
      ]
     },
     "execution_count": 95,
     "metadata": {},
     "output_type": "execute_result"
    }
   ],
   "source": [
    "pi.iloc[85]"
   ]
  },
  {
   "cell_type": "code",
   "execution_count": 101,
   "metadata": {
    "ExecuteTime": {
     "end_time": "2020-01-25T00:01:20.037083Z",
     "start_time": "2020-01-25T00:01:19.922687Z"
    }
   },
   "outputs": [],
   "source": [
    "# Now, in addition to blocking on city and state, we can also try blocking on first name\n",
    "indexerBL = rl.BlockIndex(on=['name_first','city', 'state'])\n",
    "candidate_links = indexerBL.index(inventors, pi)"
   ]
  },
  {
   "cell_type": "code",
   "execution_count": 102,
   "metadata": {
    "ExecuteTime": {
     "end_time": "2020-01-25T00:01:20.430544Z",
     "start_time": "2020-01-25T00:01:20.422614Z"
    }
   },
   "outputs": [
    {
     "data": {
      "text/plain": [
       "6931"
      ]
     },
     "execution_count": 102,
     "metadata": {},
     "output_type": "execute_result"
    }
   ],
   "source": [
    "len(candidate_links)"
   ]
  },
  {
   "cell_type": "markdown",
   "metadata": {},
   "source": [
    "## Record Comparison\n",
    "\n",
    "After you have created a set of candidate links, you’re ready to begin comparing the records associated with each candidate link. In `recordlinkage` package you must initiate a Compare object prior to performing any comparison functionality between records. This object stores both dataframes, the candidate links, and a vector containing comparison results. Further, the Compare object contains the methods for performing comparisons. The code block below initializes the comparison object."
   ]
  },
  {
   "cell_type": "code",
   "execution_count": 106,
   "metadata": {
    "ExecuteTime": {
     "end_time": "2020-01-25T00:08:27.443502Z",
     "start_time": "2020-01-25T00:08:27.436868Z"
    }
   },
   "outputs": [],
   "source": [
    "# Initiate compare object \n",
    "compare_cl = rl.Compare()"
   ]
  },
  {
   "cell_type": "markdown",
   "metadata": {},
   "source": [
    "Currently there are five specific comparison methods within recordlinkage: `Compare.exact()`, `Compare.string()`, `Compare.numeric()`, `Compare.geo()`, and `Compare.date()`. \n",
    "\n",
    "The `Compare.exact()` method is simple: if two values are an exact match a comparison score of 1 is returned, otherwise 0 is retured. \n",
    "\n",
    "The `Compare.string()` method is a bit more complicated and generates a score based on well-known string-comparison algorithms (for this example, Levenshtein or Jaro Winkler)."
   ]
  },
  {
   "cell_type": "markdown",
   "metadata": {},
   "source": [
    "The Python `recordlinkage` toolkit uses the `jellyfish` package for the Jaro, Jaro-Winkler, Levenshtein and Damerau-Levenshtein algorithms: https://jellyfish.readthedocs.io/en/latest/comparison.html."
   ]
  },
  {
   "cell_type": "markdown",
   "metadata": {},
   "source": [
    "There can be a large difference in the performance of different string comparison algorithms. The Jaro and Jaro-Winkler methods are faster than the Levenshtein distance and much faster than the Damerau-Levenshtein distance."
   ]
  },
  {
   "cell_type": "markdown",
   "metadata": {},
   "source": [
    "String similarity measures and phonetic encodings are computationally expensive. After phonetic encoding of the string variables, exact comparing can be used instead of computing the string similarity of all record pairs. If the number of candidate pairs is much larger than the number of records in both datasets together, then consider using phonetic encoding of string variables instead of string comparison."
   ]
  },
  {
   "cell_type": "markdown",
   "metadata": {},
   "source": [
    "> Choose and compare only informative variables: not all variables may be worth comparing in a record linkage. Some variables do not discriminate the links of the non-links or do have only minor effects. These variables can be excluded. Only informative variables should be included."
   ]
  },
  {
   "cell_type": "markdown",
   "metadata": {},
   "source": [
    "For this example, Jaro-Winkler distance is used (specifically developed with record linkage applications in mind, faster to compute) - words with more characters in common have a higher Jaro-Winkler value than those with fewer characters in common. The Jaro–Winkler distance gives more favorable ratings to strings that match from the beginning. The output value is normalized to fall between 0 (complete dissimilar strirngs) and 1 (exact match on strings)."
   ]
  },
  {
   "cell_type": "markdown",
   "metadata": {},
   "source": [
    "As you remember, we already did an exact matching on `city` and `state`, when we did the blocking above and created the candidate links.\n",
    "\n",
    "We will use the string method to compare the organization names and their phonetic transcriptions.\n",
    "\n",
    "We need to specify the respective columns with organization names in both datasets, the method, and the threshold. In this case, for all strings that have more than 85% in similarity, according to the Jaro-Winkler distance, a 1 will be returned, and otherwise 0."
   ]
  },
  {
   "cell_type": "code",
   "execution_count": 221,
   "metadata": {
    "ExecuteTime": {
     "end_time": "2020-01-25T00:58:03.735472Z",
     "start_time": "2020-01-25T00:58:03.727347Z"
    }
   },
   "outputs": [],
   "source": [
    "# Initiate compare object \n",
    "compare_cl = rl.Compare()"
   ]
  },
  {
   "cell_type": "code",
   "execution_count": 222,
   "metadata": {
    "ExecuteTime": {
     "end_time": "2020-01-25T00:58:11.782298Z",
     "start_time": "2020-01-25T00:58:11.775992Z"
    }
   },
   "outputs": [
    {
     "data": {
      "text/plain": [
       "<Compare>"
      ]
     },
     "execution_count": 222,
     "metadata": {},
     "output_type": "execute_result"
    }
   ],
   "source": [
    "compare_cl.string('name_first', 'name_first', method='jarowinkler', threshold=0.85, label='name_first')\n",
    "compare_cl.string('name_last', 'name_last', method='jarowinkler', threshold=0.85, label='name_last')\n",
    "\n",
    "#compare_cl.exact('state', 'state', label='state')"
   ]
  },
  {
   "cell_type": "markdown",
   "metadata": {},
   "source": [
    "The comparing of record pairs starts when the `compute` method is called."
   ]
  },
  {
   "cell_type": "code",
   "execution_count": 223,
   "metadata": {
    "ExecuteTime": {
     "end_time": "2020-01-25T00:58:19.662962Z",
     "start_time": "2020-01-25T00:58:19.459070Z"
    }
   },
   "outputs": [],
   "source": [
    "indexerBL = rl.BlockIndex(on=['city', 'state'])\n",
    "candidate_links = indexerBL.index(inventors, pi)"
   ]
  },
  {
   "cell_type": "code",
   "execution_count": 224,
   "metadata": {
    "ExecuteTime": {
     "end_time": "2020-01-25T00:58:27.241285Z",
     "start_time": "2020-01-25T00:58:27.236823Z"
    }
   },
   "outputs": [
    {
     "data": {
      "text/plain": [
       "1924057"
      ]
     },
     "execution_count": 224,
     "metadata": {},
     "output_type": "execute_result"
    }
   ],
   "source": [
    "len(candidate_links)"
   ]
  },
  {
   "cell_type": "code",
   "execution_count": 225,
   "metadata": {
    "ExecuteTime": {
     "end_time": "2020-01-25T00:58:39.959378Z",
     "start_time": "2020-01-25T00:58:35.241321Z"
    }
   },
   "outputs": [],
   "source": [
    "## All attribute comparisons are stored in a DataFrame with horizontally the features and vertically the record pairs.\n",
    "features = compare_cl.compute(candidate_links, inventors, pi)"
   ]
  },
  {
   "cell_type": "code",
   "execution_count": 226,
   "metadata": {
    "ExecuteTime": {
     "end_time": "2020-01-25T00:58:48.506100Z",
     "start_time": "2020-01-25T00:58:48.495669Z"
    }
   },
   "outputs": [
    {
     "data": {
      "text/html": [
       "<div>\n",
       "<style scoped>\n",
       "    .dataframe tbody tr th:only-of-type {\n",
       "        vertical-align: middle;\n",
       "    }\n",
       "\n",
       "    .dataframe tbody tr th {\n",
       "        vertical-align: top;\n",
       "    }\n",
       "\n",
       "    .dataframe thead th {\n",
       "        text-align: right;\n",
       "    }\n",
       "</style>\n",
       "<table border=\"1\" class=\"dataframe\">\n",
       "  <thead>\n",
       "    <tr style=\"text-align: right;\">\n",
       "      <th></th>\n",
       "      <th></th>\n",
       "      <th>name_first</th>\n",
       "      <th>name_last</th>\n",
       "    </tr>\n",
       "  </thead>\n",
       "  <tbody>\n",
       "    <tr>\n",
       "      <td rowspan=\"7\" valign=\"top\">0</td>\n",
       "      <td>85</td>\n",
       "      <td>0.0</td>\n",
       "      <td>0.0</td>\n",
       "    </tr>\n",
       "    <tr>\n",
       "      <td>214</td>\n",
       "      <td>0.0</td>\n",
       "      <td>0.0</td>\n",
       "    </tr>\n",
       "    <tr>\n",
       "      <td>305</td>\n",
       "      <td>0.0</td>\n",
       "      <td>0.0</td>\n",
       "    </tr>\n",
       "    <tr>\n",
       "      <td>317</td>\n",
       "      <td>0.0</td>\n",
       "      <td>0.0</td>\n",
       "    </tr>\n",
       "    <tr>\n",
       "      <td>468</td>\n",
       "      <td>0.0</td>\n",
       "      <td>0.0</td>\n",
       "    </tr>\n",
       "    <tr>\n",
       "      <td>477</td>\n",
       "      <td>0.0</td>\n",
       "      <td>0.0</td>\n",
       "    </tr>\n",
       "    <tr>\n",
       "      <td>530</td>\n",
       "      <td>0.0</td>\n",
       "      <td>1.0</td>\n",
       "    </tr>\n",
       "  </tbody>\n",
       "</table>\n",
       "</div>"
      ],
      "text/plain": [
       "       name_first  name_last\n",
       "0 85          0.0        0.0\n",
       "  214         0.0        0.0\n",
       "  305         0.0        0.0\n",
       "  317         0.0        0.0\n",
       "  468         0.0        0.0\n",
       "  477         0.0        0.0\n",
       "  530         0.0        1.0"
      ]
     },
     "execution_count": 226,
     "metadata": {},
     "output_type": "execute_result"
    }
   ],
   "source": [
    "features.head(7)"
   ]
  },
  {
   "cell_type": "code",
   "execution_count": 227,
   "metadata": {
    "ExecuteTime": {
     "end_time": "2020-01-25T00:58:57.579012Z",
     "start_time": "2020-01-25T00:58:57.569418Z"
    }
   },
   "outputs": [
    {
     "data": {
      "text/html": [
       "<div>\n",
       "<style scoped>\n",
       "    .dataframe tbody tr th:only-of-type {\n",
       "        vertical-align: middle;\n",
       "    }\n",
       "\n",
       "    .dataframe tbody tr th {\n",
       "        vertical-align: top;\n",
       "    }\n",
       "\n",
       "    .dataframe thead th {\n",
       "        text-align: right;\n",
       "    }\n",
       "</style>\n",
       "<table border=\"1\" class=\"dataframe\">\n",
       "  <thead>\n",
       "    <tr style=\"text-align: right;\">\n",
       "      <th></th>\n",
       "      <th></th>\n",
       "      <th>name_first</th>\n",
       "      <th>name_last</th>\n",
       "    </tr>\n",
       "  </thead>\n",
       "  <tbody>\n",
       "    <tr>\n",
       "      <td rowspan=\"5\" valign=\"top\">3995</td>\n",
       "      <td>17363</td>\n",
       "      <td>0.0</td>\n",
       "      <td>0.0</td>\n",
       "    </tr>\n",
       "    <tr>\n",
       "      <td>52988</td>\n",
       "      <td>1.0</td>\n",
       "      <td>1.0</td>\n",
       "    </tr>\n",
       "    <tr>\n",
       "      <td>61613</td>\n",
       "      <td>0.0</td>\n",
       "      <td>0.0</td>\n",
       "    </tr>\n",
       "    <tr>\n",
       "      <td>72322</td>\n",
       "      <td>1.0</td>\n",
       "      <td>1.0</td>\n",
       "    </tr>\n",
       "    <tr>\n",
       "      <td>75295</td>\n",
       "      <td>0.0</td>\n",
       "      <td>0.0</td>\n",
       "    </tr>\n",
       "  </tbody>\n",
       "</table>\n",
       "</div>"
      ],
      "text/plain": [
       "            name_first  name_last\n",
       "3995 17363         0.0        0.0\n",
       "     52988         1.0        1.0\n",
       "     61613         0.0        0.0\n",
       "     72322         1.0        1.0\n",
       "     75295         0.0        0.0"
      ]
     },
     "execution_count": 227,
     "metadata": {},
     "output_type": "execute_result"
    }
   ],
   "source": [
    "features.tail()"
   ]
  },
  {
   "cell_type": "markdown",
   "metadata": {},
   "source": [
    "### Classification\n",
    "\n",
    "Let's check how many records we get where one or more comparison attributes match."
   ]
  },
  {
   "cell_type": "code",
   "execution_count": 228,
   "metadata": {
    "ExecuteTime": {
     "end_time": "2020-01-25T00:59:06.405426Z",
     "start_time": "2020-01-25T00:59:06.279609Z"
    }
   },
   "outputs": [
    {
     "data": {
      "text/plain": [
       "2.0        558\n",
       "1.0      14257\n",
       "0.0    1909242\n",
       "dtype: int64"
      ]
     },
     "execution_count": 228,
     "metadata": {},
     "output_type": "execute_result"
    }
   ],
   "source": [
    "## Simple Classification: Check for how many attributes records are identical by summing the comparison results.\n",
    "features.sum(axis=1).value_counts().sort_index(ascending=False)"
   ]
  },
  {
   "cell_type": "markdown",
   "metadata": {},
   "source": [
    "We can make a decision now, and consider matches all those records which matched on all attributes in our case."
   ]
  },
  {
   "cell_type": "code",
   "execution_count": 229,
   "metadata": {
    "ExecuteTime": {
     "end_time": "2020-01-25T00:59:15.322754Z",
     "start_time": "2020-01-25T00:59:15.227346Z"
    }
   },
   "outputs": [
    {
     "name": "stdout",
     "output_type": "stream",
     "text": [
      "558\n"
     ]
    }
   ],
   "source": [
    "matches = features[features.sum(axis=1) == 2]\n",
    "print(len(matches))"
   ]
  },
  {
   "cell_type": "markdown",
   "metadata": {},
   "source": [
    "Remember that for these matches we had an exact match on `city` and `state`, and more than 80% in similarity based on organization `first name` and `last name`"
   ]
  },
  {
   "cell_type": "code",
   "execution_count": 230,
   "metadata": {
    "ExecuteTime": {
     "end_time": "2020-01-25T00:59:24.818053Z",
     "start_time": "2020-01-25T00:59:24.808432Z"
    }
   },
   "outputs": [
    {
     "data": {
      "text/html": [
       "<div>\n",
       "<style scoped>\n",
       "    .dataframe tbody tr th:only-of-type {\n",
       "        vertical-align: middle;\n",
       "    }\n",
       "\n",
       "    .dataframe tbody tr th {\n",
       "        vertical-align: top;\n",
       "    }\n",
       "\n",
       "    .dataframe thead th {\n",
       "        text-align: right;\n",
       "    }\n",
       "</style>\n",
       "<table border=\"1\" class=\"dataframe\">\n",
       "  <thead>\n",
       "    <tr style=\"text-align: right;\">\n",
       "      <th></th>\n",
       "      <th></th>\n",
       "      <th>name_first</th>\n",
       "      <th>name_last</th>\n",
       "    </tr>\n",
       "  </thead>\n",
       "  <tbody>\n",
       "    <tr>\n",
       "      <td>0</td>\n",
       "      <td>23494</td>\n",
       "      <td>1.0</td>\n",
       "      <td>1.0</td>\n",
       "    </tr>\n",
       "    <tr>\n",
       "      <td rowspan=\"2\" valign=\"top\">3</td>\n",
       "      <td>56152</td>\n",
       "      <td>1.0</td>\n",
       "      <td>1.0</td>\n",
       "    </tr>\n",
       "    <tr>\n",
       "      <td>77251</td>\n",
       "      <td>1.0</td>\n",
       "      <td>1.0</td>\n",
       "    </tr>\n",
       "    <tr>\n",
       "      <td rowspan=\"2\" valign=\"top\">8</td>\n",
       "      <td>2727</td>\n",
       "      <td>1.0</td>\n",
       "      <td>1.0</td>\n",
       "    </tr>\n",
       "    <tr>\n",
       "      <td>13392</td>\n",
       "      <td>1.0</td>\n",
       "      <td>1.0</td>\n",
       "    </tr>\n",
       "  </tbody>\n",
       "</table>\n",
       "</div>"
      ],
      "text/plain": [
       "         name_first  name_last\n",
       "0 23494         1.0        1.0\n",
       "3 56152         1.0        1.0\n",
       "  77251         1.0        1.0\n",
       "8 2727          1.0        1.0\n",
       "  13392         1.0        1.0"
      ]
     },
     "execution_count": 230,
     "metadata": {},
     "output_type": "execute_result"
    }
   ],
   "source": [
    "matches.head()"
   ]
  },
  {
   "cell_type": "markdown",
   "metadata": {},
   "source": [
    "Now let's merge these matches back to original dataframes."
   ]
  },
  {
   "cell_type": "markdown",
   "metadata": {},
   "source": [
    "Our `matches` dataframe has MultiIndex - two indices to the left which correspond to the `inventor` table and `pi` table respectively.\n",
    "\n",
    "We can access each matching pair individually, for example, the first one:"
   ]
  },
  {
   "cell_type": "code",
   "execution_count": 231,
   "metadata": {
    "ExecuteTime": {
     "end_time": "2020-01-25T00:59:35.695051Z",
     "start_time": "2020-01-25T00:59:35.684718Z"
    }
   },
   "outputs": [
    {
     "data": {
      "text/plain": [
       "(0, 23494)"
      ]
     },
     "execution_count": 231,
     "metadata": {},
     "output_type": "execute_result"
    }
   ],
   "source": [
    "matches.index[0]"
   ]
  },
  {
   "cell_type": "markdown",
   "metadata": {},
   "source": [
    "We can also do the following: first, put all the indices for the `inventors` table."
   ]
  },
  {
   "cell_type": "code",
   "execution_count": 232,
   "metadata": {
    "ExecuteTime": {
     "end_time": "2020-01-25T00:59:46.214270Z",
     "start_time": "2020-01-25T00:59:46.207632Z"
    }
   },
   "outputs": [
    {
     "data": {
      "text/plain": [
       "0"
      ]
     },
     "execution_count": 232,
     "metadata": {},
     "output_type": "execute_result"
    }
   ],
   "source": [
    "matches.index[0][0]"
   ]
  },
  {
   "cell_type": "markdown",
   "metadata": {},
   "source": [
    "We will pull all corresponding rows from the `inventors` table."
   ]
  },
  {
   "cell_type": "code",
   "execution_count": 233,
   "metadata": {
    "ExecuteTime": {
     "end_time": "2020-01-25T00:59:55.834746Z",
     "start_time": "2020-01-25T00:59:55.563608Z"
    }
   },
   "outputs": [],
   "source": [
    "inventors_results = []  # Create an empty list\n",
    "\n",
    "for match in matches.index:  # For every pair in matches (index)\n",
    "    df = pd.DataFrame(inventors.loc[[match[0]]])  # Get the location in the original table, convert to dataframe\n",
    "    inventors_results.append(df)"
   ]
  },
  {
   "cell_type": "code",
   "execution_count": 234,
   "metadata": {
    "ExecuteTime": {
     "end_time": "2020-01-25T01:00:05.570090Z",
     "start_time": "2020-01-25T01:00:05.543440Z"
    }
   },
   "outputs": [
    {
     "data": {
      "text/html": [
       "<div>\n",
       "<style scoped>\n",
       "    .dataframe tbody tr th:only-of-type {\n",
       "        vertical-align: middle;\n",
       "    }\n",
       "\n",
       "    .dataframe tbody tr th {\n",
       "        vertical-align: top;\n",
       "    }\n",
       "\n",
       "    .dataframe thead th {\n",
       "        text-align: right;\n",
       "    }\n",
       "</style>\n",
       "<table border=\"1\" class=\"dataframe\">\n",
       "  <thead>\n",
       "    <tr style=\"text-align: right;\">\n",
       "      <th></th>\n",
       "      <th>patent_id</th>\n",
       "      <th>year</th>\n",
       "      <th>inventor_id</th>\n",
       "      <th>name_first</th>\n",
       "      <th>name_last</th>\n",
       "      <th>city</th>\n",
       "      <th>state</th>\n",
       "      <th>inventor_country</th>\n",
       "      <th>name_middle</th>\n",
       "      <th>phonetic_first</th>\n",
       "      <th>phonetic_last</th>\n",
       "      <th>phonetic_middle</th>\n",
       "    </tr>\n",
       "  </thead>\n",
       "  <tbody>\n",
       "    <tr>\n",
       "      <td>0</td>\n",
       "      <td>9980641</td>\n",
       "      <td>2018</td>\n",
       "      <td>5321501-6</td>\n",
       "      <td>joel</td>\n",
       "      <td>schuman</td>\n",
       "      <td>PITTSBURGH</td>\n",
       "      <td>PA</td>\n",
       "      <td>US</td>\n",
       "      <td>s</td>\n",
       "      <td>JAL</td>\n",
       "      <td>SANAN</td>\n",
       "      <td>S</td>\n",
       "    </tr>\n",
       "  </tbody>\n",
       "</table>\n",
       "</div>"
      ],
      "text/plain": [
       "  patent_id  year inventor_id name_first name_last        city state  \\\n",
       "0   9980641  2018   5321501-6       joel   schuman  PITTSBURGH    PA   \n",
       "\n",
       "  inventor_country name_middle phonetic_first phonetic_last phonetic_middle  \n",
       "0               US           s            JAL         SANAN               S  "
      ]
     },
     "execution_count": 234,
     "metadata": {},
     "output_type": "execute_result"
    }
   ],
   "source": [
    "inventors_results[0]"
   ]
  },
  {
   "cell_type": "markdown",
   "metadata": {},
   "source": [
    "Now we concatenate the list of dataframes into one dataframe."
   ]
  },
  {
   "cell_type": "code",
   "execution_count": 235,
   "metadata": {
    "ExecuteTime": {
     "end_time": "2020-01-25T01:00:15.274102Z",
     "start_time": "2020-01-25T01:00:14.975412Z"
    }
   },
   "outputs": [],
   "source": [
    "inventors_concat = pd.concat(inventors_results)"
   ]
  },
  {
   "cell_type": "code",
   "execution_count": 236,
   "metadata": {
    "ExecuteTime": {
     "end_time": "2020-01-25T01:00:23.851539Z",
     "start_time": "2020-01-25T01:00:23.837127Z"
    }
   },
   "outputs": [
    {
     "data": {
      "text/html": [
       "<div>\n",
       "<style scoped>\n",
       "    .dataframe tbody tr th:only-of-type {\n",
       "        vertical-align: middle;\n",
       "    }\n",
       "\n",
       "    .dataframe tbody tr th {\n",
       "        vertical-align: top;\n",
       "    }\n",
       "\n",
       "    .dataframe thead th {\n",
       "        text-align: right;\n",
       "    }\n",
       "</style>\n",
       "<table border=\"1\" class=\"dataframe\">\n",
       "  <thead>\n",
       "    <tr style=\"text-align: right;\">\n",
       "      <th></th>\n",
       "      <th>patent_id</th>\n",
       "      <th>year</th>\n",
       "      <th>inventor_id</th>\n",
       "      <th>name_first</th>\n",
       "      <th>name_last</th>\n",
       "      <th>city</th>\n",
       "      <th>state</th>\n",
       "      <th>inventor_country</th>\n",
       "      <th>name_middle</th>\n",
       "      <th>phonetic_first</th>\n",
       "      <th>phonetic_last</th>\n",
       "      <th>phonetic_middle</th>\n",
       "    </tr>\n",
       "  </thead>\n",
       "  <tbody>\n",
       "    <tr>\n",
       "      <td>0</td>\n",
       "      <td>9980641</td>\n",
       "      <td>2018</td>\n",
       "      <td>5321501-6</td>\n",
       "      <td>joel</td>\n",
       "      <td>schuman</td>\n",
       "      <td>PITTSBURGH</td>\n",
       "      <td>PA</td>\n",
       "      <td>US</td>\n",
       "      <td>s</td>\n",
       "      <td>JAL</td>\n",
       "      <td>SANAN</td>\n",
       "      <td>S</td>\n",
       "    </tr>\n",
       "    <tr>\n",
       "      <td>3</td>\n",
       "      <td>9981048</td>\n",
       "      <td>2018</td>\n",
       "      <td>9981048-1</td>\n",
       "      <td>ira</td>\n",
       "      <td>fox</td>\n",
       "      <td>PITTSBURGH</td>\n",
       "      <td>PA</td>\n",
       "      <td>US</td>\n",
       "      <td>jacob</td>\n",
       "      <td>IR</td>\n",
       "      <td>FAX</td>\n",
       "      <td>JACAB</td>\n",
       "    </tr>\n",
       "    <tr>\n",
       "      <td>3</td>\n",
       "      <td>9981048</td>\n",
       "      <td>2018</td>\n",
       "      <td>9981048-1</td>\n",
       "      <td>ira</td>\n",
       "      <td>fox</td>\n",
       "      <td>PITTSBURGH</td>\n",
       "      <td>PA</td>\n",
       "      <td>US</td>\n",
       "      <td>jacob</td>\n",
       "      <td>IR</td>\n",
       "      <td>FAX</td>\n",
       "      <td>JACAB</td>\n",
       "    </tr>\n",
       "    <tr>\n",
       "      <td>8</td>\n",
       "      <td>9982070</td>\n",
       "      <td>2018</td>\n",
       "      <td>5077078-2</td>\n",
       "      <td>krzysztof</td>\n",
       "      <td>matyjaszewski</td>\n",
       "      <td>PITTSBURGH</td>\n",
       "      <td>PA</td>\n",
       "      <td>US</td>\n",
       "      <td>a</td>\n",
       "      <td>CRSYSTAF</td>\n",
       "      <td>MATYJASAESC</td>\n",
       "      <td>A</td>\n",
       "    </tr>\n",
       "    <tr>\n",
       "      <td>8</td>\n",
       "      <td>9982070</td>\n",
       "      <td>2018</td>\n",
       "      <td>5077078-2</td>\n",
       "      <td>krzysztof</td>\n",
       "      <td>matyjaszewski</td>\n",
       "      <td>PITTSBURGH</td>\n",
       "      <td>PA</td>\n",
       "      <td>US</td>\n",
       "      <td>a</td>\n",
       "      <td>CRSYSTAF</td>\n",
       "      <td>MATYJASAESC</td>\n",
       "      <td>A</td>\n",
       "    </tr>\n",
       "  </tbody>\n",
       "</table>\n",
       "</div>"
      ],
      "text/plain": [
       "  patent_id  year inventor_id name_first      name_last        city state  \\\n",
       "0   9980641  2018   5321501-6       joel        schuman  PITTSBURGH    PA   \n",
       "3   9981048  2018   9981048-1        ira            fox  PITTSBURGH    PA   \n",
       "3   9981048  2018   9981048-1        ira            fox  PITTSBURGH    PA   \n",
       "8   9982070  2018   5077078-2  krzysztof  matyjaszewski  PITTSBURGH    PA   \n",
       "8   9982070  2018   5077078-2  krzysztof  matyjaszewski  PITTSBURGH    PA   \n",
       "\n",
       "  inventor_country name_middle phonetic_first phonetic_last phonetic_middle  \n",
       "0               US           s            JAL         SANAN               S  \n",
       "3               US       jacob             IR           FAX           JACAB  \n",
       "3               US       jacob             IR           FAX           JACAB  \n",
       "8               US           a       CRSYSTAF   MATYJASAESC               A  \n",
       "8               US           a       CRSYSTAF   MATYJASAESC               A  "
      ]
     },
     "execution_count": 236,
     "metadata": {},
     "output_type": "execute_result"
    }
   ],
   "source": [
    "inventors_concat.head()"
   ]
  },
  {
   "cell_type": "markdown",
   "metadata": {},
   "source": [
    "We do the same for the `pi` table."
   ]
  },
  {
   "cell_type": "code",
   "execution_count": 237,
   "metadata": {
    "ExecuteTime": {
     "end_time": "2020-01-25T01:00:32.672249Z",
     "start_time": "2020-01-25T01:00:32.380570Z"
    }
   },
   "outputs": [],
   "source": [
    "pi_results = []  # Create an empty list\n",
    "\n",
    "for match in matches.index:  # For every pair in matches (index)\n",
    "    df = pd.DataFrame(pi.loc[[match[1]]])  # Get the location in the original table, convert to dataframe\n",
    "    pi_results.append(df)\n",
    "    \n",
    "pi_concat = pd.concat(pi_results)"
   ]
  },
  {
   "cell_type": "code",
   "execution_count": 238,
   "metadata": {
    "ExecuteTime": {
     "end_time": "2020-01-25T01:00:40.565857Z",
     "start_time": "2020-01-25T01:00:40.550235Z"
    }
   },
   "outputs": [
    {
     "data": {
      "text/html": [
       "<div>\n",
       "<style scoped>\n",
       "    .dataframe tbody tr th:only-of-type {\n",
       "        vertical-align: middle;\n",
       "    }\n",
       "\n",
       "    .dataframe tbody tr th {\n",
       "        vertical-align: top;\n",
       "    }\n",
       "\n",
       "    .dataframe thead th {\n",
       "        text-align: right;\n",
       "    }\n",
       "</style>\n",
       "<table border=\"1\" class=\"dataframe\">\n",
       "  <thead>\n",
       "    <tr style=\"text-align: right;\">\n",
       "      <th></th>\n",
       "      <th>PROJECT_ID</th>\n",
       "      <th>CONTACT_PI_PROJECT_LEADER</th>\n",
       "      <th>OTHER_PIS</th>\n",
       "      <th>city</th>\n",
       "      <th>state</th>\n",
       "      <th>ORGANIZATION_COUNTRY</th>\n",
       "      <th>name_first</th>\n",
       "      <th>name_last</th>\n",
       "      <th>name_middle</th>\n",
       "      <th>phonetic_first</th>\n",
       "      <th>phonetic_last</th>\n",
       "      <th>phonetic_middle</th>\n",
       "    </tr>\n",
       "  </thead>\n",
       "  <tbody>\n",
       "    <tr>\n",
       "      <td>23494</td>\n",
       "      <td>289911</td>\n",
       "      <td>schuman joel s</td>\n",
       "      <td>NaN</td>\n",
       "      <td>PITTSBURGH</td>\n",
       "      <td>PA</td>\n",
       "      <td>UNITED STATES</td>\n",
       "      <td>joel</td>\n",
       "      <td>schuman</td>\n",
       "      <td>s</td>\n",
       "      <td>JAL</td>\n",
       "      <td>SANAN</td>\n",
       "      <td>S</td>\n",
       "    </tr>\n",
       "    <tr>\n",
       "      <td>56152</td>\n",
       "      <td>339486</td>\n",
       "      <td>fox ira j</td>\n",
       "      <td>NaN</td>\n",
       "      <td>PITTSBURGH</td>\n",
       "      <td>PA</td>\n",
       "      <td>UNITED STATES</td>\n",
       "      <td>ira</td>\n",
       "      <td>fox</td>\n",
       "      <td>j</td>\n",
       "      <td>IR</td>\n",
       "      <td>FAX</td>\n",
       "      <td>J</td>\n",
       "    </tr>\n",
       "    <tr>\n",
       "      <td>77251</td>\n",
       "      <td>393971</td>\n",
       "      <td>fox ira j</td>\n",
       "      <td>NaN</td>\n",
       "      <td>PITTSBURGH</td>\n",
       "      <td>PA</td>\n",
       "      <td>UNITED STATES</td>\n",
       "      <td>ira</td>\n",
       "      <td>fox</td>\n",
       "      <td>j</td>\n",
       "      <td>IR</td>\n",
       "      <td>FAX</td>\n",
       "      <td>J</td>\n",
       "    </tr>\n",
       "    <tr>\n",
       "      <td>2727</td>\n",
       "      <td>123951</td>\n",
       "      <td>matyjaszewski krzysztof</td>\n",
       "      <td>NaN</td>\n",
       "      <td>PITTSBURGH</td>\n",
       "      <td>PA</td>\n",
       "      <td>UNITED STATES</td>\n",
       "      <td>krzysztof</td>\n",
       "      <td>matyjaszewski</td>\n",
       "      <td>NaN</td>\n",
       "      <td>CRSYSTAF</td>\n",
       "      <td>MATYJASAESC</td>\n",
       "      <td>NaN</td>\n",
       "    </tr>\n",
       "    <tr>\n",
       "      <td>13392</td>\n",
       "      <td>134632</td>\n",
       "      <td>matyjaszewski krzysztof</td>\n",
       "      <td>NaN</td>\n",
       "      <td>PITTSBURGH</td>\n",
       "      <td>PA</td>\n",
       "      <td>UNITED STATES</td>\n",
       "      <td>krzysztof</td>\n",
       "      <td>matyjaszewski</td>\n",
       "      <td>NaN</td>\n",
       "      <td>CRSYSTAF</td>\n",
       "      <td>MATYJASAESC</td>\n",
       "      <td>NaN</td>\n",
       "    </tr>\n",
       "  </tbody>\n",
       "</table>\n",
       "</div>"
      ],
      "text/plain": [
       "       PROJECT_ID  CONTACT_PI_PROJECT_LEADER  OTHER_PIS        city state  \\\n",
       "23494      289911             schuman joel s        NaN  PITTSBURGH    PA   \n",
       "56152      339486                  fox ira j        NaN  PITTSBURGH    PA   \n",
       "77251      393971                  fox ira j        NaN  PITTSBURGH    PA   \n",
       "2727       123951    matyjaszewski krzysztof        NaN  PITTSBURGH    PA   \n",
       "13392      134632    matyjaszewski krzysztof        NaN  PITTSBURGH    PA   \n",
       "\n",
       "       ORGANIZATION_COUNTRY name_first      name_last name_middle  \\\n",
       "23494         UNITED STATES       joel        schuman           s   \n",
       "56152         UNITED STATES        ira            fox           j   \n",
       "77251         UNITED STATES        ira            fox           j   \n",
       "2727          UNITED STATES  krzysztof  matyjaszewski         NaN   \n",
       "13392         UNITED STATES  krzysztof  matyjaszewski         NaN   \n",
       "\n",
       "      phonetic_first phonetic_last phonetic_middle  \n",
       "23494            JAL         SANAN               S  \n",
       "56152             IR           FAX               J  \n",
       "77251             IR           FAX               J  \n",
       "2727        CRSYSTAF   MATYJASAESC             NaN  \n",
       "13392       CRSYSTAF   MATYJASAESC             NaN  "
      ]
     },
     "execution_count": 238,
     "metadata": {},
     "output_type": "execute_result"
    }
   ],
   "source": [
    "pi_concat.head()"
   ]
  },
  {
   "cell_type": "markdown",
   "metadata": {},
   "source": [
    "Now we need to combine two tables on the index - notice that our tables right now have indices from the original tables. We can reset the index using `.reset_index()`."
   ]
  },
  {
   "cell_type": "code",
   "execution_count": 239,
   "metadata": {
    "ExecuteTime": {
     "end_time": "2020-01-25T01:00:48.748549Z",
     "start_time": "2020-01-25T01:00:48.740396Z"
    }
   },
   "outputs": [],
   "source": [
    "inventors_concat = inventors_concat.reset_index()\n",
    "pi_concat = pi_concat.reset_index()"
   ]
  },
  {
   "cell_type": "markdown",
   "metadata": {},
   "source": [
    "Now our tables have the same index on which we can combine two tables."
   ]
  },
  {
   "cell_type": "code",
   "execution_count": 240,
   "metadata": {
    "ExecuteTime": {
     "end_time": "2020-01-25T01:00:56.818210Z",
     "start_time": "2020-01-25T01:00:56.801690Z"
    }
   },
   "outputs": [
    {
     "data": {
      "text/html": [
       "<div>\n",
       "<style scoped>\n",
       "    .dataframe tbody tr th:only-of-type {\n",
       "        vertical-align: middle;\n",
       "    }\n",
       "\n",
       "    .dataframe tbody tr th {\n",
       "        vertical-align: top;\n",
       "    }\n",
       "\n",
       "    .dataframe thead th {\n",
       "        text-align: right;\n",
       "    }\n",
       "</style>\n",
       "<table border=\"1\" class=\"dataframe\">\n",
       "  <thead>\n",
       "    <tr style=\"text-align: right;\">\n",
       "      <th></th>\n",
       "      <th>index</th>\n",
       "      <th>patent_id</th>\n",
       "      <th>year</th>\n",
       "      <th>inventor_id</th>\n",
       "      <th>name_first</th>\n",
       "      <th>name_last</th>\n",
       "      <th>city</th>\n",
       "      <th>state</th>\n",
       "      <th>inventor_country</th>\n",
       "      <th>name_middle</th>\n",
       "      <th>phonetic_first</th>\n",
       "      <th>phonetic_last</th>\n",
       "      <th>phonetic_middle</th>\n",
       "    </tr>\n",
       "  </thead>\n",
       "  <tbody>\n",
       "    <tr>\n",
       "      <td>0</td>\n",
       "      <td>0</td>\n",
       "      <td>9980641</td>\n",
       "      <td>2018</td>\n",
       "      <td>5321501-6</td>\n",
       "      <td>joel</td>\n",
       "      <td>schuman</td>\n",
       "      <td>PITTSBURGH</td>\n",
       "      <td>PA</td>\n",
       "      <td>US</td>\n",
       "      <td>s</td>\n",
       "      <td>JAL</td>\n",
       "      <td>SANAN</td>\n",
       "      <td>S</td>\n",
       "    </tr>\n",
       "    <tr>\n",
       "      <td>1</td>\n",
       "      <td>3</td>\n",
       "      <td>9981048</td>\n",
       "      <td>2018</td>\n",
       "      <td>9981048-1</td>\n",
       "      <td>ira</td>\n",
       "      <td>fox</td>\n",
       "      <td>PITTSBURGH</td>\n",
       "      <td>PA</td>\n",
       "      <td>US</td>\n",
       "      <td>jacob</td>\n",
       "      <td>IR</td>\n",
       "      <td>FAX</td>\n",
       "      <td>JACAB</td>\n",
       "    </tr>\n",
       "    <tr>\n",
       "      <td>2</td>\n",
       "      <td>3</td>\n",
       "      <td>9981048</td>\n",
       "      <td>2018</td>\n",
       "      <td>9981048-1</td>\n",
       "      <td>ira</td>\n",
       "      <td>fox</td>\n",
       "      <td>PITTSBURGH</td>\n",
       "      <td>PA</td>\n",
       "      <td>US</td>\n",
       "      <td>jacob</td>\n",
       "      <td>IR</td>\n",
       "      <td>FAX</td>\n",
       "      <td>JACAB</td>\n",
       "    </tr>\n",
       "    <tr>\n",
       "      <td>3</td>\n",
       "      <td>8</td>\n",
       "      <td>9982070</td>\n",
       "      <td>2018</td>\n",
       "      <td>5077078-2</td>\n",
       "      <td>krzysztof</td>\n",
       "      <td>matyjaszewski</td>\n",
       "      <td>PITTSBURGH</td>\n",
       "      <td>PA</td>\n",
       "      <td>US</td>\n",
       "      <td>a</td>\n",
       "      <td>CRSYSTAF</td>\n",
       "      <td>MATYJASAESC</td>\n",
       "      <td>A</td>\n",
       "    </tr>\n",
       "    <tr>\n",
       "      <td>4</td>\n",
       "      <td>8</td>\n",
       "      <td>9982070</td>\n",
       "      <td>2018</td>\n",
       "      <td>5077078-2</td>\n",
       "      <td>krzysztof</td>\n",
       "      <td>matyjaszewski</td>\n",
       "      <td>PITTSBURGH</td>\n",
       "      <td>PA</td>\n",
       "      <td>US</td>\n",
       "      <td>a</td>\n",
       "      <td>CRSYSTAF</td>\n",
       "      <td>MATYJASAESC</td>\n",
       "      <td>A</td>\n",
       "    </tr>\n",
       "  </tbody>\n",
       "</table>\n",
       "</div>"
      ],
      "text/plain": [
       "   index patent_id  year inventor_id name_first      name_last        city  \\\n",
       "0      0   9980641  2018   5321501-6       joel        schuman  PITTSBURGH   \n",
       "1      3   9981048  2018   9981048-1        ira            fox  PITTSBURGH   \n",
       "2      3   9981048  2018   9981048-1        ira            fox  PITTSBURGH   \n",
       "3      8   9982070  2018   5077078-2  krzysztof  matyjaszewski  PITTSBURGH   \n",
       "4      8   9982070  2018   5077078-2  krzysztof  matyjaszewski  PITTSBURGH   \n",
       "\n",
       "  state inventor_country name_middle phonetic_first phonetic_last  \\\n",
       "0    PA               US           s            JAL         SANAN   \n",
       "1    PA               US       jacob             IR           FAX   \n",
       "2    PA               US       jacob             IR           FAX   \n",
       "3    PA               US           a       CRSYSTAF   MATYJASAESC   \n",
       "4    PA               US           a       CRSYSTAF   MATYJASAESC   \n",
       "\n",
       "  phonetic_middle  \n",
       "0               S  \n",
       "1           JACAB  \n",
       "2           JACAB  \n",
       "3               A  \n",
       "4               A  "
      ]
     },
     "execution_count": 240,
     "metadata": {},
     "output_type": "execute_result"
    }
   ],
   "source": [
    "inventors_concat.head()"
   ]
  },
  {
   "cell_type": "code",
   "execution_count": 241,
   "metadata": {
    "ExecuteTime": {
     "end_time": "2020-01-25T01:01:05.674458Z",
     "start_time": "2020-01-25T01:01:05.658654Z"
    }
   },
   "outputs": [
    {
     "data": {
      "text/html": [
       "<div>\n",
       "<style scoped>\n",
       "    .dataframe tbody tr th:only-of-type {\n",
       "        vertical-align: middle;\n",
       "    }\n",
       "\n",
       "    .dataframe tbody tr th {\n",
       "        vertical-align: top;\n",
       "    }\n",
       "\n",
       "    .dataframe thead th {\n",
       "        text-align: right;\n",
       "    }\n",
       "</style>\n",
       "<table border=\"1\" class=\"dataframe\">\n",
       "  <thead>\n",
       "    <tr style=\"text-align: right;\">\n",
       "      <th></th>\n",
       "      <th>index</th>\n",
       "      <th>PROJECT_ID</th>\n",
       "      <th>CONTACT_PI_PROJECT_LEADER</th>\n",
       "      <th>OTHER_PIS</th>\n",
       "      <th>city</th>\n",
       "      <th>state</th>\n",
       "      <th>ORGANIZATION_COUNTRY</th>\n",
       "      <th>name_first</th>\n",
       "      <th>name_last</th>\n",
       "      <th>name_middle</th>\n",
       "      <th>phonetic_first</th>\n",
       "      <th>phonetic_last</th>\n",
       "      <th>phonetic_middle</th>\n",
       "    </tr>\n",
       "  </thead>\n",
       "  <tbody>\n",
       "    <tr>\n",
       "      <td>0</td>\n",
       "      <td>23494</td>\n",
       "      <td>289911</td>\n",
       "      <td>schuman joel s</td>\n",
       "      <td>NaN</td>\n",
       "      <td>PITTSBURGH</td>\n",
       "      <td>PA</td>\n",
       "      <td>UNITED STATES</td>\n",
       "      <td>joel</td>\n",
       "      <td>schuman</td>\n",
       "      <td>s</td>\n",
       "      <td>JAL</td>\n",
       "      <td>SANAN</td>\n",
       "      <td>S</td>\n",
       "    </tr>\n",
       "    <tr>\n",
       "      <td>1</td>\n",
       "      <td>56152</td>\n",
       "      <td>339486</td>\n",
       "      <td>fox ira j</td>\n",
       "      <td>NaN</td>\n",
       "      <td>PITTSBURGH</td>\n",
       "      <td>PA</td>\n",
       "      <td>UNITED STATES</td>\n",
       "      <td>ira</td>\n",
       "      <td>fox</td>\n",
       "      <td>j</td>\n",
       "      <td>IR</td>\n",
       "      <td>FAX</td>\n",
       "      <td>J</td>\n",
       "    </tr>\n",
       "    <tr>\n",
       "      <td>2</td>\n",
       "      <td>77251</td>\n",
       "      <td>393971</td>\n",
       "      <td>fox ira j</td>\n",
       "      <td>NaN</td>\n",
       "      <td>PITTSBURGH</td>\n",
       "      <td>PA</td>\n",
       "      <td>UNITED STATES</td>\n",
       "      <td>ira</td>\n",
       "      <td>fox</td>\n",
       "      <td>j</td>\n",
       "      <td>IR</td>\n",
       "      <td>FAX</td>\n",
       "      <td>J</td>\n",
       "    </tr>\n",
       "    <tr>\n",
       "      <td>3</td>\n",
       "      <td>2727</td>\n",
       "      <td>123951</td>\n",
       "      <td>matyjaszewski krzysztof</td>\n",
       "      <td>NaN</td>\n",
       "      <td>PITTSBURGH</td>\n",
       "      <td>PA</td>\n",
       "      <td>UNITED STATES</td>\n",
       "      <td>krzysztof</td>\n",
       "      <td>matyjaszewski</td>\n",
       "      <td>NaN</td>\n",
       "      <td>CRSYSTAF</td>\n",
       "      <td>MATYJASAESC</td>\n",
       "      <td>NaN</td>\n",
       "    </tr>\n",
       "    <tr>\n",
       "      <td>4</td>\n",
       "      <td>13392</td>\n",
       "      <td>134632</td>\n",
       "      <td>matyjaszewski krzysztof</td>\n",
       "      <td>NaN</td>\n",
       "      <td>PITTSBURGH</td>\n",
       "      <td>PA</td>\n",
       "      <td>UNITED STATES</td>\n",
       "      <td>krzysztof</td>\n",
       "      <td>matyjaszewski</td>\n",
       "      <td>NaN</td>\n",
       "      <td>CRSYSTAF</td>\n",
       "      <td>MATYJASAESC</td>\n",
       "      <td>NaN</td>\n",
       "    </tr>\n",
       "  </tbody>\n",
       "</table>\n",
       "</div>"
      ],
      "text/plain": [
       "   index  PROJECT_ID  CONTACT_PI_PROJECT_LEADER  OTHER_PIS        city state  \\\n",
       "0  23494      289911             schuman joel s        NaN  PITTSBURGH    PA   \n",
       "1  56152      339486                  fox ira j        NaN  PITTSBURGH    PA   \n",
       "2  77251      393971                  fox ira j        NaN  PITTSBURGH    PA   \n",
       "3   2727      123951    matyjaszewski krzysztof        NaN  PITTSBURGH    PA   \n",
       "4  13392      134632    matyjaszewski krzysztof        NaN  PITTSBURGH    PA   \n",
       "\n",
       "   ORGANIZATION_COUNTRY name_first      name_last name_middle phonetic_first  \\\n",
       "0         UNITED STATES       joel        schuman           s            JAL   \n",
       "1         UNITED STATES        ira            fox           j             IR   \n",
       "2         UNITED STATES        ira            fox           j             IR   \n",
       "3         UNITED STATES  krzysztof  matyjaszewski         NaN       CRSYSTAF   \n",
       "4         UNITED STATES  krzysztof  matyjaszewski         NaN       CRSYSTAF   \n",
       "\n",
       "  phonetic_last phonetic_middle  \n",
       "0         SANAN               S  \n",
       "1           FAX               J  \n",
       "2           FAX               J  \n",
       "3   MATYJASAESC             NaN  \n",
       "4   MATYJASAESC             NaN  "
      ]
     },
     "execution_count": 241,
     "metadata": {},
     "output_type": "execute_result"
    }
   ],
   "source": [
    "pi_concat.head()"
   ]
  },
  {
   "cell_type": "code",
   "execution_count": 242,
   "metadata": {
    "ExecuteTime": {
     "end_time": "2020-01-25T01:01:14.254964Z",
     "start_time": "2020-01-25T01:01:14.247450Z"
    }
   },
   "outputs": [],
   "source": [
    "# Drop the old index column\n",
    "inventors_concat = inventors_concat.drop(columns=['index'])\n",
    "pi_concat = pi_concat.drop(columns=['index'])"
   ]
  },
  {
   "cell_type": "code",
   "execution_count": 243,
   "metadata": {
    "ExecuteTime": {
     "end_time": "2020-01-25T01:01:22.447320Z",
     "start_time": "2020-01-25T01:01:22.441237Z"
    }
   },
   "outputs": [],
   "source": [
    "# Drop other not relevant columns\n",
    "inventors_concat = inventors_concat.drop(columns=['inventor_country'])\n",
    "pi_concat = pi_concat.drop(columns=[' ORGANIZATION_COUNTRY'])"
   ]
  },
  {
   "cell_type": "markdown",
   "metadata": {},
   "source": [
    "Now we concatenate these two tables using `.concat()`."
   ]
  },
  {
   "cell_type": "code",
   "execution_count": 244,
   "metadata": {
    "ExecuteTime": {
     "end_time": "2020-01-25T01:01:30.508213Z",
     "start_time": "2020-01-25T01:01:30.502697Z"
    }
   },
   "outputs": [],
   "source": [
    "matched = pd.concat([inventors_concat, pi_concat], axis=1)  # Specify axis=1 to concatenate horizontally"
   ]
  },
  {
   "cell_type": "code",
   "execution_count": 250,
   "metadata": {
    "ExecuteTime": {
     "end_time": "2020-01-25T01:03:18.489497Z",
     "start_time": "2020-01-25T01:03:18.453370Z"
    }
   },
   "outputs": [
    {
     "data": {
      "text/html": [
       "<div>\n",
       "<style scoped>\n",
       "    .dataframe tbody tr th:only-of-type {\n",
       "        vertical-align: middle;\n",
       "    }\n",
       "\n",
       "    .dataframe tbody tr th {\n",
       "        vertical-align: top;\n",
       "    }\n",
       "\n",
       "    .dataframe thead th {\n",
       "        text-align: right;\n",
       "    }\n",
       "</style>\n",
       "<table border=\"1\" class=\"dataframe\">\n",
       "  <thead>\n",
       "    <tr style=\"text-align: right;\">\n",
       "      <th></th>\n",
       "      <th>patent_id</th>\n",
       "      <th>year</th>\n",
       "      <th>inventor_id</th>\n",
       "      <th>name_first</th>\n",
       "      <th>name_last</th>\n",
       "      <th>city</th>\n",
       "      <th>state</th>\n",
       "      <th>name_middle</th>\n",
       "      <th>phonetic_first</th>\n",
       "      <th>phonetic_last</th>\n",
       "      <th>...</th>\n",
       "      <th>CONTACT_PI_PROJECT_LEADER</th>\n",
       "      <th>OTHER_PIS</th>\n",
       "      <th>city</th>\n",
       "      <th>state</th>\n",
       "      <th>name_first</th>\n",
       "      <th>name_last</th>\n",
       "      <th>name_middle</th>\n",
       "      <th>phonetic_first</th>\n",
       "      <th>phonetic_last</th>\n",
       "      <th>phonetic_middle</th>\n",
       "    </tr>\n",
       "  </thead>\n",
       "  <tbody>\n",
       "    <tr>\n",
       "      <td>14</td>\n",
       "      <td>9987329</td>\n",
       "      <td>2018</td>\n",
       "      <td>9020600-3</td>\n",
       "      <td>mark</td>\n",
       "      <td>rosenblatt</td>\n",
       "      <td>NEW YORK</td>\n",
       "      <td>NY</td>\n",
       "      <td>NaN</td>\n",
       "      <td>MARC</td>\n",
       "      <td>RASANBLAT</td>\n",
       "      <td>...</td>\n",
       "      <td>rosenblatt mark i</td>\n",
       "      <td>NaN</td>\n",
       "      <td>NEW YORK</td>\n",
       "      <td>NY</td>\n",
       "      <td>mark</td>\n",
       "      <td>rosenblatt</td>\n",
       "      <td>i</td>\n",
       "      <td>MARC</td>\n",
       "      <td>RASANBLAT</td>\n",
       "      <td>I</td>\n",
       "    </tr>\n",
       "    <tr>\n",
       "      <td>15</td>\n",
       "      <td>9989451</td>\n",
       "      <td>2018</td>\n",
       "      <td>6055106-1</td>\n",
       "      <td>david</td>\n",
       "      <td>grier</td>\n",
       "      <td>NEW YORK</td>\n",
       "      <td>NY</td>\n",
       "      <td>g</td>\n",
       "      <td>DAVAD</td>\n",
       "      <td>GRAR</td>\n",
       "      <td>...</td>\n",
       "      <td>gruber david</td>\n",
       "      <td>GREER, EDYTA</td>\n",
       "      <td>NEW YORK</td>\n",
       "      <td>NY</td>\n",
       "      <td>david</td>\n",
       "      <td>gruber</td>\n",
       "      <td>NaN</td>\n",
       "      <td>DAVAD</td>\n",
       "      <td>GRABAR</td>\n",
       "      <td>NaN</td>\n",
       "    </tr>\n",
       "    <tr>\n",
       "      <td>16</td>\n",
       "      <td>9989451</td>\n",
       "      <td>2018</td>\n",
       "      <td>6055106-1</td>\n",
       "      <td>david</td>\n",
       "      <td>grier</td>\n",
       "      <td>NEW YORK</td>\n",
       "      <td>NY</td>\n",
       "      <td>g</td>\n",
       "      <td>DAVAD</td>\n",
       "      <td>GRAR</td>\n",
       "      <td>...</td>\n",
       "      <td>gruber david</td>\n",
       "      <td>MANFRINO, CARRIE; PIERIBONE, VINCENT</td>\n",
       "      <td>NEW YORK</td>\n",
       "      <td>NY</td>\n",
       "      <td>david</td>\n",
       "      <td>gruber</td>\n",
       "      <td>NaN</td>\n",
       "      <td>DAVAD</td>\n",
       "      <td>GRABAR</td>\n",
       "      <td>NaN</td>\n",
       "    </tr>\n",
       "    <tr>\n",
       "      <td>17</td>\n",
       "      <td>9992222</td>\n",
       "      <td>2018</td>\n",
       "      <td>6185678-3</td>\n",
       "      <td>angelos</td>\n",
       "      <td>keromytis</td>\n",
       "      <td>NEW YORK</td>\n",
       "      <td>NY</td>\n",
       "      <td>d</td>\n",
       "      <td>ANGAL</td>\n",
       "      <td>CARANYT</td>\n",
       "      <td>...</td>\n",
       "      <td>keromytis angelos d</td>\n",
       "      <td>NaN</td>\n",
       "      <td>NEW YORK</td>\n",
       "      <td>NY</td>\n",
       "      <td>angelos</td>\n",
       "      <td>keromytis</td>\n",
       "      <td>d</td>\n",
       "      <td>ANGAL</td>\n",
       "      <td>CARANYT</td>\n",
       "      <td>D</td>\n",
       "    </tr>\n",
       "    <tr>\n",
       "      <td>18</td>\n",
       "      <td>9993465</td>\n",
       "      <td>2018</td>\n",
       "      <td>5326659-1</td>\n",
       "      <td>yong</td>\n",
       "      <td>liu</td>\n",
       "      <td>NEW YORK</td>\n",
       "      <td>NY</td>\n",
       "      <td>NaN</td>\n",
       "      <td>YANG</td>\n",
       "      <td>L</td>\n",
       "      <td>...</td>\n",
       "      <td>li yihong</td>\n",
       "      <td>NaN</td>\n",
       "      <td>NEW YORK</td>\n",
       "      <td>NY</td>\n",
       "      <td>yihong</td>\n",
       "      <td>li</td>\n",
       "      <td>NaN</td>\n",
       "      <td>YAHANG</td>\n",
       "      <td>L</td>\n",
       "      <td>NaN</td>\n",
       "    </tr>\n",
       "    <tr>\n",
       "      <td>19</td>\n",
       "      <td>9996743</td>\n",
       "      <td>2018</td>\n",
       "      <td>4876455-3</td>\n",
       "      <td>shree</td>\n",
       "      <td>nayar</td>\n",
       "      <td>NEW YORK</td>\n",
       "      <td>NY</td>\n",
       "      <td>k</td>\n",
       "      <td>SRY</td>\n",
       "      <td>NAYAR</td>\n",
       "      <td>...</td>\n",
       "      <td>nayar shree k</td>\n",
       "      <td>NaN</td>\n",
       "      <td>NEW YORK</td>\n",
       "      <td>NY</td>\n",
       "      <td>shree</td>\n",
       "      <td>nayar</td>\n",
       "      <td>k</td>\n",
       "      <td>SRY</td>\n",
       "      <td>NAYAR</td>\n",
       "      <td>C</td>\n",
       "    </tr>\n",
       "  </tbody>\n",
       "</table>\n",
       "<p>6 rows × 22 columns</p>\n",
       "</div>"
      ],
      "text/plain": [
       "   patent_id  year inventor_id name_first   name_last      city state  \\\n",
       "14   9987329  2018   9020600-3       mark  rosenblatt  NEW YORK    NY   \n",
       "15   9989451  2018   6055106-1      david       grier  NEW YORK    NY   \n",
       "16   9989451  2018   6055106-1      david       grier  NEW YORK    NY   \n",
       "17   9992222  2018   6185678-3    angelos   keromytis  NEW YORK    NY   \n",
       "18   9993465  2018   5326659-1       yong         liu  NEW YORK    NY   \n",
       "19   9996743  2018   4876455-3      shree       nayar  NEW YORK    NY   \n",
       "\n",
       "   name_middle phonetic_first phonetic_last  ...  CONTACT_PI_PROJECT_LEADER  \\\n",
       "14         NaN           MARC     RASANBLAT  ...          rosenblatt mark i   \n",
       "15           g          DAVAD          GRAR  ...               gruber david   \n",
       "16           g          DAVAD          GRAR  ...               gruber david   \n",
       "17           d          ANGAL       CARANYT  ...        keromytis angelos d   \n",
       "18         NaN           YANG             L  ...                  li yihong   \n",
       "19           k            SRY         NAYAR  ...              nayar shree k   \n",
       "\n",
       "                               OTHER_PIS      city state name_first  \\\n",
       "14                                   NaN  NEW YORK    NY       mark   \n",
       "15                          GREER, EDYTA  NEW YORK    NY      david   \n",
       "16  MANFRINO, CARRIE; PIERIBONE, VINCENT  NEW YORK    NY      david   \n",
       "17                                   NaN  NEW YORK    NY    angelos   \n",
       "18                                   NaN  NEW YORK    NY     yihong   \n",
       "19                                   NaN  NEW YORK    NY      shree   \n",
       "\n",
       "     name_last name_middle phonetic_first phonetic_last phonetic_middle  \n",
       "14  rosenblatt           i           MARC     RASANBLAT               I  \n",
       "15      gruber         NaN          DAVAD        GRABAR             NaN  \n",
       "16      gruber         NaN          DAVAD        GRABAR             NaN  \n",
       "17   keromytis           d          ANGAL       CARANYT               D  \n",
       "18          li         NaN         YAHANG             L             NaN  \n",
       "19       nayar           k            SRY         NAYAR               C  \n",
       "\n",
       "[6 rows x 22 columns]"
      ]
     },
     "execution_count": 250,
     "metadata": {},
     "output_type": "execute_result"
    }
   ],
   "source": [
    "matched[14:20]"
   ]
  },
  {
   "cell_type": "markdown",
   "metadata": {},
   "source": [
    "Now that we have merged our matches together, examine them. Remember that we matched our strings on 85% similarity, according to the Jaro-Winkler distance,  and we blocked on city and state. Try using a different threshold. You can also use a different string-matching algorithm (please see below in References)."
   ]
  },
  {
   "cell_type": "markdown",
   "metadata": {
    "ExecuteTime": {
     "end_time": "2020-01-22T13:27:51.524520Z",
     "start_time": "2020-01-22T13:27:51.516843Z"
    }
   },
   "source": [
    "<span style=\"color:red\">**Checkpoint: Record Linkage Decisions**</span>"
   ]
  },
  {
   "cell_type": "markdown",
   "metadata": {},
   "source": [
    "What are some decisinos we had to make as we went through the record linkage process above? What if we had made different choices instead?\n",
    "\n",
    "Try doing the record linkage with a few different options and see how many matches you get as you vary the approach. For example, try different string-matching algorithms or thresholds."
   ]
  },
  {
   "cell_type": "code",
   "execution_count": null,
   "metadata": {
    "ExecuteTime": {
     "end_time": "2020-01-24T20:19:38.619193Z",
     "start_time": "2020-01-24T20:19:36.425Z"
    }
   },
   "outputs": [],
   "source": [
    "# your code here...\n",
    "\n",
    "\n",
    "\n"
   ]
  },
  {
   "cell_type": "markdown",
   "metadata": {},
   "source": [
    "## References and Further Readings\n",
    "\n",
    "### Record Linkage\n",
    "\n",
    "Lane, Julia, Ian Foster, Rayid Ghani, Ron S. Jarmin, Frauke Kreuter (editors), Big Data and Social Science: A Practical Guide to Methods and Tools, Chapman and Hall/CRC Press, 2016. https://coleridge-initiative.github.io/big-data-and-social-science/chap-link.html\n",
    "\n",
    "### Record Linkage Python package\n",
    "* `recordlinkage` Python package: https://recordlinkage.readthedocs.io/en/latest/index.html\n",
    "    - Comparing records: https://recordlinkage.readthedocs.io/en/latest/ref-compare.html\n",
    "    - Classification:\n",
    "        - https://recordlinkage.readthedocs.io/en/latest/ref-classifiers.html,\n",
    "        - https://recordlinkage.readthedocs.io/en/latest/notebooks/classifiers.html\n",
    "\n",
    "### String Comparators\n",
    "\n",
    "* GitHub page of `jellyfish`: https://github.com/jamesturk/jellyfish\n",
    "* Descriptions of distances in `jellyfish`: https://jellyfish.readthedocs.io/en/latest/comparison.html\n",
    "* Different distances that measure the differences between strings:\n",
    "    - Levenshtein distance: https://en.wikipedia.org/wiki/Levenshtein_distance\n",
    "    - Damerau–Levenshtein distance: https://en.wikipedia.org/wiki/Damerau%E2%80%93Levenshtein_distance\n",
    "    - Jaro–Winkler distance: https://en.wikipedia.org/wiki/Jaro%E2%80%93Winkler_distance\n",
    "    - Hamming distance: https://en.wikipedia.org/wiki/Hamming_distance\n",
    "    - Match rating approach: https://en.wikipedia.org/wiki/Match_rating_approach\n",
    "\n",
    "### Fellegi-Sunter Record Linkage \n",
    "\n",
    "* Introduction to Probabilistic Record Linkage: http://www.bristol.ac.uk/media-library/sites/cmm/migrated/documents/problinkage.pdf\n",
    "* Paper Review: https://www.cs.umd.edu/class/spring2012/cmsc828L/Papers/HerzogEtWires10.pdf\n",
    "\n"
   ]
  },
  {
   "cell_type": "code",
   "execution_count": null,
   "metadata": {},
   "outputs": [],
   "source": []
  }
 ],
 "metadata": {
  "kernelspec": {
   "display_name": "Python 3",
   "language": "python",
   "name": "python3"
  },
  "language_info": {
   "codemirror_mode": {
    "name": "ipython",
    "version": 3
   },
   "file_extension": ".py",
   "mimetype": "text/x-python",
   "name": "python",
   "nbconvert_exporter": "python",
   "pygments_lexer": "ipython3",
   "version": "3.7.4"
  },
  "toc": {
   "base_numbering": 1,
   "nav_menu": {},
   "number_sections": true,
   "sideBar": true,
   "skip_h1_title": false,
   "title_cell": "Table of Contents",
   "title_sidebar": "Contents",
   "toc_cell": true,
   "toc_position": {
    "height": "calc(100% - 180px)",
    "left": "10px",
    "top": "150px",
    "width": "165px"
   },
   "toc_section_display": true,
   "toc_window_display": false
  },
  "varInspector": {
   "cols": {
    "lenName": 16,
    "lenType": 16,
    "lenVar": 40
   },
   "kernels_config": {
    "python": {
     "delete_cmd_postfix": "",
     "delete_cmd_prefix": "del ",
     "library": "var_list.py",
     "varRefreshCmd": "print(var_dic_list())"
    },
    "r": {
     "delete_cmd_postfix": ") ",
     "delete_cmd_prefix": "rm(",
     "library": "var_list.r",
     "varRefreshCmd": "cat(var_dic_list()) "
    }
   },
   "types_to_exclude": [
    "module",
    "function",
    "builtin_function_or_method",
    "instance",
    "_Feature"
   ],
   "window_display": false
  }
 },
 "nbformat": 4,
 "nbformat_minor": 2
}
