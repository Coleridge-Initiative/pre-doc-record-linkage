{
 "cells": [
  {
   "cell_type": "markdown",
   "metadata": {
    "toc": true
   },
   "source": [
    "<h1>Table of Contents<span class=\"tocSkip\"></span></h1>\n",
    "<div class=\"toc\"><ul class=\"toc-item\"></ul></div>"
   ]
  },
  {
   "cell_type": "code",
   "execution_count": 204,
   "metadata": {
    "ExecuteTime": {
     "end_time": "2020-01-21T23:04:35.906072Z",
     "start_time": "2020-01-21T23:04:35.892780Z"
    }
   },
   "outputs": [],
   "source": [
    "import pandas as pd"
   ]
  },
  {
   "cell_type": "code",
   "execution_count": 205,
   "metadata": {
    "ExecuteTime": {
     "end_time": "2020-01-21T23:04:37.415922Z",
     "start_time": "2020-01-21T23:04:36.777341Z"
    }
   },
   "outputs": [],
   "source": [
    "gov_interest = pd.read_csv('government_interest.tsv', sep='\\t')"
   ]
  },
  {
   "cell_type": "code",
   "execution_count": 206,
   "metadata": {
    "ExecuteTime": {
     "end_time": "2020-01-21T23:04:37.835515Z",
     "start_time": "2020-01-21T23:04:37.816593Z"
    }
   },
   "outputs": [
    {
     "data": {
      "text/html": [
       "<div>\n",
       "<style scoped>\n",
       "    .dataframe tbody tr th:only-of-type {\n",
       "        vertical-align: middle;\n",
       "    }\n",
       "\n",
       "    .dataframe tbody tr th {\n",
       "        vertical-align: top;\n",
       "    }\n",
       "\n",
       "    .dataframe thead th {\n",
       "        text-align: right;\n",
       "    }\n",
       "</style>\n",
       "<table border=\"1\" class=\"dataframe\">\n",
       "  <thead>\n",
       "    <tr style=\"text-align: right;\">\n",
       "      <th></th>\n",
       "      <th>patent_id</th>\n",
       "      <th>gi_statement</th>\n",
       "    </tr>\n",
       "  </thead>\n",
       "  <tbody>\n",
       "    <tr>\n",
       "      <td>0</td>\n",
       "      <td>10000026</td>\n",
       "      <td>This invention was made with Government suppor...</td>\n",
       "    </tr>\n",
       "    <tr>\n",
       "      <td>1</td>\n",
       "      <td>10000036</td>\n",
       "      <td>STATEMENT REGARDING FEDERALLY SPONSORED RESEAR...</td>\n",
       "    </tr>\n",
       "    <tr>\n",
       "      <td>2</td>\n",
       "      <td>10000377</td>\n",
       "      <td>STATEMENT OF GOVERNMENTAL INTEREST This invent...</td>\n",
       "    </tr>\n",
       "    <tr>\n",
       "      <td>3</td>\n",
       "      <td>10000384</td>\n",
       "      <td>This invention was made with government suppor...</td>\n",
       "    </tr>\n",
       "    <tr>\n",
       "      <td>4</td>\n",
       "      <td>10000390</td>\n",
       "      <td>RIGHTS OF THE GOVERNMENT The invention describ...</td>\n",
       "    </tr>\n",
       "  </tbody>\n",
       "</table>\n",
       "</div>"
      ],
      "text/plain": [
       "  patent_id                                       gi_statement\n",
       "0  10000026  This invention was made with Government suppor...\n",
       "1  10000036  STATEMENT REGARDING FEDERALLY SPONSORED RESEAR...\n",
       "2  10000377  STATEMENT OF GOVERNMENTAL INTEREST This invent...\n",
       "3  10000384  This invention was made with government suppor...\n",
       "4  10000390  RIGHTS OF THE GOVERNMENT The invention describ..."
      ]
     },
     "execution_count": 206,
     "metadata": {},
     "output_type": "execute_result"
    }
   ],
   "source": [
    "gov_interest.head()"
   ]
  },
  {
   "cell_type": "code",
   "execution_count": 207,
   "metadata": {
    "ExecuteTime": {
     "end_time": "2020-01-21T23:06:23.152904Z",
     "start_time": "2020-01-21T23:04:38.279545Z"
    }
   },
   "outputs": [
    {
     "name": "stderr",
     "output_type": "stream",
     "text": [
      "b'Skipping line 4505264: expected 11 fields, saw 12\\n'\n",
      "b'Skipping line 4540085: expected 11 fields, saw 12\\nSkipping line 4570473: expected 11 fields, saw 12\\n'\n",
      "b'Skipping line 4610402: expected 11 fields, saw 12\\nSkipping line 4652985: expected 11 fields, saw 12\\n'\n",
      "b'Skipping line 4662863: expected 11 fields, saw 12\\n'\n"
     ]
    }
   ],
   "source": [
    "patent = pd.read_csv('patent.tsv',sep='\\t',error_bad_lines=False)"
   ]
  },
  {
   "cell_type": "code",
   "execution_count": 208,
   "metadata": {
    "ExecuteTime": {
     "end_time": "2020-01-21T23:06:28.902196Z",
     "start_time": "2020-01-21T23:06:24.591218Z"
    }
   },
   "outputs": [],
   "source": [
    "patent['date'] = pd.to_datetime(patent['date'], errors='coerce')"
   ]
  },
  {
   "cell_type": "code",
   "execution_count": 209,
   "metadata": {
    "ExecuteTime": {
     "end_time": "2020-01-21T23:06:29.560480Z",
     "start_time": "2020-01-21T23:06:29.244175Z"
    }
   },
   "outputs": [],
   "source": [
    "patent['year'] = patent['date'].dt.year"
   ]
  },
  {
   "cell_type": "code",
   "execution_count": 210,
   "metadata": {
    "ExecuteTime": {
     "end_time": "2020-01-21T23:06:33.566078Z",
     "start_time": "2020-01-21T23:06:29.931851Z"
    }
   },
   "outputs": [],
   "source": [
    "patent = patent.dropna(subset=['year'])"
   ]
  },
  {
   "cell_type": "code",
   "execution_count": 211,
   "metadata": {
    "ExecuteTime": {
     "end_time": "2020-01-21T23:06:34.403823Z",
     "start_time": "2020-01-21T23:06:34.137182Z"
    }
   },
   "outputs": [],
   "source": [
    "patent['year'] = patent['year'].astype(int)"
   ]
  },
  {
   "cell_type": "code",
   "execution_count": 212,
   "metadata": {
    "ExecuteTime": {
     "end_time": "2020-01-21T23:06:39.339532Z",
     "start_time": "2020-01-21T23:06:35.170486Z"
    }
   },
   "outputs": [],
   "source": [
    "patent = patent[(patent['year'] >= 2015) & (patent['year'] <= 2019)]"
   ]
  },
  {
   "cell_type": "code",
   "execution_count": 213,
   "metadata": {
    "ExecuteTime": {
     "end_time": "2020-01-21T23:06:39.735883Z",
     "start_time": "2020-01-21T23:06:39.699432Z"
    }
   },
   "outputs": [
    {
     "data": {
      "text/plain": [
       "array([2018, 2019, 2015, 2016, 2017])"
      ]
     },
     "execution_count": 213,
     "metadata": {},
     "output_type": "execute_result"
    }
   ],
   "source": [
    "patent['year'].unique()"
   ]
  },
  {
   "cell_type": "code",
   "execution_count": 214,
   "metadata": {
    "ExecuteTime": {
     "end_time": "2020-01-21T23:06:40.207115Z",
     "start_time": "2020-01-21T23:06:40.200591Z"
    }
   },
   "outputs": [
    {
     "data": {
      "text/plain": [
       "139237"
      ]
     },
     "execution_count": 214,
     "metadata": {},
     "output_type": "execute_result"
    }
   ],
   "source": [
    "len(gov_interest)"
   ]
  },
  {
   "cell_type": "code",
   "execution_count": 215,
   "metadata": {
    "ExecuteTime": {
     "end_time": "2020-01-21T23:06:40.775630Z",
     "start_time": "2020-01-21T23:06:40.690788Z"
    }
   },
   "outputs": [
    {
     "data": {
      "text/plain": [
       "139237"
      ]
     },
     "execution_count": 215,
     "metadata": {},
     "output_type": "execute_result"
    }
   ],
   "source": [
    "gov_interest['patent_id'].nunique()"
   ]
  },
  {
   "cell_type": "code",
   "execution_count": 216,
   "metadata": {
    "ExecuteTime": {
     "end_time": "2020-01-21T23:06:42.129376Z",
     "start_time": "2020-01-21T23:06:41.068249Z"
    }
   },
   "outputs": [],
   "source": [
    "patent = patent.rename(columns={'id':'patent_id'})"
   ]
  },
  {
   "cell_type": "code",
   "execution_count": 217,
   "metadata": {
    "ExecuteTime": {
     "end_time": "2020-01-21T23:06:43.480205Z",
     "start_time": "2020-01-21T23:06:42.485244Z"
    }
   },
   "outputs": [],
   "source": [
    "patent_with_gov_interest = patent.merge(gov_interest,on='patent_id')"
   ]
  },
  {
   "cell_type": "code",
   "execution_count": 218,
   "metadata": {
    "ExecuteTime": {
     "end_time": "2020-01-21T23:06:44.364156Z",
     "start_time": "2020-01-21T23:06:43.818888Z"
    }
   },
   "outputs": [
    {
     "data": {
      "text/plain": [
       "1427054"
      ]
     },
     "execution_count": 218,
     "metadata": {},
     "output_type": "execute_result"
    }
   ],
   "source": [
    "patent['patent_id'].nunique()"
   ]
  },
  {
   "cell_type": "code",
   "execution_count": 219,
   "metadata": {
    "ExecuteTime": {
     "end_time": "2020-01-21T23:06:44.746806Z",
     "start_time": "2020-01-21T23:06:44.732938Z"
    }
   },
   "outputs": [
    {
     "data": {
      "text/plain": [
       "596"
      ]
     },
     "execution_count": 219,
     "metadata": {},
     "output_type": "execute_result"
    }
   ],
   "source": [
    "len(patent_with_gov_interest)"
   ]
  },
  {
   "cell_type": "code",
   "execution_count": 220,
   "metadata": {
    "ExecuteTime": {
     "end_time": "2020-01-21T23:06:45.059264Z",
     "start_time": "2020-01-21T23:06:45.040922Z"
    }
   },
   "outputs": [
    {
     "data": {
      "text/html": [
       "<div>\n",
       "<style scoped>\n",
       "    .dataframe tbody tr th:only-of-type {\n",
       "        vertical-align: middle;\n",
       "    }\n",
       "\n",
       "    .dataframe tbody tr th {\n",
       "        vertical-align: top;\n",
       "    }\n",
       "\n",
       "    .dataframe thead th {\n",
       "        text-align: right;\n",
       "    }\n",
       "</style>\n",
       "<table border=\"1\" class=\"dataframe\">\n",
       "  <thead>\n",
       "    <tr style=\"text-align: right;\">\n",
       "      <th></th>\n",
       "      <th>patent_id</th>\n",
       "      <th>type</th>\n",
       "      <th>number</th>\n",
       "      <th>country</th>\n",
       "      <th>date</th>\n",
       "      <th>abstract</th>\n",
       "      <th>title</th>\n",
       "      <th>kind</th>\n",
       "      <th>num_claims</th>\n",
       "      <th>filename</th>\n",
       "      <th>withdrawn</th>\n",
       "      <th>year</th>\n",
       "    </tr>\n",
       "  </thead>\n",
       "  <tbody>\n",
       "    <tr>\n",
       "      <td>0</td>\n",
       "      <td>10000000</td>\n",
       "      <td>utility</td>\n",
       "      <td>10000000</td>\n",
       "      <td>US</td>\n",
       "      <td>2018-06-19</td>\n",
       "      <td>A frequency modulated (coherent) laser detecti...</td>\n",
       "      <td>Coherent LADAR using intra-pixel quadrature de...</td>\n",
       "      <td>B2</td>\n",
       "      <td>20.0</td>\n",
       "      <td>ipg180619.xml</td>\n",
       "      <td>NaN</td>\n",
       "      <td>2018</td>\n",
       "    </tr>\n",
       "    <tr>\n",
       "      <td>1</td>\n",
       "      <td>10000001</td>\n",
       "      <td>utility</td>\n",
       "      <td>10000001</td>\n",
       "      <td>US</td>\n",
       "      <td>2018-06-19</td>\n",
       "      <td>The injection molding machine includes a fixed...</td>\n",
       "      <td>Injection molding machine and mold thickness c...</td>\n",
       "      <td>B2</td>\n",
       "      <td>12.0</td>\n",
       "      <td>ipg180619.xml</td>\n",
       "      <td>NaN</td>\n",
       "      <td>2018</td>\n",
       "    </tr>\n",
       "    <tr>\n",
       "      <td>2</td>\n",
       "      <td>10000002</td>\n",
       "      <td>utility</td>\n",
       "      <td>10000002</td>\n",
       "      <td>US</td>\n",
       "      <td>2018-06-19</td>\n",
       "      <td>The present invention relates to: a method for...</td>\n",
       "      <td>Method for manufacturing polymer film and co-e...</td>\n",
       "      <td>B2</td>\n",
       "      <td>9.0</td>\n",
       "      <td>ipg180619.xml</td>\n",
       "      <td>NaN</td>\n",
       "      <td>2018</td>\n",
       "    </tr>\n",
       "    <tr>\n",
       "      <td>3</td>\n",
       "      <td>10000003</td>\n",
       "      <td>utility</td>\n",
       "      <td>10000003</td>\n",
       "      <td>US</td>\n",
       "      <td>2018-06-19</td>\n",
       "      <td>The invention relates to a method for producin...</td>\n",
       "      <td>Method for producing a container from a thermo...</td>\n",
       "      <td>B2</td>\n",
       "      <td>18.0</td>\n",
       "      <td>ipg180619.xml</td>\n",
       "      <td>NaN</td>\n",
       "      <td>2018</td>\n",
       "    </tr>\n",
       "    <tr>\n",
       "      <td>4</td>\n",
       "      <td>10000004</td>\n",
       "      <td>utility</td>\n",
       "      <td>10000004</td>\n",
       "      <td>US</td>\n",
       "      <td>2018-06-19</td>\n",
       "      <td>The present invention relates to provides a do...</td>\n",
       "      <td>Process of obtaining a double-oriented film, c...</td>\n",
       "      <td>B2</td>\n",
       "      <td>6.0</td>\n",
       "      <td>ipg180619.xml</td>\n",
       "      <td>NaN</td>\n",
       "      <td>2018</td>\n",
       "    </tr>\n",
       "  </tbody>\n",
       "</table>\n",
       "</div>"
      ],
      "text/plain": [
       "  patent_id     type    number country       date  \\\n",
       "0  10000000  utility  10000000      US 2018-06-19   \n",
       "1  10000001  utility  10000001      US 2018-06-19   \n",
       "2  10000002  utility  10000002      US 2018-06-19   \n",
       "3  10000003  utility  10000003      US 2018-06-19   \n",
       "4  10000004  utility  10000004      US 2018-06-19   \n",
       "\n",
       "                                            abstract  \\\n",
       "0  A frequency modulated (coherent) laser detecti...   \n",
       "1  The injection molding machine includes a fixed...   \n",
       "2  The present invention relates to: a method for...   \n",
       "3  The invention relates to a method for producin...   \n",
       "4  The present invention relates to provides a do...   \n",
       "\n",
       "                                               title kind  num_claims  \\\n",
       "0  Coherent LADAR using intra-pixel quadrature de...   B2        20.0   \n",
       "1  Injection molding machine and mold thickness c...   B2        12.0   \n",
       "2  Method for manufacturing polymer film and co-e...   B2         9.0   \n",
       "3  Method for producing a container from a thermo...   B2        18.0   \n",
       "4  Process of obtaining a double-oriented film, c...   B2         6.0   \n",
       "\n",
       "        filename  withdrawn  year  \n",
       "0  ipg180619.xml        NaN  2018  \n",
       "1  ipg180619.xml        NaN  2018  \n",
       "2  ipg180619.xml        NaN  2018  \n",
       "3  ipg180619.xml        NaN  2018  \n",
       "4  ipg180619.xml        NaN  2018  "
      ]
     },
     "execution_count": 220,
     "metadata": {},
     "output_type": "execute_result"
    }
   ],
   "source": [
    "patent.head()"
   ]
  },
  {
   "cell_type": "code",
   "execution_count": 221,
   "metadata": {
    "ExecuteTime": {
     "end_time": "2020-01-21T23:07:16.052679Z",
     "start_time": "2020-01-21T23:06:45.364646Z"
    }
   },
   "outputs": [
    {
     "name": "stderr",
     "output_type": "stream",
     "text": [
      "Skipping line 564715: '\t' expected after '\"'\n",
      "Skipping line 816686: field larger than field limit (131072)\n",
      "Skipping line 1014969: '\t' expected after '\"'\n",
      "Skipping line 1086967: '\t' expected after '\"'\n",
      "Skipping line 1115119: '\t' expected after '\"'\n",
      "Skipping line 1135969: '\t' expected after '\"'\n",
      "Skipping line 1164955: '\t' expected after '\"'\n",
      "Skipping line 1194268: '\t' expected after '\"'\n",
      "Skipping line 1585897: '\t' expected after '\"'\n",
      "Skipping line 1655010: '\t' expected after '\"'\n",
      "Skipping line 1663953: '\t' expected after '\"'\n",
      "Skipping line 1669568: '\t' expected after '\"'\n",
      "Skipping line 1714508: '\t' expected after '\"'\n",
      "Skipping line 1734214: '\t' expected after '\"'\n",
      "Skipping line 1741357: '\t' expected after '\"'\n",
      "Skipping line 1773351: '\t' expected after '\"'\n",
      "Skipping line 1790666: '\t' expected after '\"'\n",
      "Skipping line 1797003: '\t' expected after '\"'\n",
      "Skipping line 1860131: '\t' expected after '\"'\n",
      "Skipping line 1869184: '\t' expected after '\"'\n",
      "Skipping line 1894845: '\t' expected after '\"'\n",
      "Skipping line 1897898: '\t' expected after '\"'\n",
      "Skipping line 1924133: '\t' expected after '\"'\n",
      "Skipping line 1928558: '\t' expected after '\"'\n",
      "Skipping line 1935227: '\t' expected after '\"'\n",
      "Skipping line 1941697: '\t' expected after '\"'\n",
      "Skipping line 1943487: '\t' expected after '\"'\n",
      "Skipping line 1960693: '\t' expected after '\"'\n",
      "Skipping line 3599568: '\t' expected after '\"'\n",
      "Skipping line 3599569: '\t' expected after '\"'\n",
      "Skipping line 3634454: '\t' expected after '\"'\n",
      "Skipping line 3653843: '\t' expected after '\"'\n",
      "Skipping line 3656326: '\t' expected after '\"'\n",
      "Skipping line 3656328: '\t' expected after '\"'\n"
     ]
    }
   ],
   "source": [
    "inventor = pd.read_csv('inventor.tsv',sep='\\t',error_bad_lines=False,engine='python')"
   ]
  },
  {
   "cell_type": "code",
   "execution_count": 222,
   "metadata": {
    "ExecuteTime": {
     "end_time": "2020-01-21T23:07:16.470857Z",
     "start_time": "2020-01-21T23:07:16.461008Z"
    }
   },
   "outputs": [
    {
     "data": {
      "text/html": [
       "<div>\n",
       "<style scoped>\n",
       "    .dataframe tbody tr th:only-of-type {\n",
       "        vertical-align: middle;\n",
       "    }\n",
       "\n",
       "    .dataframe tbody tr th {\n",
       "        vertical-align: top;\n",
       "    }\n",
       "\n",
       "    .dataframe thead th {\n",
       "        text-align: right;\n",
       "    }\n",
       "</style>\n",
       "<table border=\"1\" class=\"dataframe\">\n",
       "  <thead>\n",
       "    <tr style=\"text-align: right;\">\n",
       "      <th></th>\n",
       "      <th>id</th>\n",
       "      <th>name_first</th>\n",
       "      <th>name_last</th>\n",
       "    </tr>\n",
       "  </thead>\n",
       "  <tbody>\n",
       "    <tr>\n",
       "      <td>0</td>\n",
       "      <td>5073021-1</td>\n",
       "      <td>Joseph C.</td>\n",
       "      <td>Marron</td>\n",
       "    </tr>\n",
       "    <tr>\n",
       "      <td>1</td>\n",
       "      <td>7354823-3</td>\n",
       "      <td>Sun-Woo</td>\n",
       "      <td>Lee</td>\n",
       "    </tr>\n",
       "    <tr>\n",
       "      <td>2</td>\n",
       "      <td>10000001-2</td>\n",
       "      <td>Hyeon-Jae</td>\n",
       "      <td>Yu</td>\n",
       "    </tr>\n",
       "    <tr>\n",
       "      <td>3</td>\n",
       "      <td>7198843-1</td>\n",
       "      <td>Yun Jo</td>\n",
       "      <td>Kim</td>\n",
       "    </tr>\n",
       "    <tr>\n",
       "      <td>4</td>\n",
       "      <td>8307625-5</td>\n",
       "      <td>Si Min</td>\n",
       "      <td>Kim</td>\n",
       "    </tr>\n",
       "  </tbody>\n",
       "</table>\n",
       "</div>"
      ],
      "text/plain": [
       "           id name_first name_last\n",
       "0   5073021-1  Joseph C.    Marron\n",
       "1   7354823-3    Sun-Woo       Lee\n",
       "2  10000001-2  Hyeon-Jae        Yu\n",
       "3   7198843-1     Yun Jo       Kim\n",
       "4   8307625-5     Si Min       Kim"
      ]
     },
     "execution_count": 222,
     "metadata": {},
     "output_type": "execute_result"
    }
   ],
   "source": [
    "inventor.head()"
   ]
  },
  {
   "cell_type": "code",
   "execution_count": 223,
   "metadata": {
    "ExecuteTime": {
     "end_time": "2020-01-21T23:07:36.817636Z",
     "start_time": "2020-01-21T23:07:16.812011Z"
    }
   },
   "outputs": [],
   "source": [
    "patent_inventor = pd.read_csv('patent_inventor.tsv',sep='\\t')"
   ]
  },
  {
   "cell_type": "code",
   "execution_count": 224,
   "metadata": {
    "ExecuteTime": {
     "end_time": "2020-01-21T23:07:45.706477Z",
     "start_time": "2020-01-21T23:07:37.101327Z"
    }
   },
   "outputs": [],
   "source": [
    "patent_inventor_with_gov_interest = patent_with_gov_interest.merge(patent_inventor,on='patent_id')"
   ]
  },
  {
   "cell_type": "code",
   "execution_count": 225,
   "metadata": {
    "ExecuteTime": {
     "end_time": "2020-01-21T23:07:46.236299Z",
     "start_time": "2020-01-21T23:07:46.224324Z"
    }
   },
   "outputs": [],
   "source": [
    "patent_inventor_with_gov_interest = patent_inventor_with_gov_interest[['patent_id','type','kind','year','gi_statement',\n",
    "                                                                      'inventor_id']]"
   ]
  },
  {
   "cell_type": "code",
   "execution_count": 226,
   "metadata": {
    "ExecuteTime": {
     "end_time": "2020-01-21T23:07:48.753563Z",
     "start_time": "2020-01-21T23:07:46.557002Z"
    }
   },
   "outputs": [],
   "source": [
    "inventor = inventor.rename(columns={'id':'inventor_id'})"
   ]
  },
  {
   "cell_type": "code",
   "execution_count": 227,
   "metadata": {
    "ExecuteTime": {
     "end_time": "2020-01-21T23:07:55.811027Z",
     "start_time": "2020-01-21T23:07:49.096112Z"
    }
   },
   "outputs": [],
   "source": [
    "patent_inventor_names = patent_inventor_with_gov_interest.merge(inventor,on='inventor_id')"
   ]
  },
  {
   "cell_type": "code",
   "execution_count": 228,
   "metadata": {
    "ExecuteTime": {
     "end_time": "2020-01-21T23:07:56.167527Z",
     "start_time": "2020-01-21T23:07:56.141360Z"
    }
   },
   "outputs": [
    {
     "data": {
      "text/html": [
       "<div>\n",
       "<style scoped>\n",
       "    .dataframe tbody tr th:only-of-type {\n",
       "        vertical-align: middle;\n",
       "    }\n",
       "\n",
       "    .dataframe tbody tr th {\n",
       "        vertical-align: top;\n",
       "    }\n",
       "\n",
       "    .dataframe thead th {\n",
       "        text-align: right;\n",
       "    }\n",
       "</style>\n",
       "<table border=\"1\" class=\"dataframe\">\n",
       "  <thead>\n",
       "    <tr style=\"text-align: right;\">\n",
       "      <th></th>\n",
       "      <th>patent_id</th>\n",
       "      <th>type</th>\n",
       "      <th>kind</th>\n",
       "      <th>year</th>\n",
       "      <th>gi_statement</th>\n",
       "      <th>inventor_id</th>\n",
       "      <th>name_first</th>\n",
       "      <th>name_last</th>\n",
       "    </tr>\n",
       "  </thead>\n",
       "  <tbody>\n",
       "    <tr>\n",
       "      <td>0</td>\n",
       "      <td>9980635</td>\n",
       "      <td>utility</td>\n",
       "      <td>B2</td>\n",
       "      <td>2018</td>\n",
       "      <td>GOVERNMENT SUPPORT This invention was made wit...</td>\n",
       "      <td>9980635-1</td>\n",
       "      <td>Maria Eliana</td>\n",
       "      <td>Manquez Hatta</td>\n",
       "    </tr>\n",
       "    <tr>\n",
       "      <td>1</td>\n",
       "      <td>9980635</td>\n",
       "      <td>utility</td>\n",
       "      <td>B2</td>\n",
       "      <td>2018</td>\n",
       "      <td>GOVERNMENT SUPPORT This invention was made wit...</td>\n",
       "      <td>9980635-2</td>\n",
       "      <td>Humberto</td>\n",
       "      <td>Lobos Sucarrat</td>\n",
       "    </tr>\n",
       "    <tr>\n",
       "      <td>2</td>\n",
       "      <td>9980641</td>\n",
       "      <td>utility</td>\n",
       "      <td>B2</td>\n",
       "      <td>2018</td>\n",
       "      <td>NOTICE ON GOVERNMENT FUNDING This invention wa...</td>\n",
       "      <td>5321501-6</td>\n",
       "      <td>Joel S.</td>\n",
       "      <td>Schuman</td>\n",
       "    </tr>\n",
       "    <tr>\n",
       "      <td>3</td>\n",
       "      <td>9980641</td>\n",
       "      <td>utility</td>\n",
       "      <td>B2</td>\n",
       "      <td>2018</td>\n",
       "      <td>NOTICE ON GOVERNMENT FUNDING This invention wa...</td>\n",
       "      <td>9980641-1</td>\n",
       "      <td>Kira Lynn</td>\n",
       "      <td>Lathrop</td>\n",
       "    </tr>\n",
       "    <tr>\n",
       "      <td>4</td>\n",
       "      <td>9980641</td>\n",
       "      <td>utility</td>\n",
       "      <td>B2</td>\n",
       "      <td>2018</td>\n",
       "      <td>NOTICE ON GOVERNMENT FUNDING This invention wa...</td>\n",
       "      <td>9980641-3</td>\n",
       "      <td>Lawrence Edward</td>\n",
       "      <td>Kagemann</td>\n",
       "    </tr>\n",
       "  </tbody>\n",
       "</table>\n",
       "</div>"
      ],
      "text/plain": [
       "  patent_id     type kind  year  \\\n",
       "0   9980635  utility   B2  2018   \n",
       "1   9980635  utility   B2  2018   \n",
       "2   9980641  utility   B2  2018   \n",
       "3   9980641  utility   B2  2018   \n",
       "4   9980641  utility   B2  2018   \n",
       "\n",
       "                                        gi_statement inventor_id  \\\n",
       "0  GOVERNMENT SUPPORT This invention was made wit...   9980635-1   \n",
       "1  GOVERNMENT SUPPORT This invention was made wit...   9980635-2   \n",
       "2  NOTICE ON GOVERNMENT FUNDING This invention wa...   5321501-6   \n",
       "3  NOTICE ON GOVERNMENT FUNDING This invention wa...   9980641-1   \n",
       "4  NOTICE ON GOVERNMENT FUNDING This invention wa...   9980641-3   \n",
       "\n",
       "        name_first       name_last  \n",
       "0     Maria Eliana   Manquez Hatta  \n",
       "1         Humberto  Lobos Sucarrat  \n",
       "2          Joel S.         Schuman  \n",
       "3        Kira Lynn         Lathrop  \n",
       "4  Lawrence Edward        Kagemann  "
      ]
     },
     "execution_count": 228,
     "metadata": {},
     "output_type": "execute_result"
    }
   ],
   "source": [
    "patent_inventor_names.head()"
   ]
  },
  {
   "cell_type": "code",
   "execution_count": 229,
   "metadata": {
    "ExecuteTime": {
     "end_time": "2020-01-21T23:07:57.266060Z",
     "start_time": "2020-01-21T23:07:56.464154Z"
    }
   },
   "outputs": [],
   "source": [
    "location = pd.read_csv('location-2.tsv',sep='\\t')"
   ]
  },
  {
   "cell_type": "code",
   "execution_count": 230,
   "metadata": {
    "ExecuteTime": {
     "end_time": "2020-01-21T23:08:12.783685Z",
     "start_time": "2020-01-21T23:07:57.877996Z"
    }
   },
   "outputs": [],
   "source": [
    "location_assignee = pd.read_csv('location_assignee.tsv',sep='\\t')\n",
    "location_inventor = pd.read_csv('location_inventor.tsv',sep='\\t')"
   ]
  },
  {
   "cell_type": "code",
   "execution_count": 231,
   "metadata": {
    "ExecuteTime": {
     "end_time": "2020-01-21T23:08:23.899850Z",
     "start_time": "2020-01-21T23:08:13.156292Z"
    }
   },
   "outputs": [],
   "source": [
    "patent_inventor_names_location = patent_inventor_names.merge(location_inventor,on='inventor_id')"
   ]
  },
  {
   "cell_type": "code",
   "execution_count": 232,
   "metadata": {
    "ExecuteTime": {
     "end_time": "2020-01-21T23:08:24.313319Z",
     "start_time": "2020-01-21T23:08:24.238095Z"
    }
   },
   "outputs": [],
   "source": [
    "location = location.rename(columns={'id':'location_id'})"
   ]
  },
  {
   "cell_type": "code",
   "execution_count": 233,
   "metadata": {
    "ExecuteTime": {
     "end_time": "2020-01-21T23:08:24.923549Z",
     "start_time": "2020-01-21T23:08:24.756986Z"
    }
   },
   "outputs": [],
   "source": [
    "patent_inventor_location = patent_inventor_names_location.merge(location, on='location_id')"
   ]
  },
  {
   "cell_type": "code",
   "execution_count": 234,
   "metadata": {
    "ExecuteTime": {
     "end_time": "2020-01-21T23:08:38.963918Z",
     "start_time": "2020-01-21T23:08:25.196796Z"
    }
   },
   "outputs": [],
   "source": [
    "patent_assignee = pd.read_csv('patent_assignee.tsv',sep='\\t')"
   ]
  },
  {
   "cell_type": "code",
   "execution_count": 235,
   "metadata": {
    "ExecuteTime": {
     "end_time": "2020-01-21T23:08:40.854155Z",
     "start_time": "2020-01-21T23:08:39.341473Z"
    }
   },
   "outputs": [],
   "source": [
    "assignee = pd.read_csv('assignee.tsv',sep='\\t')"
   ]
  },
  {
   "cell_type": "code",
   "execution_count": 236,
   "metadata": {
    "ExecuteTime": {
     "end_time": "2020-01-21T23:08:41.544526Z",
     "start_time": "2020-01-21T23:08:41.276429Z"
    }
   },
   "outputs": [],
   "source": [
    "assignee = assignee.rename(columns={'id':'assignee_id'})"
   ]
  },
  {
   "cell_type": "code",
   "execution_count": 237,
   "metadata": {
    "ExecuteTime": {
     "end_time": "2020-01-21T23:08:55.502884Z",
     "start_time": "2020-01-21T23:08:42.738960Z"
    }
   },
   "outputs": [],
   "source": [
    "patent_assignee_name = patent_assignee.merge(assignee,on='assignee_id')"
   ]
  },
  {
   "cell_type": "code",
   "execution_count": 238,
   "metadata": {
    "ExecuteTime": {
     "end_time": "2020-01-21T23:09:08.632128Z",
     "start_time": "2020-01-21T23:08:55.943353Z"
    }
   },
   "outputs": [],
   "source": [
    "patent_assignee_with_gov_interest = patent_assignee_name.merge(patent_with_gov_interest,on='patent_id')"
   ]
  },
  {
   "cell_type": "code",
   "execution_count": 239,
   "metadata": {
    "ExecuteTime": {
     "end_time": "2020-01-21T23:09:09.318487Z",
     "start_time": "2020-01-21T23:09:09.000046Z"
    }
   },
   "outputs": [],
   "source": [
    "patent_assignee_location = patent_assignee_with_gov_interest.merge(location_assignee,on='assignee_id')"
   ]
  },
  {
   "cell_type": "code",
   "execution_count": 240,
   "metadata": {
    "ExecuteTime": {
     "end_time": "2020-01-21T23:09:09.962505Z",
     "start_time": "2020-01-21T23:09:09.620414Z"
    }
   },
   "outputs": [],
   "source": [
    "location = pd.read_csv('location.tsv',sep='\\t')"
   ]
  },
  {
   "cell_type": "code",
   "execution_count": 241,
   "metadata": {
    "ExecuteTime": {
     "end_time": "2020-01-21T23:09:10.366022Z",
     "start_time": "2020-01-21T23:09:10.283922Z"
    }
   },
   "outputs": [],
   "source": [
    "location = location.rename(columns={'id':'location_id'})"
   ]
  },
  {
   "cell_type": "code",
   "execution_count": 242,
   "metadata": {
    "ExecuteTime": {
     "end_time": "2020-01-21T23:09:10.673615Z",
     "start_time": "2020-01-21T23:09:10.658515Z"
    }
   },
   "outputs": [],
   "source": [
    "patent_assignee_location = patent_assignee_location.drop(columns='country')"
   ]
  },
  {
   "cell_type": "code",
   "execution_count": 243,
   "metadata": {
    "ExecuteTime": {
     "end_time": "2020-01-21T23:09:11.121117Z",
     "start_time": "2020-01-21T23:09:10.967638Z"
    }
   },
   "outputs": [],
   "source": [
    "patent_assignee_location_finalized = patent_assignee_location.merge(location, on='location_id')"
   ]
  },
  {
   "cell_type": "code",
   "execution_count": 244,
   "metadata": {
    "ExecuteTime": {
     "end_time": "2020-01-21T23:09:11.496973Z",
     "start_time": "2020-01-21T23:09:11.457261Z"
    }
   },
   "outputs": [],
   "source": [
    "patent_inventor_location = patent_inventor_location[['patent_id','year','inventor_id','name_first','name_last','city','state','country']]"
   ]
  },
  {
   "cell_type": "code",
   "execution_count": 245,
   "metadata": {
    "ExecuteTime": {
     "end_time": "2020-01-21T23:09:11.802053Z",
     "start_time": "2020-01-21T23:09:11.777280Z"
    }
   },
   "outputs": [],
   "source": [
    "patent_assignee_location = patent_assignee_location_finalized[['patent_id','year','organization','city','state','country']]"
   ]
  },
  {
   "cell_type": "code",
   "execution_count": 246,
   "metadata": {
    "ExecuteTime": {
     "end_time": "2020-01-21T23:09:12.536537Z",
     "start_time": "2020-01-21T23:09:12.494768Z"
    }
   },
   "outputs": [],
   "source": [
    "patent_assignee_location = patent_assignee_location.rename(columns={'city':'org_city','state':'org_state','country':'org_country'})"
   ]
  },
  {
   "cell_type": "code",
   "execution_count": 247,
   "metadata": {
    "ExecuteTime": {
     "end_time": "2020-01-21T23:09:13.321144Z",
     "start_time": "2020-01-21T23:09:13.308720Z"
    }
   },
   "outputs": [
    {
     "data": {
      "text/html": [
       "<div>\n",
       "<style scoped>\n",
       "    .dataframe tbody tr th:only-of-type {\n",
       "        vertical-align: middle;\n",
       "    }\n",
       "\n",
       "    .dataframe tbody tr th {\n",
       "        vertical-align: top;\n",
       "    }\n",
       "\n",
       "    .dataframe thead th {\n",
       "        text-align: right;\n",
       "    }\n",
       "</style>\n",
       "<table border=\"1\" class=\"dataframe\">\n",
       "  <thead>\n",
       "    <tr style=\"text-align: right;\">\n",
       "      <th></th>\n",
       "      <th>patent_id</th>\n",
       "      <th>year</th>\n",
       "      <th>organization</th>\n",
       "      <th>org_city</th>\n",
       "      <th>org_state</th>\n",
       "      <th>org_country</th>\n",
       "    </tr>\n",
       "  </thead>\n",
       "  <tbody>\n",
       "    <tr>\n",
       "      <td>0</td>\n",
       "      <td>9992413</td>\n",
       "      <td>2018</td>\n",
       "      <td>Raytheon Company</td>\n",
       "      <td>Lexington</td>\n",
       "      <td>MA</td>\n",
       "      <td>US</td>\n",
       "    </tr>\n",
       "    <tr>\n",
       "      <td>1</td>\n",
       "      <td>RE45718</td>\n",
       "      <td>2015</td>\n",
       "      <td>Boston Scientific Corporation</td>\n",
       "      <td>Lexington</td>\n",
       "      <td>MA</td>\n",
       "      <td>US</td>\n",
       "    </tr>\n",
       "    <tr>\n",
       "      <td>2</td>\n",
       "      <td>9992413</td>\n",
       "      <td>2018</td>\n",
       "      <td>Raytheon Company</td>\n",
       "      <td>Waltham</td>\n",
       "      <td>MA</td>\n",
       "      <td>US</td>\n",
       "    </tr>\n",
       "    <tr>\n",
       "      <td>3</td>\n",
       "      <td>9988932</td>\n",
       "      <td>2018</td>\n",
       "      <td>Honeywell International Inc.</td>\n",
       "      <td>Waltham</td>\n",
       "      <td>MA</td>\n",
       "      <td>US</td>\n",
       "    </tr>\n",
       "    <tr>\n",
       "      <td>4</td>\n",
       "      <td>9991578</td>\n",
       "      <td>2018</td>\n",
       "      <td>Honeywell International Inc.</td>\n",
       "      <td>Waltham</td>\n",
       "      <td>MA</td>\n",
       "      <td>US</td>\n",
       "    </tr>\n",
       "  </tbody>\n",
       "</table>\n",
       "</div>"
      ],
      "text/plain": [
       "  patent_id  year                   organization   org_city org_state  \\\n",
       "0   9992413  2018               Raytheon Company  Lexington        MA   \n",
       "1   RE45718  2015  Boston Scientific Corporation  Lexington        MA   \n",
       "2   9992413  2018               Raytheon Company    Waltham        MA   \n",
       "3   9988932  2018   Honeywell International Inc.    Waltham        MA   \n",
       "4   9991578  2018   Honeywell International Inc.    Waltham        MA   \n",
       "\n",
       "  org_country  \n",
       "0          US  \n",
       "1          US  \n",
       "2          US  \n",
       "3          US  \n",
       "4          US  "
      ]
     },
     "execution_count": 247,
     "metadata": {},
     "output_type": "execute_result"
    }
   ],
   "source": [
    "patent_assignee_location.head()"
   ]
  },
  {
   "cell_type": "code",
   "execution_count": 198,
   "metadata": {
    "ExecuteTime": {
     "end_time": "2020-01-21T22:58:47.126242Z",
     "start_time": "2020-01-21T22:58:47.091247Z"
    }
   },
   "outputs": [],
   "source": [
    "patent_inventor_location = patent_inventor_location.rename(columns={'city':'inventor_city','state':'inventor_state',\n",
    "                                                                   'country':'inventor_country'})"
   ]
  },
  {
   "cell_type": "code",
   "execution_count": 199,
   "metadata": {
    "ExecuteTime": {
     "end_time": "2020-01-21T22:58:47.573794Z",
     "start_time": "2020-01-21T22:58:47.556509Z"
    }
   },
   "outputs": [
    {
     "data": {
      "text/html": [
       "<div>\n",
       "<style scoped>\n",
       "    .dataframe tbody tr th:only-of-type {\n",
       "        vertical-align: middle;\n",
       "    }\n",
       "\n",
       "    .dataframe tbody tr th {\n",
       "        vertical-align: top;\n",
       "    }\n",
       "\n",
       "    .dataframe thead th {\n",
       "        text-align: right;\n",
       "    }\n",
       "</style>\n",
       "<table border=\"1\" class=\"dataframe\">\n",
       "  <thead>\n",
       "    <tr style=\"text-align: right;\">\n",
       "      <th></th>\n",
       "      <th>patent_id</th>\n",
       "      <th>year</th>\n",
       "      <th>inventor_id</th>\n",
       "      <th>name_first</th>\n",
       "      <th>name_last</th>\n",
       "      <th>inventor_city</th>\n",
       "      <th>inventor_state</th>\n",
       "      <th>inventor_country</th>\n",
       "    </tr>\n",
       "  </thead>\n",
       "  <tbody>\n",
       "    <tr>\n",
       "      <td>0</td>\n",
       "      <td>9980635</td>\n",
       "      <td>2018</td>\n",
       "      <td>9980635-1</td>\n",
       "      <td>Maria Eliana</td>\n",
       "      <td>Manquez Hatta</td>\n",
       "      <td>Santiago</td>\n",
       "      <td>NaN</td>\n",
       "      <td>CL</td>\n",
       "    </tr>\n",
       "    <tr>\n",
       "      <td>1</td>\n",
       "      <td>9980635</td>\n",
       "      <td>2018</td>\n",
       "      <td>9980635-1</td>\n",
       "      <td>Maria Eliana</td>\n",
       "      <td>Manquez Hatta</td>\n",
       "      <td>Santiago</td>\n",
       "      <td>NaN</td>\n",
       "      <td>CL</td>\n",
       "    </tr>\n",
       "    <tr>\n",
       "      <td>2</td>\n",
       "      <td>9980635</td>\n",
       "      <td>2018</td>\n",
       "      <td>9980635-2</td>\n",
       "      <td>Humberto</td>\n",
       "      <td>Lobos Sucarrat</td>\n",
       "      <td>Santiago</td>\n",
       "      <td>NaN</td>\n",
       "      <td>CL</td>\n",
       "    </tr>\n",
       "    <tr>\n",
       "      <td>3</td>\n",
       "      <td>9980635</td>\n",
       "      <td>2018</td>\n",
       "      <td>9980635-2</td>\n",
       "      <td>Humberto</td>\n",
       "      <td>Lobos Sucarrat</td>\n",
       "      <td>Santiago</td>\n",
       "      <td>NaN</td>\n",
       "      <td>CL</td>\n",
       "    </tr>\n",
       "    <tr>\n",
       "      <td>4</td>\n",
       "      <td>9999665</td>\n",
       "      <td>2018</td>\n",
       "      <td>8398993-2</td>\n",
       "      <td>Pablo A.</td>\n",
       "      <td>Gonzalez Munoz</td>\n",
       "      <td>Santiago</td>\n",
       "      <td>NaN</td>\n",
       "      <td>CL</td>\n",
       "    </tr>\n",
       "  </tbody>\n",
       "</table>\n",
       "</div>"
      ],
      "text/plain": [
       "  patent_id  year inventor_id    name_first       name_last inventor_city  \\\n",
       "0   9980635  2018   9980635-1  Maria Eliana   Manquez Hatta      Santiago   \n",
       "1   9980635  2018   9980635-1  Maria Eliana   Manquez Hatta      Santiago   \n",
       "2   9980635  2018   9980635-2      Humberto  Lobos Sucarrat      Santiago   \n",
       "3   9980635  2018   9980635-2      Humberto  Lobos Sucarrat      Santiago   \n",
       "4   9999665  2018   8398993-2      Pablo A.  Gonzalez Munoz      Santiago   \n",
       "\n",
       "  inventor_state inventor_country  \n",
       "0            NaN               CL  \n",
       "1            NaN               CL  \n",
       "2            NaN               CL  \n",
       "3            NaN               CL  \n",
       "4            NaN               CL  "
      ]
     },
     "execution_count": 199,
     "metadata": {},
     "output_type": "execute_result"
    }
   ],
   "source": [
    "patent_inventor_location.head()"
   ]
  },
  {
   "cell_type": "code",
   "execution_count": 201,
   "metadata": {
    "ExecuteTime": {
     "end_time": "2020-01-21T22:59:35.906031Z",
     "start_time": "2020-01-21T22:59:35.857143Z"
    }
   },
   "outputs": [],
   "source": [
    "patent_inventor_location = patent_inventor_location.drop_duplicates()"
   ]
  },
  {
   "cell_type": "code",
   "execution_count": 202,
   "metadata": {
    "ExecuteTime": {
     "end_time": "2020-01-21T22:59:36.439479Z",
     "start_time": "2020-01-21T22:59:36.431915Z"
    }
   },
   "outputs": [
    {
     "data": {
      "text/plain": [
       "4841"
      ]
     },
     "execution_count": 202,
     "metadata": {},
     "output_type": "execute_result"
    }
   ],
   "source": [
    "len(patent_inventor_location)"
   ]
  },
  {
   "cell_type": "code",
   "execution_count": 203,
   "metadata": {
    "ExecuteTime": {
     "end_time": "2020-01-21T22:59:37.501979Z",
     "start_time": "2020-01-21T22:59:37.444697Z"
    }
   },
   "outputs": [],
   "source": [
    "patent_inventor_location.to_csv('patentsview_inventors.csv', index=False)"
   ]
  },
  {
   "cell_type": "code",
   "execution_count": 63,
   "metadata": {
    "ExecuteTime": {
     "end_time": "2020-01-21T04:56:00.668098Z",
     "start_time": "2020-01-21T04:56:00.628329Z"
    }
   },
   "outputs": [],
   "source": [
    "patent_assignee_location.to_csv('patentsview_assignees.csv', index=False)"
   ]
  },
  {
   "cell_type": "code",
   "execution_count": 161,
   "metadata": {
    "ExecuteTime": {
     "end_time": "2020-01-21T01:37:46.929679Z",
     "start_time": "2020-01-21T01:37:46.811445Z"
    }
   },
   "outputs": [],
   "source": [
    "patent_inventor_assignee = patent_inventor_location.merge(patent_assignee_location,on='patent_id')"
   ]
  },
  {
   "cell_type": "code",
   "execution_count": 162,
   "metadata": {
    "ExecuteTime": {
     "end_time": "2020-01-21T01:37:47.650316Z",
     "start_time": "2020-01-21T01:37:47.614415Z"
    }
   },
   "outputs": [
    {
     "data": {
      "text/plain": [
       "585"
      ]
     },
     "execution_count": 162,
     "metadata": {},
     "output_type": "execute_result"
    }
   ],
   "source": [
    "patent_inventor_assignee['patent_id'].nunique()"
   ]
  },
  {
   "cell_type": "code",
   "execution_count": 164,
   "metadata": {
    "ExecuteTime": {
     "end_time": "2020-01-21T01:42:56.357616Z",
     "start_time": "2020-01-21T01:42:56.192378Z"
    }
   },
   "outputs": [
    {
     "data": {
      "text/html": [
       "<div>\n",
       "<style scoped>\n",
       "    .dataframe tbody tr th:only-of-type {\n",
       "        vertical-align: middle;\n",
       "    }\n",
       "\n",
       "    .dataframe tbody tr th {\n",
       "        vertical-align: top;\n",
       "    }\n",
       "\n",
       "    .dataframe thead th {\n",
       "        text-align: right;\n",
       "    }\n",
       "</style>\n",
       "<table border=\"1\" class=\"dataframe\">\n",
       "  <thead>\n",
       "    <tr style=\"text-align: right;\">\n",
       "      <th></th>\n",
       "      <th>patent_id</th>\n",
       "      <th>name_first</th>\n",
       "      <th>name_last</th>\n",
       "      <th>inventor_city</th>\n",
       "      <th>inventor_state</th>\n",
       "      <th>inventor_country</th>\n",
       "      <th>organization</th>\n",
       "      <th>org_city</th>\n",
       "      <th>org_state</th>\n",
       "      <th>org_country</th>\n",
       "    </tr>\n",
       "  </thead>\n",
       "  <tbody>\n",
       "    <tr>\n",
       "      <td>363775</td>\n",
       "      <td>RE46716</td>\n",
       "      <td>T. Scott</td>\n",
       "      <td>Kennedy</td>\n",
       "      <td>East Boothbay</td>\n",
       "      <td>ME</td>\n",
       "      <td>US</td>\n",
       "      <td>GROW TECH, INC.</td>\n",
       "      <td>Wilmington</td>\n",
       "      <td>DE</td>\n",
       "      <td>US</td>\n",
       "    </tr>\n",
       "    <tr>\n",
       "      <td>363776</td>\n",
       "      <td>RE46716</td>\n",
       "      <td>T. Scott</td>\n",
       "      <td>Kennedy</td>\n",
       "      <td>East Boothbay</td>\n",
       "      <td>ME</td>\n",
       "      <td>US</td>\n",
       "      <td>GROW TECH, INC.</td>\n",
       "      <td>Wilmington</td>\n",
       "      <td>DE</td>\n",
       "      <td>US</td>\n",
       "    </tr>\n",
       "    <tr>\n",
       "      <td>363777</td>\n",
       "      <td>RE46716</td>\n",
       "      <td>T. Scott</td>\n",
       "      <td>Kennedy</td>\n",
       "      <td>East Boothbay</td>\n",
       "      <td>ME</td>\n",
       "      <td>US</td>\n",
       "      <td>GROW TECH, INC.</td>\n",
       "      <td>Wilmington</td>\n",
       "      <td>DE</td>\n",
       "      <td>US</td>\n",
       "    </tr>\n",
       "    <tr>\n",
       "      <td>363778</td>\n",
       "      <td>RE46716</td>\n",
       "      <td>T. Scott</td>\n",
       "      <td>Kennedy</td>\n",
       "      <td>East Boothbay</td>\n",
       "      <td>ME</td>\n",
       "      <td>US</td>\n",
       "      <td>GROW TECH, INC.</td>\n",
       "      <td>Wilmington</td>\n",
       "      <td>DE</td>\n",
       "      <td>US</td>\n",
       "    </tr>\n",
       "    <tr>\n",
       "      <td>363779</td>\n",
       "      <td>RE46716</td>\n",
       "      <td>T. Scott</td>\n",
       "      <td>Kennedy</td>\n",
       "      <td>East Boothbay</td>\n",
       "      <td>ME</td>\n",
       "      <td>US</td>\n",
       "      <td>GROW TECH, INC.</td>\n",
       "      <td>Wilmington</td>\n",
       "      <td>DE</td>\n",
       "      <td>US</td>\n",
       "    </tr>\n",
       "  </tbody>\n",
       "</table>\n",
       "</div>"
      ],
      "text/plain": [
       "       patent_id name_first name_last  inventor_city inventor_state  \\\n",
       "363775   RE46716   T. Scott   Kennedy  East Boothbay             ME   \n",
       "363776   RE46716   T. Scott   Kennedy  East Boothbay             ME   \n",
       "363777   RE46716   T. Scott   Kennedy  East Boothbay             ME   \n",
       "363778   RE46716   T. Scott   Kennedy  East Boothbay             ME   \n",
       "363779   RE46716   T. Scott   Kennedy  East Boothbay             ME   \n",
       "\n",
       "       inventor_country     organization    org_city org_state org_country  \n",
       "363775               US  GROW TECH, INC.  Wilmington        DE          US  \n",
       "363776               US  GROW TECH, INC.  Wilmington        DE          US  \n",
       "363777               US  GROW TECH, INC.  Wilmington        DE          US  \n",
       "363778               US  GROW TECH, INC.  Wilmington        DE          US  \n",
       "363779               US  GROW TECH, INC.  Wilmington        DE          US  "
      ]
     },
     "execution_count": 164,
     "metadata": {},
     "output_type": "execute_result"
    }
   ],
   "source": [
    "patent_inventor_assignee.tail()"
   ]
  },
  {
   "cell_type": "code",
   "execution_count": 165,
   "metadata": {
    "ExecuteTime": {
     "end_time": "2020-01-21T01:43:52.950765Z",
     "start_time": "2020-01-21T01:43:52.899969Z"
    }
   },
   "outputs": [
    {
     "data": {
      "text/html": [
       "<div>\n",
       "<style scoped>\n",
       "    .dataframe tbody tr th:only-of-type {\n",
       "        vertical-align: middle;\n",
       "    }\n",
       "\n",
       "    .dataframe tbody tr th {\n",
       "        vertical-align: top;\n",
       "    }\n",
       "\n",
       "    .dataframe thead th {\n",
       "        text-align: right;\n",
       "    }\n",
       "</style>\n",
       "<table border=\"1\" class=\"dataframe\">\n",
       "  <thead>\n",
       "    <tr style=\"text-align: right;\">\n",
       "      <th></th>\n",
       "      <th>patent_id</th>\n",
       "      <th>name_first</th>\n",
       "      <th>name_last</th>\n",
       "      <th>inventor_city</th>\n",
       "      <th>inventor_state</th>\n",
       "      <th>inventor_country</th>\n",
       "      <th>organization</th>\n",
       "      <th>org_city</th>\n",
       "      <th>org_state</th>\n",
       "      <th>org_country</th>\n",
       "    </tr>\n",
       "  </thead>\n",
       "  <tbody>\n",
       "    <tr>\n",
       "      <td>0</td>\n",
       "      <td>9980635</td>\n",
       "      <td>Maria Eliana</td>\n",
       "      <td>Manquez Hatta</td>\n",
       "      <td>Santiago</td>\n",
       "      <td>NaN</td>\n",
       "      <td>CL</td>\n",
       "      <td>EYECARE S.A.</td>\n",
       "      <td>Santiago</td>\n",
       "      <td>NaN</td>\n",
       "      <td>CL</td>\n",
       "    </tr>\n",
       "    <tr>\n",
       "      <td>1</td>\n",
       "      <td>9980635</td>\n",
       "      <td>Maria Eliana</td>\n",
       "      <td>Manquez Hatta</td>\n",
       "      <td>Santiago</td>\n",
       "      <td>NaN</td>\n",
       "      <td>CL</td>\n",
       "      <td>EYECARE S.A.</td>\n",
       "      <td>Santiago</td>\n",
       "      <td>NaN</td>\n",
       "      <td>CL</td>\n",
       "    </tr>\n",
       "    <tr>\n",
       "      <td>2</td>\n",
       "      <td>9980635</td>\n",
       "      <td>Humberto</td>\n",
       "      <td>Lobos Sucarrat</td>\n",
       "      <td>Santiago</td>\n",
       "      <td>NaN</td>\n",
       "      <td>CL</td>\n",
       "      <td>EYECARE S.A.</td>\n",
       "      <td>Santiago</td>\n",
       "      <td>NaN</td>\n",
       "      <td>CL</td>\n",
       "    </tr>\n",
       "    <tr>\n",
       "      <td>3</td>\n",
       "      <td>9980635</td>\n",
       "      <td>Humberto</td>\n",
       "      <td>Lobos Sucarrat</td>\n",
       "      <td>Santiago</td>\n",
       "      <td>NaN</td>\n",
       "      <td>CL</td>\n",
       "      <td>EYECARE S.A.</td>\n",
       "      <td>Santiago</td>\n",
       "      <td>NaN</td>\n",
       "      <td>CL</td>\n",
       "    </tr>\n",
       "    <tr>\n",
       "      <td>4</td>\n",
       "      <td>9999665</td>\n",
       "      <td>Pablo A.</td>\n",
       "      <td>Gonzalez Munoz</td>\n",
       "      <td>Santiago</td>\n",
       "      <td>NaN</td>\n",
       "      <td>CL</td>\n",
       "      <td>Albert Einstein College of Medicine of Yeshiva...</td>\n",
       "      <td>New York</td>\n",
       "      <td>NY</td>\n",
       "      <td>US</td>\n",
       "    </tr>\n",
       "  </tbody>\n",
       "</table>\n",
       "</div>"
      ],
      "text/plain": [
       "  patent_id    name_first       name_last inventor_city inventor_state  \\\n",
       "0   9980635  Maria Eliana   Manquez Hatta      Santiago            NaN   \n",
       "1   9980635  Maria Eliana   Manquez Hatta      Santiago            NaN   \n",
       "2   9980635      Humberto  Lobos Sucarrat      Santiago            NaN   \n",
       "3   9980635      Humberto  Lobos Sucarrat      Santiago            NaN   \n",
       "4   9999665      Pablo A.  Gonzalez Munoz      Santiago            NaN   \n",
       "\n",
       "  inventor_country                                       organization  \\\n",
       "0               CL                                       EYECARE S.A.   \n",
       "1               CL                                       EYECARE S.A.   \n",
       "2               CL                                       EYECARE S.A.   \n",
       "3               CL                                       EYECARE S.A.   \n",
       "4               CL  Albert Einstein College of Medicine of Yeshiva...   \n",
       "\n",
       "   org_city org_state org_country  \n",
       "0  Santiago       NaN          CL  \n",
       "1  Santiago       NaN          CL  \n",
       "2  Santiago       NaN          CL  \n",
       "3  Santiago       NaN          CL  \n",
       "4  New York        NY          US  "
      ]
     },
     "execution_count": 165,
     "metadata": {},
     "output_type": "execute_result"
    }
   ],
   "source": [
    "patent_inventor_assignee.head()"
   ]
  },
  {
   "cell_type": "code",
   "execution_count": 70,
   "metadata": {
    "ExecuteTime": {
     "end_time": "2020-01-21T04:57:44.113871Z",
     "start_time": "2020-01-21T04:57:42.213970Z"
    }
   },
   "outputs": [],
   "source": [
    "grants = pd.read_csv('FedRePORTER_PRJ_C_FY2010.csv')"
   ]
  },
  {
   "cell_type": "code",
   "execution_count": 71,
   "metadata": {
    "ExecuteTime": {
     "end_time": "2020-01-21T04:57:44.795954Z",
     "start_time": "2020-01-21T04:57:44.787890Z"
    }
   },
   "outputs": [
    {
     "data": {
      "text/plain": [
       "Index(['PROJECT_ID', ' PROJECT_TERMS', ' PROJECT_TITLE', ' DEPARTMENT',\n",
       "       ' AGENCY', ' IC_CENTER', ' PROJECT_NUMBER', ' PROJECT_START_DATE',\n",
       "       ' PROJECT_END_DATE', ' CONTACT_PI_PROJECT_LEADER', ' OTHER_PIS',\n",
       "       ' CONGRESSIONAL_DISTRICT', ' DUNS_NUMBER', ' ORGANIZATION_NAME',\n",
       "       ' ORGANIZATION_CITY', ' ORGANIZATION_STATE', ' ORGANIZATION_ZIP',\n",
       "       ' ORGANIZATION_COUNTRY', ' BUDGET_START_DATE', ' BUDGET_END_DATE',\n",
       "       ' CFDA_CODE', ' FY', ' FY_TOTAL_COST', ' FY_TOTAL_COST_SUB_PROJECTS'],\n",
       "      dtype='object')"
      ]
     },
     "execution_count": 71,
     "metadata": {},
     "output_type": "execute_result"
    }
   ],
   "source": [
    "grants.columns"
   ]
  },
  {
   "cell_type": "code",
   "execution_count": 72,
   "metadata": {
    "ExecuteTime": {
     "end_time": "2020-01-21T04:57:59.862902Z",
     "start_time": "2020-01-21T04:57:59.809052Z"
    }
   },
   "outputs": [],
   "source": [
    "grants = grants[['PROJECT_ID', ' CONTACT_PI_PROJECT_LEADER', ' OTHER_PIS', ' ORGANIZATION_CITY',\n",
    "                ' ORGANIZATION_STATE', ' ORGANIZATION_COUNTRY']]"
   ]
  },
  {
   "cell_type": "code",
   "execution_count": 73,
   "metadata": {
    "ExecuteTime": {
     "end_time": "2020-01-21T04:58:00.403534Z",
     "start_time": "2020-01-21T04:58:00.387226Z"
    }
   },
   "outputs": [
    {
     "data": {
      "text/html": [
       "<div>\n",
       "<style scoped>\n",
       "    .dataframe tbody tr th:only-of-type {\n",
       "        vertical-align: middle;\n",
       "    }\n",
       "\n",
       "    .dataframe tbody tr th {\n",
       "        vertical-align: top;\n",
       "    }\n",
       "\n",
       "    .dataframe thead th {\n",
       "        text-align: right;\n",
       "    }\n",
       "</style>\n",
       "<table border=\"1\" class=\"dataframe\">\n",
       "  <thead>\n",
       "    <tr style=\"text-align: right;\">\n",
       "      <th></th>\n",
       "      <th>PROJECT_ID</th>\n",
       "      <th>CONTACT_PI_PROJECT_LEADER</th>\n",
       "      <th>OTHER_PIS</th>\n",
       "      <th>ORGANIZATION_CITY</th>\n",
       "      <th>ORGANIZATION_STATE</th>\n",
       "      <th>ORGANIZATION_COUNTRY</th>\n",
       "    </tr>\n",
       "  </thead>\n",
       "  <tbody>\n",
       "    <tr>\n",
       "      <td>0</td>\n",
       "      <td>121219</td>\n",
       "      <td>POIRER, DAVID</td>\n",
       "      <td>NaN</td>\n",
       "      <td>TUCSON</td>\n",
       "      <td>AZ</td>\n",
       "      <td>UNITED STATES</td>\n",
       "    </tr>\n",
       "    <tr>\n",
       "      <td>1</td>\n",
       "      <td>121220</td>\n",
       "      <td>HEYWARD, ANN O</td>\n",
       "      <td>NaN</td>\n",
       "      <td>BROOK PARK</td>\n",
       "      <td>OH</td>\n",
       "      <td>UNITED STATES</td>\n",
       "    </tr>\n",
       "    <tr>\n",
       "      <td>2</td>\n",
       "      <td>121221</td>\n",
       "      <td>KALOGERA, VASSILIKI</td>\n",
       "      <td>LUIJTEN, ERIK</td>\n",
       "      <td>EVANSTON</td>\n",
       "      <td>IL</td>\n",
       "      <td>UNITED STATES</td>\n",
       "    </tr>\n",
       "    <tr>\n",
       "      <td>3</td>\n",
       "      <td>121222</td>\n",
       "      <td>GUILDERSON, THOMAS P</td>\n",
       "      <td>NaN</td>\n",
       "      <td>SANTA CRUZ</td>\n",
       "      <td>CA</td>\n",
       "      <td>UNITED STATES</td>\n",
       "    </tr>\n",
       "    <tr>\n",
       "      <td>4</td>\n",
       "      <td>121223</td>\n",
       "      <td>HAYES, GILLIAN</td>\n",
       "      <td>TENTORI, MONICA</td>\n",
       "      <td>IRVINE</td>\n",
       "      <td>CA</td>\n",
       "      <td>UNITED STATES</td>\n",
       "    </tr>\n",
       "  </tbody>\n",
       "</table>\n",
       "</div>"
      ],
      "text/plain": [
       "   PROJECT_ID  CONTACT_PI_PROJECT_LEADER        OTHER_PIS  ORGANIZATION_CITY  \\\n",
       "0      121219              POIRER, DAVID              NaN             TUCSON   \n",
       "1      121220             HEYWARD, ANN O              NaN         BROOK PARK   \n",
       "2      121221        KALOGERA, VASSILIKI    LUIJTEN, ERIK           EVANSTON   \n",
       "3      121222       GUILDERSON, THOMAS P              NaN         SANTA CRUZ   \n",
       "4      121223             HAYES, GILLIAN  TENTORI, MONICA             IRVINE   \n",
       "\n",
       "   ORGANIZATION_STATE  ORGANIZATION_COUNTRY  \n",
       "0                  AZ         UNITED STATES  \n",
       "1                  OH         UNITED STATES  \n",
       "2                  IL         UNITED STATES  \n",
       "3                  CA         UNITED STATES  \n",
       "4                  CA         UNITED STATES  "
      ]
     },
     "execution_count": 73,
     "metadata": {},
     "output_type": "execute_result"
    }
   ],
   "source": [
    "grants.head()"
   ]
  },
  {
   "cell_type": "code",
   "execution_count": 76,
   "metadata": {
    "ExecuteTime": {
     "end_time": "2020-01-21T04:59:15.105394Z",
     "start_time": "2020-01-21T04:59:14.698195Z"
    }
   },
   "outputs": [],
   "source": [
    "grants.to_csv('fedreporter_pi_grants.csv', index=False)"
   ]
  },
  {
   "cell_type": "code",
   "execution_count": null,
   "metadata": {
    "ExecuteTime": {
     "start_time": "2020-01-21T02:24:50.484Z"
    }
   },
   "outputs": [],
   "source": [
    "len(grants)"
   ]
  },
  {
   "cell_type": "code",
   "execution_count": null,
   "metadata": {
    "ExecuteTime": {
     "start_time": "2020-01-21T02:24:43.676Z"
    }
   },
   "outputs": [],
   "source": [
    "len(grants)"
   ]
  },
  {
   "cell_type": "code",
   "execution_count": 98,
   "metadata": {
    "ExecuteTime": {
     "end_time": "2020-01-21T01:13:24.869589Z",
     "start_time": "2020-01-21T01:13:24.845126Z"
    }
   },
   "outputs": [
    {
     "data": {
      "text/html": [
       "<div>\n",
       "<style scoped>\n",
       "    .dataframe tbody tr th:only-of-type {\n",
       "        vertical-align: middle;\n",
       "    }\n",
       "\n",
       "    .dataframe tbody tr th {\n",
       "        vertical-align: top;\n",
       "    }\n",
       "\n",
       "    .dataframe thead th {\n",
       "        text-align: right;\n",
       "    }\n",
       "</style>\n",
       "<table border=\"1\" class=\"dataframe\">\n",
       "  <thead>\n",
       "    <tr style=\"text-align: right;\">\n",
       "      <th></th>\n",
       "      <th>patent_id</th>\n",
       "      <th>name_first</th>\n",
       "      <th>name_last</th>\n",
       "      <th>organization</th>\n",
       "      <th>year</th>\n",
       "    </tr>\n",
       "  </thead>\n",
       "  <tbody>\n",
       "    <tr>\n",
       "      <td>0</td>\n",
       "      <td>9980635</td>\n",
       "      <td>Maria Eliana</td>\n",
       "      <td>Manquez Hatta</td>\n",
       "      <td>EYECARE S.A.</td>\n",
       "      <td>2018</td>\n",
       "    </tr>\n",
       "    <tr>\n",
       "      <td>1</td>\n",
       "      <td>9980635</td>\n",
       "      <td>Humberto</td>\n",
       "      <td>Lobos Sucarrat</td>\n",
       "      <td>EYECARE S.A.</td>\n",
       "      <td>2018</td>\n",
       "    </tr>\n",
       "    <tr>\n",
       "      <td>2</td>\n",
       "      <td>9980641</td>\n",
       "      <td>Joel S.</td>\n",
       "      <td>Schuman</td>\n",
       "      <td>University of Pittsburghâ€”Of the Commonwealth...</td>\n",
       "      <td>2018</td>\n",
       "    </tr>\n",
       "    <tr>\n",
       "      <td>3</td>\n",
       "      <td>9980641</td>\n",
       "      <td>Kira Lynn</td>\n",
       "      <td>Lathrop</td>\n",
       "      <td>University of Pittsburghâ€”Of the Commonwealth...</td>\n",
       "      <td>2018</td>\n",
       "    </tr>\n",
       "    <tr>\n",
       "      <td>4</td>\n",
       "      <td>9980641</td>\n",
       "      <td>Lawrence Edward</td>\n",
       "      <td>Kagemann</td>\n",
       "      <td>University of Pittsburghâ€”Of the Commonwealth...</td>\n",
       "      <td>2018</td>\n",
       "    </tr>\n",
       "  </tbody>\n",
       "</table>\n",
       "</div>"
      ],
      "text/plain": [
       "  patent_id       name_first       name_last  \\\n",
       "0   9980635     Maria Eliana   Manquez Hatta   \n",
       "1   9980635         Humberto  Lobos Sucarrat   \n",
       "2   9980641          Joel S.         Schuman   \n",
       "3   9980641        Kira Lynn         Lathrop   \n",
       "4   9980641  Lawrence Edward        Kagemann   \n",
       "\n",
       "                                        organization  year  \n",
       "0                                       EYECARE S.A.  2018  \n",
       "1                                       EYECARE S.A.  2018  \n",
       "2  University of Pittsburghâ€”Of the Commonwealth...  2018  \n",
       "3  University of Pittsburghâ€”Of the Commonwealth...  2018  \n",
       "4  University of Pittsburghâ€”Of the Commonwealth...  2018  "
      ]
     },
     "execution_count": 98,
     "metadata": {},
     "output_type": "execute_result"
    }
   ],
   "source": [
    "patent_inventor_assignee.head()"
   ]
  },
  {
   "cell_type": "code",
   "execution_count": null,
   "metadata": {
    "ExecuteTime": {
     "start_time": "2020-01-21T02:25:15.208Z"
    }
   },
   "outputs": [],
   "source": [
    "grants.head()"
   ]
  },
  {
   "cell_type": "code",
   "execution_count": null,
   "metadata": {},
   "outputs": [],
   "source": []
  }
 ],
 "metadata": {
  "kernelspec": {
   "display_name": "Python 3",
   "language": "python",
   "name": "python3"
  },
  "language_info": {
   "codemirror_mode": {
    "name": "ipython",
    "version": 3
   },
   "file_extension": ".py",
   "mimetype": "text/x-python",
   "name": "python",
   "nbconvert_exporter": "python",
   "pygments_lexer": "ipython3",
   "version": "3.7.4"
  },
  "toc": {
   "base_numbering": 1,
   "nav_menu": {},
   "number_sections": true,
   "sideBar": true,
   "skip_h1_title": false,
   "title_cell": "Table of Contents",
   "title_sidebar": "Contents",
   "toc_cell": true,
   "toc_position": {
    "height": "calc(100% - 180px)",
    "left": "10px",
    "top": "150px",
    "width": "165px"
   },
   "toc_section_display": true,
   "toc_window_display": true
  },
  "varInspector": {
   "cols": {
    "lenName": 16,
    "lenType": 16,
    "lenVar": 40
   },
   "kernels_config": {
    "python": {
     "delete_cmd_postfix": "",
     "delete_cmd_prefix": "del ",
     "library": "var_list.py",
     "varRefreshCmd": "print(var_dic_list())"
    },
    "r": {
     "delete_cmd_postfix": ") ",
     "delete_cmd_prefix": "rm(",
     "library": "var_list.r",
     "varRefreshCmd": "cat(var_dic_list()) "
    }
   },
   "types_to_exclude": [
    "module",
    "function",
    "builtin_function_or_method",
    "instance",
    "_Feature"
   ],
   "window_display": false
  }
 },
 "nbformat": 4,
 "nbformat_minor": 2
}
