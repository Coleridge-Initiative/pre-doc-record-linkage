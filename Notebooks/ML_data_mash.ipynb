{
 "cells": [
  {
   "cell_type": "code",
   "execution_count": 1,
   "metadata": {
    "collapsed": true
   },
   "outputs": [],
   "source": [
    "import pandas as pd"
   ]
  },
  {
   "cell_type": "code",
   "execution_count": 2,
   "metadata": {
    "collapsed": false
   },
   "outputs": [
    {
     "name": "stdout",
     "output_type": "stream",
     "text": [
      "<class 'pandas.core.frame.DataFrame'>\n",
      "RangeIndex: 94710 entries, 0 to 94709\n",
      "Data columns (total 5 columns):\n",
      "Unnamed: 0      94710 non-null int64\n",
      "PROJECT_ID      94710 non-null object\n",
      "Category        94710 non-null object\n",
      "PATENT_ID       94710 non-null object\n",
      "mainclass_id    94710 non-null object\n",
      "dtypes: int64(1), object(4)\n",
      "memory usage: 3.6+ MB\n"
     ]
    }
   ],
   "source": [
    "df = pd.read_csv('../Data/patent_grants_rcdc.csv')\n",
    "df.info()"
   ]
  },
  {
   "cell_type": "code",
   "execution_count": 3,
   "metadata": {
    "collapsed": false
   },
   "outputs": [
    {
     "name": "stdout",
     "output_type": "stream",
     "text": [
      "<class 'pandas.core.frame.DataFrame'>\n",
      "Index: 2140 entries, 4035566 to D309496\n",
      "Columns: 115 entries, (Unnamed: 0, 106) to (Unnamed: 0, D23)\n",
      "dtypes: float64(115)\n",
      "memory usage: 1.9+ MB\n"
     ]
    }
   ],
   "source": [
    "patents = df.pivot_table(index='PATENT_ID', columns='mainclass_id').fillna(0)\n",
    "patents.info()"
   ]
  },
  {
   "cell_type": "code",
   "execution_count": 4,
   "metadata": {
    "collapsed": true
   },
   "outputs": [],
   "source": [
    "patents = patents > 0"
   ]
  },
  {
   "cell_type": "code",
   "execution_count": 5,
   "metadata": {
    "collapsed": false
   },
   "outputs": [
    {
     "data": {
      "text/html": [
       "<div>\n",
       "<style scoped>\n",
       "    .dataframe tbody tr th:only-of-type {\n",
       "        vertical-align: middle;\n",
       "    }\n",
       "\n",
       "    .dataframe tbody tr th {\n",
       "        vertical-align: top;\n",
       "    }\n",
       "\n",
       "    .dataframe thead th {\n",
       "        text-align: right;\n",
       "    }\n",
       "</style>\n",
       "<table border=\"1\" class=\"dataframe\">\n",
       "  <thead>\n",
       "    <tr style=\"text-align: right;\">\n",
       "      <th>mainclass_id</th>\n",
       "      <th>106</th>\n",
       "      <th>128</th>\n",
       "      <th>137</th>\n",
       "      <th>165</th>\n",
       "      <th>204</th>\n",
       "      <th>210</th>\n",
       "      <th>23</th>\n",
       "      <th>239</th>\n",
       "      <th>244</th>\n",
       "      <th>250</th>\n",
       "      <th>...</th>\n",
       "      <th>717</th>\n",
       "      <th>73</th>\n",
       "      <th>800</th>\n",
       "      <th>850</th>\n",
       "      <th>860</th>\n",
       "      <th>930</th>\n",
       "      <th>935</th>\n",
       "      <th>96</th>\n",
       "      <th>977</th>\n",
       "      <th>D23</th>\n",
       "    </tr>\n",
       "    <tr>\n",
       "      <th>PATENT_ID</th>\n",
       "      <th></th>\n",
       "      <th></th>\n",
       "      <th></th>\n",
       "      <th></th>\n",
       "      <th></th>\n",
       "      <th></th>\n",
       "      <th></th>\n",
       "      <th></th>\n",
       "      <th></th>\n",
       "      <th></th>\n",
       "      <th></th>\n",
       "      <th></th>\n",
       "      <th></th>\n",
       "      <th></th>\n",
       "      <th></th>\n",
       "      <th></th>\n",
       "      <th></th>\n",
       "      <th></th>\n",
       "      <th></th>\n",
       "      <th></th>\n",
       "      <th></th>\n",
       "    </tr>\n",
       "  </thead>\n",
       "  <tbody>\n",
       "    <tr>\n",
       "      <th>4035566</th>\n",
       "      <td>False</td>\n",
       "      <td>False</td>\n",
       "      <td>False</td>\n",
       "      <td>False</td>\n",
       "      <td>False</td>\n",
       "      <td>False</td>\n",
       "      <td>False</td>\n",
       "      <td>False</td>\n",
       "      <td>False</td>\n",
       "      <td>False</td>\n",
       "      <td>...</td>\n",
       "      <td>False</td>\n",
       "      <td>False</td>\n",
       "      <td>False</td>\n",
       "      <td>False</td>\n",
       "      <td>False</td>\n",
       "      <td>False</td>\n",
       "      <td>False</td>\n",
       "      <td>False</td>\n",
       "      <td>False</td>\n",
       "      <td>False</td>\n",
       "    </tr>\n",
       "    <tr>\n",
       "      <th>4349528</th>\n",
       "      <td>False</td>\n",
       "      <td>False</td>\n",
       "      <td>False</td>\n",
       "      <td>False</td>\n",
       "      <td>False</td>\n",
       "      <td>False</td>\n",
       "      <td>True</td>\n",
       "      <td>False</td>\n",
       "      <td>False</td>\n",
       "      <td>False</td>\n",
       "      <td>...</td>\n",
       "      <td>False</td>\n",
       "      <td>False</td>\n",
       "      <td>False</td>\n",
       "      <td>False</td>\n",
       "      <td>False</td>\n",
       "      <td>False</td>\n",
       "      <td>False</td>\n",
       "      <td>False</td>\n",
       "      <td>False</td>\n",
       "      <td>False</td>\n",
       "    </tr>\n",
       "    <tr>\n",
       "      <th>4487829</th>\n",
       "      <td>False</td>\n",
       "      <td>False</td>\n",
       "      <td>False</td>\n",
       "      <td>False</td>\n",
       "      <td>False</td>\n",
       "      <td>False</td>\n",
       "      <td>False</td>\n",
       "      <td>False</td>\n",
       "      <td>False</td>\n",
       "      <td>False</td>\n",
       "      <td>...</td>\n",
       "      <td>False</td>\n",
       "      <td>False</td>\n",
       "      <td>False</td>\n",
       "      <td>False</td>\n",
       "      <td>False</td>\n",
       "      <td>False</td>\n",
       "      <td>True</td>\n",
       "      <td>False</td>\n",
       "      <td>False</td>\n",
       "      <td>False</td>\n",
       "    </tr>\n",
       "    <tr>\n",
       "      <th>4539205</th>\n",
       "      <td>False</td>\n",
       "      <td>False</td>\n",
       "      <td>False</td>\n",
       "      <td>False</td>\n",
       "      <td>False</td>\n",
       "      <td>False</td>\n",
       "      <td>False</td>\n",
       "      <td>False</td>\n",
       "      <td>False</td>\n",
       "      <td>False</td>\n",
       "      <td>...</td>\n",
       "      <td>False</td>\n",
       "      <td>False</td>\n",
       "      <td>False</td>\n",
       "      <td>False</td>\n",
       "      <td>False</td>\n",
       "      <td>False</td>\n",
       "      <td>False</td>\n",
       "      <td>False</td>\n",
       "      <td>False</td>\n",
       "      <td>False</td>\n",
       "    </tr>\n",
       "    <tr>\n",
       "      <th>4542225</th>\n",
       "      <td>False</td>\n",
       "      <td>False</td>\n",
       "      <td>False</td>\n",
       "      <td>False</td>\n",
       "      <td>False</td>\n",
       "      <td>False</td>\n",
       "      <td>False</td>\n",
       "      <td>False</td>\n",
       "      <td>False</td>\n",
       "      <td>False</td>\n",
       "      <td>...</td>\n",
       "      <td>False</td>\n",
       "      <td>False</td>\n",
       "      <td>False</td>\n",
       "      <td>False</td>\n",
       "      <td>False</td>\n",
       "      <td>False</td>\n",
       "      <td>False</td>\n",
       "      <td>False</td>\n",
       "      <td>False</td>\n",
       "      <td>False</td>\n",
       "    </tr>\n",
       "  </tbody>\n",
       "</table>\n",
       "<p>5 rows × 115 columns</p>\n",
       "</div>"
      ],
      "text/plain": [
       "mainclass_id    106    128    137    165    204    210     23    239    244  \\\n",
       "PATENT_ID                                                                     \n",
       "4035566       False  False  False  False  False  False  False  False  False   \n",
       "4349528       False  False  False  False  False  False   True  False  False   \n",
       "4487829       False  False  False  False  False  False  False  False  False   \n",
       "4539205       False  False  False  False  False  False  False  False  False   \n",
       "4542225       False  False  False  False  False  False  False  False  False   \n",
       "\n",
       "mainclass_id    250  ...    717     73    800    850    860    930    935  \\\n",
       "PATENT_ID            ...                                                    \n",
       "4035566       False  ...  False  False  False  False  False  False  False   \n",
       "4349528       False  ...  False  False  False  False  False  False  False   \n",
       "4487829       False  ...  False  False  False  False  False  False   True   \n",
       "4539205       False  ...  False  False  False  False  False  False  False   \n",
       "4542225       False  ...  False  False  False  False  False  False  False   \n",
       "\n",
       "mainclass_id     96    977    D23  \n",
       "PATENT_ID                          \n",
       "4035566       False  False  False  \n",
       "4349528       False  False  False  \n",
       "4487829       False  False  False  \n",
       "4539205       False  False  False  \n",
       "4542225       False  False  False  \n",
       "\n",
       "[5 rows x 115 columns]"
      ]
     },
     "execution_count": 5,
     "metadata": {},
     "output_type": "execute_result"
    }
   ],
   "source": [
    "patents.columns = patents.columns.droplevel(0)\n",
    "patents.head()"
   ]
  },
  {
   "cell_type": "code",
   "execution_count": 6,
   "metadata": {
    "collapsed": false
   },
   "outputs": [],
   "source": [
    "projects = df.pivot_table(index='PROJECT_ID', columns='Category').fillna(0)\n",
    "projects = projects > 0"
   ]
  },
  {
   "cell_type": "code",
   "execution_count": 7,
   "metadata": {
    "collapsed": false
   },
   "outputs": [
    {
     "data": {
      "text/html": [
       "<div>\n",
       "<style scoped>\n",
       "    .dataframe tbody tr th:only-of-type {\n",
       "        vertical-align: middle;\n",
       "    }\n",
       "\n",
       "    .dataframe tbody tr th {\n",
       "        vertical-align: top;\n",
       "    }\n",
       "\n",
       "    .dataframe thead th {\n",
       "        text-align: right;\n",
       "    }\n",
       "</style>\n",
       "<table border=\"1\" class=\"dataframe\">\n",
       "  <thead>\n",
       "    <tr style=\"text-align: right;\">\n",
       "      <th>Category</th>\n",
       "      <th>ALS</th>\n",
       "      <th>Acquired Cognitive Impairment</th>\n",
       "      <th>Acute Respiratory Distress Syndrome</th>\n",
       "      <th>Adolescent Sexual Activity</th>\n",
       "      <th>Aging</th>\n",
       "      <th>Alcoholism, Alcohol Use and Health</th>\n",
       "      <th>Alzheimer's Disease</th>\n",
       "      <th>Alzheimer's Disease Related Dementias (ADRD)</th>\n",
       "      <th>Alzheimer's Disease including Alzheimer's Disease Related Dementias (AD/ADRD)</th>\n",
       "      <th>American Indian or Alaska Native</th>\n",
       "      <th>...</th>\n",
       "      <th>Underage Drinking</th>\n",
       "      <th>Underage Drinking - Prevention and Treatment (NIAAA Only)</th>\n",
       "      <th>Urologic Diseases</th>\n",
       "      <th>Usher Syndrome</th>\n",
       "      <th>Uterine Cancer</th>\n",
       "      <th>Vaccine Related</th>\n",
       "      <th>Vaccine Related (AIDS)</th>\n",
       "      <th>Vascular Cognitive Impairment/Dementia</th>\n",
       "      <th>Vector-Borne Diseases</th>\n",
       "      <th>West Nile Virus</th>\n",
       "    </tr>\n",
       "    <tr>\n",
       "      <th>PROJECT_ID</th>\n",
       "      <th></th>\n",
       "      <th></th>\n",
       "      <th></th>\n",
       "      <th></th>\n",
       "      <th></th>\n",
       "      <th></th>\n",
       "      <th></th>\n",
       "      <th></th>\n",
       "      <th></th>\n",
       "      <th></th>\n",
       "      <th></th>\n",
       "      <th></th>\n",
       "      <th></th>\n",
       "      <th></th>\n",
       "      <th></th>\n",
       "      <th></th>\n",
       "      <th></th>\n",
       "      <th></th>\n",
       "      <th></th>\n",
       "      <th></th>\n",
       "      <th></th>\n",
       "    </tr>\n",
       "  </thead>\n",
       "  <tbody>\n",
       "    <tr>\n",
       "      <th>K12CA087723</th>\n",
       "      <td>False</td>\n",
       "      <td>False</td>\n",
       "      <td>False</td>\n",
       "      <td>False</td>\n",
       "      <td>False</td>\n",
       "      <td>False</td>\n",
       "      <td>False</td>\n",
       "      <td>False</td>\n",
       "      <td>False</td>\n",
       "      <td>False</td>\n",
       "      <td>...</td>\n",
       "      <td>False</td>\n",
       "      <td>False</td>\n",
       "      <td>False</td>\n",
       "      <td>False</td>\n",
       "      <td>False</td>\n",
       "      <td>False</td>\n",
       "      <td>False</td>\n",
       "      <td>False</td>\n",
       "      <td>False</td>\n",
       "      <td>False</td>\n",
       "    </tr>\n",
       "    <tr>\n",
       "      <th>K12HD000850</th>\n",
       "      <td>False</td>\n",
       "      <td>False</td>\n",
       "      <td>False</td>\n",
       "      <td>False</td>\n",
       "      <td>False</td>\n",
       "      <td>False</td>\n",
       "      <td>False</td>\n",
       "      <td>False</td>\n",
       "      <td>False</td>\n",
       "      <td>False</td>\n",
       "      <td>...</td>\n",
       "      <td>False</td>\n",
       "      <td>False</td>\n",
       "      <td>False</td>\n",
       "      <td>False</td>\n",
       "      <td>False</td>\n",
       "      <td>False</td>\n",
       "      <td>False</td>\n",
       "      <td>False</td>\n",
       "      <td>False</td>\n",
       "      <td>False</td>\n",
       "    </tr>\n",
       "    <tr>\n",
       "      <th>K12HD001441</th>\n",
       "      <td>False</td>\n",
       "      <td>False</td>\n",
       "      <td>False</td>\n",
       "      <td>False</td>\n",
       "      <td>False</td>\n",
       "      <td>False</td>\n",
       "      <td>False</td>\n",
       "      <td>False</td>\n",
       "      <td>False</td>\n",
       "      <td>False</td>\n",
       "      <td>...</td>\n",
       "      <td>False</td>\n",
       "      <td>False</td>\n",
       "      <td>False</td>\n",
       "      <td>False</td>\n",
       "      <td>False</td>\n",
       "      <td>False</td>\n",
       "      <td>False</td>\n",
       "      <td>False</td>\n",
       "      <td>False</td>\n",
       "      <td>False</td>\n",
       "    </tr>\n",
       "    <tr>\n",
       "      <th>K12HD028820</th>\n",
       "      <td>False</td>\n",
       "      <td>False</td>\n",
       "      <td>False</td>\n",
       "      <td>False</td>\n",
       "      <td>False</td>\n",
       "      <td>False</td>\n",
       "      <td>False</td>\n",
       "      <td>False</td>\n",
       "      <td>False</td>\n",
       "      <td>False</td>\n",
       "      <td>...</td>\n",
       "      <td>False</td>\n",
       "      <td>False</td>\n",
       "      <td>False</td>\n",
       "      <td>False</td>\n",
       "      <td>False</td>\n",
       "      <td>False</td>\n",
       "      <td>False</td>\n",
       "      <td>False</td>\n",
       "      <td>False</td>\n",
       "      <td>False</td>\n",
       "    </tr>\n",
       "    <tr>\n",
       "      <th>K12HD028827</th>\n",
       "      <td>False</td>\n",
       "      <td>False</td>\n",
       "      <td>False</td>\n",
       "      <td>False</td>\n",
       "      <td>False</td>\n",
       "      <td>False</td>\n",
       "      <td>False</td>\n",
       "      <td>False</td>\n",
       "      <td>False</td>\n",
       "      <td>False</td>\n",
       "      <td>...</td>\n",
       "      <td>False</td>\n",
       "      <td>False</td>\n",
       "      <td>False</td>\n",
       "      <td>False</td>\n",
       "      <td>False</td>\n",
       "      <td>False</td>\n",
       "      <td>False</td>\n",
       "      <td>False</td>\n",
       "      <td>False</td>\n",
       "      <td>False</td>\n",
       "    </tr>\n",
       "  </tbody>\n",
       "</table>\n",
       "<p>5 rows × 211 columns</p>\n",
       "</div>"
      ],
      "text/plain": [
       "Category       ALS  Acquired Cognitive Impairment  \\\n",
       "PROJECT_ID                                          \n",
       "K12CA087723  False                          False   \n",
       "K12HD000850  False                          False   \n",
       "K12HD001441  False                          False   \n",
       "K12HD028820  False                          False   \n",
       "K12HD028827  False                          False   \n",
       "\n",
       "Category     Acute Respiratory Distress Syndrome  Adolescent Sexual Activity  \\\n",
       "PROJECT_ID                                                                     \n",
       "K12CA087723                                False                       False   \n",
       "K12HD000850                                False                       False   \n",
       "K12HD001441                                False                       False   \n",
       "K12HD028820                                False                       False   \n",
       "K12HD028827                                False                       False   \n",
       "\n",
       "Category     Aging  Alcoholism, Alcohol Use and Health  Alzheimer's Disease  \\\n",
       "PROJECT_ID                                                                    \n",
       "K12CA087723  False                               False                False   \n",
       "K12HD000850  False                               False                False   \n",
       "K12HD001441  False                               False                False   \n",
       "K12HD028820  False                               False                False   \n",
       "K12HD028827  False                               False                False   \n",
       "\n",
       "Category     Alzheimer's Disease Related Dementias (ADRD)  \\\n",
       "PROJECT_ID                                                  \n",
       "K12CA087723                                         False   \n",
       "K12HD000850                                         False   \n",
       "K12HD001441                                         False   \n",
       "K12HD028820                                         False   \n",
       "K12HD028827                                         False   \n",
       "\n",
       "Category     Alzheimer's Disease including Alzheimer's Disease Related Dementias (AD/ADRD)  \\\n",
       "PROJECT_ID                                                                                   \n",
       "K12CA087723                                              False                               \n",
       "K12HD000850                                              False                               \n",
       "K12HD001441                                              False                               \n",
       "K12HD028820                                              False                               \n",
       "K12HD028827                                              False                               \n",
       "\n",
       "Category     American Indian or Alaska Native  ...  Underage Drinking  \\\n",
       "PROJECT_ID                                     ...                      \n",
       "K12CA087723                             False  ...              False   \n",
       "K12HD000850                             False  ...              False   \n",
       "K12HD001441                             False  ...              False   \n",
       "K12HD028820                             False  ...              False   \n",
       "K12HD028827                             False  ...              False   \n",
       "\n",
       "Category     Underage Drinking - Prevention and Treatment (NIAAA Only)  \\\n",
       "PROJECT_ID                                                               \n",
       "K12CA087723                                              False           \n",
       "K12HD000850                                              False           \n",
       "K12HD001441                                              False           \n",
       "K12HD028820                                              False           \n",
       "K12HD028827                                              False           \n",
       "\n",
       "Category     Urologic Diseases  Usher Syndrome  Uterine Cancer  \\\n",
       "PROJECT_ID                                                       \n",
       "K12CA087723              False           False           False   \n",
       "K12HD000850              False           False           False   \n",
       "K12HD001441              False           False           False   \n",
       "K12HD028820              False           False           False   \n",
       "K12HD028827              False           False           False   \n",
       "\n",
       "Category     Vaccine Related  Vaccine Related (AIDS)  \\\n",
       "PROJECT_ID                                             \n",
       "K12CA087723            False                   False   \n",
       "K12HD000850            False                   False   \n",
       "K12HD001441            False                   False   \n",
       "K12HD028820            False                   False   \n",
       "K12HD028827            False                   False   \n",
       "\n",
       "Category     Vascular Cognitive Impairment/Dementia  Vector-Borne Diseases  \\\n",
       "PROJECT_ID                                                                   \n",
       "K12CA087723                                   False                  False   \n",
       "K12HD000850                                   False                  False   \n",
       "K12HD001441                                   False                  False   \n",
       "K12HD028820                                   False                  False   \n",
       "K12HD028827                                   False                  False   \n",
       "\n",
       "Category     West Nile Virus  \n",
       "PROJECT_ID                    \n",
       "K12CA087723            False  \n",
       "K12HD000850            False  \n",
       "K12HD001441            False  \n",
       "K12HD028820            False  \n",
       "K12HD028827            False  \n",
       "\n",
       "[5 rows x 211 columns]"
      ]
     },
     "execution_count": 7,
     "metadata": {},
     "output_type": "execute_result"
    }
   ],
   "source": [
    "projects.columns = projects.columns.droplevel(0)\n",
    "projects.head()"
   ]
  },
  {
   "cell_type": "code",
   "execution_count": 8,
   "metadata": {
    "collapsed": false
   },
   "outputs": [],
   "source": [
    "df_matches = df.groupby(['PATENT_ID', 'PROJECT_ID']).size().rename('freq').reset_index()"
   ]
  },
  {
   "cell_type": "code",
   "execution_count": 9,
   "metadata": {
    "collapsed": false
   },
   "outputs": [
    {
     "data": {
      "text/html": [
       "<div>\n",
       "<style scoped>\n",
       "    .dataframe tbody tr th:only-of-type {\n",
       "        vertical-align: middle;\n",
       "    }\n",
       "\n",
       "    .dataframe tbody tr th {\n",
       "        vertical-align: top;\n",
       "    }\n",
       "\n",
       "    .dataframe thead th {\n",
       "        text-align: right;\n",
       "    }\n",
       "</style>\n",
       "<table border=\"1\" class=\"dataframe\">\n",
       "  <thead>\n",
       "    <tr style=\"text-align: right;\">\n",
       "      <th></th>\n",
       "      <th>PATENT_ID</th>\n",
       "      <th>PROJECT_ID</th>\n",
       "      <th>freq</th>\n",
       "    </tr>\n",
       "  </thead>\n",
       "  <tbody>\n",
       "    <tr>\n",
       "      <th>0</th>\n",
       "      <td>4035566</td>\n",
       "      <td>P30CA006516</td>\n",
       "      <td>184</td>\n",
       "    </tr>\n",
       "    <tr>\n",
       "      <th>1</th>\n",
       "      <td>4349528</td>\n",
       "      <td>P30CA010815</td>\n",
       "      <td>18</td>\n",
       "    </tr>\n",
       "    <tr>\n",
       "      <th>2</th>\n",
       "      <td>4487829</td>\n",
       "      <td>P30CA014051</td>\n",
       "      <td>100</td>\n",
       "    </tr>\n",
       "    <tr>\n",
       "      <th>3</th>\n",
       "      <td>4539205</td>\n",
       "      <td>T32AI007007</td>\n",
       "      <td>3</td>\n",
       "    </tr>\n",
       "    <tr>\n",
       "      <th>4</th>\n",
       "      <td>4542225</td>\n",
       "      <td>P30CA006516</td>\n",
       "      <td>92</td>\n",
       "    </tr>\n",
       "  </tbody>\n",
       "</table>\n",
       "</div>"
      ],
      "text/plain": [
       "  PATENT_ID   PROJECT_ID  freq\n",
       "0   4035566  P30CA006516   184\n",
       "1   4349528  P30CA010815    18\n",
       "2   4487829  P30CA014051   100\n",
       "3   4539205  T32AI007007     3\n",
       "4   4542225  P30CA006516    92"
      ]
     },
     "execution_count": 9,
     "metadata": {},
     "output_type": "execute_result"
    }
   ],
   "source": [
    "df_matches.head()"
   ]
  },
  {
   "cell_type": "code",
   "execution_count": 10,
   "metadata": {
    "collapsed": false
   },
   "outputs": [
    {
     "data": {
      "text/plain": [
       "(2140, 775)"
      ]
     },
     "execution_count": 10,
     "metadata": {},
     "output_type": "execute_result"
    }
   ],
   "source": [
    "patents.shape[0], projects.shape[0]"
   ]
  },
  {
   "cell_type": "code",
   "execution_count": 11,
   "metadata": {
    "collapsed": false
   },
   "outputs": [
    {
     "data": {
      "text/plain": [
       "list"
      ]
     },
     "execution_count": 11,
     "metadata": {},
     "output_type": "execute_result"
    }
   ],
   "source": [
    "type(df['PATENT_ID'].unique().tolist())"
   ]
  },
  {
   "cell_type": "code",
   "execution_count": 12,
   "metadata": {
    "collapsed": true
   },
   "outputs": [],
   "source": [
    "import itertools"
   ]
  },
  {
   "cell_type": "code",
   "execution_count": 13,
   "metadata": {
    "collapsed": false
   },
   "outputs": [],
   "source": [
    "# full list of possibilities\n",
    "pat_proj = list(itertools.product(df['PATENT_ID'].unique().tolist(), df['PROJECT_ID'].unique().tolist()))"
   ]
  },
  {
   "cell_type": "code",
   "execution_count": 14,
   "metadata": {
    "collapsed": false
   },
   "outputs": [
    {
     "data": {
      "text/plain": [
       "1658500"
      ]
     },
     "execution_count": 14,
     "metadata": {},
     "output_type": "execute_result"
    }
   ],
   "source": [
    "len(pat_proj)"
   ]
  },
  {
   "cell_type": "code",
   "execution_count": 29,
   "metadata": {
    "collapsed": false
   },
   "outputs": [
    {
     "data": {
      "text/plain": [
       "(1658500, 2)"
      ]
     },
     "execution_count": 29,
     "metadata": {},
     "output_type": "execute_result"
    }
   ],
   "source": [
    "ml_df = pd.DataFrame(columns=['PATENT_ID', 'PROJECT_ID'], data=pat_proj)\n",
    "ml_df.shape"
   ]
  },
  {
   "cell_type": "code",
   "execution_count": 30,
   "metadata": {
    "collapsed": false
   },
   "outputs": [
    {
     "data": {
      "text/html": [
       "<div>\n",
       "<style scoped>\n",
       "    .dataframe tbody tr th:only-of-type {\n",
       "        vertical-align: middle;\n",
       "    }\n",
       "\n",
       "    .dataframe tbody tr th {\n",
       "        vertical-align: top;\n",
       "    }\n",
       "\n",
       "    .dataframe thead th {\n",
       "        text-align: right;\n",
       "    }\n",
       "</style>\n",
       "<table border=\"1\" class=\"dataframe\">\n",
       "  <thead>\n",
       "    <tr style=\"text-align: right;\">\n",
       "      <th></th>\n",
       "      <th>PATENT_ID</th>\n",
       "      <th>PROJECT_ID</th>\n",
       "    </tr>\n",
       "  </thead>\n",
       "  <tbody>\n",
       "    <tr>\n",
       "      <th>0</th>\n",
       "      <td>7838231</td>\n",
       "      <td>R01DK068306</td>\n",
       "    </tr>\n",
       "    <tr>\n",
       "      <th>1</th>\n",
       "      <td>7838231</td>\n",
       "      <td>R01DK059597</td>\n",
       "    </tr>\n",
       "    <tr>\n",
       "      <th>2</th>\n",
       "      <td>7838231</td>\n",
       "      <td>R01DK058816</td>\n",
       "    </tr>\n",
       "    <tr>\n",
       "      <th>3</th>\n",
       "      <td>7838231</td>\n",
       "      <td>R01AI055058</td>\n",
       "    </tr>\n",
       "    <tr>\n",
       "      <th>4</th>\n",
       "      <td>7838231</td>\n",
       "      <td>P30ES005605</td>\n",
       "    </tr>\n",
       "  </tbody>\n",
       "</table>\n",
       "</div>"
      ],
      "text/plain": [
       "  PATENT_ID   PROJECT_ID\n",
       "0   7838231  R01DK068306\n",
       "1   7838231  R01DK059597\n",
       "2   7838231  R01DK058816\n",
       "3   7838231  R01AI055058\n",
       "4   7838231  P30ES005605"
      ]
     },
     "execution_count": 30,
     "metadata": {},
     "output_type": "execute_result"
    }
   ],
   "source": [
    "ml_df.head()"
   ]
  },
  {
   "cell_type": "code",
   "execution_count": 31,
   "metadata": {
    "collapsed": true
   },
   "outputs": [],
   "source": [
    "ml_df = pd.merge(ml_df, patents, left_on='PATENT_ID', right_index=True)"
   ]
  },
  {
   "cell_type": "code",
   "execution_count": 32,
   "metadata": {
    "collapsed": false
   },
   "outputs": [
    {
     "data": {
      "text/html": [
       "<div>\n",
       "<style scoped>\n",
       "    .dataframe tbody tr th:only-of-type {\n",
       "        vertical-align: middle;\n",
       "    }\n",
       "\n",
       "    .dataframe tbody tr th {\n",
       "        vertical-align: top;\n",
       "    }\n",
       "\n",
       "    .dataframe thead th {\n",
       "        text-align: right;\n",
       "    }\n",
       "</style>\n",
       "<table border=\"1\" class=\"dataframe\">\n",
       "  <thead>\n",
       "    <tr style=\"text-align: right;\">\n",
       "      <th></th>\n",
       "      <th>PATENT_ID</th>\n",
       "      <th>PROJECT_ID</th>\n",
       "      <th>106</th>\n",
       "      <th>128</th>\n",
       "      <th>137</th>\n",
       "      <th>165</th>\n",
       "      <th>204</th>\n",
       "      <th>210</th>\n",
       "      <th>23</th>\n",
       "      <th>239</th>\n",
       "      <th>...</th>\n",
       "      <th>717</th>\n",
       "      <th>73</th>\n",
       "      <th>800</th>\n",
       "      <th>850</th>\n",
       "      <th>860</th>\n",
       "      <th>930</th>\n",
       "      <th>935</th>\n",
       "      <th>96</th>\n",
       "      <th>977</th>\n",
       "      <th>D23</th>\n",
       "    </tr>\n",
       "  </thead>\n",
       "  <tbody>\n",
       "    <tr>\n",
       "      <th>0</th>\n",
       "      <td>7838231</td>\n",
       "      <td>R01DK068306</td>\n",
       "      <td>False</td>\n",
       "      <td>False</td>\n",
       "      <td>False</td>\n",
       "      <td>False</td>\n",
       "      <td>False</td>\n",
       "      <td>False</td>\n",
       "      <td>False</td>\n",
       "      <td>False</td>\n",
       "      <td>...</td>\n",
       "      <td>False</td>\n",
       "      <td>False</td>\n",
       "      <td>False</td>\n",
       "      <td>False</td>\n",
       "      <td>False</td>\n",
       "      <td>False</td>\n",
       "      <td>False</td>\n",
       "      <td>False</td>\n",
       "      <td>False</td>\n",
       "      <td>False</td>\n",
       "    </tr>\n",
       "    <tr>\n",
       "      <th>1</th>\n",
       "      <td>7838231</td>\n",
       "      <td>R01DK059597</td>\n",
       "      <td>False</td>\n",
       "      <td>False</td>\n",
       "      <td>False</td>\n",
       "      <td>False</td>\n",
       "      <td>False</td>\n",
       "      <td>False</td>\n",
       "      <td>False</td>\n",
       "      <td>False</td>\n",
       "      <td>...</td>\n",
       "      <td>False</td>\n",
       "      <td>False</td>\n",
       "      <td>False</td>\n",
       "      <td>False</td>\n",
       "      <td>False</td>\n",
       "      <td>False</td>\n",
       "      <td>False</td>\n",
       "      <td>False</td>\n",
       "      <td>False</td>\n",
       "      <td>False</td>\n",
       "    </tr>\n",
       "    <tr>\n",
       "      <th>2</th>\n",
       "      <td>7838231</td>\n",
       "      <td>R01DK058816</td>\n",
       "      <td>False</td>\n",
       "      <td>False</td>\n",
       "      <td>False</td>\n",
       "      <td>False</td>\n",
       "      <td>False</td>\n",
       "      <td>False</td>\n",
       "      <td>False</td>\n",
       "      <td>False</td>\n",
       "      <td>...</td>\n",
       "      <td>False</td>\n",
       "      <td>False</td>\n",
       "      <td>False</td>\n",
       "      <td>False</td>\n",
       "      <td>False</td>\n",
       "      <td>False</td>\n",
       "      <td>False</td>\n",
       "      <td>False</td>\n",
       "      <td>False</td>\n",
       "      <td>False</td>\n",
       "    </tr>\n",
       "    <tr>\n",
       "      <th>3</th>\n",
       "      <td>7838231</td>\n",
       "      <td>R01AI055058</td>\n",
       "      <td>False</td>\n",
       "      <td>False</td>\n",
       "      <td>False</td>\n",
       "      <td>False</td>\n",
       "      <td>False</td>\n",
       "      <td>False</td>\n",
       "      <td>False</td>\n",
       "      <td>False</td>\n",
       "      <td>...</td>\n",
       "      <td>False</td>\n",
       "      <td>False</td>\n",
       "      <td>False</td>\n",
       "      <td>False</td>\n",
       "      <td>False</td>\n",
       "      <td>False</td>\n",
       "      <td>False</td>\n",
       "      <td>False</td>\n",
       "      <td>False</td>\n",
       "      <td>False</td>\n",
       "    </tr>\n",
       "    <tr>\n",
       "      <th>4</th>\n",
       "      <td>7838231</td>\n",
       "      <td>P30ES005605</td>\n",
       "      <td>False</td>\n",
       "      <td>False</td>\n",
       "      <td>False</td>\n",
       "      <td>False</td>\n",
       "      <td>False</td>\n",
       "      <td>False</td>\n",
       "      <td>False</td>\n",
       "      <td>False</td>\n",
       "      <td>...</td>\n",
       "      <td>False</td>\n",
       "      <td>False</td>\n",
       "      <td>False</td>\n",
       "      <td>False</td>\n",
       "      <td>False</td>\n",
       "      <td>False</td>\n",
       "      <td>False</td>\n",
       "      <td>False</td>\n",
       "      <td>False</td>\n",
       "      <td>False</td>\n",
       "    </tr>\n",
       "  </tbody>\n",
       "</table>\n",
       "<p>5 rows × 117 columns</p>\n",
       "</div>"
      ],
      "text/plain": [
       "  PATENT_ID   PROJECT_ID    106    128    137    165    204    210     23  \\\n",
       "0   7838231  R01DK068306  False  False  False  False  False  False  False   \n",
       "1   7838231  R01DK059597  False  False  False  False  False  False  False   \n",
       "2   7838231  R01DK058816  False  False  False  False  False  False  False   \n",
       "3   7838231  R01AI055058  False  False  False  False  False  False  False   \n",
       "4   7838231  P30ES005605  False  False  False  False  False  False  False   \n",
       "\n",
       "     239  ...    717     73    800    850    860    930    935     96    977  \\\n",
       "0  False  ...  False  False  False  False  False  False  False  False  False   \n",
       "1  False  ...  False  False  False  False  False  False  False  False  False   \n",
       "2  False  ...  False  False  False  False  False  False  False  False  False   \n",
       "3  False  ...  False  False  False  False  False  False  False  False  False   \n",
       "4  False  ...  False  False  False  False  False  False  False  False  False   \n",
       "\n",
       "     D23  \n",
       "0  False  \n",
       "1  False  \n",
       "2  False  \n",
       "3  False  \n",
       "4  False  \n",
       "\n",
       "[5 rows x 117 columns]"
      ]
     },
     "execution_count": 32,
     "metadata": {},
     "output_type": "execute_result"
    }
   ],
   "source": [
    "ml_df.head()"
   ]
  },
  {
   "cell_type": "code",
   "execution_count": 33,
   "metadata": {
    "collapsed": true
   },
   "outputs": [],
   "source": [
    "ml_df = pd.merge(ml_df, projects, left_on='PROJECT_ID', right_index=True)"
   ]
  },
  {
   "cell_type": "code",
   "execution_count": 34,
   "metadata": {
    "collapsed": false
   },
   "outputs": [
    {
     "name": "stdout",
     "output_type": "stream",
     "text": [
      "<class 'pandas.core.frame.DataFrame'>\n",
      "Int64Index: 1658500 entries, 0 to 1658499\n",
      "Columns: 328 entries, PATENT_ID to West Nile Virus\n",
      "dtypes: bool(326), object(2)\n",
      "memory usage: 553.6+ MB\n"
     ]
    }
   ],
   "source": [
    "ml_df.info()"
   ]
  },
  {
   "cell_type": "code",
   "execution_count": 35,
   "metadata": {
    "collapsed": false
   },
   "outputs": [
    {
     "data": {
      "text/plain": [
       "(1658500, 328)"
      ]
     },
     "execution_count": 35,
     "metadata": {},
     "output_type": "execute_result"
    }
   ],
   "source": [
    "ml_df.shape"
   ]
  },
  {
   "cell_type": "code",
   "execution_count": 36,
   "metadata": {
    "collapsed": true
   },
   "outputs": [],
   "source": [
    "ml_df = pd.merge(ml_df, df_matches, left_on=['PATENT_ID', 'PROJECT_ID'], \n",
    "                 right_on=['PATENT_ID', 'PROJECT_ID'], how='left')"
   ]
  },
  {
   "cell_type": "code",
   "execution_count": 37,
   "metadata": {
    "collapsed": false
   },
   "outputs": [
    {
     "data": {
      "text/plain": [
       "(1658500, 329)"
      ]
     },
     "execution_count": 37,
     "metadata": {},
     "output_type": "execute_result"
    }
   ],
   "source": [
    "ml_df.shape"
   ]
  },
  {
   "cell_type": "code",
   "execution_count": 38,
   "metadata": {
    "collapsed": false
   },
   "outputs": [
    {
     "data": {
      "text/plain": [
       "count    1.658500e+06\n",
       "mean     5.710582e-02\n",
       "std      3.072466e+00\n",
       "min      0.000000e+00\n",
       "25%      0.000000e+00\n",
       "50%      0.000000e+00\n",
       "75%      0.000000e+00\n",
       "max      7.620000e+02\n",
       "Name: freq, dtype: float64"
      ]
     },
     "execution_count": 38,
     "metadata": {},
     "output_type": "execute_result"
    }
   ],
   "source": [
    "ml_df['freq'].fillna(0, inplace=True)\n",
    "ml_df['freq'].describe()"
   ]
  },
  {
   "cell_type": "code",
   "execution_count": 39,
   "metadata": {
    "collapsed": true
   },
   "outputs": [],
   "source": [
    "ml_df['label'] = ml_df['freq'] > 0"
   ]
  },
  {
   "cell_type": "code",
   "execution_count": 40,
   "metadata": {
    "collapsed": false
   },
   "outputs": [
    {
     "data": {
      "text/plain": [
       "False    1656182\n",
       "True        2318\n",
       "Name: label, dtype: int64"
      ]
     },
     "execution_count": 40,
     "metadata": {},
     "output_type": "execute_result"
    }
   ],
   "source": [
    "ml_df['label'].value_counts()"
   ]
  },
  {
   "cell_type": "code",
   "execution_count": 41,
   "metadata": {
    "collapsed": false
   },
   "outputs": [
    {
     "data": {
      "text/html": [
       "<div>\n",
       "<style scoped>\n",
       "    .dataframe tbody tr th:only-of-type {\n",
       "        vertical-align: middle;\n",
       "    }\n",
       "\n",
       "    .dataframe tbody tr th {\n",
       "        vertical-align: top;\n",
       "    }\n",
       "\n",
       "    .dataframe thead th {\n",
       "        text-align: right;\n",
       "    }\n",
       "</style>\n",
       "<table border=\"1\" class=\"dataframe\">\n",
       "  <thead>\n",
       "    <tr style=\"text-align: right;\">\n",
       "      <th></th>\n",
       "      <th>PATENT_ID</th>\n",
       "      <th>PROJECT_ID</th>\n",
       "      <th>128</th>\n",
       "      <th>Epilepsy</th>\n",
       "      <th>freq</th>\n",
       "      <th>label</th>\n",
       "    </tr>\n",
       "  </thead>\n",
       "  <tbody>\n",
       "    <tr>\n",
       "      <th>0</th>\n",
       "      <td>7838231</td>\n",
       "      <td>R01DK068306</td>\n",
       "      <td>False</td>\n",
       "      <td>False</td>\n",
       "      <td>8.0</td>\n",
       "      <td>True</td>\n",
       "    </tr>\n",
       "    <tr>\n",
       "      <th>1</th>\n",
       "      <td>8323916</td>\n",
       "      <td>R01DK068306</td>\n",
       "      <td>False</td>\n",
       "      <td>False</td>\n",
       "      <td>0.0</td>\n",
       "      <td>False</td>\n",
       "    </tr>\n",
       "    <tr>\n",
       "      <th>2</th>\n",
       "      <td>8642046</td>\n",
       "      <td>R01DK068306</td>\n",
       "      <td>False</td>\n",
       "      <td>False</td>\n",
       "      <td>0.0</td>\n",
       "      <td>False</td>\n",
       "    </tr>\n",
       "    <tr>\n",
       "      <th>3</th>\n",
       "      <td>7141367</td>\n",
       "      <td>R01DK068306</td>\n",
       "      <td>False</td>\n",
       "      <td>False</td>\n",
       "      <td>0.0</td>\n",
       "      <td>False</td>\n",
       "    </tr>\n",
       "    <tr>\n",
       "      <th>4</th>\n",
       "      <td>7498151</td>\n",
       "      <td>R01DK068306</td>\n",
       "      <td>False</td>\n",
       "      <td>False</td>\n",
       "      <td>0.0</td>\n",
       "      <td>False</td>\n",
       "    </tr>\n",
       "  </tbody>\n",
       "</table>\n",
       "</div>"
      ],
      "text/plain": [
       "  PATENT_ID   PROJECT_ID    128  Epilepsy  freq  label\n",
       "0   7838231  R01DK068306  False     False   8.0   True\n",
       "1   8323916  R01DK068306  False     False   0.0  False\n",
       "2   8642046  R01DK068306  False     False   0.0  False\n",
       "3   7141367  R01DK068306  False     False   0.0  False\n",
       "4   7498151  R01DK068306  False     False   0.0  False"
      ]
     },
     "execution_count": 41,
     "metadata": {},
     "output_type": "execute_result"
    }
   ],
   "source": [
    "ml_df[['PATENT_ID', 'PROJECT_ID', '128', 'Epilepsy', 'freq', 'label']].head()"
   ]
  },
  {
   "cell_type": "code",
   "execution_count": 42,
   "metadata": {
    "collapsed": true
   },
   "outputs": [],
   "source": [
    "ml_df.to_csv('../Data/ML_sample_data.csv', index=False)"
   ]
  },
  {
   "cell_type": "code",
   "execution_count": 43,
   "metadata": {
    "collapsed": false
   },
   "outputs": [
    {
     "name": "stdout",
     "output_type": "stream",
     "text": [
      "<class 'pandas.core.frame.DataFrame'>\n",
      "Int64Index: 1658500 entries, 0 to 1658499\n",
      "Columns: 330 entries, PATENT_ID to label\n",
      "dtypes: bool(327), float64(1), object(2)\n",
      "memory usage: 567.8+ MB\n"
     ]
    }
   ],
   "source": [
    "ml_df.info()"
   ]
  },
  {
   "cell_type": "code",
   "execution_count": null,
   "metadata": {
    "collapsed": true
   },
   "outputs": [],
   "source": []
  }
 ],
 "metadata": {
  "kernelspec": {
   "display_name": "py3-RecLink",
   "language": "python",
   "name": "py3-rl"
  },
  "language_info": {
   "codemirror_mode": {
    "name": "ipython",
    "version": 3
   },
   "file_extension": ".py",
   "mimetype": "text/x-python",
   "name": "python",
   "nbconvert_exporter": "python",
   "pygments_lexer": "ipython3",
   "version": "3.6.7"
  }
 },
 "nbformat": 4,
 "nbformat_minor": 2
}
